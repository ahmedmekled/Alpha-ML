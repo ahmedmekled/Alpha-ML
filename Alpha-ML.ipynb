{
  "cells": [
    {
      "cell_type": "markdown",
      "metadata": {
        "id": "view-in-github",
        "colab_type": "text"
      },
      "source": [
        "<a href=\"https://colab.research.google.com/github/ahmedmekled/Alpha-ML/blob/main/Alpha-ML.ipynb\" target=\"_parent\"><img src=\"https://colab.research.google.com/assets/colab-badge.svg\" alt=\"Open In Colab\"/></a>"
      ]
    },
    {
      "cell_type": "markdown",
      "metadata": {
        "id": "37629fc2"
      },
      "source": [
        "<h2> Minapharm ML Engineer Technical Assesment:</h2> \n",
        "\n",
        "<h4>Objective:</h4>\n",
        "You are provided with a medical related dataset, containing 5k articles. You are required to demonstrate your NLP, data-mining & topic extraction skills to extract the topics that are included within the dataset along with mapping each article to the corresponding topic names. Each document should be matched to the top three most relevant topic names including the matching probability score.\n",
        "Kindly, mention how you came up with the optimum number of topics extracted and a final evaluation statement of your work.\n"
      ],
      "id": "37629fc2"
    },
    {
      "cell_type": "markdown",
      "metadata": {
        "id": "b9d56de1"
      },
      "source": [
        "<h4>Requirements:</h4>\n",
        "\n",
        "   - It is recommended to use Python/R + LDA for topic name extraction. If you use other technology, you must mention your reasoning for your choice.   \n",
        "\n",
        "   - Document your code and communicate your overall evaluation of the problem at hand   \n",
        "   - You are expected to include along with your solution a report explaining:   \n",
        "   \n",
        "      - Tools used\n",
        "      - All performed steps, reasoning and outcomes\n",
        "      - How you can further improve the results\n",
        "      - How to further clean & optimize the data-sets to improve the performance of the LDA algorithm\n",
        "      - Metrics used or to use if any to measure/ improve quality of results?\n"
      ],
      "id": "b9d56de1"
    },
    {
      "cell_type": "markdown",
      "metadata": {
        "id": "c213ac00"
      },
      "source": [
        "<h2>Dataset:</h2>\n",
        "\n",
        "[Pubmed5k.rar](https://www.minapharm.com/gShare/Pubmed5k.rar)"
      ],
      "id": "c213ac00"
    },
    {
      "cell_type": "markdown",
      "source": [
        "<h2>Table of content</h2>\n",
        "<div style=\"margin-top: 20px\">\n",
        "<ul>\n",
        "    <li>Data Preprocessing\n",
        "        <ul>\n",
        "            <li>Importing basic Libraries</li>\n",
        "            <li>Reading the data</li>\n",
        "            <li>Data filtering & cleaning</li>\n",
        "        </ul>\n",
        "    </li>\n",
        "    <li>NLP Phase</li>\n",
        "    <li>Classification</li>\n",
        "    <li>Optmization</li>\n",
        "    <li>Future Work</li>\n",
        "\n",
        "</ul>\n",
        "    \n",
        "</div>\n",
        " \n",
        "<hr>"
      ],
      "metadata": {
        "id": "1hIenQdUYgHD"
      },
      "id": "1hIenQdUYgHD"
    },
    {
      "cell_type": "markdown",
      "source": [
        "<h1 id=\"pre_processing\"> Data Preprocessing </h1>"
      ],
      "metadata": {
        "id": "w_BwASMCYfYK"
      },
      "id": "w_BwASMCYfYK"
    },
    {
      "cell_type": "markdown",
      "metadata": {
        "id": "9a557cc3"
      },
      "source": [
        "## Importing basic Libraries"
      ],
      "id": "9a557cc3"
    },
    {
      "cell_type": "code",
      "execution_count": 1,
      "metadata": {
        "id": "9e6cc48e"
      },
      "outputs": [],
      "source": [
        "import pandas as pd\n",
        "import numpy as np\n",
        "import random\n",
        "import copy\n",
        "import matplotlib.pyplot as plt\n",
        "import seaborn as sns\n",
        "from pprint import pprint"
      ],
      "id": "9e6cc48e"
    },
    {
      "cell_type": "markdown",
      "metadata": {
        "id": "de1a724d"
      },
      "source": [
        "## Reading the data"
      ],
      "id": "de1a724d"
    },
    {
      "cell_type": "code",
      "execution_count": null,
      "metadata": {
        "id": "v8pirAOA6PiN"
      },
      "outputs": [],
      "source": [
        "#from google.colab import drive\n",
        "#drive.mount('/content/drive')"
      ],
      "id": "v8pirAOA6PiN"
    },
    {
      "cell_type": "code",
      "execution_count": 2,
      "metadata": {
        "colab": {
          "base_uri": "https://localhost:8080/",
          "height": 423
        },
        "id": "7f1ebd6a",
        "outputId": "069025c3-0858-41ae-d304-1fce84051b1e"
      },
      "outputs": [
        {
          "output_type": "execute_result",
          "data": {
            "text/plain": [
              "      ArticleID                                              Title  \\\n",
              "0      34153941  Stable Coordination Variability in Overground ...   \n",
              "1      34153942  Weak Hip Strength Increases Dynamic Knee Valgu...   \n",
              "2      34153964  Current and Future Projections of Amyotrophic ...   \n",
              "3      34153968  Disparities between Asian and Non-Asian Thromb...   \n",
              "4      34153978  Maternal Factors Predicting Loss to Follow-Up ...   \n",
              "...         ...                                                ...   \n",
              "4994   34444567  Mind the Differences: How Diagnoses and Hospit...   \n",
              "4995   34444568  The Ethics of Dying: Deciphering Pandemic-Resu...   \n",
              "4996   34444569  Research on Adolescents Regarding the Indirect...   \n",
              "4997   34444571  Pre-Intervention Effects of a Community-Based ...   \n",
              "4998   34444572  Pharmacists' Role in Older Adults' Medication ...   \n",
              "\n",
              "                                               Abstract  \n",
              "0     Coordination variability (CV) is commonly anal...  \n",
              "1     Clinical Scenario: Dynamic knee valgus (DKV) i...  \n",
              "2     Various methodologies have been reported to as...  \n",
              "3     As outcomes for acute ischemic stroke (AIS) va...  \n",
              "4     Because hearing loss in children can result in...  \n",
              "...                                                 ...  \n",
              "4994  Integrated care pathway (ICP) is a prevailing ...  \n",
              "4995  The objective of medicine is to provide humans...  \n",
              "4996  This research involved the participation of 30...  \n",
              "4997  This study explores the impact of the 'pre-int...  \n",
              "4998  Medication regimen complexity (MRC) may influe...  \n",
              "\n",
              "[4999 rows x 3 columns]"
            ],
            "text/html": [
              "\n",
              "  <div id=\"df-8e8d0145-1009-4fec-ba4d-86a7e6f5379c\">\n",
              "    <div class=\"colab-df-container\">\n",
              "      <div>\n",
              "<style scoped>\n",
              "    .dataframe tbody tr th:only-of-type {\n",
              "        vertical-align: middle;\n",
              "    }\n",
              "\n",
              "    .dataframe tbody tr th {\n",
              "        vertical-align: top;\n",
              "    }\n",
              "\n",
              "    .dataframe thead th {\n",
              "        text-align: right;\n",
              "    }\n",
              "</style>\n",
              "<table border=\"1\" class=\"dataframe\">\n",
              "  <thead>\n",
              "    <tr style=\"text-align: right;\">\n",
              "      <th></th>\n",
              "      <th>ArticleID</th>\n",
              "      <th>Title</th>\n",
              "      <th>Abstract</th>\n",
              "    </tr>\n",
              "  </thead>\n",
              "  <tbody>\n",
              "    <tr>\n",
              "      <th>0</th>\n",
              "      <td>34153941</td>\n",
              "      <td>Stable Coordination Variability in Overground ...</td>\n",
              "      <td>Coordination variability (CV) is commonly anal...</td>\n",
              "    </tr>\n",
              "    <tr>\n",
              "      <th>1</th>\n",
              "      <td>34153942</td>\n",
              "      <td>Weak Hip Strength Increases Dynamic Knee Valgu...</td>\n",
              "      <td>Clinical Scenario: Dynamic knee valgus (DKV) i...</td>\n",
              "    </tr>\n",
              "    <tr>\n",
              "      <th>2</th>\n",
              "      <td>34153964</td>\n",
              "      <td>Current and Future Projections of Amyotrophic ...</td>\n",
              "      <td>Various methodologies have been reported to as...</td>\n",
              "    </tr>\n",
              "    <tr>\n",
              "      <th>3</th>\n",
              "      <td>34153968</td>\n",
              "      <td>Disparities between Asian and Non-Asian Thromb...</td>\n",
              "      <td>As outcomes for acute ischemic stroke (AIS) va...</td>\n",
              "    </tr>\n",
              "    <tr>\n",
              "      <th>4</th>\n",
              "      <td>34153978</td>\n",
              "      <td>Maternal Factors Predicting Loss to Follow-Up ...</td>\n",
              "      <td>Because hearing loss in children can result in...</td>\n",
              "    </tr>\n",
              "    <tr>\n",
              "      <th>...</th>\n",
              "      <td>...</td>\n",
              "      <td>...</td>\n",
              "      <td>...</td>\n",
              "    </tr>\n",
              "    <tr>\n",
              "      <th>4994</th>\n",
              "      <td>34444567</td>\n",
              "      <td>Mind the Differences: How Diagnoses and Hospit...</td>\n",
              "      <td>Integrated care pathway (ICP) is a prevailing ...</td>\n",
              "    </tr>\n",
              "    <tr>\n",
              "      <th>4995</th>\n",
              "      <td>34444568</td>\n",
              "      <td>The Ethics of Dying: Deciphering Pandemic-Resu...</td>\n",
              "      <td>The objective of medicine is to provide humans...</td>\n",
              "    </tr>\n",
              "    <tr>\n",
              "      <th>4996</th>\n",
              "      <td>34444569</td>\n",
              "      <td>Research on Adolescents Regarding the Indirect...</td>\n",
              "      <td>This research involved the participation of 30...</td>\n",
              "    </tr>\n",
              "    <tr>\n",
              "      <th>4997</th>\n",
              "      <td>34444571</td>\n",
              "      <td>Pre-Intervention Effects of a Community-Based ...</td>\n",
              "      <td>This study explores the impact of the 'pre-int...</td>\n",
              "    </tr>\n",
              "    <tr>\n",
              "      <th>4998</th>\n",
              "      <td>34444572</td>\n",
              "      <td>Pharmacists' Role in Older Adults' Medication ...</td>\n",
              "      <td>Medication regimen complexity (MRC) may influe...</td>\n",
              "    </tr>\n",
              "  </tbody>\n",
              "</table>\n",
              "<p>4999 rows × 3 columns</p>\n",
              "</div>\n",
              "      <button class=\"colab-df-convert\" onclick=\"convertToInteractive('df-8e8d0145-1009-4fec-ba4d-86a7e6f5379c')\"\n",
              "              title=\"Convert this dataframe to an interactive table.\"\n",
              "              style=\"display:none;\">\n",
              "        \n",
              "  <svg xmlns=\"http://www.w3.org/2000/svg\" height=\"24px\"viewBox=\"0 0 24 24\"\n",
              "       width=\"24px\">\n",
              "    <path d=\"M0 0h24v24H0V0z\" fill=\"none\"/>\n",
              "    <path d=\"M18.56 5.44l.94 2.06.94-2.06 2.06-.94-2.06-.94-.94-2.06-.94 2.06-2.06.94zm-11 1L8.5 8.5l.94-2.06 2.06-.94-2.06-.94L8.5 2.5l-.94 2.06-2.06.94zm10 10l.94 2.06.94-2.06 2.06-.94-2.06-.94-.94-2.06-.94 2.06-2.06.94z\"/><path d=\"M17.41 7.96l-1.37-1.37c-.4-.4-.92-.59-1.43-.59-.52 0-1.04.2-1.43.59L10.3 9.45l-7.72 7.72c-.78.78-.78 2.05 0 2.83L4 21.41c.39.39.9.59 1.41.59.51 0 1.02-.2 1.41-.59l7.78-7.78 2.81-2.81c.8-.78.8-2.07 0-2.86zM5.41 20L4 18.59l7.72-7.72 1.47 1.35L5.41 20z\"/>\n",
              "  </svg>\n",
              "      </button>\n",
              "      \n",
              "  <style>\n",
              "    .colab-df-container {\n",
              "      display:flex;\n",
              "      flex-wrap:wrap;\n",
              "      gap: 12px;\n",
              "    }\n",
              "\n",
              "    .colab-df-convert {\n",
              "      background-color: #E8F0FE;\n",
              "      border: none;\n",
              "      border-radius: 50%;\n",
              "      cursor: pointer;\n",
              "      display: none;\n",
              "      fill: #1967D2;\n",
              "      height: 32px;\n",
              "      padding: 0 0 0 0;\n",
              "      width: 32px;\n",
              "    }\n",
              "\n",
              "    .colab-df-convert:hover {\n",
              "      background-color: #E2EBFA;\n",
              "      box-shadow: 0px 1px 2px rgba(60, 64, 67, 0.3), 0px 1px 3px 1px rgba(60, 64, 67, 0.15);\n",
              "      fill: #174EA6;\n",
              "    }\n",
              "\n",
              "    [theme=dark] .colab-df-convert {\n",
              "      background-color: #3B4455;\n",
              "      fill: #D2E3FC;\n",
              "    }\n",
              "\n",
              "    [theme=dark] .colab-df-convert:hover {\n",
              "      background-color: #434B5C;\n",
              "      box-shadow: 0px 1px 3px 1px rgba(0, 0, 0, 0.15);\n",
              "      filter: drop-shadow(0px 1px 2px rgba(0, 0, 0, 0.3));\n",
              "      fill: #FFFFFF;\n",
              "    }\n",
              "  </style>\n",
              "\n",
              "      <script>\n",
              "        const buttonEl =\n",
              "          document.querySelector('#df-8e8d0145-1009-4fec-ba4d-86a7e6f5379c button.colab-df-convert');\n",
              "        buttonEl.style.display =\n",
              "          google.colab.kernel.accessAllowed ? 'block' : 'none';\n",
              "\n",
              "        async function convertToInteractive(key) {\n",
              "          const element = document.querySelector('#df-8e8d0145-1009-4fec-ba4d-86a7e6f5379c');\n",
              "          const dataTable =\n",
              "            await google.colab.kernel.invokeFunction('convertToInteractive',\n",
              "                                                     [key], {});\n",
              "          if (!dataTable) return;\n",
              "\n",
              "          const docLinkHtml = 'Like what you see? Visit the ' +\n",
              "            '<a target=\"_blank\" href=https://colab.research.google.com/notebooks/data_table.ipynb>data table notebook</a>'\n",
              "            + ' to learn more about interactive tables.';\n",
              "          element.innerHTML = '';\n",
              "          dataTable['output_type'] = 'display_data';\n",
              "          await google.colab.output.renderOutput(dataTable, element);\n",
              "          const docLink = document.createElement('div');\n",
              "          docLink.innerHTML = docLinkHtml;\n",
              "          element.appendChild(docLink);\n",
              "        }\n",
              "      </script>\n",
              "    </div>\n",
              "  </div>\n",
              "  "
            ]
          },
          "metadata": {},
          "execution_count": 2
        }
      ],
      "source": [
        "df = pd.read_excel(\"/content/Pubmed5k.xlsx\")\n",
        "df"
      ],
      "id": "7f1ebd6a"
    },
    {
      "cell_type": "markdown",
      "metadata": {
        "id": "b6af2b5d"
      },
      "source": [
        "## Data filtering and cleaning"
      ],
      "id": "b6af2b5d"
    },
    {
      "cell_type": "markdown",
      "metadata": {
        "id": "8a0297a2"
      },
      "source": [
        "**Checking the type of data fro each dataframe**"
      ],
      "id": "8a0297a2"
    },
    {
      "cell_type": "code",
      "execution_count": 3,
      "metadata": {
        "colab": {
          "base_uri": "https://localhost:8080/"
        },
        "id": "d4730d50",
        "outputId": "59506cc6-f36f-45b2-d58e-604174e808f0"
      },
      "outputs": [
        {
          "output_type": "execute_result",
          "data": {
            "text/plain": [
              "ArticleID     int64\n",
              "Title        object\n",
              "Abstract     object\n",
              "dtype: object"
            ]
          },
          "metadata": {},
          "execution_count": 3
        }
      ],
      "source": [
        "df.dtypes"
      ],
      "id": "d4730d50"
    },
    {
      "cell_type": "markdown",
      "metadata": {
        "id": "252b3540"
      },
      "source": [
        "**Checking NaNs**"
      ],
      "id": "252b3540"
    },
    {
      "cell_type": "code",
      "execution_count": 4,
      "metadata": {
        "colab": {
          "base_uri": "https://localhost:8080/"
        },
        "id": "adf4a69e",
        "outputId": "cad218ad-2219-43e3-e236-90a40bbaf204"
      },
      "outputs": [
        {
          "output_type": "execute_result",
          "data": {
            "text/plain": [
              "False"
            ]
          },
          "metadata": {},
          "execution_count": 4
        }
      ],
      "source": [
        "df.isnull().values.any()"
      ],
      "id": "adf4a69e"
    },
    {
      "cell_type": "markdown",
      "metadata": {
        "id": "d946d7a1"
      },
      "source": [
        "**Checking duplicates**"
      ],
      "id": "d946d7a1"
    },
    {
      "cell_type": "code",
      "execution_count": 5,
      "metadata": {
        "colab": {
          "base_uri": "https://localhost:8080/"
        },
        "id": "db85f3fc",
        "outputId": "dd535edb-ed28-4bfc-9bb1-194cc8fec5b2"
      },
      "outputs": [
        {
          "output_type": "execute_result",
          "data": {
            "text/plain": [
              "Series([], dtype: bool)"
            ]
          },
          "metadata": {},
          "execution_count": 5
        }
      ],
      "source": [
        "series = df.duplicated(keep=False).__eq__(True)\n",
        "df.duplicated(keep=False).__getitem__(series)"
      ],
      "id": "db85f3fc"
    },
    {
      "cell_type": "markdown",
      "metadata": {
        "id": "d7a1eac0"
      },
      "source": [
        "**Re-checking for any uniqueness in the Title column** "
      ],
      "id": "d7a1eac0"
    },
    {
      "cell_type": "code",
      "execution_count": 6,
      "metadata": {
        "colab": {
          "base_uri": "https://localhost:8080/"
        },
        "id": "bec509c7",
        "outputId": "695cd059-66ae-42e1-c727-e45afbcb1920"
      },
      "outputs": [
        {
          "output_type": "execute_result",
          "data": {
            "text/plain": [
              "4999"
            ]
          },
          "metadata": {},
          "execution_count": 6
        }
      ],
      "source": [
        "len(df[\"Title\"].unique())"
      ],
      "id": "bec509c7"
    },
    {
      "cell_type": "markdown",
      "metadata": {
        "id": "6ce1dbb6"
      },
      "source": [
        "**Fetch word count for each Title & Abstract**"
      ],
      "id": "6ce1dbb6"
    },
    {
      "cell_type": "code",
      "execution_count": 7,
      "metadata": {
        "id": "cf81471f"
      },
      "outputs": [],
      "source": [
        "#Fetch wordcount for each Title & Abstract\n",
        "Title_Word_Count = []\n",
        "Abstract_Word_Count = []\n",
        "Title_Word_Count = df['Title'].apply(lambda x: len(str(x).split(\" \")))\n",
        "Abstract_Word_Count = df['Abstract'].apply(lambda x: len(str(x).split(\" \")))"
      ],
      "id": "cf81471f"
    },
    {
      "cell_type": "markdown",
      "metadata": {
        "id": "13dca444"
      },
      "source": [
        "**Descriptive statistics of word counts**"
      ],
      "id": "13dca444"
    },
    {
      "cell_type": "code",
      "execution_count": 8,
      "metadata": {
        "colab": {
          "base_uri": "https://localhost:8080/"
        },
        "id": "c162ad5a",
        "outputId": "c388b626-7985-411f-d9ed-e52b5a58b38e"
      },
      "outputs": [
        {
          "output_type": "stream",
          "name": "stdout",
          "text": [
            "Title_Word_Count description:\n",
            "count    4999.000000\n",
            "mean       14.911982\n",
            "std         4.981343\n",
            "min         1.000000\n",
            "25%        11.000000\n",
            "50%        15.000000\n",
            "75%        18.000000\n",
            "max        39.000000\n",
            "Name: Title, dtype: float64\n",
            "\n",
            "\n",
            "Abstract_Word_Count description:\n",
            "count    4999.000000\n",
            "mean      211.240448\n",
            "std        80.544815\n",
            "min         1.000000\n",
            "25%       158.000000\n",
            "50%       208.000000\n",
            "75%       253.000000\n",
            "max       976.000000\n",
            "Name: Abstract, dtype: float64\n"
          ]
        }
      ],
      "source": [
        "print(\"Title_Word_Count description:\")\n",
        "print(Title_Word_Count.describe())\n",
        "print(\"\\n\")\n",
        "print(\"Abstract_Word_Count description:\")\n",
        "print(Abstract_Word_Count.describe())"
      ],
      "id": "c162ad5a"
    },
    {
      "cell_type": "markdown",
      "metadata": {
        "id": "c93b7abb"
      },
      "source": [
        "**Identify common & uncommon words for each Title**"
      ],
      "id": "c93b7abb"
    },
    {
      "cell_type": "code",
      "execution_count": 9,
      "metadata": {
        "colab": {
          "base_uri": "https://localhost:8080/",
          "height": 206
        },
        "id": "ecbd17a8",
        "outputId": "975e38ae-dfd0-4d24-fd04-04515f9bb2a3"
      },
      "outputs": [
        {
          "output_type": "execute_result",
          "data": {
            "text/plain": [
              "  Words_Before  Count\n",
              "0           of   4161\n",
              "1          and   2980\n",
              "2           in   2731\n",
              "3          the   1974\n",
              "4            a   1167"
            ],
            "text/html": [
              "\n",
              "  <div id=\"df-46a54cca-b044-46c9-921c-0afa760cf58c\">\n",
              "    <div class=\"colab-df-container\">\n",
              "      <div>\n",
              "<style scoped>\n",
              "    .dataframe tbody tr th:only-of-type {\n",
              "        vertical-align: middle;\n",
              "    }\n",
              "\n",
              "    .dataframe tbody tr th {\n",
              "        vertical-align: top;\n",
              "    }\n",
              "\n",
              "    .dataframe thead th {\n",
              "        text-align: right;\n",
              "    }\n",
              "</style>\n",
              "<table border=\"1\" class=\"dataframe\">\n",
              "  <thead>\n",
              "    <tr style=\"text-align: right;\">\n",
              "      <th></th>\n",
              "      <th>Words_Before</th>\n",
              "      <th>Count</th>\n",
              "    </tr>\n",
              "  </thead>\n",
              "  <tbody>\n",
              "    <tr>\n",
              "      <th>0</th>\n",
              "      <td>of</td>\n",
              "      <td>4161</td>\n",
              "    </tr>\n",
              "    <tr>\n",
              "      <th>1</th>\n",
              "      <td>and</td>\n",
              "      <td>2980</td>\n",
              "    </tr>\n",
              "    <tr>\n",
              "      <th>2</th>\n",
              "      <td>in</td>\n",
              "      <td>2731</td>\n",
              "    </tr>\n",
              "    <tr>\n",
              "      <th>3</th>\n",
              "      <td>the</td>\n",
              "      <td>1974</td>\n",
              "    </tr>\n",
              "    <tr>\n",
              "      <th>4</th>\n",
              "      <td>a</td>\n",
              "      <td>1167</td>\n",
              "    </tr>\n",
              "  </tbody>\n",
              "</table>\n",
              "</div>\n",
              "      <button class=\"colab-df-convert\" onclick=\"convertToInteractive('df-46a54cca-b044-46c9-921c-0afa760cf58c')\"\n",
              "              title=\"Convert this dataframe to an interactive table.\"\n",
              "              style=\"display:none;\">\n",
              "        \n",
              "  <svg xmlns=\"http://www.w3.org/2000/svg\" height=\"24px\"viewBox=\"0 0 24 24\"\n",
              "       width=\"24px\">\n",
              "    <path d=\"M0 0h24v24H0V0z\" fill=\"none\"/>\n",
              "    <path d=\"M18.56 5.44l.94 2.06.94-2.06 2.06-.94-2.06-.94-.94-2.06-.94 2.06-2.06.94zm-11 1L8.5 8.5l.94-2.06 2.06-.94-2.06-.94L8.5 2.5l-.94 2.06-2.06.94zm10 10l.94 2.06.94-2.06 2.06-.94-2.06-.94-.94-2.06-.94 2.06-2.06.94z\"/><path d=\"M17.41 7.96l-1.37-1.37c-.4-.4-.92-.59-1.43-.59-.52 0-1.04.2-1.43.59L10.3 9.45l-7.72 7.72c-.78.78-.78 2.05 0 2.83L4 21.41c.39.39.9.59 1.41.59.51 0 1.02-.2 1.41-.59l7.78-7.78 2.81-2.81c.8-.78.8-2.07 0-2.86zM5.41 20L4 18.59l7.72-7.72 1.47 1.35L5.41 20z\"/>\n",
              "  </svg>\n",
              "      </button>\n",
              "      \n",
              "  <style>\n",
              "    .colab-df-container {\n",
              "      display:flex;\n",
              "      flex-wrap:wrap;\n",
              "      gap: 12px;\n",
              "    }\n",
              "\n",
              "    .colab-df-convert {\n",
              "      background-color: #E8F0FE;\n",
              "      border: none;\n",
              "      border-radius: 50%;\n",
              "      cursor: pointer;\n",
              "      display: none;\n",
              "      fill: #1967D2;\n",
              "      height: 32px;\n",
              "      padding: 0 0 0 0;\n",
              "      width: 32px;\n",
              "    }\n",
              "\n",
              "    .colab-df-convert:hover {\n",
              "      background-color: #E2EBFA;\n",
              "      box-shadow: 0px 1px 2px rgba(60, 64, 67, 0.3), 0px 1px 3px 1px rgba(60, 64, 67, 0.15);\n",
              "      fill: #174EA6;\n",
              "    }\n",
              "\n",
              "    [theme=dark] .colab-df-convert {\n",
              "      background-color: #3B4455;\n",
              "      fill: #D2E3FC;\n",
              "    }\n",
              "\n",
              "    [theme=dark] .colab-df-convert:hover {\n",
              "      background-color: #434B5C;\n",
              "      box-shadow: 0px 1px 3px 1px rgba(0, 0, 0, 0.15);\n",
              "      filter: drop-shadow(0px 1px 2px rgba(0, 0, 0, 0.3));\n",
              "      fill: #FFFFFF;\n",
              "    }\n",
              "  </style>\n",
              "\n",
              "      <script>\n",
              "        const buttonEl =\n",
              "          document.querySelector('#df-46a54cca-b044-46c9-921c-0afa760cf58c button.colab-df-convert');\n",
              "        buttonEl.style.display =\n",
              "          google.colab.kernel.accessAllowed ? 'block' : 'none';\n",
              "\n",
              "        async function convertToInteractive(key) {\n",
              "          const element = document.querySelector('#df-46a54cca-b044-46c9-921c-0afa760cf58c');\n",
              "          const dataTable =\n",
              "            await google.colab.kernel.invokeFunction('convertToInteractive',\n",
              "                                                     [key], {});\n",
              "          if (!dataTable) return;\n",
              "\n",
              "          const docLinkHtml = 'Like what you see? Visit the ' +\n",
              "            '<a target=\"_blank\" href=https://colab.research.google.com/notebooks/data_table.ipynb>data table notebook</a>'\n",
              "            + ' to learn more about interactive tables.';\n",
              "          element.innerHTML = '';\n",
              "          dataTable['output_type'] = 'display_data';\n",
              "          await google.colab.output.renderOutput(dataTable, element);\n",
              "          const docLink = document.createElement('div');\n",
              "          docLink.innerHTML = docLinkHtml;\n",
              "          element.appendChild(docLink);\n",
              "        }\n",
              "      </script>\n",
              "    </div>\n",
              "  </div>\n",
              "  "
            ]
          },
          "metadata": {},
          "execution_count": 9
        }
      ],
      "source": [
        "#Identify common words for each Title\n",
        "freq = pd.Series(' '.join(df['Title']).split()).value_counts()[:30]\n",
        "c_count = pd.DataFrame(freq)\n",
        "c_count.reset_index(inplace = True)\n",
        "c_count.rename(columns = {'index':'Words_Before', 0:'Count'}, inplace = True)\n",
        "c_count.head()"
      ],
      "id": "ecbd17a8"
    },
    {
      "cell_type": "code",
      "execution_count": 10,
      "metadata": {
        "colab": {
          "base_uri": "https://localhost:8080/",
          "height": 206
        },
        "id": "9478b969",
        "outputId": "06e57a0d-568d-4879-8ae8-195795ed72d5"
      },
      "outputs": [
        {
          "output_type": "execute_result",
          "data": {
            "text/plain": [
              "  Words_Before  Count\n",
              "0      measles      1\n",
              "1  progressive      1\n",
              "2        midst      1\n",
              "3        tasks      1\n",
              "4      present      1"
            ],
            "text/html": [
              "\n",
              "  <div id=\"df-f9d6c7a3-6580-4224-8589-99b51d2de445\">\n",
              "    <div class=\"colab-df-container\">\n",
              "      <div>\n",
              "<style scoped>\n",
              "    .dataframe tbody tr th:only-of-type {\n",
              "        vertical-align: middle;\n",
              "    }\n",
              "\n",
              "    .dataframe tbody tr th {\n",
              "        vertical-align: top;\n",
              "    }\n",
              "\n",
              "    .dataframe thead th {\n",
              "        text-align: right;\n",
              "    }\n",
              "</style>\n",
              "<table border=\"1\" class=\"dataframe\">\n",
              "  <thead>\n",
              "    <tr style=\"text-align: right;\">\n",
              "      <th></th>\n",
              "      <th>Words_Before</th>\n",
              "      <th>Count</th>\n",
              "    </tr>\n",
              "  </thead>\n",
              "  <tbody>\n",
              "    <tr>\n",
              "      <th>0</th>\n",
              "      <td>measles</td>\n",
              "      <td>1</td>\n",
              "    </tr>\n",
              "    <tr>\n",
              "      <th>1</th>\n",
              "      <td>progressive</td>\n",
              "      <td>1</td>\n",
              "    </tr>\n",
              "    <tr>\n",
              "      <th>2</th>\n",
              "      <td>midst</td>\n",
              "      <td>1</td>\n",
              "    </tr>\n",
              "    <tr>\n",
              "      <th>3</th>\n",
              "      <td>tasks</td>\n",
              "      <td>1</td>\n",
              "    </tr>\n",
              "    <tr>\n",
              "      <th>4</th>\n",
              "      <td>present</td>\n",
              "      <td>1</td>\n",
              "    </tr>\n",
              "  </tbody>\n",
              "</table>\n",
              "</div>\n",
              "      <button class=\"colab-df-convert\" onclick=\"convertToInteractive('df-f9d6c7a3-6580-4224-8589-99b51d2de445')\"\n",
              "              title=\"Convert this dataframe to an interactive table.\"\n",
              "              style=\"display:none;\">\n",
              "        \n",
              "  <svg xmlns=\"http://www.w3.org/2000/svg\" height=\"24px\"viewBox=\"0 0 24 24\"\n",
              "       width=\"24px\">\n",
              "    <path d=\"M0 0h24v24H0V0z\" fill=\"none\"/>\n",
              "    <path d=\"M18.56 5.44l.94 2.06.94-2.06 2.06-.94-2.06-.94-.94-2.06-.94 2.06-2.06.94zm-11 1L8.5 8.5l.94-2.06 2.06-.94-2.06-.94L8.5 2.5l-.94 2.06-2.06.94zm10 10l.94 2.06.94-2.06 2.06-.94-2.06-.94-.94-2.06-.94 2.06-2.06.94z\"/><path d=\"M17.41 7.96l-1.37-1.37c-.4-.4-.92-.59-1.43-.59-.52 0-1.04.2-1.43.59L10.3 9.45l-7.72 7.72c-.78.78-.78 2.05 0 2.83L4 21.41c.39.39.9.59 1.41.59.51 0 1.02-.2 1.41-.59l7.78-7.78 2.81-2.81c.8-.78.8-2.07 0-2.86zM5.41 20L4 18.59l7.72-7.72 1.47 1.35L5.41 20z\"/>\n",
              "  </svg>\n",
              "      </button>\n",
              "      \n",
              "  <style>\n",
              "    .colab-df-container {\n",
              "      display:flex;\n",
              "      flex-wrap:wrap;\n",
              "      gap: 12px;\n",
              "    }\n",
              "\n",
              "    .colab-df-convert {\n",
              "      background-color: #E8F0FE;\n",
              "      border: none;\n",
              "      border-radius: 50%;\n",
              "      cursor: pointer;\n",
              "      display: none;\n",
              "      fill: #1967D2;\n",
              "      height: 32px;\n",
              "      padding: 0 0 0 0;\n",
              "      width: 32px;\n",
              "    }\n",
              "\n",
              "    .colab-df-convert:hover {\n",
              "      background-color: #E2EBFA;\n",
              "      box-shadow: 0px 1px 2px rgba(60, 64, 67, 0.3), 0px 1px 3px 1px rgba(60, 64, 67, 0.15);\n",
              "      fill: #174EA6;\n",
              "    }\n",
              "\n",
              "    [theme=dark] .colab-df-convert {\n",
              "      background-color: #3B4455;\n",
              "      fill: #D2E3FC;\n",
              "    }\n",
              "\n",
              "    [theme=dark] .colab-df-convert:hover {\n",
              "      background-color: #434B5C;\n",
              "      box-shadow: 0px 1px 3px 1px rgba(0, 0, 0, 0.15);\n",
              "      filter: drop-shadow(0px 1px 2px rgba(0, 0, 0, 0.3));\n",
              "      fill: #FFFFFF;\n",
              "    }\n",
              "  </style>\n",
              "\n",
              "      <script>\n",
              "        const buttonEl =\n",
              "          document.querySelector('#df-f9d6c7a3-6580-4224-8589-99b51d2de445 button.colab-df-convert');\n",
              "        buttonEl.style.display =\n",
              "          google.colab.kernel.accessAllowed ? 'block' : 'none';\n",
              "\n",
              "        async function convertToInteractive(key) {\n",
              "          const element = document.querySelector('#df-f9d6c7a3-6580-4224-8589-99b51d2de445');\n",
              "          const dataTable =\n",
              "            await google.colab.kernel.invokeFunction('convertToInteractive',\n",
              "                                                     [key], {});\n",
              "          if (!dataTable) return;\n",
              "\n",
              "          const docLinkHtml = 'Like what you see? Visit the ' +\n",
              "            '<a target=\"_blank\" href=https://colab.research.google.com/notebooks/data_table.ipynb>data table notebook</a>'\n",
              "            + ' to learn more about interactive tables.';\n",
              "          element.innerHTML = '';\n",
              "          dataTable['output_type'] = 'display_data';\n",
              "          await google.colab.output.renderOutput(dataTable, element);\n",
              "          const docLink = document.createElement('div');\n",
              "          docLink.innerHTML = docLinkHtml;\n",
              "          element.appendChild(docLink);\n",
              "        }\n",
              "      </script>\n",
              "    </div>\n",
              "  </div>\n",
              "  "
            ]
          },
          "metadata": {},
          "execution_count": 10
        }
      ],
      "source": [
        "#Identify uncommon words for each Title\n",
        "nfreq =  pd.Series(' '.join(df \n",
        "         ['Title']).split()).value_counts()[-30:]\n",
        "n_count = pd.DataFrame(nfreq)\n",
        "n_count.reset_index(inplace = True)\n",
        "n_count.rename(columns = {'index':'Words_Before', 0:'Count'}, inplace = True)\n",
        "n_count.head()"
      ],
      "id": "9478b969"
    },
    {
      "cell_type": "markdown",
      "metadata": {
        "id": "2284764d"
      },
      "source": [
        "**Changing all the charecters to lower-case in both the Abstract & Title**"
      ],
      "id": "2284764d"
    },
    {
      "cell_type": "code",
      "execution_count": 11,
      "metadata": {
        "id": "00e5abd6"
      },
      "outputs": [],
      "source": [
        "df['Title'] = df['Title'].str.lower()\n",
        "df['Abstract'] = df['Abstract'].str.lower()"
      ],
      "id": "00e5abd6"
    },
    {
      "cell_type": "markdown",
      "metadata": {
        "id": "e659e62f"
      },
      "source": [
        "**Identify common & uncommon words for each Title after lower-casing**"
      ],
      "id": "e659e62f"
    },
    {
      "cell_type": "code",
      "execution_count": 12,
      "metadata": {
        "id": "f9475331"
      },
      "outputs": [],
      "source": [
        "#Identify common words for each Title\n",
        "freq = pd.Series(' '.join(df['Title']).split()).value_counts()[:30]\n",
        "c_count2 = pd.DataFrame(freq)\n",
        "c_count2.reset_index(inplace = True)\n",
        "c_count2.rename(columns = {'index':'Words_After', 0:'Count'}, inplace = True)\n",
        "c_count = pd.concat([c_count, c_count2], axis=1)"
      ],
      "id": "f9475331"
    },
    {
      "cell_type": "code",
      "execution_count": 13,
      "metadata": {
        "colab": {
          "base_uri": "https://localhost:8080/",
          "height": 206
        },
        "id": "91e7aca1",
        "outputId": "c0bb5b34-6603-4102-f717-b5f5af86b715"
      },
      "outputs": [
        {
          "output_type": "execute_result",
          "data": {
            "text/plain": [
              "  Words_Before  Count Words_After  Count\n",
              "0           of   4161          of   4257\n",
              "1          and   2980         and   3026\n",
              "2           in   2731          in   2807\n",
              "3          the   1974         the   2378\n",
              "4            a   1167           a   1945"
            ],
            "text/html": [
              "\n",
              "  <div id=\"df-68920ecb-e0c6-448d-9664-72021ce248b7\">\n",
              "    <div class=\"colab-df-container\">\n",
              "      <div>\n",
              "<style scoped>\n",
              "    .dataframe tbody tr th:only-of-type {\n",
              "        vertical-align: middle;\n",
              "    }\n",
              "\n",
              "    .dataframe tbody tr th {\n",
              "        vertical-align: top;\n",
              "    }\n",
              "\n",
              "    .dataframe thead th {\n",
              "        text-align: right;\n",
              "    }\n",
              "</style>\n",
              "<table border=\"1\" class=\"dataframe\">\n",
              "  <thead>\n",
              "    <tr style=\"text-align: right;\">\n",
              "      <th></th>\n",
              "      <th>Words_Before</th>\n",
              "      <th>Count</th>\n",
              "      <th>Words_After</th>\n",
              "      <th>Count</th>\n",
              "    </tr>\n",
              "  </thead>\n",
              "  <tbody>\n",
              "    <tr>\n",
              "      <th>0</th>\n",
              "      <td>of</td>\n",
              "      <td>4161</td>\n",
              "      <td>of</td>\n",
              "      <td>4257</td>\n",
              "    </tr>\n",
              "    <tr>\n",
              "      <th>1</th>\n",
              "      <td>and</td>\n",
              "      <td>2980</td>\n",
              "      <td>and</td>\n",
              "      <td>3026</td>\n",
              "    </tr>\n",
              "    <tr>\n",
              "      <th>2</th>\n",
              "      <td>in</td>\n",
              "      <td>2731</td>\n",
              "      <td>in</td>\n",
              "      <td>2807</td>\n",
              "    </tr>\n",
              "    <tr>\n",
              "      <th>3</th>\n",
              "      <td>the</td>\n",
              "      <td>1974</td>\n",
              "      <td>the</td>\n",
              "      <td>2378</td>\n",
              "    </tr>\n",
              "    <tr>\n",
              "      <th>4</th>\n",
              "      <td>a</td>\n",
              "      <td>1167</td>\n",
              "      <td>a</td>\n",
              "      <td>1945</td>\n",
              "    </tr>\n",
              "  </tbody>\n",
              "</table>\n",
              "</div>\n",
              "      <button class=\"colab-df-convert\" onclick=\"convertToInteractive('df-68920ecb-e0c6-448d-9664-72021ce248b7')\"\n",
              "              title=\"Convert this dataframe to an interactive table.\"\n",
              "              style=\"display:none;\">\n",
              "        \n",
              "  <svg xmlns=\"http://www.w3.org/2000/svg\" height=\"24px\"viewBox=\"0 0 24 24\"\n",
              "       width=\"24px\">\n",
              "    <path d=\"M0 0h24v24H0V0z\" fill=\"none\"/>\n",
              "    <path d=\"M18.56 5.44l.94 2.06.94-2.06 2.06-.94-2.06-.94-.94-2.06-.94 2.06-2.06.94zm-11 1L8.5 8.5l.94-2.06 2.06-.94-2.06-.94L8.5 2.5l-.94 2.06-2.06.94zm10 10l.94 2.06.94-2.06 2.06-.94-2.06-.94-.94-2.06-.94 2.06-2.06.94z\"/><path d=\"M17.41 7.96l-1.37-1.37c-.4-.4-.92-.59-1.43-.59-.52 0-1.04.2-1.43.59L10.3 9.45l-7.72 7.72c-.78.78-.78 2.05 0 2.83L4 21.41c.39.39.9.59 1.41.59.51 0 1.02-.2 1.41-.59l7.78-7.78 2.81-2.81c.8-.78.8-2.07 0-2.86zM5.41 20L4 18.59l7.72-7.72 1.47 1.35L5.41 20z\"/>\n",
              "  </svg>\n",
              "      </button>\n",
              "      \n",
              "  <style>\n",
              "    .colab-df-container {\n",
              "      display:flex;\n",
              "      flex-wrap:wrap;\n",
              "      gap: 12px;\n",
              "    }\n",
              "\n",
              "    .colab-df-convert {\n",
              "      background-color: #E8F0FE;\n",
              "      border: none;\n",
              "      border-radius: 50%;\n",
              "      cursor: pointer;\n",
              "      display: none;\n",
              "      fill: #1967D2;\n",
              "      height: 32px;\n",
              "      padding: 0 0 0 0;\n",
              "      width: 32px;\n",
              "    }\n",
              "\n",
              "    .colab-df-convert:hover {\n",
              "      background-color: #E2EBFA;\n",
              "      box-shadow: 0px 1px 2px rgba(60, 64, 67, 0.3), 0px 1px 3px 1px rgba(60, 64, 67, 0.15);\n",
              "      fill: #174EA6;\n",
              "    }\n",
              "\n",
              "    [theme=dark] .colab-df-convert {\n",
              "      background-color: #3B4455;\n",
              "      fill: #D2E3FC;\n",
              "    }\n",
              "\n",
              "    [theme=dark] .colab-df-convert:hover {\n",
              "      background-color: #434B5C;\n",
              "      box-shadow: 0px 1px 3px 1px rgba(0, 0, 0, 0.15);\n",
              "      filter: drop-shadow(0px 1px 2px rgba(0, 0, 0, 0.3));\n",
              "      fill: #FFFFFF;\n",
              "    }\n",
              "  </style>\n",
              "\n",
              "      <script>\n",
              "        const buttonEl =\n",
              "          document.querySelector('#df-68920ecb-e0c6-448d-9664-72021ce248b7 button.colab-df-convert');\n",
              "        buttonEl.style.display =\n",
              "          google.colab.kernel.accessAllowed ? 'block' : 'none';\n",
              "\n",
              "        async function convertToInteractive(key) {\n",
              "          const element = document.querySelector('#df-68920ecb-e0c6-448d-9664-72021ce248b7');\n",
              "          const dataTable =\n",
              "            await google.colab.kernel.invokeFunction('convertToInteractive',\n",
              "                                                     [key], {});\n",
              "          if (!dataTable) return;\n",
              "\n",
              "          const docLinkHtml = 'Like what you see? Visit the ' +\n",
              "            '<a target=\"_blank\" href=https://colab.research.google.com/notebooks/data_table.ipynb>data table notebook</a>'\n",
              "            + ' to learn more about interactive tables.';\n",
              "          element.innerHTML = '';\n",
              "          dataTable['output_type'] = 'display_data';\n",
              "          await google.colab.output.renderOutput(dataTable, element);\n",
              "          const docLink = document.createElement('div');\n",
              "          docLink.innerHTML = docLinkHtml;\n",
              "          element.appendChild(docLink);\n",
              "        }\n",
              "      </script>\n",
              "    </div>\n",
              "  </div>\n",
              "  "
            ]
          },
          "metadata": {},
          "execution_count": 13
        }
      ],
      "source": [
        "c_count.head()"
      ],
      "id": "91e7aca1"
    },
    {
      "cell_type": "markdown",
      "metadata": {
        "id": "79cf1a78"
      },
      "source": [
        "**As we can see, there is a segnificant change here after lower-casing the characters**"
      ],
      "id": "79cf1a78"
    },
    {
      "cell_type": "code",
      "execution_count": 14,
      "metadata": {
        "id": "38fb4d72"
      },
      "outputs": [],
      "source": [
        "#Identify uncommon words for each Title\n",
        "nfreq =  pd.Series(' '.join(df \n",
        "         ['Title']).split()).value_counts()[-30:]\n",
        "n_count2 = pd.DataFrame(nfreq)\n",
        "n_count2.reset_index(inplace = True)\n",
        "n_count2.rename(columns = {'index':'Words_After', 0:'Count'}, inplace = True)\n",
        "n_count = pd.concat([n_count, n_count2], axis=1)"
      ],
      "id": "38fb4d72"
    },
    {
      "cell_type": "code",
      "execution_count": 15,
      "metadata": {
        "colab": {
          "base_uri": "https://localhost:8080/",
          "height": 206
        },
        "id": "8887f610",
        "outputId": "40b0fbd2-7800-4d03-95bd-7d806f824668"
      },
      "outputs": [
        {
          "output_type": "execute_result",
          "data": {
            "text/plain": [
              "  Words_Before  Count Words_After  Count\n",
              "0      measles      1       peste      1\n",
              "1  progressive      1         des      1\n",
              "2        midst      1      petits      1\n",
              "3        tasks      1   ruminants      1\n",
              "4      present      1   livestock      1"
            ],
            "text/html": [
              "\n",
              "  <div id=\"df-1a3dd44b-2c6e-40a7-a07e-a216206fcf11\">\n",
              "    <div class=\"colab-df-container\">\n",
              "      <div>\n",
              "<style scoped>\n",
              "    .dataframe tbody tr th:only-of-type {\n",
              "        vertical-align: middle;\n",
              "    }\n",
              "\n",
              "    .dataframe tbody tr th {\n",
              "        vertical-align: top;\n",
              "    }\n",
              "\n",
              "    .dataframe thead th {\n",
              "        text-align: right;\n",
              "    }\n",
              "</style>\n",
              "<table border=\"1\" class=\"dataframe\">\n",
              "  <thead>\n",
              "    <tr style=\"text-align: right;\">\n",
              "      <th></th>\n",
              "      <th>Words_Before</th>\n",
              "      <th>Count</th>\n",
              "      <th>Words_After</th>\n",
              "      <th>Count</th>\n",
              "    </tr>\n",
              "  </thead>\n",
              "  <tbody>\n",
              "    <tr>\n",
              "      <th>0</th>\n",
              "      <td>measles</td>\n",
              "      <td>1</td>\n",
              "      <td>peste</td>\n",
              "      <td>1</td>\n",
              "    </tr>\n",
              "    <tr>\n",
              "      <th>1</th>\n",
              "      <td>progressive</td>\n",
              "      <td>1</td>\n",
              "      <td>des</td>\n",
              "      <td>1</td>\n",
              "    </tr>\n",
              "    <tr>\n",
              "      <th>2</th>\n",
              "      <td>midst</td>\n",
              "      <td>1</td>\n",
              "      <td>petits</td>\n",
              "      <td>1</td>\n",
              "    </tr>\n",
              "    <tr>\n",
              "      <th>3</th>\n",
              "      <td>tasks</td>\n",
              "      <td>1</td>\n",
              "      <td>ruminants</td>\n",
              "      <td>1</td>\n",
              "    </tr>\n",
              "    <tr>\n",
              "      <th>4</th>\n",
              "      <td>present</td>\n",
              "      <td>1</td>\n",
              "      <td>livestock</td>\n",
              "      <td>1</td>\n",
              "    </tr>\n",
              "  </tbody>\n",
              "</table>\n",
              "</div>\n",
              "      <button class=\"colab-df-convert\" onclick=\"convertToInteractive('df-1a3dd44b-2c6e-40a7-a07e-a216206fcf11')\"\n",
              "              title=\"Convert this dataframe to an interactive table.\"\n",
              "              style=\"display:none;\">\n",
              "        \n",
              "  <svg xmlns=\"http://www.w3.org/2000/svg\" height=\"24px\"viewBox=\"0 0 24 24\"\n",
              "       width=\"24px\">\n",
              "    <path d=\"M0 0h24v24H0V0z\" fill=\"none\"/>\n",
              "    <path d=\"M18.56 5.44l.94 2.06.94-2.06 2.06-.94-2.06-.94-.94-2.06-.94 2.06-2.06.94zm-11 1L8.5 8.5l.94-2.06 2.06-.94-2.06-.94L8.5 2.5l-.94 2.06-2.06.94zm10 10l.94 2.06.94-2.06 2.06-.94-2.06-.94-.94-2.06-.94 2.06-2.06.94z\"/><path d=\"M17.41 7.96l-1.37-1.37c-.4-.4-.92-.59-1.43-.59-.52 0-1.04.2-1.43.59L10.3 9.45l-7.72 7.72c-.78.78-.78 2.05 0 2.83L4 21.41c.39.39.9.59 1.41.59.51 0 1.02-.2 1.41-.59l7.78-7.78 2.81-2.81c.8-.78.8-2.07 0-2.86zM5.41 20L4 18.59l7.72-7.72 1.47 1.35L5.41 20z\"/>\n",
              "  </svg>\n",
              "      </button>\n",
              "      \n",
              "  <style>\n",
              "    .colab-df-container {\n",
              "      display:flex;\n",
              "      flex-wrap:wrap;\n",
              "      gap: 12px;\n",
              "    }\n",
              "\n",
              "    .colab-df-convert {\n",
              "      background-color: #E8F0FE;\n",
              "      border: none;\n",
              "      border-radius: 50%;\n",
              "      cursor: pointer;\n",
              "      display: none;\n",
              "      fill: #1967D2;\n",
              "      height: 32px;\n",
              "      padding: 0 0 0 0;\n",
              "      width: 32px;\n",
              "    }\n",
              "\n",
              "    .colab-df-convert:hover {\n",
              "      background-color: #E2EBFA;\n",
              "      box-shadow: 0px 1px 2px rgba(60, 64, 67, 0.3), 0px 1px 3px 1px rgba(60, 64, 67, 0.15);\n",
              "      fill: #174EA6;\n",
              "    }\n",
              "\n",
              "    [theme=dark] .colab-df-convert {\n",
              "      background-color: #3B4455;\n",
              "      fill: #D2E3FC;\n",
              "    }\n",
              "\n",
              "    [theme=dark] .colab-df-convert:hover {\n",
              "      background-color: #434B5C;\n",
              "      box-shadow: 0px 1px 3px 1px rgba(0, 0, 0, 0.15);\n",
              "      filter: drop-shadow(0px 1px 2px rgba(0, 0, 0, 0.3));\n",
              "      fill: #FFFFFF;\n",
              "    }\n",
              "  </style>\n",
              "\n",
              "      <script>\n",
              "        const buttonEl =\n",
              "          document.querySelector('#df-1a3dd44b-2c6e-40a7-a07e-a216206fcf11 button.colab-df-convert');\n",
              "        buttonEl.style.display =\n",
              "          google.colab.kernel.accessAllowed ? 'block' : 'none';\n",
              "\n",
              "        async function convertToInteractive(key) {\n",
              "          const element = document.querySelector('#df-1a3dd44b-2c6e-40a7-a07e-a216206fcf11');\n",
              "          const dataTable =\n",
              "            await google.colab.kernel.invokeFunction('convertToInteractive',\n",
              "                                                     [key], {});\n",
              "          if (!dataTable) return;\n",
              "\n",
              "          const docLinkHtml = 'Like what you see? Visit the ' +\n",
              "            '<a target=\"_blank\" href=https://colab.research.google.com/notebooks/data_table.ipynb>data table notebook</a>'\n",
              "            + ' to learn more about interactive tables.';\n",
              "          element.innerHTML = '';\n",
              "          dataTable['output_type'] = 'display_data';\n",
              "          await google.colab.output.renderOutput(dataTable, element);\n",
              "          const docLink = document.createElement('div');\n",
              "          docLink.innerHTML = docLinkHtml;\n",
              "          element.appendChild(docLink);\n",
              "        }\n",
              "      </script>\n",
              "    </div>\n",
              "  </div>\n",
              "  "
            ]
          },
          "metadata": {},
          "execution_count": 15
        }
      ],
      "source": [
        "n_count.head()"
      ],
      "id": "8887f610"
    },
    {
      "cell_type": "markdown",
      "metadata": {
        "id": "10aa2e02"
      },
      "source": [
        "**Also, it is very segnifican here that the least frequent words changed after altering the case sensitivity**"
      ],
      "id": "10aa2e02"
    },
    {
      "cell_type": "code",
      "execution_count": 16,
      "metadata": {
        "colab": {
          "base_uri": "https://localhost:8080/",
          "height": 423
        },
        "id": "f25e00cb",
        "outputId": "a9f68ab7-00ee-407d-9a5e-c2d633a22ff1"
      },
      "outputs": [
        {
          "output_type": "execute_result",
          "data": {
            "text/plain": [
              "      ArticleID                                              Title  \\\n",
              "0      34153941  stable coordination variability in overground ...   \n",
              "1      34153942  weak hip strength increases dynamic knee valgu...   \n",
              "2      34153964  current and future projections of amyotrophic ...   \n",
              "3      34153968  disparities between asian and non-asian thromb...   \n",
              "4      34153978  maternal factors predicting loss to follow-up ...   \n",
              "...         ...                                                ...   \n",
              "4994   34444567  mind the differences: how diagnoses and hospit...   \n",
              "4995   34444568  the ethics of dying: deciphering pandemic-resu...   \n",
              "4996   34444569  research on adolescents regarding the indirect...   \n",
              "4997   34444571  pre-intervention effects of a community-based ...   \n",
              "4998   34444572  pharmacists' role in older adults' medication ...   \n",
              "\n",
              "                                               Abstract  \n",
              "0     coordination variability (cv) is commonly anal...  \n",
              "1     clinical scenario: dynamic knee valgus (dkv) i...  \n",
              "2     various methodologies have been reported to as...  \n",
              "3     as outcomes for acute ischemic stroke (ais) va...  \n",
              "4     because hearing loss in children can result in...  \n",
              "...                                                 ...  \n",
              "4994  integrated care pathway (icp) is a prevailing ...  \n",
              "4995  the objective of medicine is to provide humans...  \n",
              "4996  this research involved the participation of 30...  \n",
              "4997  this study explores the impact of the 'pre-int...  \n",
              "4998  medication regimen complexity (mrc) may influe...  \n",
              "\n",
              "[4999 rows x 3 columns]"
            ],
            "text/html": [
              "\n",
              "  <div id=\"df-ae4fbb8f-ae64-43fc-bea4-2732af5d5636\">\n",
              "    <div class=\"colab-df-container\">\n",
              "      <div>\n",
              "<style scoped>\n",
              "    .dataframe tbody tr th:only-of-type {\n",
              "        vertical-align: middle;\n",
              "    }\n",
              "\n",
              "    .dataframe tbody tr th {\n",
              "        vertical-align: top;\n",
              "    }\n",
              "\n",
              "    .dataframe thead th {\n",
              "        text-align: right;\n",
              "    }\n",
              "</style>\n",
              "<table border=\"1\" class=\"dataframe\">\n",
              "  <thead>\n",
              "    <tr style=\"text-align: right;\">\n",
              "      <th></th>\n",
              "      <th>ArticleID</th>\n",
              "      <th>Title</th>\n",
              "      <th>Abstract</th>\n",
              "    </tr>\n",
              "  </thead>\n",
              "  <tbody>\n",
              "    <tr>\n",
              "      <th>0</th>\n",
              "      <td>34153941</td>\n",
              "      <td>stable coordination variability in overground ...</td>\n",
              "      <td>coordination variability (cv) is commonly anal...</td>\n",
              "    </tr>\n",
              "    <tr>\n",
              "      <th>1</th>\n",
              "      <td>34153942</td>\n",
              "      <td>weak hip strength increases dynamic knee valgu...</td>\n",
              "      <td>clinical scenario: dynamic knee valgus (dkv) i...</td>\n",
              "    </tr>\n",
              "    <tr>\n",
              "      <th>2</th>\n",
              "      <td>34153964</td>\n",
              "      <td>current and future projections of amyotrophic ...</td>\n",
              "      <td>various methodologies have been reported to as...</td>\n",
              "    </tr>\n",
              "    <tr>\n",
              "      <th>3</th>\n",
              "      <td>34153968</td>\n",
              "      <td>disparities between asian and non-asian thromb...</td>\n",
              "      <td>as outcomes for acute ischemic stroke (ais) va...</td>\n",
              "    </tr>\n",
              "    <tr>\n",
              "      <th>4</th>\n",
              "      <td>34153978</td>\n",
              "      <td>maternal factors predicting loss to follow-up ...</td>\n",
              "      <td>because hearing loss in children can result in...</td>\n",
              "    </tr>\n",
              "    <tr>\n",
              "      <th>...</th>\n",
              "      <td>...</td>\n",
              "      <td>...</td>\n",
              "      <td>...</td>\n",
              "    </tr>\n",
              "    <tr>\n",
              "      <th>4994</th>\n",
              "      <td>34444567</td>\n",
              "      <td>mind the differences: how diagnoses and hospit...</td>\n",
              "      <td>integrated care pathway (icp) is a prevailing ...</td>\n",
              "    </tr>\n",
              "    <tr>\n",
              "      <th>4995</th>\n",
              "      <td>34444568</td>\n",
              "      <td>the ethics of dying: deciphering pandemic-resu...</td>\n",
              "      <td>the objective of medicine is to provide humans...</td>\n",
              "    </tr>\n",
              "    <tr>\n",
              "      <th>4996</th>\n",
              "      <td>34444569</td>\n",
              "      <td>research on adolescents regarding the indirect...</td>\n",
              "      <td>this research involved the participation of 30...</td>\n",
              "    </tr>\n",
              "    <tr>\n",
              "      <th>4997</th>\n",
              "      <td>34444571</td>\n",
              "      <td>pre-intervention effects of a community-based ...</td>\n",
              "      <td>this study explores the impact of the 'pre-int...</td>\n",
              "    </tr>\n",
              "    <tr>\n",
              "      <th>4998</th>\n",
              "      <td>34444572</td>\n",
              "      <td>pharmacists' role in older adults' medication ...</td>\n",
              "      <td>medication regimen complexity (mrc) may influe...</td>\n",
              "    </tr>\n",
              "  </tbody>\n",
              "</table>\n",
              "<p>4999 rows × 3 columns</p>\n",
              "</div>\n",
              "      <button class=\"colab-df-convert\" onclick=\"convertToInteractive('df-ae4fbb8f-ae64-43fc-bea4-2732af5d5636')\"\n",
              "              title=\"Convert this dataframe to an interactive table.\"\n",
              "              style=\"display:none;\">\n",
              "        \n",
              "  <svg xmlns=\"http://www.w3.org/2000/svg\" height=\"24px\"viewBox=\"0 0 24 24\"\n",
              "       width=\"24px\">\n",
              "    <path d=\"M0 0h24v24H0V0z\" fill=\"none\"/>\n",
              "    <path d=\"M18.56 5.44l.94 2.06.94-2.06 2.06-.94-2.06-.94-.94-2.06-.94 2.06-2.06.94zm-11 1L8.5 8.5l.94-2.06 2.06-.94-2.06-.94L8.5 2.5l-.94 2.06-2.06.94zm10 10l.94 2.06.94-2.06 2.06-.94-2.06-.94-.94-2.06-.94 2.06-2.06.94z\"/><path d=\"M17.41 7.96l-1.37-1.37c-.4-.4-.92-.59-1.43-.59-.52 0-1.04.2-1.43.59L10.3 9.45l-7.72 7.72c-.78.78-.78 2.05 0 2.83L4 21.41c.39.39.9.59 1.41.59.51 0 1.02-.2 1.41-.59l7.78-7.78 2.81-2.81c.8-.78.8-2.07 0-2.86zM5.41 20L4 18.59l7.72-7.72 1.47 1.35L5.41 20z\"/>\n",
              "  </svg>\n",
              "      </button>\n",
              "      \n",
              "  <style>\n",
              "    .colab-df-container {\n",
              "      display:flex;\n",
              "      flex-wrap:wrap;\n",
              "      gap: 12px;\n",
              "    }\n",
              "\n",
              "    .colab-df-convert {\n",
              "      background-color: #E8F0FE;\n",
              "      border: none;\n",
              "      border-radius: 50%;\n",
              "      cursor: pointer;\n",
              "      display: none;\n",
              "      fill: #1967D2;\n",
              "      height: 32px;\n",
              "      padding: 0 0 0 0;\n",
              "      width: 32px;\n",
              "    }\n",
              "\n",
              "    .colab-df-convert:hover {\n",
              "      background-color: #E2EBFA;\n",
              "      box-shadow: 0px 1px 2px rgba(60, 64, 67, 0.3), 0px 1px 3px 1px rgba(60, 64, 67, 0.15);\n",
              "      fill: #174EA6;\n",
              "    }\n",
              "\n",
              "    [theme=dark] .colab-df-convert {\n",
              "      background-color: #3B4455;\n",
              "      fill: #D2E3FC;\n",
              "    }\n",
              "\n",
              "    [theme=dark] .colab-df-convert:hover {\n",
              "      background-color: #434B5C;\n",
              "      box-shadow: 0px 1px 3px 1px rgba(0, 0, 0, 0.15);\n",
              "      filter: drop-shadow(0px 1px 2px rgba(0, 0, 0, 0.3));\n",
              "      fill: #FFFFFF;\n",
              "    }\n",
              "  </style>\n",
              "\n",
              "      <script>\n",
              "        const buttonEl =\n",
              "          document.querySelector('#df-ae4fbb8f-ae64-43fc-bea4-2732af5d5636 button.colab-df-convert');\n",
              "        buttonEl.style.display =\n",
              "          google.colab.kernel.accessAllowed ? 'block' : 'none';\n",
              "\n",
              "        async function convertToInteractive(key) {\n",
              "          const element = document.querySelector('#df-ae4fbb8f-ae64-43fc-bea4-2732af5d5636');\n",
              "          const dataTable =\n",
              "            await google.colab.kernel.invokeFunction('convertToInteractive',\n",
              "                                                     [key], {});\n",
              "          if (!dataTable) return;\n",
              "\n",
              "          const docLinkHtml = 'Like what you see? Visit the ' +\n",
              "            '<a target=\"_blank\" href=https://colab.research.google.com/notebooks/data_table.ipynb>data table notebook</a>'\n",
              "            + ' to learn more about interactive tables.';\n",
              "          element.innerHTML = '';\n",
              "          dataTable['output_type'] = 'display_data';\n",
              "          await google.colab.output.renderOutput(dataTable, element);\n",
              "          const docLink = document.createElement('div');\n",
              "          docLink.innerHTML = docLinkHtml;\n",
              "          element.appendChild(docLink);\n",
              "        }\n",
              "      </script>\n",
              "    </div>\n",
              "  </div>\n",
              "  "
            ]
          },
          "metadata": {},
          "execution_count": 16
        }
      ],
      "source": [
        "dff = copy.deepcopy(df)\n",
        "dff"
      ],
      "id": "f25e00cb"
    },
    {
      "cell_type": "markdown",
      "metadata": {
        "id": "b5d6a2fe"
      },
      "source": [
        "## <hr>"
      ],
      "id": "b5d6a2fe"
    },
    {
      "cell_type": "markdown",
      "source": [
        "## NLP phase"
      ],
      "metadata": {
        "id": "wn0XfA5JLA9R"
      },
      "id": "wn0XfA5JLA9R"
    },
    {
      "cell_type": "markdown",
      "metadata": {
        "id": "fd6abe13"
      },
      "source": [
        "<h2>The main steps of text processing:</h2>\n",
        "\n",
        "    1- Tokenization: Segregation of the text into its individual constitutent words.\n",
        "    \n",
        "    2- Stopwords: Throw away any words that occur too frequently as its frequency of occurrence will not be useful in helping detecting relevant texts. (as an aside also consider throwing away words that occur very infrequently).\n",
        "\n",
        "    3- Stemming: combine variants of words into a single parent word that still conveys the same meaning\n",
        "\n",
        "    4- Vectorization: Map all the tokens in data into vectors for ease of feeding into models\n",
        "    "
      ],
      "id": "fd6abe13"
    },
    {
      "cell_type": "markdown",
      "metadata": {
        "id": "315a1f88"
      },
      "source": [
        "<h1>a- Tokenization:"
      ],
      "id": "315a1f88"
    },
    {
      "cell_type": "markdown",
      "metadata": {
        "id": "7548cda2"
      },
      "source": [
        "The concept of tokenization is the act of taking a sequence of characters in a given document and dicing it up into its individual constituent pieces, which are the eponymous **tokens** of this method."
      ],
      "id": "7548cda2"
    },
    {
      "cell_type": "markdown",
      "source": [
        "## Importing all the libraries that will be used in this section"
      ],
      "metadata": {
        "id": "Bssv8JFrDU9r"
      },
      "id": "Bssv8JFrDU9r"
    },
    {
      "cell_type": "code",
      "source": [
        "from sklearn.feature_extraction import text\n",
        "from sklearn.feature_extraction.text import CountVectorizer, TfidfVectorizer\n",
        "from sklearn.decomposition import LatentDirichletAllocation\n",
        "!pip install spacy\n",
        "!pip install scispacy\n",
        "#!pip install https://github.com/explosion/spacy-models/releases/download/en_core_web_md-3.2.0/en_core_web_md-3.2.0.tar.gz\n",
        "!pip install https://s3-us-west-2.amazonaws.com/ai2-s2-scispacy/releases/v0.5.0/en_core_sci_lg-0.5.0.tar.gz\n",
        "\n",
        "import scispacy\n",
        "import spacy\n",
        "import en_core_sci_lg\n",
        "import en_core_web_md\n",
        "\n",
        "from scipy.spatial.distance import jensenshannon\n",
        "\n",
        "import joblib\n",
        "\n",
        "from IPython.display import HTML, display\n",
        "\n",
        "from ipywidgets import interact, Layout, HBox, VBox, Box\n",
        "import ipywidgets as widgets\n",
        "from IPython.display import clear_output\n",
        "\n",
        "from tqdm import tqdm\n",
        "from os.path import isfile"
      ],
      "metadata": {
        "id": "RQl2Q22kfBme"
      },
      "id": "RQl2Q22kfBme",
      "execution_count": 17,
      "outputs": []
    },
    {
      "cell_type": "markdown",
      "source": [
        "**Loading Spacy** \n",
        "\n",
        "[spaCy](https://spacy.io/usage/spacy-101) *is a free, open-source library for advanced Natural Language Processing (NLP) in Python.*"
      ],
      "metadata": {
        "id": "IgkveBMYF_Zt"
      },
      "id": "IgkveBMYF_Zt"
    },
    {
      "cell_type": "markdown",
      "source": [
        "There are 3 model size:\n",
        "> Model size indicator:\n",
        ">> **sm:** no word vectors <br>\n",
        ">> **md:** reduced word vector table with 20k unique vectors for ~500k words<br>\n",
        ">> **lg:** large word vector table with ~500k entriesUsing the lg"
      ],
      "metadata": {
        "id": "Fw1RvdZXJVBZ"
      },
      "id": "Fw1RvdZXJVBZ"
    },
    {
      "cell_type": "markdown",
      "source": [
        "**Here we will be using \"lg\" model as it gives more dimensionality and complexity** <br>\n",
        "*Also because the other model gave less compitability in comparison to this one*"
      ],
      "metadata": {
        "id": "0VBOERpJKfa1"
      },
      "id": "0VBOERpJKfa1"
    },
    {
      "cell_type": "code",
      "source": [
        "#nlp = en_core_sci_lg.load(disable=[\"tagger\", \"parser\", \"ner\"])\n",
        "nlp = spacy.load(\"en_core_sci_lg\")\n",
        "nlp.max_length = 3000000"
      ],
      "metadata": {
        "id": "u90KAZ8-bQ_9"
      },
      "id": "u90KAZ8-bQ_9",
      "execution_count": 25,
      "outputs": []
    },
    {
      "cell_type": "markdown",
      "source": [
        "**Lemmatizing**"
      ],
      "metadata": {
        "id": "DlBNbI9icO_w"
      },
      "id": "DlBNbI9icO_w"
    },
    {
      "cell_type": "code",
      "source": [
        "def spacy_tokenizer(sentence):\n",
        "    return [word.lemma_ for word in nlp(sentence) if not (word.like_num or word.is_stop or word.is_punct or word.is_space or len(word)==1)]"
      ],
      "metadata": {
        "id": "IcBMnvERhg-A"
      },
      "id": "IcBMnvERhg-A",
      "execution_count": 23,
      "outputs": []
    },
    {
      "cell_type": "markdown",
      "source": [
        "**Tokenizing and Vectorizing**"
      ],
      "metadata": {
        "id": "_u56_LxXcOWZ"
      },
      "id": "_u56_LxXcOWZ"
    },
    {
      "cell_type": "code",
      "source": [
        "text = dff[\"Abstract\"]\n",
        "vectorizer = CountVectorizer(tokenizer = spacy_tokenizer, min_df=2)\n",
        "data_vectorized = vectorizer.fit_transform(tqdm(text))"
      ],
      "metadata": {
        "colab": {
          "base_uri": "https://localhost:8080/"
        },
        "id": "hddmvRWnbRLE",
        "outputId": "a8085a9c-6954-485f-a79a-b6b2515d9cee"
      },
      "id": "hddmvRWnbRLE",
      "execution_count": 26,
      "outputs": [
        {
          "output_type": "stream",
          "name": "stderr",
          "text": [
            "100%|██████████| 4999/4999 [04:34<00:00, 18.22it/s]\n"
          ]
        }
      ]
    },
    {
      "cell_type": "markdown",
      "source": [
        "**Plotting the most 20 most frequent words in all the dataset**"
      ],
      "metadata": {
        "id": "LF_wCO2tDFR5"
      },
      "id": "LF_wCO2tDFR5"
    },
    {
      "cell_type": "code",
      "source": [
        "word_count = pd.DataFrame({'word': vectorizer.get_feature_names(), 'count': np.asarray(data_vectorized.sum(axis=0))[0]});\n",
        "\n",
        "word_count.sort_values('count', ascending=False).set_index('word')[:20].sort_values('count', ascending=True).plot(kind='barh');"
      ],
      "metadata": {
        "colab": {
          "base_uri": "https://localhost:8080/",
          "height": 320
        },
        "id": "AxFAFc3XbRNh",
        "outputId": "2c89fc96-27ad-4f6b-d881-18d04eb9673d"
      },
      "id": "AxFAFc3XbRNh",
      "execution_count": 37,
      "outputs": [
        {
          "output_type": "stream",
          "name": "stderr",
          "text": [
            "/usr/local/lib/python3.7/dist-packages/sklearn/utils/deprecation.py:87: FutureWarning: Function get_feature_names is deprecated; get_feature_names is deprecated in 1.0 and will be removed in 1.2. Please use get_feature_names_out instead.\n",
            "  warnings.warn(msg, category=FutureWarning)\n"
          ]
        },
        {
          "output_type": "display_data",
          "data": {
            "text/plain": [
              "<Figure size 432x288 with 1 Axes>"
            ],
            "image/png": "[encoded data removed]"
          },
          "metadata": {
            "needs_background": "light"
          }
        }
      ]
    },
    {
      "cell_type": "markdown",
      "source": [
        "**Saving the output to a csv file**"
      ],
      "metadata": {
        "id": "JVnjZD9Xcfa4"
      },
      "id": "JVnjZD9Xcfa4"
    },
    {
      "cell_type": "code",
      "source": [
        "joblib.dump(vectorizer, 'vectorizer.csv')\n",
        "joblib.dump(data_vectorized, 'data_vectorized.csv')"
      ],
      "metadata": {
        "colab": {
          "base_uri": "https://localhost:8080/"
        },
        "id": "YQaXHW2gbRPV",
        "outputId": "f64c94cd-813f-4f95-8e10-8e66a9e9d740"
      },
      "id": "YQaXHW2gbRPV",
      "execution_count": 38,
      "outputs": [
        {
          "output_type": "execute_result",
          "data": {
            "text/plain": [
              "['data_vectorized.csv']"
            ]
          },
          "metadata": {},
          "execution_count": 38
        }
      ]
    },
    {
      "cell_type": "markdown",
      "source": [
        "**Perfoming LDA and save it to a csv aswell** - same idea as using pickle."
      ],
      "metadata": {
        "id": "xy6R5sq_clmo"
      },
      "id": "xy6R5sq_clmo"
    },
    {
      "cell_type": "code",
      "source": [
        "lda = LatentDirichletAllocation(n_components=50, random_state=0)\n",
        "# Learn model for the data with variational Bayes method.\n",
        "lda.fit(data_vectorized)\n",
        "joblib.dump(lda, 'lda.csv')"
      ],
      "metadata": {
        "colab": {
          "base_uri": "https://localhost:8080/"
        },
        "id": "mgADPNxabRSO",
        "outputId": "3871390c-68d2-46d4-d9d0-b7e4b7225ec9"
      },
      "id": "mgADPNxabRSO",
      "execution_count": 136,
      "outputs": [
        {
          "output_type": "execute_result",
          "data": {
            "text/plain": [
              "['lda.csv']"
            ]
          },
          "metadata": {},
          "execution_count": 136
        }
      ]
    },
    {
      "cell_type": "code",
      "source": [
        "def print_top_words(model, vectorizer, n_top_words):\n",
        "    feature_names = vectorizer.get_feature_names()\n",
        "    for topic_idx, topic in enumerate(model.components_):\n",
        "        message = \"\\nTopic #%d: \" % topic_idx\n",
        "        message += \" \".join([feature_names[i]\n",
        "                             for i in topic.argsort()[:-n_top_words - 1:-1]])\n",
        "        print(message)\n",
        "    print()"
      ],
      "metadata": {
        "id": "vYpt-H9zbRUR"
      },
      "id": "vYpt-H9zbRUR",
      "execution_count": 141,
      "outputs": []
    },
    {
      "cell_type": "code",
      "source": [
        "print_top_words(lda, vectorizer, n_top_words=25)"
      ],
      "metadata": {
        "id": "qVE3rO3pjTC0"
      },
      "id": "qVE3rO3pjTC0",
      "execution_count": null,
      "outputs": []
    },
    {
      "cell_type": "markdown",
      "source": [
        "**Transforming the data according to the fitted model.**"
      ],
      "metadata": {
        "id": "P6LGhaiSkE4V"
      },
      "id": "P6LGhaiSkE4V"
    },
    {
      "cell_type": "code",
      "source": [
        ""
      ],
      "metadata": {
        "id": "Zf8QIdnIkIb3"
      },
      "id": "Zf8QIdnIkIb3",
      "execution_count": null,
      "outputs": []
    },
    {
      "cell_type": "code",
      "source": [
        "doc_topic_dist = pd.DataFrame(lda.transform(data_vectorized))\n",
        "doc_topic_dist.to_csv('doc_topic_dist.csv', index=False)"
      ],
      "metadata": {
        "id": "gOVaYysZjTBL"
      },
      "id": "gOVaYysZjTBL",
      "execution_count": 41,
      "outputs": []
    },
    {
      "cell_type": "code",
      "source": [
        "doc_topic_dist.head()"
      ],
      "metadata": {
        "colab": {
          "base_uri": "https://localhost:8080/",
          "height": 299
        },
        "id": "NJXUgtBcjS8J",
        "outputId": "63ed9452-69d0-4716-cb2c-2e87b966e9f8"
      },
      "id": "NJXUgtBcjS8J",
      "execution_count": 180,
      "outputs": [
        {
          "output_type": "execute_result",
          "data": {
            "text/plain": [
              "         0         1         2         3         4         5         6   \\\n",
              "0  0.000339  0.000339  0.000339  0.000339  0.214221  0.000339  0.156217   \n",
              "1  0.166987  0.000357  0.000357  0.000357  0.664610  0.000357  0.000357   \n",
              "2  0.000310  0.000310  0.000310  0.000310  0.333076  0.063049  0.000310   \n",
              "3  0.000223  0.000223  0.000223  0.028358  0.000223  0.000223  0.000223   \n",
              "4  0.592142  0.000392  0.000392  0.000392  0.000392  0.202334  0.000392   \n",
              "\n",
              "         7         8         9   ...        15        16        17        18  \\\n",
              "0  0.000339  0.000339  0.000339  ...  0.000339  0.555602  0.000339  0.000339   \n",
              "1  0.000357  0.000357  0.051726  ...  0.000357  0.000357  0.000357  0.000357   \n",
              "2  0.000310  0.000310  0.000310  ...  0.000310  0.557962  0.000310  0.000310   \n",
              "3  0.000223  0.025565  0.000223  ...  0.000223  0.000223  0.000223  0.000223   \n",
              "4  0.000392  0.000392  0.000392  ...  0.000392  0.000392  0.000392  0.000392   \n",
              "\n",
              "         19        20        21        22        23        24  \n",
              "0  0.000339  0.000339  0.000339  0.000339  0.066842  0.000339  \n",
              "1  0.000357  0.000357  0.000357  0.000357  0.109177  0.000357  \n",
              "2  0.000310  0.000310  0.000310  0.000310  0.000310  0.000310  \n",
              "3  0.000223  0.000223  0.000223  0.227454  0.000223  0.000223  \n",
              "4  0.000392  0.000392  0.196897  0.000392  0.000392  0.000392  \n",
              "\n",
              "[5 rows x 25 columns]"
            ],
            "text/html": [
              "\n",
              "  <div id=\"df-c4813b5c-9e89-44c8-b93c-84f3a0862a6d\">\n",
              "    <div class=\"colab-df-container\">\n",
              "      <div>\n",
              "<style scoped>\n",
              "    .dataframe tbody tr th:only-of-type {\n",
              "        vertical-align: middle;\n",
              "    }\n",
              "\n",
              "    .dataframe tbody tr th {\n",
              "        vertical-align: top;\n",
              "    }\n",
              "\n",
              "    .dataframe thead th {\n",
              "        text-align: right;\n",
              "    }\n",
              "</style>\n",
              "<table border=\"1\" class=\"dataframe\">\n",
              "  <thead>\n",
              "    <tr style=\"text-align: right;\">\n",
              "      <th></th>\n",
              "      <th>0</th>\n",
              "      <th>1</th>\n",
              "      <th>2</th>\n",
              "      <th>3</th>\n",
              "      <th>4</th>\n",
              "      <th>5</th>\n",
              "      <th>6</th>\n",
              "      <th>7</th>\n",
              "      <th>8</th>\n",
              "      <th>9</th>\n",
              "      <th>...</th>\n",
              "      <th>15</th>\n",
              "      <th>16</th>\n",
              "      <th>17</th>\n",
              "      <th>18</th>\n",
              "      <th>19</th>\n",
              "      <th>20</th>\n",
              "      <th>21</th>\n",
              "      <th>22</th>\n",
              "      <th>23</th>\n",
              "      <th>24</th>\n",
              "    </tr>\n",
              "  </thead>\n",
              "  <tbody>\n",
              "    <tr>\n",
              "      <th>0</th>\n",
              "      <td>0.000339</td>\n",
              "      <td>0.000339</td>\n",
              "      <td>0.000339</td>\n",
              "      <td>0.000339</td>\n",
              "      <td>0.214221</td>\n",
              "      <td>0.000339</td>\n",
              "      <td>0.156217</td>\n",
              "      <td>0.000339</td>\n",
              "      <td>0.000339</td>\n",
              "      <td>0.000339</td>\n",
              "      <td>...</td>\n",
              "      <td>0.000339</td>\n",
              "      <td>0.555602</td>\n",
              "      <td>0.000339</td>\n",
              "      <td>0.000339</td>\n",
              "      <td>0.000339</td>\n",
              "      <td>0.000339</td>\n",
              "      <td>0.000339</td>\n",
              "      <td>0.000339</td>\n",
              "      <td>0.066842</td>\n",
              "      <td>0.000339</td>\n",
              "    </tr>\n",
              "    <tr>\n",
              "      <th>1</th>\n",
              "      <td>0.166987</td>\n",
              "      <td>0.000357</td>\n",
              "      <td>0.000357</td>\n",
              "      <td>0.000357</td>\n",
              "      <td>0.664610</td>\n",
              "      <td>0.000357</td>\n",
              "      <td>0.000357</td>\n",
              "      <td>0.000357</td>\n",
              "      <td>0.000357</td>\n",
              "      <td>0.051726</td>\n",
              "      <td>...</td>\n",
              "      <td>0.000357</td>\n",
              "      <td>0.000357</td>\n",
              "      <td>0.000357</td>\n",
              "      <td>0.000357</td>\n",
              "      <td>0.000357</td>\n",
              "      <td>0.000357</td>\n",
              "      <td>0.000357</td>\n",
              "      <td>0.000357</td>\n",
              "      <td>0.109177</td>\n",
              "      <td>0.000357</td>\n",
              "    </tr>\n",
              "    <tr>\n",
              "      <th>2</th>\n",
              "      <td>0.000310</td>\n",
              "      <td>0.000310</td>\n",
              "      <td>0.000310</td>\n",
              "      <td>0.000310</td>\n",
              "      <td>0.333076</td>\n",
              "      <td>0.063049</td>\n",
              "      <td>0.000310</td>\n",
              "      <td>0.000310</td>\n",
              "      <td>0.000310</td>\n",
              "      <td>0.000310</td>\n",
              "      <td>...</td>\n",
              "      <td>0.000310</td>\n",
              "      <td>0.557962</td>\n",
              "      <td>0.000310</td>\n",
              "      <td>0.000310</td>\n",
              "      <td>0.000310</td>\n",
              "      <td>0.000310</td>\n",
              "      <td>0.000310</td>\n",
              "      <td>0.000310</td>\n",
              "      <td>0.000310</td>\n",
              "      <td>0.000310</td>\n",
              "    </tr>\n",
              "    <tr>\n",
              "      <th>3</th>\n",
              "      <td>0.000223</td>\n",
              "      <td>0.000223</td>\n",
              "      <td>0.000223</td>\n",
              "      <td>0.028358</td>\n",
              "      <td>0.000223</td>\n",
              "      <td>0.000223</td>\n",
              "      <td>0.000223</td>\n",
              "      <td>0.000223</td>\n",
              "      <td>0.025565</td>\n",
              "      <td>0.000223</td>\n",
              "      <td>...</td>\n",
              "      <td>0.000223</td>\n",
              "      <td>0.000223</td>\n",
              "      <td>0.000223</td>\n",
              "      <td>0.000223</td>\n",
              "      <td>0.000223</td>\n",
              "      <td>0.000223</td>\n",
              "      <td>0.000223</td>\n",
              "      <td>0.227454</td>\n",
              "      <td>0.000223</td>\n",
              "      <td>0.000223</td>\n",
              "    </tr>\n",
              "    <tr>\n",
              "      <th>4</th>\n",
              "      <td>0.592142</td>\n",
              "      <td>0.000392</td>\n",
              "      <td>0.000392</td>\n",
              "      <td>0.000392</td>\n",
              "      <td>0.000392</td>\n",
              "      <td>0.202334</td>\n",
              "      <td>0.000392</td>\n",
              "      <td>0.000392</td>\n",
              "      <td>0.000392</td>\n",
              "      <td>0.000392</td>\n",
              "      <td>...</td>\n",
              "      <td>0.000392</td>\n",
              "      <td>0.000392</td>\n",
              "      <td>0.000392</td>\n",
              "      <td>0.000392</td>\n",
              "      <td>0.000392</td>\n",
              "      <td>0.000392</td>\n",
              "      <td>0.196897</td>\n",
              "      <td>0.000392</td>\n",
              "      <td>0.000392</td>\n",
              "      <td>0.000392</td>\n",
              "    </tr>\n",
              "  </tbody>\n",
              "</table>\n",
              "<p>5 rows × 25 columns</p>\n",
              "</div>\n",
              "      <button class=\"colab-df-convert\" onclick=\"convertToInteractive('df-c4813b5c-9e89-44c8-b93c-84f3a0862a6d')\"\n",
              "              title=\"Convert this dataframe to an interactive table.\"\n",
              "              style=\"display:none;\">\n",
              "        \n",
              "  <svg xmlns=\"http://www.w3.org/2000/svg\" height=\"24px\"viewBox=\"0 0 24 24\"\n",
              "       width=\"24px\">\n",
              "    <path d=\"M0 0h24v24H0V0z\" fill=\"none\"/>\n",
              "    <path d=\"M18.56 5.44l.94 2.06.94-2.06 2.06-.94-2.06-.94-.94-2.06-.94 2.06-2.06.94zm-11 1L8.5 8.5l.94-2.06 2.06-.94-2.06-.94L8.5 2.5l-.94 2.06-2.06.94zm10 10l.94 2.06.94-2.06 2.06-.94-2.06-.94-.94-2.06-.94 2.06-2.06.94z\"/><path d=\"M17.41 7.96l-1.37-1.37c-.4-.4-.92-.59-1.43-.59-.52 0-1.04.2-1.43.59L10.3 9.45l-7.72 7.72c-.78.78-.78 2.05 0 2.83L4 21.41c.39.39.9.59 1.41.59.51 0 1.02-.2 1.41-.59l7.78-7.78 2.81-2.81c.8-.78.8-2.07 0-2.86zM5.41 20L4 18.59l7.72-7.72 1.47 1.35L5.41 20z\"/>\n",
              "  </svg>\n",
              "      </button>\n",
              "      \n",
              "  <style>\n",
              "    .colab-df-container {\n",
              "      display:flex;\n",
              "      flex-wrap:wrap;\n",
              "      gap: 12px;\n",
              "    }\n",
              "\n",
              "    .colab-df-convert {\n",
              "      background-color: #E8F0FE;\n",
              "      border: none;\n",
              "      border-radius: 50%;\n",
              "      cursor: pointer;\n",
              "      display: none;\n",
              "      fill: #1967D2;\n",
              "      height: 32px;\n",
              "      padding: 0 0 0 0;\n",
              "      width: 32px;\n",
              "    }\n",
              "\n",
              "    .colab-df-convert:hover {\n",
              "      background-color: #E2EBFA;\n",
              "      box-shadow: 0px 1px 2px rgba(60, 64, 67, 0.3), 0px 1px 3px 1px rgba(60, 64, 67, 0.15);\n",
              "      fill: #174EA6;\n",
              "    }\n",
              "\n",
              "    [theme=dark] .colab-df-convert {\n",
              "      background-color: #3B4455;\n",
              "      fill: #D2E3FC;\n",
              "    }\n",
              "\n",
              "    [theme=dark] .colab-df-convert:hover {\n",
              "      background-color: #434B5C;\n",
              "      box-shadow: 0px 1px 3px 1px rgba(0, 0, 0, 0.15);\n",
              "      filter: drop-shadow(0px 1px 2px rgba(0, 0, 0, 0.3));\n",
              "      fill: #FFFFFF;\n",
              "    }\n",
              "  </style>\n",
              "\n",
              "      <script>\n",
              "        const buttonEl =\n",
              "          document.querySelector('#df-c4813b5c-9e89-44c8-b93c-84f3a0862a6d button.colab-df-convert');\n",
              "        buttonEl.style.display =\n",
              "          google.colab.kernel.accessAllowed ? 'block' : 'none';\n",
              "\n",
              "        async function convertToInteractive(key) {\n",
              "          const element = document.querySelector('#df-c4813b5c-9e89-44c8-b93c-84f3a0862a6d');\n",
              "          const dataTable =\n",
              "            await google.colab.kernel.invokeFunction('convertToInteractive',\n",
              "                                                     [key], {});\n",
              "          if (!dataTable) return;\n",
              "\n",
              "          const docLinkHtml = 'Like what you see? Visit the ' +\n",
              "            '<a target=\"_blank\" href=https://colab.research.google.com/notebooks/data_table.ipynb>data table notebook</a>'\n",
              "            + ' to learn more about interactive tables.';\n",
              "          element.innerHTML = '';\n",
              "          dataTable['output_type'] = 'display_data';\n",
              "          await google.colab.output.renderOutput(dataTable, element);\n",
              "          const docLink = document.createElement('div');\n",
              "          docLink.innerHTML = docLinkHtml;\n",
              "          element.appendChild(docLink);\n",
              "        }\n",
              "      </script>\n",
              "    </div>\n",
              "  </div>\n",
              "  "
            ]
          },
          "metadata": {},
          "execution_count": 180
        }
      ]
    },
    {
      "cell_type": "markdown",
      "source": [
        "**Choosing the optimal distance calculation:**<br>\n",
        "* Euclidean\n",
        "* Correlation\n",
        "* Jensen-Shannon\n",
        "* Cosine\n",
        "* Cityblock"
      ],
      "metadata": {
        "id": "x568WjX674kS"
      },
      "id": "x568WjX674kS"
    },
    {
      "cell_type": "markdown",
      "source": [
        "##### Euclidean"
      ],
      "metadata": {
        "id": "qJ7333lf8w2O"
      },
      "id": "qJ7333lf8w2O"
    },
    {
      "cell_type": "code",
      "source": [
        "from scipy.spatial.distance import euclidean\n",
        "e = doc_topic_dist.apply(lambda x: euclidean(x, y), axis=1)\n",
        "k_nearest = e[e != 0].nsmallest(n=5).index\n",
        "k_distances = d[d != 0].nsmallest(n=5)\n",
        "k_nearest = dff.iloc[k_nearest].copy()\n",
        "k_nearest['similarity'] = 1 - k_distances \n",
        "k_nearest"
      ],
      "metadata": {
        "colab": {
          "base_uri": "https://localhost:8080/",
          "height": 206
        },
        "id": "3W8VBIb-p4VJ",
        "outputId": "5514deb2-7c18-49a2-8386-e3726eb03e71"
      },
      "id": "3W8VBIb-p4VJ",
      "execution_count": 108,
      "outputs": [
        {
          "output_type": "execute_result",
          "data": {
            "text/plain": [
              "      ArticleID                                              Title  \\\n",
              "1487   34411111  a new neutrosophic sign test: an application t...   \n",
              "2766   34706043  cross-cultural adaptation and psychometric pro...   \n",
              "1014   34332592  psychometric properties of the short form of t...   \n",
              "1109   34351914  eco-hydrology as a driver for tidal restoratio...   \n",
              "1990   34520914  fuzzy evaluation of the ecological security of...   \n",
              "\n",
              "                                               Abstract  similarity  \n",
              "1487  the sign test is a famous nonparametric test f...         NaN  \n",
              "2766  translate and culturally adapt the short versi...         NaN  \n",
              "1014  the short form of the stroke impact scale (sf-...         NaN  \n",
              "1109  land reclamation projects and the installation...         NaN  \n",
              "1990  the extensive exploitation and use of land res...         NaN  "
            ],
            "text/html": [
              "\n",
              "  <div id=\"df-58aecf4b-f064-4dd3-bb5a-edd78736aea5\">\n",
              "    <div class=\"colab-df-container\">\n",
              "      <div>\n",
              "<style scoped>\n",
              "    .dataframe tbody tr th:only-of-type {\n",
              "        vertical-align: middle;\n",
              "    }\n",
              "\n",
              "    .dataframe tbody tr th {\n",
              "        vertical-align: top;\n",
              "    }\n",
              "\n",
              "    .dataframe thead th {\n",
              "        text-align: right;\n",
              "    }\n",
              "</style>\n",
              "<table border=\"1\" class=\"dataframe\">\n",
              "  <thead>\n",
              "    <tr style=\"text-align: right;\">\n",
              "      <th></th>\n",
              "      <th>ArticleID</th>\n",
              "      <th>Title</th>\n",
              "      <th>Abstract</th>\n",
              "      <th>similarity</th>\n",
              "    </tr>\n",
              "  </thead>\n",
              "  <tbody>\n",
              "    <tr>\n",
              "      <th>1487</th>\n",
              "      <td>34411111</td>\n",
              "      <td>a new neutrosophic sign test: an application t...</td>\n",
              "      <td>the sign test is a famous nonparametric test f...</td>\n",
              "      <td>NaN</td>\n",
              "    </tr>\n",
              "    <tr>\n",
              "      <th>2766</th>\n",
              "      <td>34706043</td>\n",
              "      <td>cross-cultural adaptation and psychometric pro...</td>\n",
              "      <td>translate and culturally adapt the short versi...</td>\n",
              "      <td>NaN</td>\n",
              "    </tr>\n",
              "    <tr>\n",
              "      <th>1014</th>\n",
              "      <td>34332592</td>\n",
              "      <td>psychometric properties of the short form of t...</td>\n",
              "      <td>the short form of the stroke impact scale (sf-...</td>\n",
              "      <td>NaN</td>\n",
              "    </tr>\n",
              "    <tr>\n",
              "      <th>1109</th>\n",
              "      <td>34351914</td>\n",
              "      <td>eco-hydrology as a driver for tidal restoratio...</td>\n",
              "      <td>land reclamation projects and the installation...</td>\n",
              "      <td>NaN</td>\n",
              "    </tr>\n",
              "    <tr>\n",
              "      <th>1990</th>\n",
              "      <td>34520914</td>\n",
              "      <td>fuzzy evaluation of the ecological security of...</td>\n",
              "      <td>the extensive exploitation and use of land res...</td>\n",
              "      <td>NaN</td>\n",
              "    </tr>\n",
              "  </tbody>\n",
              "</table>\n",
              "</div>\n",
              "      <button class=\"colab-df-convert\" onclick=\"convertToInteractive('df-58aecf4b-f064-4dd3-bb5a-edd78736aea5')\"\n",
              "              title=\"Convert this dataframe to an interactive table.\"\n",
              "              style=\"display:none;\">\n",
              "        \n",
              "  <svg xmlns=\"http://www.w3.org/2000/svg\" height=\"24px\"viewBox=\"0 0 24 24\"\n",
              "       width=\"24px\">\n",
              "    <path d=\"M0 0h24v24H0V0z\" fill=\"none\"/>\n",
              "    <path d=\"M18.56 5.44l.94 2.06.94-2.06 2.06-.94-2.06-.94-.94-2.06-.94 2.06-2.06.94zm-11 1L8.5 8.5l.94-2.06 2.06-.94-2.06-.94L8.5 2.5l-.94 2.06-2.06.94zm10 10l.94 2.06.94-2.06 2.06-.94-2.06-.94-.94-2.06-.94 2.06-2.06.94z\"/><path d=\"M17.41 7.96l-1.37-1.37c-.4-.4-.92-.59-1.43-.59-.52 0-1.04.2-1.43.59L10.3 9.45l-7.72 7.72c-.78.78-.78 2.05 0 2.83L4 21.41c.39.39.9.59 1.41.59.51 0 1.02-.2 1.41-.59l7.78-7.78 2.81-2.81c.8-.78.8-2.07 0-2.86zM5.41 20L4 18.59l7.72-7.72 1.47 1.35L5.41 20z\"/>\n",
              "  </svg>\n",
              "      </button>\n",
              "      \n",
              "  <style>\n",
              "    .colab-df-container {\n",
              "      display:flex;\n",
              "      flex-wrap:wrap;\n",
              "      gap: 12px;\n",
              "    }\n",
              "\n",
              "    .colab-df-convert {\n",
              "      background-color: #E8F0FE;\n",
              "      border: none;\n",
              "      border-radius: 50%;\n",
              "      cursor: pointer;\n",
              "      display: none;\n",
              "      fill: #1967D2;\n",
              "      height: 32px;\n",
              "      padding: 0 0 0 0;\n",
              "      width: 32px;\n",
              "    }\n",
              "\n",
              "    .colab-df-convert:hover {\n",
              "      background-color: #E2EBFA;\n",
              "      box-shadow: 0px 1px 2px rgba(60, 64, 67, 0.3), 0px 1px 3px 1px rgba(60, 64, 67, 0.15);\n",
              "      fill: #174EA6;\n",
              "    }\n",
              "\n",
              "    [theme=dark] .colab-df-convert {\n",
              "      background-color: #3B4455;\n",
              "      fill: #D2E3FC;\n",
              "    }\n",
              "\n",
              "    [theme=dark] .colab-df-convert:hover {\n",
              "      background-color: #434B5C;\n",
              "      box-shadow: 0px 1px 3px 1px rgba(0, 0, 0, 0.15);\n",
              "      filter: drop-shadow(0px 1px 2px rgba(0, 0, 0, 0.3));\n",
              "      fill: #FFFFFF;\n",
              "    }\n",
              "  </style>\n",
              "\n",
              "      <script>\n",
              "        const buttonEl =\n",
              "          document.querySelector('#df-58aecf4b-f064-4dd3-bb5a-edd78736aea5 button.colab-df-convert');\n",
              "        buttonEl.style.display =\n",
              "          google.colab.kernel.accessAllowed ? 'block' : 'none';\n",
              "\n",
              "        async function convertToInteractive(key) {\n",
              "          const element = document.querySelector('#df-58aecf4b-f064-4dd3-bb5a-edd78736aea5');\n",
              "          const dataTable =\n",
              "            await google.colab.kernel.invokeFunction('convertToInteractive',\n",
              "                                                     [key], {});\n",
              "          if (!dataTable) return;\n",
              "\n",
              "          const docLinkHtml = 'Like what you see? Visit the ' +\n",
              "            '<a target=\"_blank\" href=https://colab.research.google.com/notebooks/data_table.ipynb>data table notebook</a>'\n",
              "            + ' to learn more about interactive tables.';\n",
              "          element.innerHTML = '';\n",
              "          dataTable['output_type'] = 'display_data';\n",
              "          await google.colab.output.renderOutput(dataTable, element);\n",
              "          const docLink = document.createElement('div');\n",
              "          docLink.innerHTML = docLinkHtml;\n",
              "          element.appendChild(docLink);\n",
              "        }\n",
              "      </script>\n",
              "    </div>\n",
              "  </div>\n",
              "  "
            ]
          },
          "metadata": {},
          "execution_count": 108
        }
      ]
    },
    {
      "cell_type": "markdown",
      "source": [
        "##### Correlation"
      ],
      "metadata": {
        "id": "g0LJ7Nwv9O9_"
      },
      "id": "g0LJ7Nwv9O9_"
    },
    {
      "cell_type": "code",
      "source": [
        "from scipy.spatial.distance import correlation\n",
        "z = doc_topic_dist.apply(lambda x: correlation(x, y), axis=1)\n",
        "k_nearest = z[z != 0].nsmallest(n=10).index\n",
        "k_distances = d[d != 0].nsmallest(n=10)\n",
        "k_nearest = dff.iloc[k_nearest].copy()\n",
        "k_nearest['similarity'] = 1 - k_distances \n",
        "k_nearest"
      ],
      "metadata": {
        "colab": {
          "base_uri": "https://localhost:8080/",
          "height": 398
        },
        "id": "TIUhRLGCn-ol",
        "outputId": "73e71b3c-544d-4bd0-818d-262bedfa6548"
      },
      "id": "TIUhRLGCn-ol",
      "execution_count": 106,
      "outputs": [
        {
          "output_type": "stream",
          "name": "stderr",
          "text": [
            "/usr/local/lib/python3.7/dist-packages/scipy/spatial/distance.py:720: RuntimeWarning: invalid value encountered in double_scalars\n",
            "  dist = 1.0 - uv / np.sqrt(uu * vv)\n"
          ]
        },
        {
          "output_type": "execute_result",
          "data": {
            "text/plain": [
              "      ArticleID                                              Title  \\\n",
              "3406   34170963  validation of the multidimensional assessment ...   \n",
              "1126   34351932  non-territorial gps-tagged golden eagles aquil...   \n",
              "3778   34243009  effects of ecological protection and restorati...   \n",
              "4708   34419920  quantification of multi-scale links of anthrop...   \n",
              "4934   34444471  modeling and mapping of combined noise annoyan...   \n",
              "2385   34613975  no effect of 'watching eyes': an attempted rep...   \n",
              "4569   34380095  budget of riverine nitrogen over the east chin...   \n",
              "2007   34521002  exploring the relationship between production ...   \n",
              "1109   34351914  eco-hydrology as a driver for tidal restoratio...   \n",
              "1487   34411111  a new neutrosophic sign test: an application t...   \n",
              "\n",
              "                                               Abstract  similarity  \n",
              "3406  interoception refers to the sensation, interpr...    0.787686  \n",
              "1126  wind farms can have two broad potential advers...    0.784022  \n",
              "3778  traditional lake phytoplankton diversity studi...    0.784558  \n",
              "4708  aquatic ecosystems are exposed to multiple env...    0.783328  \n",
              "4934  complex transportation systems often produce c...    0.784695  \n",
              "2385  some evidence suggests that people behave more...    0.784277  \n",
              "4569  riverine nitrogen loading to the continental s...    0.784214  \n",
              "2007  shrimp are one of the fastest growing commodit...    0.766172  \n",
              "1109  land reclamation projects and the installation...    0.761577  \n",
              "1487  the sign test is a famous nonparametric test f...         NaN  "
            ],
            "text/html": [
              "\n",
              "  <div id=\"df-296506a9-b248-4ffc-908c-990a143571d8\">\n",
              "    <div class=\"colab-df-container\">\n",
              "      <div>\n",
              "<style scoped>\n",
              "    .dataframe tbody tr th:only-of-type {\n",
              "        vertical-align: middle;\n",
              "    }\n",
              "\n",
              "    .dataframe tbody tr th {\n",
              "        vertical-align: top;\n",
              "    }\n",
              "\n",
              "    .dataframe thead th {\n",
              "        text-align: right;\n",
              "    }\n",
              "</style>\n",
              "<table border=\"1\" class=\"dataframe\">\n",
              "  <thead>\n",
              "    <tr style=\"text-align: right;\">\n",
              "      <th></th>\n",
              "      <th>ArticleID</th>\n",
              "      <th>Title</th>\n",
              "      <th>Abstract</th>\n",
              "      <th>similarity</th>\n",
              "    </tr>\n",
              "  </thead>\n",
              "  <tbody>\n",
              "    <tr>\n",
              "      <th>3406</th>\n",
              "      <td>34170963</td>\n",
              "      <td>validation of the multidimensional assessment ...</td>\n",
              "      <td>interoception refers to the sensation, interpr...</td>\n",
              "      <td>0.787686</td>\n",
              "    </tr>\n",
              "    <tr>\n",
              "      <th>1126</th>\n",
              "      <td>34351932</td>\n",
              "      <td>non-territorial gps-tagged golden eagles aquil...</td>\n",
              "      <td>wind farms can have two broad potential advers...</td>\n",
              "      <td>0.784022</td>\n",
              "    </tr>\n",
              "    <tr>\n",
              "      <th>3778</th>\n",
              "      <td>34243009</td>\n",
              "      <td>effects of ecological protection and restorati...</td>\n",
              "      <td>traditional lake phytoplankton diversity studi...</td>\n",
              "      <td>0.784558</td>\n",
              "    </tr>\n",
              "    <tr>\n",
              "      <th>4708</th>\n",
              "      <td>34419920</td>\n",
              "      <td>quantification of multi-scale links of anthrop...</td>\n",
              "      <td>aquatic ecosystems are exposed to multiple env...</td>\n",
              "      <td>0.783328</td>\n",
              "    </tr>\n",
              "    <tr>\n",
              "      <th>4934</th>\n",
              "      <td>34444471</td>\n",
              "      <td>modeling and mapping of combined noise annoyan...</td>\n",
              "      <td>complex transportation systems often produce c...</td>\n",
              "      <td>0.784695</td>\n",
              "    </tr>\n",
              "    <tr>\n",
              "      <th>2385</th>\n",
              "      <td>34613975</td>\n",
              "      <td>no effect of 'watching eyes': an attempted rep...</td>\n",
              "      <td>some evidence suggests that people behave more...</td>\n",
              "      <td>0.784277</td>\n",
              "    </tr>\n",
              "    <tr>\n",
              "      <th>4569</th>\n",
              "      <td>34380095</td>\n",
              "      <td>budget of riverine nitrogen over the east chin...</td>\n",
              "      <td>riverine nitrogen loading to the continental s...</td>\n",
              "      <td>0.784214</td>\n",
              "    </tr>\n",
              "    <tr>\n",
              "      <th>2007</th>\n",
              "      <td>34521002</td>\n",
              "      <td>exploring the relationship between production ...</td>\n",
              "      <td>shrimp are one of the fastest growing commodit...</td>\n",
              "      <td>0.766172</td>\n",
              "    </tr>\n",
              "    <tr>\n",
              "      <th>1109</th>\n",
              "      <td>34351914</td>\n",
              "      <td>eco-hydrology as a driver for tidal restoratio...</td>\n",
              "      <td>land reclamation projects and the installation...</td>\n",
              "      <td>0.761577</td>\n",
              "    </tr>\n",
              "    <tr>\n",
              "      <th>1487</th>\n",
              "      <td>34411111</td>\n",
              "      <td>a new neutrosophic sign test: an application t...</td>\n",
              "      <td>the sign test is a famous nonparametric test f...</td>\n",
              "      <td>NaN</td>\n",
              "    </tr>\n",
              "  </tbody>\n",
              "</table>\n",
              "</div>\n",
              "      <button class=\"colab-df-convert\" onclick=\"convertToInteractive('df-296506a9-b248-4ffc-908c-990a143571d8')\"\n",
              "              title=\"Convert this dataframe to an interactive table.\"\n",
              "              style=\"display:none;\">\n",
              "        \n",
              "  <svg xmlns=\"http://www.w3.org/2000/svg\" height=\"24px\"viewBox=\"0 0 24 24\"\n",
              "       width=\"24px\">\n",
              "    <path d=\"M0 0h24v24H0V0z\" fill=\"none\"/>\n",
              "    <path d=\"M18.56 5.44l.94 2.06.94-2.06 2.06-.94-2.06-.94-.94-2.06-.94 2.06-2.06.94zm-11 1L8.5 8.5l.94-2.06 2.06-.94-2.06-.94L8.5 2.5l-.94 2.06-2.06.94zm10 10l.94 2.06.94-2.06 2.06-.94-2.06-.94-.94-2.06-.94 2.06-2.06.94z\"/><path d=\"M17.41 7.96l-1.37-1.37c-.4-.4-.92-.59-1.43-.59-.52 0-1.04.2-1.43.59L10.3 9.45l-7.72 7.72c-.78.78-.78 2.05 0 2.83L4 21.41c.39.39.9.59 1.41.59.51 0 1.02-.2 1.41-.59l7.78-7.78 2.81-2.81c.8-.78.8-2.07 0-2.86zM5.41 20L4 18.59l7.72-7.72 1.47 1.35L5.41 20z\"/>\n",
              "  </svg>\n",
              "      </button>\n",
              "      \n",
              "  <style>\n",
              "    .colab-df-container {\n",
              "      display:flex;\n",
              "      flex-wrap:wrap;\n",
              "      gap: 12px;\n",
              "    }\n",
              "\n",
              "    .colab-df-convert {\n",
              "      background-color: #E8F0FE;\n",
              "      border: none;\n",
              "      border-radius: 50%;\n",
              "      cursor: pointer;\n",
              "      display: none;\n",
              "      fill: #1967D2;\n",
              "      height: 32px;\n",
              "      padding: 0 0 0 0;\n",
              "      width: 32px;\n",
              "    }\n",
              "\n",
              "    .colab-df-convert:hover {\n",
              "      background-color: #E2EBFA;\n",
              "      box-shadow: 0px 1px 2px rgba(60, 64, 67, 0.3), 0px 1px 3px 1px rgba(60, 64, 67, 0.15);\n",
              "      fill: #174EA6;\n",
              "    }\n",
              "\n",
              "    [theme=dark] .colab-df-convert {\n",
              "      background-color: #3B4455;\n",
              "      fill: #D2E3FC;\n",
              "    }\n",
              "\n",
              "    [theme=dark] .colab-df-convert:hover {\n",
              "      background-color: #434B5C;\n",
              "      box-shadow: 0px 1px 3px 1px rgba(0, 0, 0, 0.15);\n",
              "      filter: drop-shadow(0px 1px 2px rgba(0, 0, 0, 0.3));\n",
              "      fill: #FFFFFF;\n",
              "    }\n",
              "  </style>\n",
              "\n",
              "      <script>\n",
              "        const buttonEl =\n",
              "          document.querySelector('#df-296506a9-b248-4ffc-908c-990a143571d8 button.colab-df-convert');\n",
              "        buttonEl.style.display =\n",
              "          google.colab.kernel.accessAllowed ? 'block' : 'none';\n",
              "\n",
              "        async function convertToInteractive(key) {\n",
              "          const element = document.querySelector('#df-296506a9-b248-4ffc-908c-990a143571d8');\n",
              "          const dataTable =\n",
              "            await google.colab.kernel.invokeFunction('convertToInteractive',\n",
              "                                                     [key], {});\n",
              "          if (!dataTable) return;\n",
              "\n",
              "          const docLinkHtml = 'Like what you see? Visit the ' +\n",
              "            '<a target=\"_blank\" href=https://colab.research.google.com/notebooks/data_table.ipynb>data table notebook</a>'\n",
              "            + ' to learn more about interactive tables.';\n",
              "          element.innerHTML = '';\n",
              "          dataTable['output_type'] = 'display_data';\n",
              "          await google.colab.output.renderOutput(dataTable, element);\n",
              "          const docLink = document.createElement('div');\n",
              "          docLink.innerHTML = docLinkHtml;\n",
              "          element.appendChild(docLink);\n",
              "        }\n",
              "      </script>\n",
              "    </div>\n",
              "  </div>\n",
              "  "
            ]
          },
          "metadata": {},
          "execution_count": 106
        }
      ]
    },
    {
      "cell_type": "markdown",
      "source": [
        "##### Jensen–Shannon"
      ],
      "metadata": {
        "id": "ek-yTXCx9es_"
      },
      "id": "ek-yTXCx9es_"
    },
    {
      "cell_type": "code",
      "source": [
        "y = doc_topic_dist[dff.ArticleID == 34153941].iloc[0]\n",
        "d = doc_topic_dist.apply(lambda x: jensenshannon(x, y), axis=1)\n",
        "k_nearest = d[d != 0].nsmallest(n=5).index\n",
        "k_distances = d[d != 0].nsmallest(n=5)\n",
        "k_nearest = dff.iloc[k_nearest].copy()\n",
        "k_nearest['similarity'] = 1 - k_distances \n",
        "k_nearest"
      ],
      "metadata": {
        "colab": {
          "base_uri": "https://localhost:8080/",
          "height": 206
        },
        "id": "0x9TH1MYT33s",
        "outputId": "221ae68d-af56-4c95-95db-d0aea30f3750"
      },
      "id": "0x9TH1MYT33s",
      "execution_count": 119,
      "outputs": [
        {
          "output_type": "execute_result",
          "data": {
            "text/plain": [
              "      ArticleID                                              Title  \\\n",
              "4229   34321539  demonstration of central conduction time and n...   \n",
              "3406   34170963  validation of the multidimensional assessment ...   \n",
              "4934   34444471  modeling and mapping of combined noise annoyan...   \n",
              "3778   34243009  effects of ecological protection and restorati...   \n",
              "2385   34613975  no effect of 'watching eyes': an attempted rep...   \n",
              "\n",
              "                                               Abstract  similarity  \n",
              "4229  a randomized controlled study was conducted to...    0.793207  \n",
              "3406  interoception refers to the sensation, interpr...    0.787686  \n",
              "4934  complex transportation systems often produce c...    0.784695  \n",
              "3778  traditional lake phytoplankton diversity studi...    0.784558  \n",
              "2385  some evidence suggests that people behave more...    0.784277  "
            ],
            "text/html": [
              "\n",
              "  <div id=\"df-5aa5d48a-4989-450e-b17e-a507ee45a2f1\">\n",
              "    <div class=\"colab-df-container\">\n",
              "      <div>\n",
              "<style scoped>\n",
              "    .dataframe tbody tr th:only-of-type {\n",
              "        vertical-align: middle;\n",
              "    }\n",
              "\n",
              "    .dataframe tbody tr th {\n",
              "        vertical-align: top;\n",
              "    }\n",
              "\n",
              "    .dataframe thead th {\n",
              "        text-align: right;\n",
              "    }\n",
              "</style>\n",
              "<table border=\"1\" class=\"dataframe\">\n",
              "  <thead>\n",
              "    <tr style=\"text-align: right;\">\n",
              "      <th></th>\n",
              "      <th>ArticleID</th>\n",
              "      <th>Title</th>\n",
              "      <th>Abstract</th>\n",
              "      <th>similarity</th>\n",
              "    </tr>\n",
              "  </thead>\n",
              "  <tbody>\n",
              "    <tr>\n",
              "      <th>4229</th>\n",
              "      <td>34321539</td>\n",
              "      <td>demonstration of central conduction time and n...</td>\n",
              "      <td>a randomized controlled study was conducted to...</td>\n",
              "      <td>0.793207</td>\n",
              "    </tr>\n",
              "    <tr>\n",
              "      <th>3406</th>\n",
              "      <td>34170963</td>\n",
              "      <td>validation of the multidimensional assessment ...</td>\n",
              "      <td>interoception refers to the sensation, interpr...</td>\n",
              "      <td>0.787686</td>\n",
              "    </tr>\n",
              "    <tr>\n",
              "      <th>4934</th>\n",
              "      <td>34444471</td>\n",
              "      <td>modeling and mapping of combined noise annoyan...</td>\n",
              "      <td>complex transportation systems often produce c...</td>\n",
              "      <td>0.784695</td>\n",
              "    </tr>\n",
              "    <tr>\n",
              "      <th>3778</th>\n",
              "      <td>34243009</td>\n",
              "      <td>effects of ecological protection and restorati...</td>\n",
              "      <td>traditional lake phytoplankton diversity studi...</td>\n",
              "      <td>0.784558</td>\n",
              "    </tr>\n",
              "    <tr>\n",
              "      <th>2385</th>\n",
              "      <td>34613975</td>\n",
              "      <td>no effect of 'watching eyes': an attempted rep...</td>\n",
              "      <td>some evidence suggests that people behave more...</td>\n",
              "      <td>0.784277</td>\n",
              "    </tr>\n",
              "  </tbody>\n",
              "</table>\n",
              "</div>\n",
              "      <button class=\"colab-df-convert\" onclick=\"convertToInteractive('df-5aa5d48a-4989-450e-b17e-a507ee45a2f1')\"\n",
              "              title=\"Convert this dataframe to an interactive table.\"\n",
              "              style=\"display:none;\">\n",
              "        \n",
              "  <svg xmlns=\"http://www.w3.org/2000/svg\" height=\"24px\"viewBox=\"0 0 24 24\"\n",
              "       width=\"24px\">\n",
              "    <path d=\"M0 0h24v24H0V0z\" fill=\"none\"/>\n",
              "    <path d=\"M18.56 5.44l.94 2.06.94-2.06 2.06-.94-2.06-.94-.94-2.06-.94 2.06-2.06.94zm-11 1L8.5 8.5l.94-2.06 2.06-.94-2.06-.94L8.5 2.5l-.94 2.06-2.06.94zm10 10l.94 2.06.94-2.06 2.06-.94-2.06-.94-.94-2.06-.94 2.06-2.06.94z\"/><path d=\"M17.41 7.96l-1.37-1.37c-.4-.4-.92-.59-1.43-.59-.52 0-1.04.2-1.43.59L10.3 9.45l-7.72 7.72c-.78.78-.78 2.05 0 2.83L4 21.41c.39.39.9.59 1.41.59.51 0 1.02-.2 1.41-.59l7.78-7.78 2.81-2.81c.8-.78.8-2.07 0-2.86zM5.41 20L4 18.59l7.72-7.72 1.47 1.35L5.41 20z\"/>\n",
              "  </svg>\n",
              "      </button>\n",
              "      \n",
              "  <style>\n",
              "    .colab-df-container {\n",
              "      display:flex;\n",
              "      flex-wrap:wrap;\n",
              "      gap: 12px;\n",
              "    }\n",
              "\n",
              "    .colab-df-convert {\n",
              "      background-color: #E8F0FE;\n",
              "      border: none;\n",
              "      border-radius: 50%;\n",
              "      cursor: pointer;\n",
              "      display: none;\n",
              "      fill: #1967D2;\n",
              "      height: 32px;\n",
              "      padding: 0 0 0 0;\n",
              "      width: 32px;\n",
              "    }\n",
              "\n",
              "    .colab-df-convert:hover {\n",
              "      background-color: #E2EBFA;\n",
              "      box-shadow: 0px 1px 2px rgba(60, 64, 67, 0.3), 0px 1px 3px 1px rgba(60, 64, 67, 0.15);\n",
              "      fill: #174EA6;\n",
              "    }\n",
              "\n",
              "    [theme=dark] .colab-df-convert {\n",
              "      background-color: #3B4455;\n",
              "      fill: #D2E3FC;\n",
              "    }\n",
              "\n",
              "    [theme=dark] .colab-df-convert:hover {\n",
              "      background-color: #434B5C;\n",
              "      box-shadow: 0px 1px 3px 1px rgba(0, 0, 0, 0.15);\n",
              "      filter: drop-shadow(0px 1px 2px rgba(0, 0, 0, 0.3));\n",
              "      fill: #FFFFFF;\n",
              "    }\n",
              "  </style>\n",
              "\n",
              "      <script>\n",
              "        const buttonEl =\n",
              "          document.querySelector('#df-5aa5d48a-4989-450e-b17e-a507ee45a2f1 button.colab-df-convert');\n",
              "        buttonEl.style.display =\n",
              "          google.colab.kernel.accessAllowed ? 'block' : 'none';\n",
              "\n",
              "        async function convertToInteractive(key) {\n",
              "          const element = document.querySelector('#df-5aa5d48a-4989-450e-b17e-a507ee45a2f1');\n",
              "          const dataTable =\n",
              "            await google.colab.kernel.invokeFunction('convertToInteractive',\n",
              "                                                     [key], {});\n",
              "          if (!dataTable) return;\n",
              "\n",
              "          const docLinkHtml = 'Like what you see? Visit the ' +\n",
              "            '<a target=\"_blank\" href=https://colab.research.google.com/notebooks/data_table.ipynb>data table notebook</a>'\n",
              "            + ' to learn more about interactive tables.';\n",
              "          element.innerHTML = '';\n",
              "          dataTable['output_type'] = 'display_data';\n",
              "          await google.colab.output.renderOutput(dataTable, element);\n",
              "          const docLink = document.createElement('div');\n",
              "          docLink.innerHTML = docLinkHtml;\n",
              "          element.appendChild(docLink);\n",
              "        }\n",
              "      </script>\n",
              "    </div>\n",
              "  </div>\n",
              "  "
            ]
          },
          "metadata": {},
          "execution_count": 119
        }
      ]
    },
    {
      "cell_type": "markdown",
      "source": [
        "##### Cosine"
      ],
      "metadata": {
        "id": "zbv0BOE69x70"
      },
      "id": "zbv0BOE69x70"
    },
    {
      "cell_type": "code",
      "source": [
        "from scipy.spatial.distance import cosine\n",
        "e = doc_topic_dist.apply(lambda x: cosine(x, y), axis=1)\n",
        "k_nearest = e[e != 0].nsmallest(n=8).index\n",
        "k_distances = d[d != 0].nsmallest(n=8)\n",
        "k_nearest = dff.iloc[k_nearest].copy()\n",
        "k_nearest['similarity'] = 1 - k_distances \n",
        "k_nearest"
      ],
      "metadata": {
        "colab": {
          "base_uri": "https://localhost:8080/",
          "height": 300
        },
        "id": "3D8JltFzq_gm",
        "outputId": "4b42bd0d-b9cf-4831-90b0-aa7ab3524f2b"
      },
      "id": "3D8JltFzq_gm",
      "execution_count": 111,
      "outputs": [
        {
          "output_type": "execute_result",
          "data": {
            "text/plain": [
              "      ArticleID                                              Title  \\\n",
              "3406   34170963  validation of the multidimensional assessment ...   \n",
              "4934   34444471  modeling and mapping of combined noise annoyan...   \n",
              "3778   34243009  effects of ecological protection and restorati...   \n",
              "2385   34613975  no effect of 'watching eyes': an attempted rep...   \n",
              "4569   34380095  budget of riverine nitrogen over the east chin...   \n",
              "1126   34351932  non-territorial gps-tagged golden eagles aquil...   \n",
              "4708   34419920  quantification of multi-scale links of anthrop...   \n",
              "1109   34351914  eco-hydrology as a driver for tidal restoratio...   \n",
              "\n",
              "                                               Abstract  similarity  \n",
              "3406  interoception refers to the sensation, interpr...    0.787686  \n",
              "4934  complex transportation systems often produce c...    0.784695  \n",
              "3778  traditional lake phytoplankton diversity studi...    0.784558  \n",
              "2385  some evidence suggests that people behave more...    0.784277  \n",
              "4569  riverine nitrogen loading to the continental s...    0.784214  \n",
              "1126  wind farms can have two broad potential advers...    0.784022  \n",
              "4708  aquatic ecosystems are exposed to multiple env...    0.783328  \n",
              "1109  land reclamation projects and the installation...         NaN  "
            ],
            "text/html": [
              "\n",
              "  <div id=\"df-bef60834-f6fa-427e-94e5-8877331bcbcb\">\n",
              "    <div class=\"colab-df-container\">\n",
              "      <div>\n",
              "<style scoped>\n",
              "    .dataframe tbody tr th:only-of-type {\n",
              "        vertical-align: middle;\n",
              "    }\n",
              "\n",
              "    .dataframe tbody tr th {\n",
              "        vertical-align: top;\n",
              "    }\n",
              "\n",
              "    .dataframe thead th {\n",
              "        text-align: right;\n",
              "    }\n",
              "</style>\n",
              "<table border=\"1\" class=\"dataframe\">\n",
              "  <thead>\n",
              "    <tr style=\"text-align: right;\">\n",
              "      <th></th>\n",
              "      <th>ArticleID</th>\n",
              "      <th>Title</th>\n",
              "      <th>Abstract</th>\n",
              "      <th>similarity</th>\n",
              "    </tr>\n",
              "  </thead>\n",
              "  <tbody>\n",
              "    <tr>\n",
              "      <th>3406</th>\n",
              "      <td>34170963</td>\n",
              "      <td>validation of the multidimensional assessment ...</td>\n",
              "      <td>interoception refers to the sensation, interpr...</td>\n",
              "      <td>0.787686</td>\n",
              "    </tr>\n",
              "    <tr>\n",
              "      <th>4934</th>\n",
              "      <td>34444471</td>\n",
              "      <td>modeling and mapping of combined noise annoyan...</td>\n",
              "      <td>complex transportation systems often produce c...</td>\n",
              "      <td>0.784695</td>\n",
              "    </tr>\n",
              "    <tr>\n",
              "      <th>3778</th>\n",
              "      <td>34243009</td>\n",
              "      <td>effects of ecological protection and restorati...</td>\n",
              "      <td>traditional lake phytoplankton diversity studi...</td>\n",
              "      <td>0.784558</td>\n",
              "    </tr>\n",
              "    <tr>\n",
              "      <th>2385</th>\n",
              "      <td>34613975</td>\n",
              "      <td>no effect of 'watching eyes': an attempted rep...</td>\n",
              "      <td>some evidence suggests that people behave more...</td>\n",
              "      <td>0.784277</td>\n",
              "    </tr>\n",
              "    <tr>\n",
              "      <th>4569</th>\n",
              "      <td>34380095</td>\n",
              "      <td>budget of riverine nitrogen over the east chin...</td>\n",
              "      <td>riverine nitrogen loading to the continental s...</td>\n",
              "      <td>0.784214</td>\n",
              "    </tr>\n",
              "    <tr>\n",
              "      <th>1126</th>\n",
              "      <td>34351932</td>\n",
              "      <td>non-territorial gps-tagged golden eagles aquil...</td>\n",
              "      <td>wind farms can have two broad potential advers...</td>\n",
              "      <td>0.784022</td>\n",
              "    </tr>\n",
              "    <tr>\n",
              "      <th>4708</th>\n",
              "      <td>34419920</td>\n",
              "      <td>quantification of multi-scale links of anthrop...</td>\n",
              "      <td>aquatic ecosystems are exposed to multiple env...</td>\n",
              "      <td>0.783328</td>\n",
              "    </tr>\n",
              "    <tr>\n",
              "      <th>1109</th>\n",
              "      <td>34351914</td>\n",
              "      <td>eco-hydrology as a driver for tidal restoratio...</td>\n",
              "      <td>land reclamation projects and the installation...</td>\n",
              "      <td>NaN</td>\n",
              "    </tr>\n",
              "  </tbody>\n",
              "</table>\n",
              "</div>\n",
              "      <button class=\"colab-df-convert\" onclick=\"convertToInteractive('df-bef60834-f6fa-427e-94e5-8877331bcbcb')\"\n",
              "              title=\"Convert this dataframe to an interactive table.\"\n",
              "              style=\"display:none;\">\n",
              "        \n",
              "  <svg xmlns=\"http://www.w3.org/2000/svg\" height=\"24px\"viewBox=\"0 0 24 24\"\n",
              "       width=\"24px\">\n",
              "    <path d=\"M0 0h24v24H0V0z\" fill=\"none\"/>\n",
              "    <path d=\"M18.56 5.44l.94 2.06.94-2.06 2.06-.94-2.06-.94-.94-2.06-.94 2.06-2.06.94zm-11 1L8.5 8.5l.94-2.06 2.06-.94-2.06-.94L8.5 2.5l-.94 2.06-2.06.94zm10 10l.94 2.06.94-2.06 2.06-.94-2.06-.94-.94-2.06-.94 2.06-2.06.94z\"/><path d=\"M17.41 7.96l-1.37-1.37c-.4-.4-.92-.59-1.43-.59-.52 0-1.04.2-1.43.59L10.3 9.45l-7.72 7.72c-.78.78-.78 2.05 0 2.83L4 21.41c.39.39.9.59 1.41.59.51 0 1.02-.2 1.41-.59l7.78-7.78 2.81-2.81c.8-.78.8-2.07 0-2.86zM5.41 20L4 18.59l7.72-7.72 1.47 1.35L5.41 20z\"/>\n",
              "  </svg>\n",
              "      </button>\n",
              "      \n",
              "  <style>\n",
              "    .colab-df-container {\n",
              "      display:flex;\n",
              "      flex-wrap:wrap;\n",
              "      gap: 12px;\n",
              "    }\n",
              "\n",
              "    .colab-df-convert {\n",
              "      background-color: #E8F0FE;\n",
              "      border: none;\n",
              "      border-radius: 50%;\n",
              "      cursor: pointer;\n",
              "      display: none;\n",
              "      fill: #1967D2;\n",
              "      height: 32px;\n",
              "      padding: 0 0 0 0;\n",
              "      width: 32px;\n",
              "    }\n",
              "\n",
              "    .colab-df-convert:hover {\n",
              "      background-color: #E2EBFA;\n",
              "      box-shadow: 0px 1px 2px rgba(60, 64, 67, 0.3), 0px 1px 3px 1px rgba(60, 64, 67, 0.15);\n",
              "      fill: #174EA6;\n",
              "    }\n",
              "\n",
              "    [theme=dark] .colab-df-convert {\n",
              "      background-color: #3B4455;\n",
              "      fill: #D2E3FC;\n",
              "    }\n",
              "\n",
              "    [theme=dark] .colab-df-convert:hover {\n",
              "      background-color: #434B5C;\n",
              "      box-shadow: 0px 1px 3px 1px rgba(0, 0, 0, 0.15);\n",
              "      filter: drop-shadow(0px 1px 2px rgba(0, 0, 0, 0.3));\n",
              "      fill: #FFFFFF;\n",
              "    }\n",
              "  </style>\n",
              "\n",
              "      <script>\n",
              "        const buttonEl =\n",
              "          document.querySelector('#df-bef60834-f6fa-427e-94e5-8877331bcbcb button.colab-df-convert');\n",
              "        buttonEl.style.display =\n",
              "          google.colab.kernel.accessAllowed ? 'block' : 'none';\n",
              "\n",
              "        async function convertToInteractive(key) {\n",
              "          const element = document.querySelector('#df-bef60834-f6fa-427e-94e5-8877331bcbcb');\n",
              "          const dataTable =\n",
              "            await google.colab.kernel.invokeFunction('convertToInteractive',\n",
              "                                                     [key], {});\n",
              "          if (!dataTable) return;\n",
              "\n",
              "          const docLinkHtml = 'Like what you see? Visit the ' +\n",
              "            '<a target=\"_blank\" href=https://colab.research.google.com/notebooks/data_table.ipynb>data table notebook</a>'\n",
              "            + ' to learn more about interactive tables.';\n",
              "          element.innerHTML = '';\n",
              "          dataTable['output_type'] = 'display_data';\n",
              "          await google.colab.output.renderOutput(dataTable, element);\n",
              "          const docLink = document.createElement('div');\n",
              "          docLink.innerHTML = docLinkHtml;\n",
              "          element.appendChild(docLink);\n",
              "        }\n",
              "      </script>\n",
              "    </div>\n",
              "  </div>\n",
              "  "
            ]
          },
          "metadata": {},
          "execution_count": 111
        }
      ]
    },
    {
      "cell_type": "markdown",
      "source": [
        "##### Cityblock"
      ],
      "metadata": {
        "id": "TcD79PNq9666"
      },
      "id": "TcD79PNq9666"
    },
    {
      "cell_type": "code",
      "source": [
        "from scipy.spatial.distance import cityblock\n",
        "e = doc_topic_dist.apply(lambda x: cityblock(x, y), axis=1)\n",
        "k_nearest = e[e != 0].nsmallest(n=8).index\n",
        "k_distances = d[d != 0].nsmallest(n=8)\n",
        "k_nearest = dff.iloc[k_nearest].copy()\n",
        "k_nearest['similarity'] = 1 - k_distances \n",
        "k_nearest"
      ],
      "metadata": {
        "colab": {
          "base_uri": "https://localhost:8080/",
          "height": 300
        },
        "id": "52weUAMzql2m",
        "outputId": "0befc455-44de-4140-e3b8-ebe4ffe21a14"
      },
      "id": "52weUAMzql2m",
      "execution_count": 110,
      "outputs": [
        {
          "output_type": "execute_result",
          "data": {
            "text/plain": [
              "      ArticleID                                              Title  \\\n",
              "4934   34444471  modeling and mapping of combined noise annoyan...   \n",
              "3778   34243009  effects of ecological protection and restorati...   \n",
              "1487   34411111  a new neutrosophic sign test: an application t...   \n",
              "2385   34613975  no effect of 'watching eyes': an attempted rep...   \n",
              "4569   34380095  budget of riverine nitrogen over the east chin...   \n",
              "1126   34351932  non-territorial gps-tagged golden eagles aquil...   \n",
              "2766   34706043  cross-cultural adaptation and psychometric pro...   \n",
              "2007   34521002  exploring the relationship between production ...   \n",
              "\n",
              "                                               Abstract  similarity  \n",
              "4934  complex transportation systems often produce c...    0.784695  \n",
              "3778  traditional lake phytoplankton diversity studi...    0.784558  \n",
              "1487  the sign test is a famous nonparametric test f...         NaN  \n",
              "2385  some evidence suggests that people behave more...    0.784277  \n",
              "4569  riverine nitrogen loading to the continental s...    0.784214  \n",
              "1126  wind farms can have two broad potential advers...    0.784022  \n",
              "2766  translate and culturally adapt the short versi...         NaN  \n",
              "2007  shrimp are one of the fastest growing commodit...         NaN  "
            ],
            "text/html": [
              "\n",
              "  <div id=\"df-5b0cb90e-52da-43a2-a665-01b3ca10fd9d\">\n",
              "    <div class=\"colab-df-container\">\n",
              "      <div>\n",
              "<style scoped>\n",
              "    .dataframe tbody tr th:only-of-type {\n",
              "        vertical-align: middle;\n",
              "    }\n",
              "\n",
              "    .dataframe tbody tr th {\n",
              "        vertical-align: top;\n",
              "    }\n",
              "\n",
              "    .dataframe thead th {\n",
              "        text-align: right;\n",
              "    }\n",
              "</style>\n",
              "<table border=\"1\" class=\"dataframe\">\n",
              "  <thead>\n",
              "    <tr style=\"text-align: right;\">\n",
              "      <th></th>\n",
              "      <th>ArticleID</th>\n",
              "      <th>Title</th>\n",
              "      <th>Abstract</th>\n",
              "      <th>similarity</th>\n",
              "    </tr>\n",
              "  </thead>\n",
              "  <tbody>\n",
              "    <tr>\n",
              "      <th>4934</th>\n",
              "      <td>34444471</td>\n",
              "      <td>modeling and mapping of combined noise annoyan...</td>\n",
              "      <td>complex transportation systems often produce c...</td>\n",
              "      <td>0.784695</td>\n",
              "    </tr>\n",
              "    <tr>\n",
              "      <th>3778</th>\n",
              "      <td>34243009</td>\n",
              "      <td>effects of ecological protection and restorati...</td>\n",
              "      <td>traditional lake phytoplankton diversity studi...</td>\n",
              "      <td>0.784558</td>\n",
              "    </tr>\n",
              "    <tr>\n",
              "      <th>1487</th>\n",
              "      <td>34411111</td>\n",
              "      <td>a new neutrosophic sign test: an application t...</td>\n",
              "      <td>the sign test is a famous nonparametric test f...</td>\n",
              "      <td>NaN</td>\n",
              "    </tr>\n",
              "    <tr>\n",
              "      <th>2385</th>\n",
              "      <td>34613975</td>\n",
              "      <td>no effect of 'watching eyes': an attempted rep...</td>\n",
              "      <td>some evidence suggests that people behave more...</td>\n",
              "      <td>0.784277</td>\n",
              "    </tr>\n",
              "    <tr>\n",
              "      <th>4569</th>\n",
              "      <td>34380095</td>\n",
              "      <td>budget of riverine nitrogen over the east chin...</td>\n",
              "      <td>riverine nitrogen loading to the continental s...</td>\n",
              "      <td>0.784214</td>\n",
              "    </tr>\n",
              "    <tr>\n",
              "      <th>1126</th>\n",
              "      <td>34351932</td>\n",
              "      <td>non-territorial gps-tagged golden eagles aquil...</td>\n",
              "      <td>wind farms can have two broad potential advers...</td>\n",
              "      <td>0.784022</td>\n",
              "    </tr>\n",
              "    <tr>\n",
              "      <th>2766</th>\n",
              "      <td>34706043</td>\n",
              "      <td>cross-cultural adaptation and psychometric pro...</td>\n",
              "      <td>translate and culturally adapt the short versi...</td>\n",
              "      <td>NaN</td>\n",
              "    </tr>\n",
              "    <tr>\n",
              "      <th>2007</th>\n",
              "      <td>34521002</td>\n",
              "      <td>exploring the relationship between production ...</td>\n",
              "      <td>shrimp are one of the fastest growing commodit...</td>\n",
              "      <td>NaN</td>\n",
              "    </tr>\n",
              "  </tbody>\n",
              "</table>\n",
              "</div>\n",
              "      <button class=\"colab-df-convert\" onclick=\"convertToInteractive('df-5b0cb90e-52da-43a2-a665-01b3ca10fd9d')\"\n",
              "              title=\"Convert this dataframe to an interactive table.\"\n",
              "              style=\"display:none;\">\n",
              "        \n",
              "  <svg xmlns=\"http://www.w3.org/2000/svg\" height=\"24px\"viewBox=\"0 0 24 24\"\n",
              "       width=\"24px\">\n",
              "    <path d=\"M0 0h24v24H0V0z\" fill=\"none\"/>\n",
              "    <path d=\"M18.56 5.44l.94 2.06.94-2.06 2.06-.94-2.06-.94-.94-2.06-.94 2.06-2.06.94zm-11 1L8.5 8.5l.94-2.06 2.06-.94-2.06-.94L8.5 2.5l-.94 2.06-2.06.94zm10 10l.94 2.06.94-2.06 2.06-.94-2.06-.94-.94-2.06-.94 2.06-2.06.94z\"/><path d=\"M17.41 7.96l-1.37-1.37c-.4-.4-.92-.59-1.43-.59-.52 0-1.04.2-1.43.59L10.3 9.45l-7.72 7.72c-.78.78-.78 2.05 0 2.83L4 21.41c.39.39.9.59 1.41.59.51 0 1.02-.2 1.41-.59l7.78-7.78 2.81-2.81c.8-.78.8-2.07 0-2.86zM5.41 20L4 18.59l7.72-7.72 1.47 1.35L5.41 20z\"/>\n",
              "  </svg>\n",
              "      </button>\n",
              "      \n",
              "  <style>\n",
              "    .colab-df-container {\n",
              "      display:flex;\n",
              "      flex-wrap:wrap;\n",
              "      gap: 12px;\n",
              "    }\n",
              "\n",
              "    .colab-df-convert {\n",
              "      background-color: #E8F0FE;\n",
              "      border: none;\n",
              "      border-radius: 50%;\n",
              "      cursor: pointer;\n",
              "      display: none;\n",
              "      fill: #1967D2;\n",
              "      height: 32px;\n",
              "      padding: 0 0 0 0;\n",
              "      width: 32px;\n",
              "    }\n",
              "\n",
              "    .colab-df-convert:hover {\n",
              "      background-color: #E2EBFA;\n",
              "      box-shadow: 0px 1px 2px rgba(60, 64, 67, 0.3), 0px 1px 3px 1px rgba(60, 64, 67, 0.15);\n",
              "      fill: #174EA6;\n",
              "    }\n",
              "\n",
              "    [theme=dark] .colab-df-convert {\n",
              "      background-color: #3B4455;\n",
              "      fill: #D2E3FC;\n",
              "    }\n",
              "\n",
              "    [theme=dark] .colab-df-convert:hover {\n",
              "      background-color: #434B5C;\n",
              "      box-shadow: 0px 1px 3px 1px rgba(0, 0, 0, 0.15);\n",
              "      filter: drop-shadow(0px 1px 2px rgba(0, 0, 0, 0.3));\n",
              "      fill: #FFFFFF;\n",
              "    }\n",
              "  </style>\n",
              "\n",
              "      <script>\n",
              "        const buttonEl =\n",
              "          document.querySelector('#df-5b0cb90e-52da-43a2-a665-01b3ca10fd9d button.colab-df-convert');\n",
              "        buttonEl.style.display =\n",
              "          google.colab.kernel.accessAllowed ? 'block' : 'none';\n",
              "\n",
              "        async function convertToInteractive(key) {\n",
              "          const element = document.querySelector('#df-5b0cb90e-52da-43a2-a665-01b3ca10fd9d');\n",
              "          const dataTable =\n",
              "            await google.colab.kernel.invokeFunction('convertToInteractive',\n",
              "                                                     [key], {});\n",
              "          if (!dataTable) return;\n",
              "\n",
              "          const docLinkHtml = 'Like what you see? Visit the ' +\n",
              "            '<a target=\"_blank\" href=https://colab.research.google.com/notebooks/data_table.ipynb>data table notebook</a>'\n",
              "            + ' to learn more about interactive tables.';\n",
              "          element.innerHTML = '';\n",
              "          dataTable['output_type'] = 'display_data';\n",
              "          await google.colab.output.renderOutput(dataTable, element);\n",
              "          const docLink = document.createElement('div');\n",
              "          docLink.innerHTML = docLinkHtml;\n",
              "          element.appendChild(docLink);\n",
              "        }\n",
              "      </script>\n",
              "    </div>\n",
              "  </div>\n",
              "  "
            ]
          },
          "metadata": {},
          "execution_count": 110
        }
      ]
    },
    {
      "cell_type": "markdown",
      "source": [
        "#### Implementing a function to get the nearest topics same idea as **KNN**"
      ],
      "metadata": {
        "id": "S6ZfPysY-V5K"
      },
      "id": "S6ZfPysY-V5K"
    },
    {
      "cell_type": "markdown",
      "source": [
        "**Using Jensen–Shannon as it the most optimal one with no NaNs and using it in the KND \"K Nearest Docs\" function below**"
      ],
      "metadata": {
        "id": "0wFhDIA3-BHt"
      },
      "id": "0wFhDIA3-BHt"
    },
    {
      "cell_type": "code",
      "source": [
        "def get_k_nearest_docs(doc_dist, k=5, get_dist=False):\n",
        "    '''\n",
        "    doc_dist: topic distribution (sums to 1) of one article\n",
        "    \n",
        "    Returns the index of the k nearest articles (as by Jensen–Shannon divergence in topic space). \n",
        "    '''\n",
        "    temp = doc_topic_dist     \n",
        "    distances = temp.apply(lambda x: jensenshannon(x, doc_dist), axis=1)\n",
        "    k_nearest = distances[distances != 0].nsmallest(n=k).index\n",
        "    \n",
        "    if get_dist:\n",
        "        k_distances = distances[distances != 0].nsmallest(n=k)\n",
        "        return k_nearest, k_distances\n",
        "    else:\n",
        "        return k_nearest"
      ],
      "metadata": {
        "id": "7A1Jn4GujSqM"
      },
      "id": "7A1Jn4GujSqM",
      "execution_count": 90,
      "outputs": []
    },
    {
      "cell_type": "markdown",
      "source": [
        "**Implementing a function to return the desired number of the articles based on the nearest probability.**"
      ],
      "metadata": {
        "id": "hWroxDZV-nfR"
      },
      "id": "hWroxDZV-nfR"
    },
    {
      "cell_type": "code",
      "source": [
        "def recommendation(paper_id, k=5):\n",
        "    '''\n",
        "    Returns the title of the k papers that are closest (topic-wise) to the paper given by paper_id.\n",
        "    '''\n",
        "    \n",
        "    print(dff.Abstract[dff.ArticleID == paper_id].values[0])\n",
        "\n",
        "    recommended, dist = get_k_nearest_docs(doc_topic_dist[dff.ArticleID == paper_id].iloc[0], k, get_dist=True)\n",
        "    recommended = dff.iloc[recommended].copy()\n",
        "    recommended['similarity'] = 1 - dist \n",
        "    \n",
        "    h = '<br/>'.join(['<a target=\"_blank\">'+ n + '</a>' +' (Similarity: ' + \"{:.2f}\".format(s) + ')' for n, s in recommended[['Title', 'similarity']].values])\n",
        "    display(HTML(h))\n",
        "    "
      ],
      "metadata": {
        "id": "IkyqJcrYj7sS"
      },
      "id": "IkyqJcrYj7sS",
      "execution_count": 91,
      "outputs": []
    },
    {
      "cell_type": "markdown",
      "source": [
        "**Testing for any article based on the ArticleID as shown below:**"
      ],
      "metadata": {
        "id": "XpbGwunU_Gq_"
      },
      "id": "XpbGwunU_Gq_"
    },
    {
      "cell_type": "code",
      "source": [
        "recommendation(34153941, k=3)"
      ],
      "metadata": {
        "colab": {
          "base_uri": "https://localhost:8080/",
          "height": 124
        },
        "id": "jeK_76YGj7k9",
        "outputId": "7d58a7d8-b7f8-4485-9f7b-38861e7dcd0c"
      },
      "id": "jeK_76YGj7k9",
      "execution_count": 120,
      "outputs": [
        {
          "output_type": "stream",
          "name": "stdout",
          "text": [
            "coordination variability (cv) is commonly analyzed to understand dynamical qualities of human locomotion. the purpose of this study was to develop guidelines for the number of trials required to inform the calculation of a stable mean lower limb cv during overground locomotion. three-dimensional lower limb kinematics were captured for 10 recreational runners performing 20 trials each of preferred and fixed speed walking and running. stance phase cv was calculated for 9 segment and joint couplings using a modified vector coding technique. the number of trials required to achieve a cv mean within 10% of 20 strides average was determined for each coupling and individual. the statistical outputs of mode (walking vs running) and speed (preferred vs fixed) were compared when informed by differing numbers of trials. a minimum of 11 trials were required for stable mean stance phase cv. with fewer than 11 trials, cv was underestimated and led to an oversight of significant differences between mode and speed. future overground locomotion cv research in healthy populations using a vector coding approach should use 11 trials as a standard minimum. researchers should be aware of the notable consequences of an insufficient number of trials for overall study findings.\n"
          ]
        },
        {
          "output_type": "display_data",
          "data": {
            "text/plain": [
              "<IPython.core.display.HTML object>"
            ],
            "text/html": [
              "<a target=\"_blank\">demonstration of central conduction time and neuroplastic changes after cervical lordosis rehabilitation in asymptomatic subjects: a randomized, placebo-controlled trial.</a> (Similarity: 0.79)<br/><a target=\"_blank\">validation of the multidimensional assessment of interoceptive awareness (maia-2) questionnaire in hospitalized patients with major depressive disorder.</a> (Similarity: 0.79)<br/><a target=\"_blank\">modeling and mapping of combined noise annoyance for aircraft and road traffic based on a partial loudness model.</a> (Similarity: 0.78)"
            ]
          },
          "metadata": {}
        }
      ]
    },
    {
      "cell_type": "code",
      "execution_count": 18,
      "metadata": {
        "colab": {
          "base_uri": "https://localhost:8080/"
        },
        "id": "e3ebd705",
        "outputId": "e40ac64e-21b9-4e75-a629-f19f33b142fb"
      },
      "outputs": [
        {
          "output_type": "stream",
          "name": "stdout",
          "text": [
            "[nltk_data] Downloading package stopwords to /root/nltk_data...\n",
            "[nltk_data]   Package stopwords is already up-to-date!\n",
            "[nltk_data] Downloading package wordnet to /root/nltk_data...\n",
            "[nltk_data]   Package wordnet is already up-to-date!\n"
          ]
        }
      ],
      "source": [
        "# Libraries for text preprocessing\n",
        "import re\n",
        "import nltk\n",
        "nltk.download('stopwords')\n",
        "from nltk.corpus import stopwords\n",
        "from nltk.stem.porter import PorterStemmer\n",
        "from nltk.tokenize import RegexpTokenizer\n",
        "nltk.download('wordnet') \n",
        "from nltk.stem.wordnet import WordNetLemmatizer\n",
        "#nltk.download('punkt')"
      ],
      "id": "e3ebd705"
    },
    {
      "cell_type": "code",
      "execution_count": 19,
      "metadata": {
        "id": "dd1c8ae0"
      },
      "outputs": [],
      "source": [
        "## Preprocessing def\n",
        "##Stemming\n",
        "ps=PorterStemmer()\n",
        "#Lemmatisation\n",
        "lem = WordNetLemmatizer()\n",
        "\n",
        "def preprocess(data, action):\n",
        "  corpus = []\n",
        "  for i in range(0, len(data)):\n",
        "    #Remove punctuations\n",
        "    text = re.sub('[^a-zA-Z]', ' ', data['Abstract'][i])\n",
        "    \n",
        "    #remove tags\n",
        "    text=re.sub(\"&lt;/?.*?&gt;\",\" &lt;&gt; \",text)\n",
        "    \n",
        "    # remove special characters and digits\n",
        "    text=re.sub(\"(\\\\d|\\\\W)+\",\" \",text)\n",
        "    \n",
        "    ##Convert to list from string\n",
        "    text = text.split()\n",
        "    if action == 0:\n",
        "      text = [ps.stem(word) for word in text if not word in  \n",
        "              stopwords.words('english')]\n",
        "      text = \" \".join(text)\n",
        "      corpus.append(text)\n",
        "    else:\n",
        "      text = [lem.lemmatize(word) for word in text if not word in  \n",
        "              stopwords.words('english')]\n",
        "      text = \" \".join(text)\n",
        "      corpus.append(text)\n",
        "\n",
        "  return corpus"
      ],
      "id": "dd1c8ae0"
    },
    {
      "cell_type": "code",
      "execution_count": null,
      "metadata": {
        "colab": {
          "base_uri": "https://localhost:8080/",
          "height": 122
        },
        "id": "srCorvTT1O7R",
        "outputId": "80dbce33-5716-436f-8b83-e94b63090ca1"
      },
      "outputs": [
        {
          "data": {
            "application/vnd.google.colaboratory.intrinsic+json": {
              "type": "string"
            },
            "text/plain": [
              "'coordin variabl cv commonli analyz understand dynam qualiti human locomot purpos studi develop guidelin number trial requir inform calcul stabl mean lower limb cv overground locomot three dimension lower limb kinemat captur recreat runner perform trial prefer fix speed walk run stanc phase cv calcul segment joint coupl use modifi vector code techniqu number trial requir achiev cv mean within stride averag determin coupl individu statist output mode walk vs run speed prefer vs fix compar inform differ number trial minimum trial requir stabl mean stanc phase cv fewer trial cv underestim led oversight signific differ mode speed futur overground locomot cv research healthi popul use vector code approach use trial standard minimum research awar notabl consequ insuffici number trial overal studi find'"
            ]
          },
          "execution_count": 46,
          "metadata": {},
          "output_type": "execute_result"
        }
      ],
      "source": [
        "## Sample of Stemming\n",
        "s_corpus = preprocess(dff, 0)\n",
        "s_corpus[0]"
      ],
      "id": "srCorvTT1O7R"
    },
    {
      "cell_type": "code",
      "execution_count": 20,
      "metadata": {
        "colab": {
          "base_uri": "https://localhost:8080/",
          "height": 140
        },
        "id": "c8df0a69",
        "outputId": "2dc0abe1-573b-4d9a-ceb0-a347d1199b42"
      },
      "outputs": [
        {
          "output_type": "execute_result",
          "data": {
            "text/plain": [
              "'clinical scenario dynamic knee valgus dkv mechanical alteration knee lead increased risk injury weakness hip musculature hip abduction habd extension hext external rotation may contribute increased dkv single leg landing task focused clinical question decreased hip strength associated increase dkv single leg landing task collegiate female athlete summary key finding three study included one randomized control trial rct one cohort study one case control three study found decrease habd strength contributed increased dkv single leg landing task one study also found hip extensor contribute controlling hip adduction common factor many mechanism injury three study recommended strengthening habd hext decrease dkv reduce risk injury knee clinical bottom line weak habd hext contribute increased dkv college female athlete strengthening habd hext lead decrease dkv overall reduce risk injury knee strength recommendation article graded level evidence iii higher giving grade b strength recommendation weak habd hext associated increased dkv collegiate female athlete'"
            ],
            "application/vnd.google.colaboratory.intrinsic+json": {
              "type": "string"
            }
          },
          "metadata": {},
          "execution_count": 20
        }
      ],
      "source": [
        "## Sample of Lemmatizing\n",
        "corpus = preprocess(dff, 1)\n",
        "corpus[0]"
      ],
      "id": "c8df0a69"
    },
    {
      "cell_type": "code",
      "execution_count": null,
      "metadata": {
        "id": "4XjO7SXZQjVy"
      },
      "outputs": [],
      "source": [
        "from sklearn.feature_extraction.text import CountVectorizer\n",
        "cv = CountVectorizer()\n",
        "X = cv.fit_transform(corpus).toarray()"
      ],
      "id": "4XjO7SXZQjVy"
    },
    {
      "cell_type": "code",
      "execution_count": null,
      "metadata": {
        "colab": {
          "base_uri": "https://localhost:8080/"
        },
        "id": "l4XTbkyERkl3",
        "outputId": "d174c973-db7f-4c04-b704-2c7f796b8cea"
      },
      "outputs": [
        {
          "data": {
            "text/plain": [
              "35667"
            ]
          },
          "execution_count": 68,
          "metadata": {},
          "output_type": "execute_result"
        }
      ],
      "source": [
        "## This is the number of words in all of the Abstract column\n",
        "len(X[0])"
      ],
      "id": "l4XTbkyERkl3"
    },
    {
      "cell_type": "code",
      "execution_count": null,
      "metadata": {
        "colab": {
          "base_uri": "https://localhost:8080/"
        },
        "id": "55178874",
        "outputId": "c99ef672-bd79-4ff5-861b-a6623bb97de5"
      },
      "outputs": [
        {
          "data": {
            "text/plain": [
              "array([[0, 0, 0, ..., 0, 0, 0],\n",
              "       [0, 0, 0, ..., 0, 0, 0],\n",
              "       [0, 0, 0, ..., 0, 0, 0],\n",
              "       ...,\n",
              "       [0, 0, 0, ..., 0, 0, 0],\n",
              "       [0, 0, 0, ..., 0, 0, 0],\n",
              "       [0, 0, 0, ..., 0, 0, 0]])"
            ]
          },
          "execution_count": 69,
          "metadata": {},
          "output_type": "execute_result"
        }
      ],
      "source": [
        "# Creating the Bag of Words model\n",
        "from sklearn.feature_extraction.text import CountVectorizer\n",
        "cv = CountVectorizer(max_features = 5000)\n",
        "X = cv.fit_transform(corpus).toarray()\n",
        "X"
      ],
      "id": "55178874"
    },
    {
      "cell_type": "code",
      "execution_count": null,
      "metadata": {
        "id": "06d32a3b",
        "outputId": "26386dc9-6bd4-4e63-8e1e-08279f9893fd"
      },
      "outputs": [
        {
          "data": {
            "text/plain": [
              "<function sklearn.datasets._twenty_newsgroups.fetch_20newsgroups(*, data_home=None, subset='train', categories=None, shuffle=True, random_state=42, remove=(), download_if_missing=True, return_X_y=False)>"
            ]
          },
          "execution_count": 55,
          "metadata": {},
          "output_type": "execute_result"
        }
      ],
      "source": [
        "from sklearn.datasets import fetch_20newsgroups\n",
        "fetch_20newsgroups"
      ],
      "id": "06d32a3b"
    },
    {
      "cell_type": "code",
      "execution_count": null,
      "metadata": {
        "id": "340f51cc",
        "outputId": "10604eac-2110-471a-e3fe-da074c7f35df"
      },
      "outputs": [
        {
          "ename": "AttributeError",
          "evalue": "'function' object has no attribute 'target_names'",
          "output_type": "error",
          "traceback": [
            "\u001b[1;31m---------------------------------------------------------------------------\u001b[0m",
            "\u001b[1;31mAttributeError\u001b[0m                            Traceback (most recent call last)",
            "\u001b[1;32m~\\AppData\\Local\\Temp/ipykernel_17272/3811136344.py\u001b[0m in \u001b[0;36m<module>\u001b[1;34m\u001b[0m\n\u001b[1;32m----> 1\u001b[1;33m \u001b[0mprint\u001b[0m\u001b[1;33m(\u001b[0m\u001b[0mlist\u001b[0m\u001b[1;33m(\u001b[0m\u001b[0mfetch_20newsgroups\u001b[0m\u001b[1;33m.\u001b[0m\u001b[0mtarget_names\u001b[0m\u001b[1;33m)\u001b[0m\u001b[1;33m)\u001b[0m\u001b[1;33m\u001b[0m\u001b[1;33m\u001b[0m\u001b[0m\n\u001b[0m",
            "\u001b[1;31mAttributeError\u001b[0m: 'function' object has no attribute 'target_names'"
          ]
        }
      ],
      "source": [
        "print(list(fetch_20newsgroups.target_names))"
      ],
      "id": "340f51cc"
    },
    {
      "cell_type": "code",
      "execution_count": 22,
      "metadata": {
        "id": "fb8b171f"
      },
      "outputs": [],
      "source": [
        "import gensim\n",
        "from gensim.utils import simple_preprocess\n",
        "from gensim.parsing.preprocessing import STOPWORDS\n",
        "from nltk.stem import WordNetLemmatizer, SnowballStemmer"
      ],
      "id": "fb8b171f"
    },
    {
      "cell_type": "code",
      "execution_count": 23,
      "metadata": {
        "id": "ABVPXzcuF1Kb"
      },
      "outputs": [],
      "source": [
        "stemmer = SnowballStemmer(\"english\")"
      ],
      "id": "ABVPXzcuF1Kb"
    },
    {
      "cell_type": "code",
      "source": [
        "def lemmatize_stemming(text):\n",
        "    return stemmer.stem(WordNetLemmatizer().lemmatize(text, pos='v'))\n",
        "\n",
        "# Tokenize and lemmatize\n",
        "def preprocess(text):\n",
        "    result=[]\n",
        "    for token in gensim.utils.simple_preprocess(text) :\n",
        "        if token not in gensim.parsing.preprocessing.STOPWORDS and len(token) > 3:\n",
        "            result.append(lemmatize_stemming(token))\n",
        "            \n",
        "    return result"
      ],
      "metadata": {
        "id": "mvVheUIkStkU"
      },
      "id": "mvVheUIkStkU",
      "execution_count": 25,
      "outputs": []
    },
    {
      "cell_type": "code",
      "execution_count": 26,
      "metadata": {
        "id": "4jgZVnaYF5EJ"
      },
      "outputs": [],
      "source": [
        "processed_docs = []\n",
        "\n",
        "for doc in corpus:\n",
        "    processed_docs.append(preprocess(doc))"
      ],
      "id": "4jgZVnaYF5EJ"
    },
    {
      "cell_type": "code",
      "source": [
        "print(processed_docs[0])"
      ],
      "metadata": {
        "colab": {
          "base_uri": "https://localhost:8080/"
        },
        "id": "cAx_Ft5XSlO8",
        "outputId": "3baef998-9535-4840-fba4-b47e94c475e5"
      },
      "id": "cAx_Ft5XSlO8",
      "execution_count": 34,
      "outputs": [
        {
          "output_type": "stream",
          "name": "stdout",
          "text": [
            "['coordin', 'variabl', 'common', 'analyz', 'understand', 'dynam', 'qualiti', 'human', 'locomot', 'purpos', 'studi', 'develop', 'guidelin', 'number', 'trial', 'requir', 'inform', 'calcul', 'stabl', 'mean', 'lower', 'limb', 'overground', 'locomot', 'dimension', 'lower', 'limb', 'kinemat', 'captur', 'recreat', 'runner', 'perform', 'trial', 'prefer', 'fix', 'speed', 'walk', 'run', 'stanc', 'phase', 'calcul', 'segment', 'joint', 'coupl', 'modifi', 'vector', 'cod', 'techniqu', 'number', 'trial', 'requir', 'achiev', 'mean', 'stride', 'averag', 'determin', 'coupl', 'individu', 'statist', 'output', 'mode', 'walk', 'run', 'speed', 'prefer', 'fix', 'compar', 'inform', 'differ', 'number', 'trial', 'minimum', 'trial', 'requir', 'stabl', 'mean', 'stanc', 'phase', 'fewer', 'trial', 'underestim', 'oversight', 'signific', 'differ', 'mode', 'speed', 'futur', 'overground', 'locomot', 'research', 'healthi', 'popul', 'vector', 'cod', 'approach', 'trial', 'standard', 'minimum', 'research', 'awar', 'notabl', 'consequ', 'insuffici', 'number', 'trial', 'overal', 'studi', 'find']\n"
          ]
        }
      ]
    },
    {
      "cell_type": "code",
      "source": [
        "dictionary = gensim.corpora.Dictionary(processed_docs)"
      ],
      "metadata": {
        "id": "9M72ClRAS0bp"
      },
      "id": "9M72ClRAS0bp",
      "execution_count": 32,
      "outputs": []
    },
    {
      "cell_type": "code",
      "source": [
        "count = 0\n",
        "for k, v in dictionary.iteritems():\n",
        "    print(k, v)\n",
        "    count += 1\n",
        "    if count > 10:\n",
        "        break"
      ],
      "metadata": {
        "colab": {
          "base_uri": "https://localhost:8080/"
        },
        "id": "vEVQcRUjS-zu",
        "outputId": "1b806978-e4f5-4c56-f9db-43fbe55bba66"
      },
      "id": "vEVQcRUjS-zu",
      "execution_count": 36,
      "outputs": [
        {
          "output_type": "stream",
          "name": "stdout",
          "text": [
            "0 achiev\n",
            "1 averag\n",
            "2 awar\n",
            "3 calcul\n",
            "4 captur\n",
            "5 cod\n",
            "6 consequ\n",
            "7 coordin\n",
            "8 coupl\n",
            "9 dimension\n",
            "10 dynam\n"
          ]
        }
      ]
    },
    {
      "cell_type": "code",
      "source": [
        "dictionary.filter_extremes(no_below=15, no_above=0.1, keep_n= 100000)"
      ],
      "metadata": {
        "id": "E33b8x5-TA8F"
      },
      "id": "E33b8x5-TA8F",
      "execution_count": 37,
      "outputs": []
    },
    {
      "cell_type": "code",
      "source": [
        "bow_corpus = [dictionary.doc2bow(doc) for doc in processed_docs]"
      ],
      "metadata": {
        "id": "fW6p8OC9TPFW"
      },
      "id": "fW6p8OC9TPFW",
      "execution_count": 38,
      "outputs": []
    },
    {
      "cell_type": "code",
      "source": [
        "document_num = 1\n",
        "bow_doc_x = bow_corpus[document_num]\n",
        "\n",
        "for i in range(len(bow_doc_x)):\n",
        "    print(\"Word {} (\\\"{}\\\") appears {} time.\".format(bow_doc_x[i][0], \n",
        "                                                     dictionary[bow_doc_x[i][0]], \n",
        "                                                     bow_doc_x[i][1]))"
      ],
      "metadata": {
        "colab": {
          "base_uri": "https://localhost:8080/"
        },
        "id": "jvHm5EmkTUyG",
        "outputId": "808e1ef1-3e15-4ecb-aef6-25f99284fa92"
      },
      "id": "jvHm5EmkTUyG",
      "execution_count": 40,
      "outputs": [
        {
          "output_type": "stream",
          "name": "stdout",
          "text": [
            "Word 10 (\"dynam\") appears 1 time.\n",
            "Word 26 (\"overal\") appears 1 time.\n",
            "Word 37 (\"trial\") appears 1 time.\n",
            "Word 42 (\"alter\") appears 1 time.\n",
            "Word 43 (\"articl\") appears 1 time.\n",
            "Word 44 (\"cohort\") appears 1 time.\n",
            "Word 45 (\"colleg\") appears 1 time.\n",
            "Word 46 (\"contribut\") appears 4 time.\n",
            "Word 47 (\"decreas\") appears 4 time.\n",
            "Word 48 (\"extens\") appears 1 time.\n",
            "Word 49 (\"extern\") appears 1 time.\n",
            "Word 50 (\"femal\") appears 3 time.\n",
            "Word 51 (\"focus\") appears 1 time.\n",
            "Word 52 (\"give\") appears 1 time.\n",
            "Word 53 (\"grade\") appears 2 time.\n",
            "Word 54 (\"injuri\") appears 4 time.\n",
            "Word 55 (\"knee\") appears 4 time.\n",
            "Word 56 (\"land\") appears 3 time.\n",
            "Word 57 (\"lead\") appears 2 time.\n",
            "Word 58 (\"line\") appears 1 time.\n",
            "Word 59 (\"question\") appears 1 time.\n",
            "Word 60 (\"random\") appears 1 time.\n",
            "Word 61 (\"recommend\") appears 3 time.\n",
            "Word 62 (\"rotat\") appears 1 time.\n",
            "Word 63 (\"scenario\") appears 1 time.\n",
            "Word 64 (\"singl\") appears 3 time.\n",
            "Word 65 (\"strength\") appears 4 time.\n",
            "Word 66 (\"strengthen\") appears 2 time.\n",
            "Word 67 (\"summari\") appears 1 time.\n",
            "Word 68 (\"task\") appears 3 time.\n",
            "Word 69 (\"weak\") appears 3 time.\n"
          ]
        }
      ]
    },
    {
      "cell_type": "code",
      "source": [
        "lda_model =  gensim.models.LdaMulticore(bow_corpus, \n",
        "                                   num_topics = 8, \n",
        "                                   id2word = dictionary,                                    \n",
        "                                   passes = 10,\n",
        "                                   workers = 2)"
      ],
      "metadata": {
        "id": "coexGNWfTYG2"
      },
      "id": "coexGNWfTYG2",
      "execution_count": 41,
      "outputs": []
    },
    {
      "cell_type": "code",
      "source": [
        "for idx, topic in lda_model.print_topics(-1):\n",
        "    print(\"Topic: {} \\nWords: {}\".format(idx, topic ))\n",
        "    print(\"\\n\")"
      ],
      "metadata": {
        "colab": {
          "base_uri": "https://localhost:8080/"
        },
        "id": "9-e2CtADToWk",
        "outputId": "23809394-c654-4f32-ec19-014d7c54e7c2"
      },
      "id": "9-e2CtADToWk",
      "execution_count": 42,
      "outputs": [
        {
          "output_type": "stream",
          "name": "stdout",
          "text": [
            "Topic: 0 \n",
            "Words: 0.012*\"month\" + 0.012*\"score\" + 0.009*\"cognit\" + 0.009*\"mortal\" + 0.009*\"week\" + 0.009*\"sever\" + 0.008*\"cohort\" + 0.007*\"receiv\" + 0.007*\"therapi\" + 0.007*\"baselin\"\n",
            "\n",
            "\n",
            "Topic: 1 \n",
            "Words: 0.019*\"protein\" + 0.014*\"express\" + 0.011*\"cancer\" + 0.009*\"infect\" + 0.009*\"gene\" + 0.008*\"drug\" + 0.008*\"induc\" + 0.008*\"sar\" + 0.007*\"immun\" + 0.007*\"regul\"\n",
            "\n",
            "\n",
            "Topic: 2 \n",
            "Words: 0.009*\"predict\" + 0.009*\"network\" + 0.008*\"imag\" + 0.008*\"propos\" + 0.006*\"applic\" + 0.006*\"brain\" + 0.005*\"task\" + 0.005*\"fatigu\" + 0.005*\"algorithm\" + 0.005*\"featur\"\n",
            "\n",
            "\n",
            "Topic: 3 \n",
            "Words: 0.016*\"speci\" + 0.009*\"water\" + 0.008*\"gene\" + 0.008*\"product\" + 0.007*\"environment\" + 0.006*\"exposur\" + 0.006*\"acid\" + 0.006*\"plant\" + 0.006*\"concentr\" + 0.005*\"area\"\n",
            "\n",
            "\n",
            "Topic: 4 \n",
            "Words: 0.023*\"vaccin\" + 0.016*\"student\" + 0.015*\"nurs\" + 0.010*\"pain\" + 0.009*\"social\" + 0.008*\"adolesc\" + 0.008*\"educ\" + 0.008*\"emot\" + 0.008*\"child\" + 0.008*\"dental\"\n",
            "\n",
            "\n",
            "Topic: 5 \n",
            "Words: 0.009*\"surgeri\" + 0.008*\"tissu\" + 0.008*\"surgic\" + 0.008*\"diagnosi\" + 0.008*\"cancer\" + 0.007*\"implant\" + 0.007*\"imag\" + 0.007*\"complic\" + 0.006*\"tumor\" + 0.006*\"lesion\"\n",
            "\n",
            "\n",
            "Topic: 6 \n",
            "Words: 0.013*\"child\" + 0.010*\"intervent\" + 0.009*\"woman\" + 0.008*\"servic\" + 0.006*\"cost\" + 0.006*\"screen\" + 0.006*\"primari\" + 0.006*\"design\" + 0.006*\"manag\" + 0.006*\"medic\"\n",
            "\n",
            "\n",
            "Topic: 7 \n",
            "Words: 0.013*\"pandem\" + 0.011*\"mental\" + 0.009*\"symptom\" + 0.009*\"depress\" + 0.009*\"preval\" + 0.009*\"stress\" + 0.008*\"peopl\" + 0.008*\"social\" + 0.008*\"infect\" + 0.006*\"physic\"\n",
            "\n",
            "\n"
          ]
        }
      ]
    },
    {
      "cell_type": "code",
      "source": [
        ""
      ],
      "metadata": {
        "id": "IGKvpcyRT9lD"
      },
      "id": "IGKvpcyRT9lD",
      "execution_count": null,
      "outputs": []
    }
  ],
  "metadata": {
    "colab": {
      "collapsed_sections": [
        "9a557cc3",
        "de1a724d",
        "b6af2b5d",
        "qJ7333lf8w2O",
        "g0LJ7Nwv9O9_",
        "ek-yTXCx9es_",
        "zbv0BOE69x70",
        "TcD79PNq9666"
      ],
      "name": "MinaPharm ML.ipynb",
      "provenance": [],
      "include_colab_link": true
    },
    "kernelspec": {
      "display_name": "Python 3 (ipykernel)",
      "language": "python",
      "name": "python3"
    },
    "language_info": {
      "codemirror_mode": {
        "name": "ipython",
        "version": 3
      },
      "file_extension": ".py",
      "mimetype": "text/x-python",
      "name": "python",
      "nbconvert_exporter": "python",
      "pygments_lexer": "ipython3",
      "version": "3.9.7"
    }
  },
  "nbformat": 4,
  "nbformat_minor": 5
}
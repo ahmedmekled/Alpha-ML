{
  "cells": [
    {
      "cell_type": "markdown",
      "metadata": {
        "id": "view-in-github",
        "colab_type": "text"
      },
      "source": [
        "<a href=\"https://colab.research.google.com/github/ahmedmekled/Alpha-ML/blob/main/Alpha-ML.ipynb\" target=\"_parent\"><img src=\"https://colab.research.google.com/assets/colab-badge.svg\" alt=\"Open In Colab\"/></a>"
      ]
    },
    {
      "cell_type": "markdown",
      "metadata": {
        "id": "37629fc2"
      },
      "source": [
        "<h2> Minapharm ML Engineer Technical Assesment:</h2> \n",
        "\n",
        "<h4>Objective:</h4>\n",
        "You are provided with a medical related dataset, containing 5k articles. You are required to demonstrate your NLP, data-mining & topic extraction skills to extract the topics that are included within the dataset along with mapping each article to the corresponding topic names. Each document should be matched to the top three most relevant topic names including the matching probability score.\n",
        "Kindly, mention how you came up with the optimum number of topics extracted and a final evaluation statement of your work.\n"
      ],
      "id": "37629fc2"
    },
    {
      "cell_type": "markdown",
      "metadata": {
        "id": "b9d56de1"
      },
      "source": [
        "<h4>Requirements:</h4>\n",
        "\n",
        "   - It is recommended to use Python/R + LDA for topic name extraction. If you use other technology, you must mention your reasoning for your choice.   \n",
        "\n",
        "   - Document your code and communicate your overall evaluation of the problem at hand   \n",
        "   - You are expected to include along with your solution a report explaining:   \n",
        "   \n",
        "      - Tools used\n",
        "      - All performed steps, reasoning and outcomes\n",
        "      - How you can further improve the results\n",
        "      - How to further clean & optimize the data-sets to improve the performance of the LDA algorithm\n",
        "      - Metrics used or to use if any to measure/ improve quality of results?\n"
      ],
      "id": "b9d56de1"
    },
    {
      "cell_type": "markdown",
      "metadata": {
        "id": "c213ac00"
      },
      "source": [
        "<h2>Dataset:</h2>\n",
        "\n",
        "[Pubmed5k.rar](https://www.minapharm.com/gShare/Pubmed5k.rar)"
      ],
      "id": "c213ac00"
    },
    {
      "cell_type": "markdown",
      "source": [
        "<h2>Table of content</h2>\n",
        "<div style=\"margin-top: 20px\">\n",
        "<ul>\n",
        "    <li>Data Preprocessing\n",
        "        <ul>\n",
        "            <li>Importing basic Libraries</li>\n",
        "            <li>Reading the data</li>\n",
        "            <li>Data filtering & cleaning</li>\n",
        "        </ul>\n",
        "    </li>\n",
        "    <li>NLP Phase\n",
        "        <ul>\n",
        "            <li>Using TF-IDF</li>\n",
        "            <li>Using Doc2Vec</li>\n",
        "            <li>Using LDA</li>\n",
        "        </ul>\n",
        "    </li>\n",
        "\n",
        "    \n",
        "    \n",
        "  <li>Future Work\n",
        "      <ul>\n",
        "            <li>How to further clean & optimize the data-sets?</li>\n",
        "            <li>How you can further improve the results?</li>\n",
        "      </ul>\n",
        "\n",
        "  </li>\n",
        "\n",
        "\n",
        "</ul>\n",
        "    \n",
        "</div>\n",
        " \n",
        "<hr>"
      ],
      "metadata": {
        "id": "1hIenQdUYgHD"
      },
      "id": "1hIenQdUYgHD"
    },
    {
      "cell_type": "markdown",
      "source": [
        "# Data Preprocessing </h1>"
      ],
      "metadata": {
        "id": "w_BwASMCYfYK"
      },
      "id": "w_BwASMCYfYK"
    },
    {
      "cell_type": "markdown",
      "metadata": {
        "id": "9a557cc3"
      },
      "source": [
        "## Importing basic Libraries"
      ],
      "id": "9a557cc3"
    },
    {
      "cell_type": "code",
      "execution_count": 1,
      "metadata": {
        "id": "9e6cc48e"
      },
      "outputs": [],
      "source": [
        "import pandas as pd\n",
        "import numpy as np\n",
        "import random\n",
        "import copy\n",
        "import matplotlib.pyplot as plt\n",
        "import seaborn as sns\n",
        "from pprint import pprint"
      ],
      "id": "9e6cc48e"
    },
    {
      "cell_type": "markdown",
      "metadata": {
        "id": "de1a724d"
      },
      "source": [
        "## Reading the data"
      ],
      "id": "de1a724d"
    },
    {
      "cell_type": "code",
      "execution_count": 2,
      "metadata": {
        "id": "v8pirAOA6PiN"
      },
      "outputs": [],
      "source": [
        "#from google.colab import drive\n",
        "#drive.mount('/content/drive')"
      ],
      "id": "v8pirAOA6PiN"
    },
    {
      "cell_type": "code",
      "execution_count": 3,
      "metadata": {
        "colab": {
          "base_uri": "https://localhost:8080/",
          "height": 0
        },
        "id": "7f1ebd6a",
        "outputId": "a3084e33-e6bf-487f-8662-f7e4f497c9c7"
      },
      "outputs": [
        {
          "output_type": "execute_result",
          "data": {
            "text/plain": [
              "      ArticleID                                              Title  \\\n",
              "0      34153941  Stable Coordination Variability in Overground ...   \n",
              "1      34153942  Weak Hip Strength Increases Dynamic Knee Valgu...   \n",
              "2      34153964  Current and Future Projections of Amyotrophic ...   \n",
              "3      34153968  Disparities between Asian and Non-Asian Thromb...   \n",
              "4      34153978  Maternal Factors Predicting Loss to Follow-Up ...   \n",
              "...         ...                                                ...   \n",
              "4994   34444567  Mind the Differences: How Diagnoses and Hospit...   \n",
              "4995   34444568  The Ethics of Dying: Deciphering Pandemic-Resu...   \n",
              "4996   34444569  Research on Adolescents Regarding the Indirect...   \n",
              "4997   34444571  Pre-Intervention Effects of a Community-Based ...   \n",
              "4998   34444572  Pharmacists' Role in Older Adults' Medication ...   \n",
              "\n",
              "                                               Abstract  \n",
              "0     Coordination variability (CV) is commonly anal...  \n",
              "1     Clinical Scenario: Dynamic knee valgus (DKV) i...  \n",
              "2     Various methodologies have been reported to as...  \n",
              "3     As outcomes for acute ischemic stroke (AIS) va...  \n",
              "4     Because hearing loss in children can result in...  \n",
              "...                                                 ...  \n",
              "4994  Integrated care pathway (ICP) is a prevailing ...  \n",
              "4995  The objective of medicine is to provide humans...  \n",
              "4996  This research involved the participation of 30...  \n",
              "4997  This study explores the impact of the 'pre-int...  \n",
              "4998  Medication regimen complexity (MRC) may influe...  \n",
              "\n",
              "[4999 rows x 3 columns]"
            ],
            "text/html": [
              "\n",
              "  <div id=\"df-ec6dc441-ba58-4497-8345-4a1792c45b63\">\n",
              "    <div class=\"colab-df-container\">\n",
              "      <div>\n",
              "<style scoped>\n",
              "    .dataframe tbody tr th:only-of-type {\n",
              "        vertical-align: middle;\n",
              "    }\n",
              "\n",
              "    .dataframe tbody tr th {\n",
              "        vertical-align: top;\n",
              "    }\n",
              "\n",
              "    .dataframe thead th {\n",
              "        text-align: right;\n",
              "    }\n",
              "</style>\n",
              "<table border=\"1\" class=\"dataframe\">\n",
              "  <thead>\n",
              "    <tr style=\"text-align: right;\">\n",
              "      <th></th>\n",
              "      <th>ArticleID</th>\n",
              "      <th>Title</th>\n",
              "      <th>Abstract</th>\n",
              "    </tr>\n",
              "  </thead>\n",
              "  <tbody>\n",
              "    <tr>\n",
              "      <th>0</th>\n",
              "      <td>34153941</td>\n",
              "      <td>Stable Coordination Variability in Overground ...</td>\n",
              "      <td>Coordination variability (CV) is commonly anal...</td>\n",
              "    </tr>\n",
              "    <tr>\n",
              "      <th>1</th>\n",
              "      <td>34153942</td>\n",
              "      <td>Weak Hip Strength Increases Dynamic Knee Valgu...</td>\n",
              "      <td>Clinical Scenario: Dynamic knee valgus (DKV) i...</td>\n",
              "    </tr>\n",
              "    <tr>\n",
              "      <th>2</th>\n",
              "      <td>34153964</td>\n",
              "      <td>Current and Future Projections of Amyotrophic ...</td>\n",
              "      <td>Various methodologies have been reported to as...</td>\n",
              "    </tr>\n",
              "    <tr>\n",
              "      <th>3</th>\n",
              "      <td>34153968</td>\n",
              "      <td>Disparities between Asian and Non-Asian Thromb...</td>\n",
              "      <td>As outcomes for acute ischemic stroke (AIS) va...</td>\n",
              "    </tr>\n",
              "    <tr>\n",
              "      <th>4</th>\n",
              "      <td>34153978</td>\n",
              "      <td>Maternal Factors Predicting Loss to Follow-Up ...</td>\n",
              "      <td>Because hearing loss in children can result in...</td>\n",
              "    </tr>\n",
              "    <tr>\n",
              "      <th>...</th>\n",
              "      <td>...</td>\n",
              "      <td>...</td>\n",
              "      <td>...</td>\n",
              "    </tr>\n",
              "    <tr>\n",
              "      <th>4994</th>\n",
              "      <td>34444567</td>\n",
              "      <td>Mind the Differences: How Diagnoses and Hospit...</td>\n",
              "      <td>Integrated care pathway (ICP) is a prevailing ...</td>\n",
              "    </tr>\n",
              "    <tr>\n",
              "      <th>4995</th>\n",
              "      <td>34444568</td>\n",
              "      <td>The Ethics of Dying: Deciphering Pandemic-Resu...</td>\n",
              "      <td>The objective of medicine is to provide humans...</td>\n",
              "    </tr>\n",
              "    <tr>\n",
              "      <th>4996</th>\n",
              "      <td>34444569</td>\n",
              "      <td>Research on Adolescents Regarding the Indirect...</td>\n",
              "      <td>This research involved the participation of 30...</td>\n",
              "    </tr>\n",
              "    <tr>\n",
              "      <th>4997</th>\n",
              "      <td>34444571</td>\n",
              "      <td>Pre-Intervention Effects of a Community-Based ...</td>\n",
              "      <td>This study explores the impact of the 'pre-int...</td>\n",
              "    </tr>\n",
              "    <tr>\n",
              "      <th>4998</th>\n",
              "      <td>34444572</td>\n",
              "      <td>Pharmacists' Role in Older Adults' Medication ...</td>\n",
              "      <td>Medication regimen complexity (MRC) may influe...</td>\n",
              "    </tr>\n",
              "  </tbody>\n",
              "</table>\n",
              "<p>4999 rows × 3 columns</p>\n",
              "</div>\n",
              "      <button class=\"colab-df-convert\" onclick=\"convertToInteractive('df-ec6dc441-ba58-4497-8345-4a1792c45b63')\"\n",
              "              title=\"Convert this dataframe to an interactive table.\"\n",
              "              style=\"display:none;\">\n",
              "        \n",
              "  <svg xmlns=\"http://www.w3.org/2000/svg\" height=\"24px\"viewBox=\"0 0 24 24\"\n",
              "       width=\"24px\">\n",
              "    <path d=\"M0 0h24v24H0V0z\" fill=\"none\"/>\n",
              "    <path d=\"M18.56 5.44l.94 2.06.94-2.06 2.06-.94-2.06-.94-.94-2.06-.94 2.06-2.06.94zm-11 1L8.5 8.5l.94-2.06 2.06-.94-2.06-.94L8.5 2.5l-.94 2.06-2.06.94zm10 10l.94 2.06.94-2.06 2.06-.94-2.06-.94-.94-2.06-.94 2.06-2.06.94z\"/><path d=\"M17.41 7.96l-1.37-1.37c-.4-.4-.92-.59-1.43-.59-.52 0-1.04.2-1.43.59L10.3 9.45l-7.72 7.72c-.78.78-.78 2.05 0 2.83L4 21.41c.39.39.9.59 1.41.59.51 0 1.02-.2 1.41-.59l7.78-7.78 2.81-2.81c.8-.78.8-2.07 0-2.86zM5.41 20L4 18.59l7.72-7.72 1.47 1.35L5.41 20z\"/>\n",
              "  </svg>\n",
              "      </button>\n",
              "      \n",
              "  <style>\n",
              "    .colab-df-container {\n",
              "      display:flex;\n",
              "      flex-wrap:wrap;\n",
              "      gap: 12px;\n",
              "    }\n",
              "\n",
              "    .colab-df-convert {\n",
              "      background-color: #E8F0FE;\n",
              "      border: none;\n",
              "      border-radius: 50%;\n",
              "      cursor: pointer;\n",
              "      display: none;\n",
              "      fill: #1967D2;\n",
              "      height: 32px;\n",
              "      padding: 0 0 0 0;\n",
              "      width: 32px;\n",
              "    }\n",
              "\n",
              "    .colab-df-convert:hover {\n",
              "      background-color: #E2EBFA;\n",
              "      box-shadow: 0px 1px 2px rgba(60, 64, 67, 0.3), 0px 1px 3px 1px rgba(60, 64, 67, 0.15);\n",
              "      fill: #174EA6;\n",
              "    }\n",
              "\n",
              "    [theme=dark] .colab-df-convert {\n",
              "      background-color: #3B4455;\n",
              "      fill: #D2E3FC;\n",
              "    }\n",
              "\n",
              "    [theme=dark] .colab-df-convert:hover {\n",
              "      background-color: #434B5C;\n",
              "      box-shadow: 0px 1px 3px 1px rgba(0, 0, 0, 0.15);\n",
              "      filter: drop-shadow(0px 1px 2px rgba(0, 0, 0, 0.3));\n",
              "      fill: #FFFFFF;\n",
              "    }\n",
              "  </style>\n",
              "\n",
              "      <script>\n",
              "        const buttonEl =\n",
              "          document.querySelector('#df-ec6dc441-ba58-4497-8345-4a1792c45b63 button.colab-df-convert');\n",
              "        buttonEl.style.display =\n",
              "          google.colab.kernel.accessAllowed ? 'block' : 'none';\n",
              "\n",
              "        async function convertToInteractive(key) {\n",
              "          const element = document.querySelector('#df-ec6dc441-ba58-4497-8345-4a1792c45b63');\n",
              "          const dataTable =\n",
              "            await google.colab.kernel.invokeFunction('convertToInteractive',\n",
              "                                                     [key], {});\n",
              "          if (!dataTable) return;\n",
              "\n",
              "          const docLinkHtml = 'Like what you see? Visit the ' +\n",
              "            '<a target=\"_blank\" href=https://colab.research.google.com/notebooks/data_table.ipynb>data table notebook</a>'\n",
              "            + ' to learn more about interactive tables.';\n",
              "          element.innerHTML = '';\n",
              "          dataTable['output_type'] = 'display_data';\n",
              "          await google.colab.output.renderOutput(dataTable, element);\n",
              "          const docLink = document.createElement('div');\n",
              "          docLink.innerHTML = docLinkHtml;\n",
              "          element.appendChild(docLink);\n",
              "        }\n",
              "      </script>\n",
              "    </div>\n",
              "  </div>\n",
              "  "
            ]
          },
          "metadata": {},
          "execution_count": 3
        }
      ],
      "source": [
        "df = pd.read_excel(\"/content/Pubmed5k.xlsx\")\n",
        "df"
      ],
      "id": "7f1ebd6a"
    },
    {
      "cell_type": "markdown",
      "metadata": {
        "id": "b6af2b5d"
      },
      "source": [
        "## Data filtering and cleaning"
      ],
      "id": "b6af2b5d"
    },
    {
      "cell_type": "markdown",
      "metadata": {
        "id": "8a0297a2"
      },
      "source": [
        "**Checking the type of data fro each dataframe**"
      ],
      "id": "8a0297a2"
    },
    {
      "cell_type": "code",
      "execution_count": 4,
      "metadata": {
        "colab": {
          "base_uri": "https://localhost:8080/"
        },
        "id": "d4730d50",
        "outputId": "b118c54a-4cc6-4916-bbee-36f99b809899"
      },
      "outputs": [
        {
          "output_type": "execute_result",
          "data": {
            "text/plain": [
              "ArticleID     int64\n",
              "Title        object\n",
              "Abstract     object\n",
              "dtype: object"
            ]
          },
          "metadata": {},
          "execution_count": 4
        }
      ],
      "source": [
        "df.dtypes"
      ],
      "id": "d4730d50"
    },
    {
      "cell_type": "markdown",
      "metadata": {
        "id": "252b3540"
      },
      "source": [
        "**Checking NaNs**"
      ],
      "id": "252b3540"
    },
    {
      "cell_type": "code",
      "execution_count": 5,
      "metadata": {
        "colab": {
          "base_uri": "https://localhost:8080/"
        },
        "id": "adf4a69e",
        "outputId": "86e10ade-ab59-43c4-c8d3-dd1ceb4a2d1f"
      },
      "outputs": [
        {
          "output_type": "execute_result",
          "data": {
            "text/plain": [
              "False"
            ]
          },
          "metadata": {},
          "execution_count": 5
        }
      ],
      "source": [
        "df.isnull().values.any()"
      ],
      "id": "adf4a69e"
    },
    {
      "cell_type": "markdown",
      "metadata": {
        "id": "d946d7a1"
      },
      "source": [
        "**Checking duplicates**"
      ],
      "id": "d946d7a1"
    },
    {
      "cell_type": "code",
      "execution_count": 6,
      "metadata": {
        "colab": {
          "base_uri": "https://localhost:8080/"
        },
        "id": "db85f3fc",
        "outputId": "c13def6b-da4e-418e-ea2a-473c8ec57270"
      },
      "outputs": [
        {
          "output_type": "execute_result",
          "data": {
            "text/plain": [
              "Series([], dtype: bool)"
            ]
          },
          "metadata": {},
          "execution_count": 6
        }
      ],
      "source": [
        "series = df.duplicated(keep=False).__eq__(True)\n",
        "df.duplicated(keep=False).__getitem__(series)"
      ],
      "id": "db85f3fc"
    },
    {
      "cell_type": "markdown",
      "metadata": {
        "id": "d7a1eac0"
      },
      "source": [
        "**Re-checking for any uniqueness in the Title column** "
      ],
      "id": "d7a1eac0"
    },
    {
      "cell_type": "code",
      "execution_count": 7,
      "metadata": {
        "colab": {
          "base_uri": "https://localhost:8080/"
        },
        "id": "bec509c7",
        "outputId": "201714b4-99e1-45f4-e099-8697b50ece5a"
      },
      "outputs": [
        {
          "output_type": "execute_result",
          "data": {
            "text/plain": [
              "4999"
            ]
          },
          "metadata": {},
          "execution_count": 7
        }
      ],
      "source": [
        "len(df[\"Title\"].unique())"
      ],
      "id": "bec509c7"
    },
    {
      "cell_type": "markdown",
      "metadata": {
        "id": "6ce1dbb6"
      },
      "source": [
        "**Fetch word count for each Title & Abstract**"
      ],
      "id": "6ce1dbb6"
    },
    {
      "cell_type": "code",
      "execution_count": 8,
      "metadata": {
        "id": "cf81471f"
      },
      "outputs": [],
      "source": [
        "#Fetch wordcount for each Title & Abstract\n",
        "Title_Word_Count = []\n",
        "Abstract_Word_Count = []\n",
        "Title_Word_Count = df['Title'].apply(lambda x: len(str(x).split(\" \")))\n",
        "Abstract_Word_Count = df['Abstract'].apply(lambda x: len(str(x).split(\" \")))"
      ],
      "id": "cf81471f"
    },
    {
      "cell_type": "markdown",
      "metadata": {
        "id": "13dca444"
      },
      "source": [
        "**Descriptive statistics of word counts**"
      ],
      "id": "13dca444"
    },
    {
      "cell_type": "code",
      "execution_count": 9,
      "metadata": {
        "colab": {
          "base_uri": "https://localhost:8080/"
        },
        "id": "c162ad5a",
        "outputId": "be7ecba6-f42a-46bf-d72e-b2ec958b8b51"
      },
      "outputs": [
        {
          "output_type": "stream",
          "name": "stdout",
          "text": [
            "Title_Word_Count description:\n",
            "count    4999.000000\n",
            "mean       14.911982\n",
            "std         4.981343\n",
            "min         1.000000\n",
            "25%        11.000000\n",
            "50%        15.000000\n",
            "75%        18.000000\n",
            "max        39.000000\n",
            "Name: Title, dtype: float64\n",
            "\n",
            "\n",
            "Abstract_Word_Count description:\n",
            "count    4999.000000\n",
            "mean      211.240448\n",
            "std        80.544815\n",
            "min         1.000000\n",
            "25%       158.000000\n",
            "50%       208.000000\n",
            "75%       253.000000\n",
            "max       976.000000\n",
            "Name: Abstract, dtype: float64\n"
          ]
        }
      ],
      "source": [
        "print(\"Title_Word_Count description:\")\n",
        "print(Title_Word_Count.describe())\n",
        "print(\"\\n\")\n",
        "print(\"Abstract_Word_Count description:\")\n",
        "print(Abstract_Word_Count.describe())"
      ],
      "id": "c162ad5a"
    },
    {
      "cell_type": "markdown",
      "metadata": {
        "id": "c93b7abb"
      },
      "source": [
        "**Identify common & uncommon words for each Title**"
      ],
      "id": "c93b7abb"
    },
    {
      "cell_type": "code",
      "execution_count": 10,
      "metadata": {
        "colab": {
          "base_uri": "https://localhost:8080/",
          "height": 0
        },
        "id": "ecbd17a8",
        "outputId": "c2924864-34c9-4a90-fe6d-a5e521987a7e"
      },
      "outputs": [
        {
          "output_type": "execute_result",
          "data": {
            "text/plain": [
              "  Words_Before  Count\n",
              "0           of   4161\n",
              "1          and   2980\n",
              "2           in   2731\n",
              "3          the   1974\n",
              "4            a   1167"
            ],
            "text/html": [
              "\n",
              "  <div id=\"df-57362a0a-a42f-40f4-b6f0-b6e0512bb5df\">\n",
              "    <div class=\"colab-df-container\">\n",
              "      <div>\n",
              "<style scoped>\n",
              "    .dataframe tbody tr th:only-of-type {\n",
              "        vertical-align: middle;\n",
              "    }\n",
              "\n",
              "    .dataframe tbody tr th {\n",
              "        vertical-align: top;\n",
              "    }\n",
              "\n",
              "    .dataframe thead th {\n",
              "        text-align: right;\n",
              "    }\n",
              "</style>\n",
              "<table border=\"1\" class=\"dataframe\">\n",
              "  <thead>\n",
              "    <tr style=\"text-align: right;\">\n",
              "      <th></th>\n",
              "      <th>Words_Before</th>\n",
              "      <th>Count</th>\n",
              "    </tr>\n",
              "  </thead>\n",
              "  <tbody>\n",
              "    <tr>\n",
              "      <th>0</th>\n",
              "      <td>of</td>\n",
              "      <td>4161</td>\n",
              "    </tr>\n",
              "    <tr>\n",
              "      <th>1</th>\n",
              "      <td>and</td>\n",
              "      <td>2980</td>\n",
              "    </tr>\n",
              "    <tr>\n",
              "      <th>2</th>\n",
              "      <td>in</td>\n",
              "      <td>2731</td>\n",
              "    </tr>\n",
              "    <tr>\n",
              "      <th>3</th>\n",
              "      <td>the</td>\n",
              "      <td>1974</td>\n",
              "    </tr>\n",
              "    <tr>\n",
              "      <th>4</th>\n",
              "      <td>a</td>\n",
              "      <td>1167</td>\n",
              "    </tr>\n",
              "  </tbody>\n",
              "</table>\n",
              "</div>\n",
              "      <button class=\"colab-df-convert\" onclick=\"convertToInteractive('df-57362a0a-a42f-40f4-b6f0-b6e0512bb5df')\"\n",
              "              title=\"Convert this dataframe to an interactive table.\"\n",
              "              style=\"display:none;\">\n",
              "        \n",
              "  <svg xmlns=\"http://www.w3.org/2000/svg\" height=\"24px\"viewBox=\"0 0 24 24\"\n",
              "       width=\"24px\">\n",
              "    <path d=\"M0 0h24v24H0V0z\" fill=\"none\"/>\n",
              "    <path d=\"M18.56 5.44l.94 2.06.94-2.06 2.06-.94-2.06-.94-.94-2.06-.94 2.06-2.06.94zm-11 1L8.5 8.5l.94-2.06 2.06-.94-2.06-.94L8.5 2.5l-.94 2.06-2.06.94zm10 10l.94 2.06.94-2.06 2.06-.94-2.06-.94-.94-2.06-.94 2.06-2.06.94z\"/><path d=\"M17.41 7.96l-1.37-1.37c-.4-.4-.92-.59-1.43-.59-.52 0-1.04.2-1.43.59L10.3 9.45l-7.72 7.72c-.78.78-.78 2.05 0 2.83L4 21.41c.39.39.9.59 1.41.59.51 0 1.02-.2 1.41-.59l7.78-7.78 2.81-2.81c.8-.78.8-2.07 0-2.86zM5.41 20L4 18.59l7.72-7.72 1.47 1.35L5.41 20z\"/>\n",
              "  </svg>\n",
              "      </button>\n",
              "      \n",
              "  <style>\n",
              "    .colab-df-container {\n",
              "      display:flex;\n",
              "      flex-wrap:wrap;\n",
              "      gap: 12px;\n",
              "    }\n",
              "\n",
              "    .colab-df-convert {\n",
              "      background-color: #E8F0FE;\n",
              "      border: none;\n",
              "      border-radius: 50%;\n",
              "      cursor: pointer;\n",
              "      display: none;\n",
              "      fill: #1967D2;\n",
              "      height: 32px;\n",
              "      padding: 0 0 0 0;\n",
              "      width: 32px;\n",
              "    }\n",
              "\n",
              "    .colab-df-convert:hover {\n",
              "      background-color: #E2EBFA;\n",
              "      box-shadow: 0px 1px 2px rgba(60, 64, 67, 0.3), 0px 1px 3px 1px rgba(60, 64, 67, 0.15);\n",
              "      fill: #174EA6;\n",
              "    }\n",
              "\n",
              "    [theme=dark] .colab-df-convert {\n",
              "      background-color: #3B4455;\n",
              "      fill: #D2E3FC;\n",
              "    }\n",
              "\n",
              "    [theme=dark] .colab-df-convert:hover {\n",
              "      background-color: #434B5C;\n",
              "      box-shadow: 0px 1px 3px 1px rgba(0, 0, 0, 0.15);\n",
              "      filter: drop-shadow(0px 1px 2px rgba(0, 0, 0, 0.3));\n",
              "      fill: #FFFFFF;\n",
              "    }\n",
              "  </style>\n",
              "\n",
              "      <script>\n",
              "        const buttonEl =\n",
              "          document.querySelector('#df-57362a0a-a42f-40f4-b6f0-b6e0512bb5df button.colab-df-convert');\n",
              "        buttonEl.style.display =\n",
              "          google.colab.kernel.accessAllowed ? 'block' : 'none';\n",
              "\n",
              "        async function convertToInteractive(key) {\n",
              "          const element = document.querySelector('#df-57362a0a-a42f-40f4-b6f0-b6e0512bb5df');\n",
              "          const dataTable =\n",
              "            await google.colab.kernel.invokeFunction('convertToInteractive',\n",
              "                                                     [key], {});\n",
              "          if (!dataTable) return;\n",
              "\n",
              "          const docLinkHtml = 'Like what you see? Visit the ' +\n",
              "            '<a target=\"_blank\" href=https://colab.research.google.com/notebooks/data_table.ipynb>data table notebook</a>'\n",
              "            + ' to learn more about interactive tables.';\n",
              "          element.innerHTML = '';\n",
              "          dataTable['output_type'] = 'display_data';\n",
              "          await google.colab.output.renderOutput(dataTable, element);\n",
              "          const docLink = document.createElement('div');\n",
              "          docLink.innerHTML = docLinkHtml;\n",
              "          element.appendChild(docLink);\n",
              "        }\n",
              "      </script>\n",
              "    </div>\n",
              "  </div>\n",
              "  "
            ]
          },
          "metadata": {},
          "execution_count": 10
        }
      ],
      "source": [
        "#Identify common words for each Title\n",
        "freq = pd.Series(' '.join(df['Title']).split()).value_counts()[:30]\n",
        "c_count = pd.DataFrame(freq)\n",
        "c_count.reset_index(inplace = True)\n",
        "c_count.rename(columns = {'index':'Words_Before', 0:'Count'}, inplace = True)\n",
        "c_count.head()"
      ],
      "id": "ecbd17a8"
    },
    {
      "cell_type": "code",
      "execution_count": 11,
      "metadata": {
        "colab": {
          "base_uri": "https://localhost:8080/",
          "height": 0
        },
        "id": "9478b969",
        "outputId": "0c5cba55-b409-48f0-b2d3-eda4d14d0b2b"
      },
      "outputs": [
        {
          "output_type": "execute_result",
          "data": {
            "text/plain": [
              "  Words_Before  Count\n",
              "0      measles      1\n",
              "1  progressive      1\n",
              "2        midst      1\n",
              "3        tasks      1\n",
              "4      present      1"
            ],
            "text/html": [
              "\n",
              "  <div id=\"df-7b44acbd-b7c4-441a-b862-d3390e42a4c6\">\n",
              "    <div class=\"colab-df-container\">\n",
              "      <div>\n",
              "<style scoped>\n",
              "    .dataframe tbody tr th:only-of-type {\n",
              "        vertical-align: middle;\n",
              "    }\n",
              "\n",
              "    .dataframe tbody tr th {\n",
              "        vertical-align: top;\n",
              "    }\n",
              "\n",
              "    .dataframe thead th {\n",
              "        text-align: right;\n",
              "    }\n",
              "</style>\n",
              "<table border=\"1\" class=\"dataframe\">\n",
              "  <thead>\n",
              "    <tr style=\"text-align: right;\">\n",
              "      <th></th>\n",
              "      <th>Words_Before</th>\n",
              "      <th>Count</th>\n",
              "    </tr>\n",
              "  </thead>\n",
              "  <tbody>\n",
              "    <tr>\n",
              "      <th>0</th>\n",
              "      <td>measles</td>\n",
              "      <td>1</td>\n",
              "    </tr>\n",
              "    <tr>\n",
              "      <th>1</th>\n",
              "      <td>progressive</td>\n",
              "      <td>1</td>\n",
              "    </tr>\n",
              "    <tr>\n",
              "      <th>2</th>\n",
              "      <td>midst</td>\n",
              "      <td>1</td>\n",
              "    </tr>\n",
              "    <tr>\n",
              "      <th>3</th>\n",
              "      <td>tasks</td>\n",
              "      <td>1</td>\n",
              "    </tr>\n",
              "    <tr>\n",
              "      <th>4</th>\n",
              "      <td>present</td>\n",
              "      <td>1</td>\n",
              "    </tr>\n",
              "  </tbody>\n",
              "</table>\n",
              "</div>\n",
              "      <button class=\"colab-df-convert\" onclick=\"convertToInteractive('df-7b44acbd-b7c4-441a-b862-d3390e42a4c6')\"\n",
              "              title=\"Convert this dataframe to an interactive table.\"\n",
              "              style=\"display:none;\">\n",
              "        \n",
              "  <svg xmlns=\"http://www.w3.org/2000/svg\" height=\"24px\"viewBox=\"0 0 24 24\"\n",
              "       width=\"24px\">\n",
              "    <path d=\"M0 0h24v24H0V0z\" fill=\"none\"/>\n",
              "    <path d=\"M18.56 5.44l.94 2.06.94-2.06 2.06-.94-2.06-.94-.94-2.06-.94 2.06-2.06.94zm-11 1L8.5 8.5l.94-2.06 2.06-.94-2.06-.94L8.5 2.5l-.94 2.06-2.06.94zm10 10l.94 2.06.94-2.06 2.06-.94-2.06-.94-.94-2.06-.94 2.06-2.06.94z\"/><path d=\"M17.41 7.96l-1.37-1.37c-.4-.4-.92-.59-1.43-.59-.52 0-1.04.2-1.43.59L10.3 9.45l-7.72 7.72c-.78.78-.78 2.05 0 2.83L4 21.41c.39.39.9.59 1.41.59.51 0 1.02-.2 1.41-.59l7.78-7.78 2.81-2.81c.8-.78.8-2.07 0-2.86zM5.41 20L4 18.59l7.72-7.72 1.47 1.35L5.41 20z\"/>\n",
              "  </svg>\n",
              "      </button>\n",
              "      \n",
              "  <style>\n",
              "    .colab-df-container {\n",
              "      display:flex;\n",
              "      flex-wrap:wrap;\n",
              "      gap: 12px;\n",
              "    }\n",
              "\n",
              "    .colab-df-convert {\n",
              "      background-color: #E8F0FE;\n",
              "      border: none;\n",
              "      border-radius: 50%;\n",
              "      cursor: pointer;\n",
              "      display: none;\n",
              "      fill: #1967D2;\n",
              "      height: 32px;\n",
              "      padding: 0 0 0 0;\n",
              "      width: 32px;\n",
              "    }\n",
              "\n",
              "    .colab-df-convert:hover {\n",
              "      background-color: #E2EBFA;\n",
              "      box-shadow: 0px 1px 2px rgba(60, 64, 67, 0.3), 0px 1px 3px 1px rgba(60, 64, 67, 0.15);\n",
              "      fill: #174EA6;\n",
              "    }\n",
              "\n",
              "    [theme=dark] .colab-df-convert {\n",
              "      background-color: #3B4455;\n",
              "      fill: #D2E3FC;\n",
              "    }\n",
              "\n",
              "    [theme=dark] .colab-df-convert:hover {\n",
              "      background-color: #434B5C;\n",
              "      box-shadow: 0px 1px 3px 1px rgba(0, 0, 0, 0.15);\n",
              "      filter: drop-shadow(0px 1px 2px rgba(0, 0, 0, 0.3));\n",
              "      fill: #FFFFFF;\n",
              "    }\n",
              "  </style>\n",
              "\n",
              "      <script>\n",
              "        const buttonEl =\n",
              "          document.querySelector('#df-7b44acbd-b7c4-441a-b862-d3390e42a4c6 button.colab-df-convert');\n",
              "        buttonEl.style.display =\n",
              "          google.colab.kernel.accessAllowed ? 'block' : 'none';\n",
              "\n",
              "        async function convertToInteractive(key) {\n",
              "          const element = document.querySelector('#df-7b44acbd-b7c4-441a-b862-d3390e42a4c6');\n",
              "          const dataTable =\n",
              "            await google.colab.kernel.invokeFunction('convertToInteractive',\n",
              "                                                     [key], {});\n",
              "          if (!dataTable) return;\n",
              "\n",
              "          const docLinkHtml = 'Like what you see? Visit the ' +\n",
              "            '<a target=\"_blank\" href=https://colab.research.google.com/notebooks/data_table.ipynb>data table notebook</a>'\n",
              "            + ' to learn more about interactive tables.';\n",
              "          element.innerHTML = '';\n",
              "          dataTable['output_type'] = 'display_data';\n",
              "          await google.colab.output.renderOutput(dataTable, element);\n",
              "          const docLink = document.createElement('div');\n",
              "          docLink.innerHTML = docLinkHtml;\n",
              "          element.appendChild(docLink);\n",
              "        }\n",
              "      </script>\n",
              "    </div>\n",
              "  </div>\n",
              "  "
            ]
          },
          "metadata": {},
          "execution_count": 11
        }
      ],
      "source": [
        "#Identify uncommon words for each Title\n",
        "nfreq =  pd.Series(' '.join(df \n",
        "         ['Title']).split()).value_counts()[-30:]\n",
        "n_count = pd.DataFrame(nfreq)\n",
        "n_count.reset_index(inplace = True)\n",
        "n_count.rename(columns = {'index':'Words_Before', 0:'Count'}, inplace = True)\n",
        "n_count.head()"
      ],
      "id": "9478b969"
    },
    {
      "cell_type": "markdown",
      "metadata": {
        "id": "2284764d"
      },
      "source": [
        "**Changing all the charecters to lower-case in both the Abstract & Title**"
      ],
      "id": "2284764d"
    },
    {
      "cell_type": "code",
      "execution_count": 12,
      "metadata": {
        "id": "00e5abd6"
      },
      "outputs": [],
      "source": [
        "df['Title'] = df['Title'].str.lower()\n",
        "df['Abstract'] = df['Abstract'].str.lower()"
      ],
      "id": "00e5abd6"
    },
    {
      "cell_type": "markdown",
      "metadata": {
        "id": "e659e62f"
      },
      "source": [
        "**Identify common & uncommon words for each Title after lower-casing**"
      ],
      "id": "e659e62f"
    },
    {
      "cell_type": "code",
      "execution_count": 13,
      "metadata": {
        "id": "f9475331"
      },
      "outputs": [],
      "source": [
        "#Identify common words for each Title\n",
        "freq = pd.Series(' '.join(df['Title']).split()).value_counts()[:30]\n",
        "c_count2 = pd.DataFrame(freq)\n",
        "c_count2.reset_index(inplace = True)\n",
        "c_count2.rename(columns = {'index':'Words_After', 0:'Count'}, inplace = True)\n",
        "c_count = pd.concat([c_count, c_count2], axis=1)"
      ],
      "id": "f9475331"
    },
    {
      "cell_type": "code",
      "execution_count": 14,
      "metadata": {
        "colab": {
          "base_uri": "https://localhost:8080/",
          "height": 0
        },
        "id": "91e7aca1",
        "outputId": "e06a6ed3-b0d0-4fbb-8017-96cda59bdb7a"
      },
      "outputs": [
        {
          "output_type": "execute_result",
          "data": {
            "text/plain": [
              "  Words_Before  Count Words_After  Count\n",
              "0           of   4161          of   4257\n",
              "1          and   2980         and   3026\n",
              "2           in   2731          in   2807\n",
              "3          the   1974         the   2378\n",
              "4            a   1167           a   1945"
            ],
            "text/html": [
              "\n",
              "  <div id=\"df-f6eba397-c6c4-49a7-9627-9d5ce397abc3\">\n",
              "    <div class=\"colab-df-container\">\n",
              "      <div>\n",
              "<style scoped>\n",
              "    .dataframe tbody tr th:only-of-type {\n",
              "        vertical-align: middle;\n",
              "    }\n",
              "\n",
              "    .dataframe tbody tr th {\n",
              "        vertical-align: top;\n",
              "    }\n",
              "\n",
              "    .dataframe thead th {\n",
              "        text-align: right;\n",
              "    }\n",
              "</style>\n",
              "<table border=\"1\" class=\"dataframe\">\n",
              "  <thead>\n",
              "    <tr style=\"text-align: right;\">\n",
              "      <th></th>\n",
              "      <th>Words_Before</th>\n",
              "      <th>Count</th>\n",
              "      <th>Words_After</th>\n",
              "      <th>Count</th>\n",
              "    </tr>\n",
              "  </thead>\n",
              "  <tbody>\n",
              "    <tr>\n",
              "      <th>0</th>\n",
              "      <td>of</td>\n",
              "      <td>4161</td>\n",
              "      <td>of</td>\n",
              "      <td>4257</td>\n",
              "    </tr>\n",
              "    <tr>\n",
              "      <th>1</th>\n",
              "      <td>and</td>\n",
              "      <td>2980</td>\n",
              "      <td>and</td>\n",
              "      <td>3026</td>\n",
              "    </tr>\n",
              "    <tr>\n",
              "      <th>2</th>\n",
              "      <td>in</td>\n",
              "      <td>2731</td>\n",
              "      <td>in</td>\n",
              "      <td>2807</td>\n",
              "    </tr>\n",
              "    <tr>\n",
              "      <th>3</th>\n",
              "      <td>the</td>\n",
              "      <td>1974</td>\n",
              "      <td>the</td>\n",
              "      <td>2378</td>\n",
              "    </tr>\n",
              "    <tr>\n",
              "      <th>4</th>\n",
              "      <td>a</td>\n",
              "      <td>1167</td>\n",
              "      <td>a</td>\n",
              "      <td>1945</td>\n",
              "    </tr>\n",
              "  </tbody>\n",
              "</table>\n",
              "</div>\n",
              "      <button class=\"colab-df-convert\" onclick=\"convertToInteractive('df-f6eba397-c6c4-49a7-9627-9d5ce397abc3')\"\n",
              "              title=\"Convert this dataframe to an interactive table.\"\n",
              "              style=\"display:none;\">\n",
              "        \n",
              "  <svg xmlns=\"http://www.w3.org/2000/svg\" height=\"24px\"viewBox=\"0 0 24 24\"\n",
              "       width=\"24px\">\n",
              "    <path d=\"M0 0h24v24H0V0z\" fill=\"none\"/>\n",
              "    <path d=\"M18.56 5.44l.94 2.06.94-2.06 2.06-.94-2.06-.94-.94-2.06-.94 2.06-2.06.94zm-11 1L8.5 8.5l.94-2.06 2.06-.94-2.06-.94L8.5 2.5l-.94 2.06-2.06.94zm10 10l.94 2.06.94-2.06 2.06-.94-2.06-.94-.94-2.06-.94 2.06-2.06.94z\"/><path d=\"M17.41 7.96l-1.37-1.37c-.4-.4-.92-.59-1.43-.59-.52 0-1.04.2-1.43.59L10.3 9.45l-7.72 7.72c-.78.78-.78 2.05 0 2.83L4 21.41c.39.39.9.59 1.41.59.51 0 1.02-.2 1.41-.59l7.78-7.78 2.81-2.81c.8-.78.8-2.07 0-2.86zM5.41 20L4 18.59l7.72-7.72 1.47 1.35L5.41 20z\"/>\n",
              "  </svg>\n",
              "      </button>\n",
              "      \n",
              "  <style>\n",
              "    .colab-df-container {\n",
              "      display:flex;\n",
              "      flex-wrap:wrap;\n",
              "      gap: 12px;\n",
              "    }\n",
              "\n",
              "    .colab-df-convert {\n",
              "      background-color: #E8F0FE;\n",
              "      border: none;\n",
              "      border-radius: 50%;\n",
              "      cursor: pointer;\n",
              "      display: none;\n",
              "      fill: #1967D2;\n",
              "      height: 32px;\n",
              "      padding: 0 0 0 0;\n",
              "      width: 32px;\n",
              "    }\n",
              "\n",
              "    .colab-df-convert:hover {\n",
              "      background-color: #E2EBFA;\n",
              "      box-shadow: 0px 1px 2px rgba(60, 64, 67, 0.3), 0px 1px 3px 1px rgba(60, 64, 67, 0.15);\n",
              "      fill: #174EA6;\n",
              "    }\n",
              "\n",
              "    [theme=dark] .colab-df-convert {\n",
              "      background-color: #3B4455;\n",
              "      fill: #D2E3FC;\n",
              "    }\n",
              "\n",
              "    [theme=dark] .colab-df-convert:hover {\n",
              "      background-color: #434B5C;\n",
              "      box-shadow: 0px 1px 3px 1px rgba(0, 0, 0, 0.15);\n",
              "      filter: drop-shadow(0px 1px 2px rgba(0, 0, 0, 0.3));\n",
              "      fill: #FFFFFF;\n",
              "    }\n",
              "  </style>\n",
              "\n",
              "      <script>\n",
              "        const buttonEl =\n",
              "          document.querySelector('#df-f6eba397-c6c4-49a7-9627-9d5ce397abc3 button.colab-df-convert');\n",
              "        buttonEl.style.display =\n",
              "          google.colab.kernel.accessAllowed ? 'block' : 'none';\n",
              "\n",
              "        async function convertToInteractive(key) {\n",
              "          const element = document.querySelector('#df-f6eba397-c6c4-49a7-9627-9d5ce397abc3');\n",
              "          const dataTable =\n",
              "            await google.colab.kernel.invokeFunction('convertToInteractive',\n",
              "                                                     [key], {});\n",
              "          if (!dataTable) return;\n",
              "\n",
              "          const docLinkHtml = 'Like what you see? Visit the ' +\n",
              "            '<a target=\"_blank\" href=https://colab.research.google.com/notebooks/data_table.ipynb>data table notebook</a>'\n",
              "            + ' to learn more about interactive tables.';\n",
              "          element.innerHTML = '';\n",
              "          dataTable['output_type'] = 'display_data';\n",
              "          await google.colab.output.renderOutput(dataTable, element);\n",
              "          const docLink = document.createElement('div');\n",
              "          docLink.innerHTML = docLinkHtml;\n",
              "          element.appendChild(docLink);\n",
              "        }\n",
              "      </script>\n",
              "    </div>\n",
              "  </div>\n",
              "  "
            ]
          },
          "metadata": {},
          "execution_count": 14
        }
      ],
      "source": [
        "c_count.head()"
      ],
      "id": "91e7aca1"
    },
    {
      "cell_type": "markdown",
      "metadata": {
        "id": "79cf1a78"
      },
      "source": [
        "**As we can see, there is a segnificant change here after lower-casing the characters**"
      ],
      "id": "79cf1a78"
    },
    {
      "cell_type": "code",
      "execution_count": 15,
      "metadata": {
        "id": "38fb4d72"
      },
      "outputs": [],
      "source": [
        "#Identify uncommon words for each Title\n",
        "nfreq =  pd.Series(' '.join(df \n",
        "         ['Title']).split()).value_counts()[-30:]\n",
        "n_count2 = pd.DataFrame(nfreq)\n",
        "n_count2.reset_index(inplace = True)\n",
        "n_count2.rename(columns = {'index':'Words_After', 0:'Count'}, inplace = True)\n",
        "n_count = pd.concat([n_count, n_count2], axis=1)"
      ],
      "id": "38fb4d72"
    },
    {
      "cell_type": "code",
      "execution_count": 16,
      "metadata": {
        "colab": {
          "base_uri": "https://localhost:8080/",
          "height": 0
        },
        "id": "8887f610",
        "outputId": "791ef2f1-c654-4848-aa52-d6ac9fc68d0c"
      },
      "outputs": [
        {
          "output_type": "execute_result",
          "data": {
            "text/plain": [
              "  Words_Before  Count Words_After  Count\n",
              "0      measles      1       peste      1\n",
              "1  progressive      1         des      1\n",
              "2        midst      1      petits      1\n",
              "3        tasks      1   ruminants      1\n",
              "4      present      1   livestock      1"
            ],
            "text/html": [
              "\n",
              "  <div id=\"df-f2950fe1-0ad2-440c-9000-4bedb2a2bb0c\">\n",
              "    <div class=\"colab-df-container\">\n",
              "      <div>\n",
              "<style scoped>\n",
              "    .dataframe tbody tr th:only-of-type {\n",
              "        vertical-align: middle;\n",
              "    }\n",
              "\n",
              "    .dataframe tbody tr th {\n",
              "        vertical-align: top;\n",
              "    }\n",
              "\n",
              "    .dataframe thead th {\n",
              "        text-align: right;\n",
              "    }\n",
              "</style>\n",
              "<table border=\"1\" class=\"dataframe\">\n",
              "  <thead>\n",
              "    <tr style=\"text-align: right;\">\n",
              "      <th></th>\n",
              "      <th>Words_Before</th>\n",
              "      <th>Count</th>\n",
              "      <th>Words_After</th>\n",
              "      <th>Count</th>\n",
              "    </tr>\n",
              "  </thead>\n",
              "  <tbody>\n",
              "    <tr>\n",
              "      <th>0</th>\n",
              "      <td>measles</td>\n",
              "      <td>1</td>\n",
              "      <td>peste</td>\n",
              "      <td>1</td>\n",
              "    </tr>\n",
              "    <tr>\n",
              "      <th>1</th>\n",
              "      <td>progressive</td>\n",
              "      <td>1</td>\n",
              "      <td>des</td>\n",
              "      <td>1</td>\n",
              "    </tr>\n",
              "    <tr>\n",
              "      <th>2</th>\n",
              "      <td>midst</td>\n",
              "      <td>1</td>\n",
              "      <td>petits</td>\n",
              "      <td>1</td>\n",
              "    </tr>\n",
              "    <tr>\n",
              "      <th>3</th>\n",
              "      <td>tasks</td>\n",
              "      <td>1</td>\n",
              "      <td>ruminants</td>\n",
              "      <td>1</td>\n",
              "    </tr>\n",
              "    <tr>\n",
              "      <th>4</th>\n",
              "      <td>present</td>\n",
              "      <td>1</td>\n",
              "      <td>livestock</td>\n",
              "      <td>1</td>\n",
              "    </tr>\n",
              "  </tbody>\n",
              "</table>\n",
              "</div>\n",
              "      <button class=\"colab-df-convert\" onclick=\"convertToInteractive('df-f2950fe1-0ad2-440c-9000-4bedb2a2bb0c')\"\n",
              "              title=\"Convert this dataframe to an interactive table.\"\n",
              "              style=\"display:none;\">\n",
              "        \n",
              "  <svg xmlns=\"http://www.w3.org/2000/svg\" height=\"24px\"viewBox=\"0 0 24 24\"\n",
              "       width=\"24px\">\n",
              "    <path d=\"M0 0h24v24H0V0z\" fill=\"none\"/>\n",
              "    <path d=\"M18.56 5.44l.94 2.06.94-2.06 2.06-.94-2.06-.94-.94-2.06-.94 2.06-2.06.94zm-11 1L8.5 8.5l.94-2.06 2.06-.94-2.06-.94L8.5 2.5l-.94 2.06-2.06.94zm10 10l.94 2.06.94-2.06 2.06-.94-2.06-.94-.94-2.06-.94 2.06-2.06.94z\"/><path d=\"M17.41 7.96l-1.37-1.37c-.4-.4-.92-.59-1.43-.59-.52 0-1.04.2-1.43.59L10.3 9.45l-7.72 7.72c-.78.78-.78 2.05 0 2.83L4 21.41c.39.39.9.59 1.41.59.51 0 1.02-.2 1.41-.59l7.78-7.78 2.81-2.81c.8-.78.8-2.07 0-2.86zM5.41 20L4 18.59l7.72-7.72 1.47 1.35L5.41 20z\"/>\n",
              "  </svg>\n",
              "      </button>\n",
              "      \n",
              "  <style>\n",
              "    .colab-df-container {\n",
              "      display:flex;\n",
              "      flex-wrap:wrap;\n",
              "      gap: 12px;\n",
              "    }\n",
              "\n",
              "    .colab-df-convert {\n",
              "      background-color: #E8F0FE;\n",
              "      border: none;\n",
              "      border-radius: 50%;\n",
              "      cursor: pointer;\n",
              "      display: none;\n",
              "      fill: #1967D2;\n",
              "      height: 32px;\n",
              "      padding: 0 0 0 0;\n",
              "      width: 32px;\n",
              "    }\n",
              "\n",
              "    .colab-df-convert:hover {\n",
              "      background-color: #E2EBFA;\n",
              "      box-shadow: 0px 1px 2px rgba(60, 64, 67, 0.3), 0px 1px 3px 1px rgba(60, 64, 67, 0.15);\n",
              "      fill: #174EA6;\n",
              "    }\n",
              "\n",
              "    [theme=dark] .colab-df-convert {\n",
              "      background-color: #3B4455;\n",
              "      fill: #D2E3FC;\n",
              "    }\n",
              "\n",
              "    [theme=dark] .colab-df-convert:hover {\n",
              "      background-color: #434B5C;\n",
              "      box-shadow: 0px 1px 3px 1px rgba(0, 0, 0, 0.15);\n",
              "      filter: drop-shadow(0px 1px 2px rgba(0, 0, 0, 0.3));\n",
              "      fill: #FFFFFF;\n",
              "    }\n",
              "  </style>\n",
              "\n",
              "      <script>\n",
              "        const buttonEl =\n",
              "          document.querySelector('#df-f2950fe1-0ad2-440c-9000-4bedb2a2bb0c button.colab-df-convert');\n",
              "        buttonEl.style.display =\n",
              "          google.colab.kernel.accessAllowed ? 'block' : 'none';\n",
              "\n",
              "        async function convertToInteractive(key) {\n",
              "          const element = document.querySelector('#df-f2950fe1-0ad2-440c-9000-4bedb2a2bb0c');\n",
              "          const dataTable =\n",
              "            await google.colab.kernel.invokeFunction('convertToInteractive',\n",
              "                                                     [key], {});\n",
              "          if (!dataTable) return;\n",
              "\n",
              "          const docLinkHtml = 'Like what you see? Visit the ' +\n",
              "            '<a target=\"_blank\" href=https://colab.research.google.com/notebooks/data_table.ipynb>data table notebook</a>'\n",
              "            + ' to learn more about interactive tables.';\n",
              "          element.innerHTML = '';\n",
              "          dataTable['output_type'] = 'display_data';\n",
              "          await google.colab.output.renderOutput(dataTable, element);\n",
              "          const docLink = document.createElement('div');\n",
              "          docLink.innerHTML = docLinkHtml;\n",
              "          element.appendChild(docLink);\n",
              "        }\n",
              "      </script>\n",
              "    </div>\n",
              "  </div>\n",
              "  "
            ]
          },
          "metadata": {},
          "execution_count": 16
        }
      ],
      "source": [
        "n_count.head()"
      ],
      "id": "8887f610"
    },
    {
      "cell_type": "markdown",
      "metadata": {
        "id": "10aa2e02"
      },
      "source": [
        "**Also, it is very segnifican here that the least frequent words changed after altering the case sensitivity**"
      ],
      "id": "10aa2e02"
    },
    {
      "cell_type": "code",
      "execution_count": 17,
      "metadata": {
        "colab": {
          "base_uri": "https://localhost:8080/",
          "height": 0
        },
        "id": "f25e00cb",
        "outputId": "cd106fd9-c0c1-4dbc-f51b-18983eb01911"
      },
      "outputs": [
        {
          "output_type": "execute_result",
          "data": {
            "text/plain": [
              "      ArticleID                                              Title  \\\n",
              "0      34153941  stable coordination variability in overground ...   \n",
              "1      34153942  weak hip strength increases dynamic knee valgu...   \n",
              "2      34153964  current and future projections of amyotrophic ...   \n",
              "3      34153968  disparities between asian and non-asian thromb...   \n",
              "4      34153978  maternal factors predicting loss to follow-up ...   \n",
              "...         ...                                                ...   \n",
              "4994   34444567  mind the differences: how diagnoses and hospit...   \n",
              "4995   34444568  the ethics of dying: deciphering pandemic-resu...   \n",
              "4996   34444569  research on adolescents regarding the indirect...   \n",
              "4997   34444571  pre-intervention effects of a community-based ...   \n",
              "4998   34444572  pharmacists' role in older adults' medication ...   \n",
              "\n",
              "                                               Abstract  \n",
              "0     coordination variability (cv) is commonly anal...  \n",
              "1     clinical scenario: dynamic knee valgus (dkv) i...  \n",
              "2     various methodologies have been reported to as...  \n",
              "3     as outcomes for acute ischemic stroke (ais) va...  \n",
              "4     because hearing loss in children can result in...  \n",
              "...                                                 ...  \n",
              "4994  integrated care pathway (icp) is a prevailing ...  \n",
              "4995  the objective of medicine is to provide humans...  \n",
              "4996  this research involved the participation of 30...  \n",
              "4997  this study explores the impact of the 'pre-int...  \n",
              "4998  medication regimen complexity (mrc) may influe...  \n",
              "\n",
              "[4999 rows x 3 columns]"
            ],
            "text/html": [
              "\n",
              "  <div id=\"df-77128dc1-932d-4402-9f32-6928a6044c59\">\n",
              "    <div class=\"colab-df-container\">\n",
              "      <div>\n",
              "<style scoped>\n",
              "    .dataframe tbody tr th:only-of-type {\n",
              "        vertical-align: middle;\n",
              "    }\n",
              "\n",
              "    .dataframe tbody tr th {\n",
              "        vertical-align: top;\n",
              "    }\n",
              "\n",
              "    .dataframe thead th {\n",
              "        text-align: right;\n",
              "    }\n",
              "</style>\n",
              "<table border=\"1\" class=\"dataframe\">\n",
              "  <thead>\n",
              "    <tr style=\"text-align: right;\">\n",
              "      <th></th>\n",
              "      <th>ArticleID</th>\n",
              "      <th>Title</th>\n",
              "      <th>Abstract</th>\n",
              "    </tr>\n",
              "  </thead>\n",
              "  <tbody>\n",
              "    <tr>\n",
              "      <th>0</th>\n",
              "      <td>34153941</td>\n",
              "      <td>stable coordination variability in overground ...</td>\n",
              "      <td>coordination variability (cv) is commonly anal...</td>\n",
              "    </tr>\n",
              "    <tr>\n",
              "      <th>1</th>\n",
              "      <td>34153942</td>\n",
              "      <td>weak hip strength increases dynamic knee valgu...</td>\n",
              "      <td>clinical scenario: dynamic knee valgus (dkv) i...</td>\n",
              "    </tr>\n",
              "    <tr>\n",
              "      <th>2</th>\n",
              "      <td>34153964</td>\n",
              "      <td>current and future projections of amyotrophic ...</td>\n",
              "      <td>various methodologies have been reported to as...</td>\n",
              "    </tr>\n",
              "    <tr>\n",
              "      <th>3</th>\n",
              "      <td>34153968</td>\n",
              "      <td>disparities between asian and non-asian thromb...</td>\n",
              "      <td>as outcomes for acute ischemic stroke (ais) va...</td>\n",
              "    </tr>\n",
              "    <tr>\n",
              "      <th>4</th>\n",
              "      <td>34153978</td>\n",
              "      <td>maternal factors predicting loss to follow-up ...</td>\n",
              "      <td>because hearing loss in children can result in...</td>\n",
              "    </tr>\n",
              "    <tr>\n",
              "      <th>...</th>\n",
              "      <td>...</td>\n",
              "      <td>...</td>\n",
              "      <td>...</td>\n",
              "    </tr>\n",
              "    <tr>\n",
              "      <th>4994</th>\n",
              "      <td>34444567</td>\n",
              "      <td>mind the differences: how diagnoses and hospit...</td>\n",
              "      <td>integrated care pathway (icp) is a prevailing ...</td>\n",
              "    </tr>\n",
              "    <tr>\n",
              "      <th>4995</th>\n",
              "      <td>34444568</td>\n",
              "      <td>the ethics of dying: deciphering pandemic-resu...</td>\n",
              "      <td>the objective of medicine is to provide humans...</td>\n",
              "    </tr>\n",
              "    <tr>\n",
              "      <th>4996</th>\n",
              "      <td>34444569</td>\n",
              "      <td>research on adolescents regarding the indirect...</td>\n",
              "      <td>this research involved the participation of 30...</td>\n",
              "    </tr>\n",
              "    <tr>\n",
              "      <th>4997</th>\n",
              "      <td>34444571</td>\n",
              "      <td>pre-intervention effects of a community-based ...</td>\n",
              "      <td>this study explores the impact of the 'pre-int...</td>\n",
              "    </tr>\n",
              "    <tr>\n",
              "      <th>4998</th>\n",
              "      <td>34444572</td>\n",
              "      <td>pharmacists' role in older adults' medication ...</td>\n",
              "      <td>medication regimen complexity (mrc) may influe...</td>\n",
              "    </tr>\n",
              "  </tbody>\n",
              "</table>\n",
              "<p>4999 rows × 3 columns</p>\n",
              "</div>\n",
              "      <button class=\"colab-df-convert\" onclick=\"convertToInteractive('df-77128dc1-932d-4402-9f32-6928a6044c59')\"\n",
              "              title=\"Convert this dataframe to an interactive table.\"\n",
              "              style=\"display:none;\">\n",
              "        \n",
              "  <svg xmlns=\"http://www.w3.org/2000/svg\" height=\"24px\"viewBox=\"0 0 24 24\"\n",
              "       width=\"24px\">\n",
              "    <path d=\"M0 0h24v24H0V0z\" fill=\"none\"/>\n",
              "    <path d=\"M18.56 5.44l.94 2.06.94-2.06 2.06-.94-2.06-.94-.94-2.06-.94 2.06-2.06.94zm-11 1L8.5 8.5l.94-2.06 2.06-.94-2.06-.94L8.5 2.5l-.94 2.06-2.06.94zm10 10l.94 2.06.94-2.06 2.06-.94-2.06-.94-.94-2.06-.94 2.06-2.06.94z\"/><path d=\"M17.41 7.96l-1.37-1.37c-.4-.4-.92-.59-1.43-.59-.52 0-1.04.2-1.43.59L10.3 9.45l-7.72 7.72c-.78.78-.78 2.05 0 2.83L4 21.41c.39.39.9.59 1.41.59.51 0 1.02-.2 1.41-.59l7.78-7.78 2.81-2.81c.8-.78.8-2.07 0-2.86zM5.41 20L4 18.59l7.72-7.72 1.47 1.35L5.41 20z\"/>\n",
              "  </svg>\n",
              "      </button>\n",
              "      \n",
              "  <style>\n",
              "    .colab-df-container {\n",
              "      display:flex;\n",
              "      flex-wrap:wrap;\n",
              "      gap: 12px;\n",
              "    }\n",
              "\n",
              "    .colab-df-convert {\n",
              "      background-color: #E8F0FE;\n",
              "      border: none;\n",
              "      border-radius: 50%;\n",
              "      cursor: pointer;\n",
              "      display: none;\n",
              "      fill: #1967D2;\n",
              "      height: 32px;\n",
              "      padding: 0 0 0 0;\n",
              "      width: 32px;\n",
              "    }\n",
              "\n",
              "    .colab-df-convert:hover {\n",
              "      background-color: #E2EBFA;\n",
              "      box-shadow: 0px 1px 2px rgba(60, 64, 67, 0.3), 0px 1px 3px 1px rgba(60, 64, 67, 0.15);\n",
              "      fill: #174EA6;\n",
              "    }\n",
              "\n",
              "    [theme=dark] .colab-df-convert {\n",
              "      background-color: #3B4455;\n",
              "      fill: #D2E3FC;\n",
              "    }\n",
              "\n",
              "    [theme=dark] .colab-df-convert:hover {\n",
              "      background-color: #434B5C;\n",
              "      box-shadow: 0px 1px 3px 1px rgba(0, 0, 0, 0.15);\n",
              "      filter: drop-shadow(0px 1px 2px rgba(0, 0, 0, 0.3));\n",
              "      fill: #FFFFFF;\n",
              "    }\n",
              "  </style>\n",
              "\n",
              "      <script>\n",
              "        const buttonEl =\n",
              "          document.querySelector('#df-77128dc1-932d-4402-9f32-6928a6044c59 button.colab-df-convert');\n",
              "        buttonEl.style.display =\n",
              "          google.colab.kernel.accessAllowed ? 'block' : 'none';\n",
              "\n",
              "        async function convertToInteractive(key) {\n",
              "          const element = document.querySelector('#df-77128dc1-932d-4402-9f32-6928a6044c59');\n",
              "          const dataTable =\n",
              "            await google.colab.kernel.invokeFunction('convertToInteractive',\n",
              "                                                     [key], {});\n",
              "          if (!dataTable) return;\n",
              "\n",
              "          const docLinkHtml = 'Like what you see? Visit the ' +\n",
              "            '<a target=\"_blank\" href=https://colab.research.google.com/notebooks/data_table.ipynb>data table notebook</a>'\n",
              "            + ' to learn more about interactive tables.';\n",
              "          element.innerHTML = '';\n",
              "          dataTable['output_type'] = 'display_data';\n",
              "          await google.colab.output.renderOutput(dataTable, element);\n",
              "          const docLink = document.createElement('div');\n",
              "          docLink.innerHTML = docLinkHtml;\n",
              "          element.appendChild(docLink);\n",
              "        }\n",
              "      </script>\n",
              "    </div>\n",
              "  </div>\n",
              "  "
            ]
          },
          "metadata": {},
          "execution_count": 17
        }
      ],
      "source": [
        "dff = copy.deepcopy(df)\n",
        "dff"
      ],
      "id": "f25e00cb"
    },
    {
      "cell_type": "markdown",
      "metadata": {
        "id": "b5d6a2fe"
      },
      "source": [
        "## <hr>"
      ],
      "id": "b5d6a2fe"
    },
    {
      "cell_type": "markdown",
      "source": [
        "# NLP phase"
      ],
      "metadata": {
        "id": "wn0XfA5JLA9R"
      },
      "id": "wn0XfA5JLA9R"
    },
    {
      "cell_type": "markdown",
      "metadata": {
        "id": "fd6abe13"
      },
      "source": [
        "<h2>The main steps of text processing:</h2>\n",
        "\n",
        "    1- Tokenization: Segregation of the text into its individual constitutent words.\n",
        "    \n",
        "    2- Stopwords: Throw away any words that occur too frequently as its frequency of occurrence will not be useful in helping detecting relevant texts. (as an aside also consider throwing away words that occur very infrequently).\n",
        "\n",
        "    3- Stemming: combine variants of words into a single parent word that still conveys the same meaning\n",
        "\n",
        "    4- Vectorization: Map all the tokens in data into vectors for ease of feeding into models\n",
        "    "
      ],
      "id": "fd6abe13"
    },
    {
      "cell_type": "markdown",
      "metadata": {
        "id": "315a1f88"
      },
      "source": [
        "## a- TF-IDF:"
      ],
      "id": "315a1f88"
    },
    {
      "cell_type": "markdown",
      "source": [
        "**First trial to pre process and filter using basic techniques**"
      ],
      "metadata": {
        "id": "2l1fo18u2p_M"
      },
      "id": "2l1fo18u2p_M"
    },
    {
      "cell_type": "code",
      "execution_count": 18,
      "metadata": {
        "id": "e3ebd705"
      },
      "outputs": [],
      "source": [
        "# Libraries for text preprocessing\n",
        "import re\n",
        "from tqdm import tqdm\n",
        "import nltk\n",
        "#nltk.download('stopwords')\n",
        "from nltk.corpus import stopwords\n",
        "from nltk.stem.porter import PorterStemmer\n",
        "from nltk.tokenize import RegexpTokenizer\n",
        "#nltk.download('wordnet') \n",
        "from nltk.stem.wordnet import WordNetLemmatizer\n",
        "#nltk.download('punkt')"
      ],
      "id": "e3ebd705"
    },
    {
      "cell_type": "code",
      "source": [
        "##Stemming\n",
        "ps=PorterStemmer()\n",
        "#Lemmatisation\n",
        "lem = WordNetLemmatizer()\n",
        "\n",
        "def preprocess(data):\n",
        "  corpus = []\n",
        "  for i in range(0, len(data)):\n",
        "    #Remove punctuations\n",
        "    text = re.sub('[^a-zA-Z]', ' ', data['Abstract'][i])\n",
        "    \n",
        "    #remove tags\n",
        "    text=re.sub(\"&lt;/?.*?&gt;\",\" &lt;&gt; \",text)\n",
        "    \n",
        "    # remove special characters and digits\n",
        "    text=re.sub(\"(\\\\d|\\\\W)+\",\" \",text)\n",
        "    \n",
        "    ##Convert to list from string\n",
        "    text = text.split()\n",
        "    text = [lem.lemmatize(word) for word in text if not word in  \n",
        "            stopwords.words('english')]\n",
        "    text = \" \".join(text)\n",
        "    corpus.append(text)\n",
        "\n",
        "  return corpus"
      ],
      "metadata": {
        "id": "dTnK3oeDVKOF"
      },
      "id": "dTnK3oeDVKOF",
      "execution_count": 46,
      "outputs": []
    },
    {
      "cell_type": "code",
      "source": [
        "dff_f = preprocess(dff)"
      ],
      "metadata": {
        "id": "qjwZi6gF9_pe"
      },
      "id": "qjwZi6gF9_pe",
      "execution_count": 47,
      "outputs": []
    },
    {
      "cell_type": "code",
      "source": [
        "from sklearn.feature_extraction.text import TfidfVectorizer\n",
        "tfidf_v = TfidfVectorizer(max_features=5000,ngram_range=(2,100))\n",
        "x = tfidf_v.fit_transform(tqdm(dff_f)).toarray()"
      ],
      "metadata": {
        "colab": {
          "base_uri": "https://localhost:8080/",
          "height": 362
        },
        "id": "LDYAu2_QOO8l",
        "outputId": "8dba6c58-a35d-43ab-d806-51e4ea692c73"
      },
      "id": "LDYAu2_QOO8l",
      "execution_count": 22,
      "outputs": [
        {
          "output_type": "stream",
          "name": "stderr",
          "text": [
            " 18%|█▊        | 908/4999 [00:29<02:11, 31.05it/s]\n"
          ]
        },
        {
          "output_type": "error",
          "ename": "KeyboardInterrupt",
          "evalue": "ignored",
          "traceback": [
            "\u001b[0;31m---------------------------------------------------------------------------\u001b[0m",
            "\u001b[0;31mKeyboardInterrupt\u001b[0m                         Traceback (most recent call last)",
            "\u001b[0;32m<ipython-input-22-1eb9ea8b87b0>\u001b[0m in \u001b[0;36m<module>\u001b[0;34m()\u001b[0m\n\u001b[1;32m      2\u001b[0m \u001b[0;32mfrom\u001b[0m \u001b[0msklearn\u001b[0m\u001b[0;34m.\u001b[0m\u001b[0mfeature_extraction\u001b[0m\u001b[0;34m.\u001b[0m\u001b[0mtext\u001b[0m \u001b[0;32mimport\u001b[0m \u001b[0mTfidfVectorizer\u001b[0m\u001b[0;34m\u001b[0m\u001b[0;34m\u001b[0m\u001b[0m\n\u001b[1;32m      3\u001b[0m \u001b[0mtfidf_v\u001b[0m \u001b[0;34m=\u001b[0m \u001b[0mTfidfVectorizer\u001b[0m\u001b[0;34m(\u001b[0m\u001b[0mmax_features\u001b[0m\u001b[0;34m=\u001b[0m\u001b[0;36m5000\u001b[0m\u001b[0;34m,\u001b[0m\u001b[0mngram_range\u001b[0m\u001b[0;34m=\u001b[0m\u001b[0;34m(\u001b[0m\u001b[0;36m2\u001b[0m\u001b[0;34m,\u001b[0m\u001b[0;36m100\u001b[0m\u001b[0;34m)\u001b[0m\u001b[0;34m)\u001b[0m\u001b[0;34m\u001b[0m\u001b[0;34m\u001b[0m\u001b[0m\n\u001b[0;32m----> 4\u001b[0;31m \u001b[0mx\u001b[0m \u001b[0;34m=\u001b[0m \u001b[0mtfidf_v\u001b[0m\u001b[0;34m.\u001b[0m\u001b[0mfit_transform\u001b[0m\u001b[0;34m(\u001b[0m\u001b[0mtqdm\u001b[0m\u001b[0;34m(\u001b[0m\u001b[0mdff_f\u001b[0m\u001b[0;34m)\u001b[0m\u001b[0;34m)\u001b[0m\u001b[0;34m.\u001b[0m\u001b[0mtoarray\u001b[0m\u001b[0;34m(\u001b[0m\u001b[0;34m)\u001b[0m\u001b[0;34m\u001b[0m\u001b[0;34m\u001b[0m\u001b[0m\n\u001b[0m",
            "\u001b[0;32m/usr/local/lib/python3.7/dist-packages/sklearn/feature_extraction/text.py\u001b[0m in \u001b[0;36mfit_transform\u001b[0;34m(self, raw_documents, y)\u001b[0m\n\u001b[1;32m   2075\u001b[0m         \"\"\"\n\u001b[1;32m   2076\u001b[0m         \u001b[0mself\u001b[0m\u001b[0;34m.\u001b[0m\u001b[0m_check_params\u001b[0m\u001b[0;34m(\u001b[0m\u001b[0;34m)\u001b[0m\u001b[0;34m\u001b[0m\u001b[0;34m\u001b[0m\u001b[0m\n\u001b[0;32m-> 2077\u001b[0;31m         \u001b[0mX\u001b[0m \u001b[0;34m=\u001b[0m \u001b[0msuper\u001b[0m\u001b[0;34m(\u001b[0m\u001b[0;34m)\u001b[0m\u001b[0;34m.\u001b[0m\u001b[0mfit_transform\u001b[0m\u001b[0;34m(\u001b[0m\u001b[0mraw_documents\u001b[0m\u001b[0;34m)\u001b[0m\u001b[0;34m\u001b[0m\u001b[0;34m\u001b[0m\u001b[0m\n\u001b[0m\u001b[1;32m   2078\u001b[0m         \u001b[0mself\u001b[0m\u001b[0;34m.\u001b[0m\u001b[0m_tfidf\u001b[0m\u001b[0;34m.\u001b[0m\u001b[0mfit\u001b[0m\u001b[0;34m(\u001b[0m\u001b[0mX\u001b[0m\u001b[0;34m)\u001b[0m\u001b[0;34m\u001b[0m\u001b[0;34m\u001b[0m\u001b[0m\n\u001b[1;32m   2079\u001b[0m         \u001b[0;31m# X is already a transformed view of raw_documents so\u001b[0m\u001b[0;34m\u001b[0m\u001b[0;34m\u001b[0m\u001b[0;34m\u001b[0m\u001b[0m\n",
            "\u001b[0;32m/usr/local/lib/python3.7/dist-packages/sklearn/feature_extraction/text.py\u001b[0m in \u001b[0;36mfit_transform\u001b[0;34m(self, raw_documents, y)\u001b[0m\n\u001b[1;32m   1328\u001b[0m                     \u001b[0;32mbreak\u001b[0m\u001b[0;34m\u001b[0m\u001b[0;34m\u001b[0m\u001b[0m\n\u001b[1;32m   1329\u001b[0m \u001b[0;34m\u001b[0m\u001b[0m\n\u001b[0;32m-> 1330\u001b[0;31m         \u001b[0mvocabulary\u001b[0m\u001b[0;34m,\u001b[0m \u001b[0mX\u001b[0m \u001b[0;34m=\u001b[0m \u001b[0mself\u001b[0m\u001b[0;34m.\u001b[0m\u001b[0m_count_vocab\u001b[0m\u001b[0;34m(\u001b[0m\u001b[0mraw_documents\u001b[0m\u001b[0;34m,\u001b[0m \u001b[0mself\u001b[0m\u001b[0;34m.\u001b[0m\u001b[0mfixed_vocabulary_\u001b[0m\u001b[0;34m)\u001b[0m\u001b[0;34m\u001b[0m\u001b[0;34m\u001b[0m\u001b[0m\n\u001b[0m\u001b[1;32m   1331\u001b[0m \u001b[0;34m\u001b[0m\u001b[0m\n\u001b[1;32m   1332\u001b[0m         \u001b[0;32mif\u001b[0m \u001b[0mself\u001b[0m\u001b[0;34m.\u001b[0m\u001b[0mbinary\u001b[0m\u001b[0;34m:\u001b[0m\u001b[0;34m\u001b[0m\u001b[0;34m\u001b[0m\u001b[0m\n",
            "\u001b[0;32m/usr/local/lib/python3.7/dist-packages/sklearn/feature_extraction/text.py\u001b[0m in \u001b[0;36m_count_vocab\u001b[0;34m(self, raw_documents, fixed_vocab)\u001b[0m\n\u001b[1;32m   1201\u001b[0m             \u001b[0;32mfor\u001b[0m \u001b[0mfeature\u001b[0m \u001b[0;32min\u001b[0m \u001b[0manalyze\u001b[0m\u001b[0;34m(\u001b[0m\u001b[0mdoc\u001b[0m\u001b[0;34m)\u001b[0m\u001b[0;34m:\u001b[0m\u001b[0;34m\u001b[0m\u001b[0;34m\u001b[0m\u001b[0m\n\u001b[1;32m   1202\u001b[0m                 \u001b[0;32mtry\u001b[0m\u001b[0;34m:\u001b[0m\u001b[0;34m\u001b[0m\u001b[0;34m\u001b[0m\u001b[0m\n\u001b[0;32m-> 1203\u001b[0;31m                     \u001b[0mfeature_idx\u001b[0m \u001b[0;34m=\u001b[0m \u001b[0mvocabulary\u001b[0m\u001b[0;34m[\u001b[0m\u001b[0mfeature\u001b[0m\u001b[0;34m]\u001b[0m\u001b[0;34m\u001b[0m\u001b[0;34m\u001b[0m\u001b[0m\n\u001b[0m\u001b[1;32m   1204\u001b[0m                     \u001b[0;32mif\u001b[0m \u001b[0mfeature_idx\u001b[0m \u001b[0;32mnot\u001b[0m \u001b[0;32min\u001b[0m \u001b[0mfeature_counter\u001b[0m\u001b[0;34m:\u001b[0m\u001b[0;34m\u001b[0m\u001b[0;34m\u001b[0m\u001b[0m\n\u001b[1;32m   1205\u001b[0m                         \u001b[0mfeature_counter\u001b[0m\u001b[0;34m[\u001b[0m\u001b[0mfeature_idx\u001b[0m\u001b[0;34m]\u001b[0m \u001b[0;34m=\u001b[0m \u001b[0;36m1\u001b[0m\u001b[0;34m\u001b[0m\u001b[0;34m\u001b[0m\u001b[0m\n",
            "\u001b[0;31mKeyboardInterrupt\u001b[0m: "
          ]
        }
      ]
    },
    {
      "cell_type": "markdown",
      "source": [
        "**Here I tried to use TF-IDF but it ate all the RAM and the notebook failed several times**"
      ],
      "metadata": {
        "id": "-TJsNHC57mkD"
      },
      "id": "-TJsNHC57mkD"
    },
    {
      "cell_type": "markdown",
      "source": [
        "**Trying another technique**"
      ],
      "metadata": {
        "id": "F0QLovXF9dAl"
      },
      "id": "F0QLovXF9dAl"
    },
    {
      "cell_type": "code",
      "source": [
        "from sklearn.feature_extraction.text import CountVectorizer\n",
        "cv = CountVectorizer(max_features=5000)\n",
        "x = cv.fit_transform(dff_f)"
      ],
      "metadata": {
        "id": "8RoCnV979iBG"
      },
      "id": "8RoCnV979iBG",
      "execution_count": 48,
      "outputs": []
    },
    {
      "cell_type": "code",
      "source": [
        "word_count = pd.DataFrame({'word': cv.get_feature_names(), 'count': np.asarray(x.sum(axis=0))[0]});\n",
        "\n",
        "word_count.sort_values('count', ascending=False).set_index('word')[:20].sort_values('count', ascending=True).plot(kind='barh');"
      ],
      "metadata": {
        "colab": {
          "base_uri": "https://localhost:8080/",
          "height": 320
        },
        "id": "rBeC54W09yAn",
        "outputId": "bdeb1faf-a34b-4729-c55c-9faeebe7104d"
      },
      "id": "rBeC54W09yAn",
      "execution_count": 49,
      "outputs": [
        {
          "output_type": "stream",
          "name": "stderr",
          "text": [
            "/usr/local/lib/python3.7/dist-packages/sklearn/utils/deprecation.py:87: FutureWarning: Function get_feature_names is deprecated; get_feature_names is deprecated in 1.0 and will be removed in 1.2. Please use get_feature_names_out instead.\n",
            "  warnings.warn(msg, category=FutureWarning)\n"
          ]
        },
        {
          "output_type": "display_data",
          "data": {
            "text/plain": [
              "<Figure size 432x288 with 1 Axes>"
            ],
            "image/png": "[encoded data removed]"
          },
          "metadata": {
            "needs_background": "light"
          }
        }
      ]
    },
    {
      "cell_type": "markdown",
      "source": [
        "## b- Doc2Vec"
      ],
      "metadata": {
        "id": "K7cK-nnVCog7"
      },
      "id": "K7cK-nnVCog7"
    },
    {
      "cell_type": "code",
      "source": [
        "from nltk.corpus import stopwords\n",
        "from bs4 import BeautifulSoup\n",
        "\n",
        "def cleanText(text):\n",
        "    text = BeautifulSoup(text, \"lxml\").text\n",
        "    text = re.sub(r'\\|\\|\\|', r' ', text) \n",
        "    text = re.sub(r'http\\S+', r'<URL>', text)\n",
        "    text = text.lower()\n",
        "    text = text.replace('x', '')\n",
        "    return text\n",
        "    \n",
        "def tokenize_text(text):\n",
        "    tokens = []\n",
        "    for sent in nltk.sent_tokenize(text):\n",
        "        for word in nltk.word_tokenize(sent):\n",
        "            if len(word) < 2:\n",
        "                continue\n",
        "            tokens.append(word.lower())\n",
        "    return tokens"
      ],
      "metadata": {
        "id": "iYXPfj3TDg-X"
      },
      "id": "iYXPfj3TDg-X",
      "execution_count": 52,
      "outputs": []
    },
    {
      "cell_type": "code",
      "source": [
        "import nltk\n",
        "#nltk.download('punkt')\n",
        "dff['Abstract'] = dff['Abstract'].apply(cleanText)\n",
        "\n",
        "train_tagged = dff.apply(\n",
        "    lambda r: TaggedDocument(words=tokenize_text(r['Abstract']), tags=[r.Title]), axis=1)"
      ],
      "metadata": {
        "colab": {
          "base_uri": "https://localhost:8080/"
        },
        "id": "tTenWQZYD59y",
        "outputId": "0652eef0-7adf-47dc-a460-4bb98f5e13d8"
      },
      "id": "tTenWQZYD59y",
      "execution_count": 68,
      "outputs": [
        {
          "output_type": "stream",
          "name": "stdout",
          "text": [
            "[nltk_data] Downloading package punkt to /root/nltk_data...\n",
            "[nltk_data]   Package punkt is already up-to-date!\n"
          ]
        },
        {
          "output_type": "stream",
          "name": "stderr",
          "text": [
            "/usr/local/lib/python3.7/dist-packages/bs4/__init__.py:273: UserWarning: \"b'.'\" looks like a filename, not markup. You should probably open this file and pass the filehandle into Beautiful Soup.\n",
            "  ' Beautiful Soup.' % markup)\n"
          ]
        }
      ]
    },
    {
      "cell_type": "code",
      "source": [
        "import gensim\n",
        "from gensim.models import Doc2Vec\n",
        "from gensim.models.doc2vec import TaggedDocument\n",
        "import multiprocessing\n",
        "cores = multiprocessing.cpu_count()\n",
        "\n",
        "model_dbow = Doc2Vec(dm=0, vector_size=300, negative=5, hs=0, min_count=2, sample = 0, workers=cores)\n",
        "model_dbow.build_vocab([x for x in tqdm(train_tagged)])\n"
      ],
      "metadata": {
        "colab": {
          "base_uri": "https://localhost:8080/"
        },
        "id": "U2-uiIm0Cshw",
        "outputId": "d90aa564-5b11-466a-a6b4-65372a140ac5"
      },
      "id": "U2-uiIm0Cshw",
      "execution_count": 71,
      "outputs": [
        {
          "output_type": "stream",
          "name": "stderr",
          "text": [
            "100%|██████████| 4999/4999 [00:00<00:00, 1323694.80it/s]\n"
          ]
        }
      ]
    },
    {
      "cell_type": "code",
      "source": [
        "ff =  []\n",
        "for i in range(0,4999):\n",
        "  ff.append(model_dbow[i].sum())\n",
        "print(min(ff), max(ff))"
      ],
      "metadata": {
        "colab": {
          "base_uri": "https://localhost:8080/"
        },
        "id": "BU7iD2n9E96i",
        "outputId": "7a64718a-0ace-48ba-be63-4ec7eb0daaf3"
      },
      "id": "BU7iD2n9E96i",
      "execution_count": 118,
      "outputs": [
        {
          "output_type": "stream",
          "name": "stdout",
          "text": [
            "-0.058116704 0.05513382\n"
          ]
        }
      ]
    },
    {
      "cell_type": "code",
      "source": [
        "for i in range(0,4999):\n",
        "  ff[i] = ff[i] + 2.2554016293474533e-10 + 0.058116704\n",
        "min(ff)"
      ],
      "metadata": {
        "colab": {
          "base_uri": "https://localhost:8080/"
        },
        "id": "iGNb5-gGLpi1",
        "outputId": "71acb49f-910f-411d-df0d-054840b7e4ef"
      },
      "id": "iGNb5-gGLpi1",
      "execution_count": 119,
      "outputs": [
        {
          "output_type": "execute_result",
          "data": {
            "text/plain": [
              "0.0"
            ]
          },
          "metadata": {},
          "execution_count": 119
        }
      ]
    },
    {
      "cell_type": "code",
      "source": [
        "def recall(index, no):\n",
        "  y = []\n",
        "  for i in range(0,4999):\n",
        "    y.append(abs(ff[index] - ff[i]))\n",
        "  z = pd.DataFrame(data = y)\n",
        "  k_nearest = z[z != 0].nsmallest(n=no, columns = 0).index\n",
        "  k_distances = z[z != 0].nsmallest(n=no, columns = 0)\n",
        "\n",
        "  return k_nearest, k_distances\n",
        "k_nearest, k_distances = recall(55, 5)\n",
        "k_nearest = dff.iloc[k_nearest].copy()\n",
        "k_nearest['similarity'] = 1 - k_distances\n",
        "print(dff[\"Title\"][55])\n",
        "k_nearest"
      ],
      "metadata": {
        "colab": {
          "base_uri": "https://localhost:8080/",
          "height": 223
        },
        "id": "mAawJRtEH6Ox",
        "outputId": "6385af37-a4f6-4725-d568-de39f797e682"
      },
      "id": "mAawJRtEH6Ox",
      "execution_count": 158,
      "outputs": [
        {
          "output_type": "stream",
          "name": "stdout",
          "text": [
            "transformation of the learning process in higher education institutions under the influence of the pandemic covid-19.\n"
          ]
        },
        {
          "output_type": "execute_result",
          "data": {
            "text/plain": [
              "      ArticleID                                              Title  \\\n",
              "2682   34705848  comparison of service tactic formation on play...   \n",
              "3079   34811072  morphological description of a new specimen of...   \n",
              "4355   34328475  horizontal bone augmentation in the posterior ...   \n",
              "1248   34361755  humic acid improves zn fertilization in oxisol...   \n",
              "1555   34424515     sensory systems of the african naked mole-rat.   \n",
              "\n",
              "                                               Abstract  similarity  \n",
              "2682  the aim of this study was to analyze the influ...    0.999994  \n",
              "3079  the original description of burbrinks keelback...    0.999990  \n",
              "4355  the aim of this study was to analyze horizonta...    0.999988  \n",
              "1248  zinc (zn) is an essential micronutrient for pl...    0.999985  \n",
              "1555  naked mole-rats share some sensory characteris...    0.999974  "
            ],
            "text/html": [
              "\n",
              "  <div id=\"df-65b748cd-a4f1-47a8-8ab8-c8ec35bf7d9b\">\n",
              "    <div class=\"colab-df-container\">\n",
              "      <div>\n",
              "<style scoped>\n",
              "    .dataframe tbody tr th:only-of-type {\n",
              "        vertical-align: middle;\n",
              "    }\n",
              "\n",
              "    .dataframe tbody tr th {\n",
              "        vertical-align: top;\n",
              "    }\n",
              "\n",
              "    .dataframe thead th {\n",
              "        text-align: right;\n",
              "    }\n",
              "</style>\n",
              "<table border=\"1\" class=\"dataframe\">\n",
              "  <thead>\n",
              "    <tr style=\"text-align: right;\">\n",
              "      <th></th>\n",
              "      <th>ArticleID</th>\n",
              "      <th>Title</th>\n",
              "      <th>Abstract</th>\n",
              "      <th>similarity</th>\n",
              "    </tr>\n",
              "  </thead>\n",
              "  <tbody>\n",
              "    <tr>\n",
              "      <th>2682</th>\n",
              "      <td>34705848</td>\n",
              "      <td>comparison of service tactic formation on play...</td>\n",
              "      <td>the aim of this study was to analyze the influ...</td>\n",
              "      <td>0.999994</td>\n",
              "    </tr>\n",
              "    <tr>\n",
              "      <th>3079</th>\n",
              "      <td>34811072</td>\n",
              "      <td>morphological description of a new specimen of...</td>\n",
              "      <td>the original description of burbrinks keelback...</td>\n",
              "      <td>0.999990</td>\n",
              "    </tr>\n",
              "    <tr>\n",
              "      <th>4355</th>\n",
              "      <td>34328475</td>\n",
              "      <td>horizontal bone augmentation in the posterior ...</td>\n",
              "      <td>the aim of this study was to analyze horizonta...</td>\n",
              "      <td>0.999988</td>\n",
              "    </tr>\n",
              "    <tr>\n",
              "      <th>1248</th>\n",
              "      <td>34361755</td>\n",
              "      <td>humic acid improves zn fertilization in oxisol...</td>\n",
              "      <td>zinc (zn) is an essential micronutrient for pl...</td>\n",
              "      <td>0.999985</td>\n",
              "    </tr>\n",
              "    <tr>\n",
              "      <th>1555</th>\n",
              "      <td>34424515</td>\n",
              "      <td>sensory systems of the african naked mole-rat.</td>\n",
              "      <td>naked mole-rats share some sensory characteris...</td>\n",
              "      <td>0.999974</td>\n",
              "    </tr>\n",
              "  </tbody>\n",
              "</table>\n",
              "</div>\n",
              "      <button class=\"colab-df-convert\" onclick=\"convertToInteractive('df-65b748cd-a4f1-47a8-8ab8-c8ec35bf7d9b')\"\n",
              "              title=\"Convert this dataframe to an interactive table.\"\n",
              "              style=\"display:none;\">\n",
              "        \n",
              "  <svg xmlns=\"http://www.w3.org/2000/svg\" height=\"24px\"viewBox=\"0 0 24 24\"\n",
              "       width=\"24px\">\n",
              "    <path d=\"M0 0h24v24H0V0z\" fill=\"none\"/>\n",
              "    <path d=\"M18.56 5.44l.94 2.06.94-2.06 2.06-.94-2.06-.94-.94-2.06-.94 2.06-2.06.94zm-11 1L8.5 8.5l.94-2.06 2.06-.94-2.06-.94L8.5 2.5l-.94 2.06-2.06.94zm10 10l.94 2.06.94-2.06 2.06-.94-2.06-.94-.94-2.06-.94 2.06-2.06.94z\"/><path d=\"M17.41 7.96l-1.37-1.37c-.4-.4-.92-.59-1.43-.59-.52 0-1.04.2-1.43.59L10.3 9.45l-7.72 7.72c-.78.78-.78 2.05 0 2.83L4 21.41c.39.39.9.59 1.41.59.51 0 1.02-.2 1.41-.59l7.78-7.78 2.81-2.81c.8-.78.8-2.07 0-2.86zM5.41 20L4 18.59l7.72-7.72 1.47 1.35L5.41 20z\"/>\n",
              "  </svg>\n",
              "      </button>\n",
              "      \n",
              "  <style>\n",
              "    .colab-df-container {\n",
              "      display:flex;\n",
              "      flex-wrap:wrap;\n",
              "      gap: 12px;\n",
              "    }\n",
              "\n",
              "    .colab-df-convert {\n",
              "      background-color: #E8F0FE;\n",
              "      border: none;\n",
              "      border-radius: 50%;\n",
              "      cursor: pointer;\n",
              "      display: none;\n",
              "      fill: #1967D2;\n",
              "      height: 32px;\n",
              "      padding: 0 0 0 0;\n",
              "      width: 32px;\n",
              "    }\n",
              "\n",
              "    .colab-df-convert:hover {\n",
              "      background-color: #E2EBFA;\n",
              "      box-shadow: 0px 1px 2px rgba(60, 64, 67, 0.3), 0px 1px 3px 1px rgba(60, 64, 67, 0.15);\n",
              "      fill: #174EA6;\n",
              "    }\n",
              "\n",
              "    [theme=dark] .colab-df-convert {\n",
              "      background-color: #3B4455;\n",
              "      fill: #D2E3FC;\n",
              "    }\n",
              "\n",
              "    [theme=dark] .colab-df-convert:hover {\n",
              "      background-color: #434B5C;\n",
              "      box-shadow: 0px 1px 3px 1px rgba(0, 0, 0, 0.15);\n",
              "      filter: drop-shadow(0px 1px 2px rgba(0, 0, 0, 0.3));\n",
              "      fill: #FFFFFF;\n",
              "    }\n",
              "  </style>\n",
              "\n",
              "      <script>\n",
              "        const buttonEl =\n",
              "          document.querySelector('#df-65b748cd-a4f1-47a8-8ab8-c8ec35bf7d9b button.colab-df-convert');\n",
              "        buttonEl.style.display =\n",
              "          google.colab.kernel.accessAllowed ? 'block' : 'none';\n",
              "\n",
              "        async function convertToInteractive(key) {\n",
              "          const element = document.querySelector('#df-65b748cd-a4f1-47a8-8ab8-c8ec35bf7d9b');\n",
              "          const dataTable =\n",
              "            await google.colab.kernel.invokeFunction('convertToInteractive',\n",
              "                                                     [key], {});\n",
              "          if (!dataTable) return;\n",
              "\n",
              "          const docLinkHtml = 'Like what you see? Visit the ' +\n",
              "            '<a target=\"_blank\" href=https://colab.research.google.com/notebooks/data_table.ipynb>data table notebook</a>'\n",
              "            + ' to learn more about interactive tables.';\n",
              "          element.innerHTML = '';\n",
              "          dataTable['output_type'] = 'display_data';\n",
              "          await google.colab.output.renderOutput(dataTable, element);\n",
              "          const docLink = document.createElement('div');\n",
              "          docLink.innerHTML = docLinkHtml;\n",
              "          element.appendChild(docLink);\n",
              "        }\n",
              "      </script>\n",
              "    </div>\n",
              "  </div>\n",
              "  "
            ]
          },
          "metadata": {},
          "execution_count": 158
        }
      ]
    },
    {
      "cell_type": "markdown",
      "source": [
        "**The output is not accurate at all**"
      ],
      "metadata": {
        "id": "lf9WpDTlaoaC"
      },
      "id": "lf9WpDTlaoaC"
    },
    {
      "cell_type": "markdown",
      "source": [
        "**Trying another way: standarizing then caculate**"
      ],
      "metadata": {
        "id": "NY0rn1WMkMqU"
      },
      "id": "NY0rn1WMkMqU"
    },
    {
      "cell_type": "code",
      "source": [
        "def createList(r1, r2):\n",
        "    return list(range(r1, r2+1))\n",
        "c = createList(0,299)\n",
        "mm = pd.DataFrame(columns=c)\n",
        "for i in range(0,4999):\n",
        "  mm.loc[i] = model_dbow[i].tolist()"
      ],
      "metadata": {
        "id": "aRPd-AdBbPH4"
      },
      "id": "aRPd-AdBbPH4",
      "execution_count": 194,
      "outputs": []
    },
    {
      "cell_type": "code",
      "source": [
        "from sklearn import preprocessing\n",
        "\n",
        "x = mm.values #returns a numpy array\n",
        "min_max_scaler = preprocessing.MinMaxScaler()\n",
        "x_scaled = min_max_scaler.fit_transform(x)\n",
        "mm = pd.DataFrame(x_scaled)\n",
        "mm"
      ],
      "metadata": {
        "colab": {
          "base_uri": "https://localhost:8080/",
          "height": 487
        },
        "id": "Drfb4N0RiQd8",
        "outputId": "8dbdfe67-dc47-4c9d-d56d-ab53fd899896"
      },
      "id": "Drfb4N0RiQd8",
      "execution_count": 196,
      "outputs": [
        {
          "output_type": "execute_result",
          "data": {
            "text/plain": [
              "           0         1         2         3         4         5         6    \\\n",
              "0     0.089894  0.369600  0.332008  0.595841  0.018128  0.017275  0.562735   \n",
              "1     0.317504  0.557363  0.583980  0.447771  0.188604  0.347515  0.981862   \n",
              "2     0.722002  0.380749  0.899901  0.769520  0.423518  0.909521  0.368628   \n",
              "3     0.905034  0.794845  0.070314  0.307644  0.610371  0.976081  0.192522   \n",
              "4     0.062661  0.829117  0.525124  0.496244  0.905601  0.295196  0.619793   \n",
              "...        ...       ...       ...       ...       ...       ...       ...   \n",
              "4994  0.657629  0.128741  0.142826  0.347983  0.497668  0.180260  0.863540   \n",
              "4995  0.701940  0.247317  0.829493  0.871807  0.874163  0.116562  0.104741   \n",
              "4996  0.305791  0.384474  0.828508  0.106546  0.943456  0.094203  0.953582   \n",
              "4997  0.716411  0.867171  0.885773  0.142409  0.903439  0.599125  0.815813   \n",
              "4998  0.261326  0.427910  0.205406  0.997962  0.082332  0.980185  0.650582   \n",
              "\n",
              "           7         8         9    ...       290       291       292  \\\n",
              "0     0.304762  0.335081  0.633882  ...  0.894836  0.810402  0.564378   \n",
              "1     0.697830  0.558175  0.118489  ...  0.969805  0.092407  0.739942   \n",
              "2     0.262971  0.150332  0.433441  ...  0.745364  0.603967  0.954367   \n",
              "3     0.150411  0.715577  0.319864  ...  0.729250  0.378450  0.423002   \n",
              "4     0.279940  0.096250  0.317380  ...  0.702881  0.692837  0.830187   \n",
              "...        ...       ...       ...  ...       ...       ...       ...   \n",
              "4994  0.880724  0.995477  0.652383  ...  0.708442  0.152587  0.592475   \n",
              "4995  0.231601  0.771521  0.489427  ...  0.635340  0.350798  0.869020   \n",
              "4996  0.725918  0.398612  0.048188  ...  0.428616  0.478468  0.680098   \n",
              "4997  0.446064  0.795957  0.489554  ...  0.873023  0.367572  0.449885   \n",
              "4998  0.583283  0.517779  0.196563  ...  0.548379  0.270535  0.839899   \n",
              "\n",
              "           293       294       295       296       297       298       299  \n",
              "0     0.151806  0.672540  0.377672  0.037854  0.988988  0.957491  0.041221  \n",
              "1     0.948366  0.694402  0.056083  0.956811  0.066565  0.515202  0.338691  \n",
              "2     0.289632  0.351230  0.210537  0.698598  0.161505  0.644018  0.827259  \n",
              "3     0.027809  0.816988  0.777639  0.326946  0.278316  0.113979  0.502406  \n",
              "4     0.699670  0.664138  0.049378  0.612235  0.183757  0.136834  0.219840  \n",
              "...        ...       ...       ...       ...       ...       ...       ...  \n",
              "4994  0.304038  0.055604  0.821637  0.828354  0.670405  0.505290  0.236175  \n",
              "4995  0.669885  0.966913  0.849298  0.674542  0.309924  0.821711  0.189764  \n",
              "4996  0.205492  0.985762  0.697285  0.005021  0.376356  0.922298  0.686079  \n",
              "4997  0.556548  0.453721  0.523950  0.127837  0.053557  0.438268  0.116965  \n",
              "4998  0.397036  0.762615  0.824926  0.072952  0.056699  0.127112  0.757214  \n",
              "\n",
              "[4999 rows x 300 columns]"
            ],
            "text/html": [
              "\n",
              "  <div id=\"df-4aed673a-ef23-43db-8c4a-dbb4b031c6df\">\n",
              "    <div class=\"colab-df-container\">\n",
              "      <div>\n",
              "<style scoped>\n",
              "    .dataframe tbody tr th:only-of-type {\n",
              "        vertical-align: middle;\n",
              "    }\n",
              "\n",
              "    .dataframe tbody tr th {\n",
              "        vertical-align: top;\n",
              "    }\n",
              "\n",
              "    .dataframe thead th {\n",
              "        text-align: right;\n",
              "    }\n",
              "</style>\n",
              "<table border=\"1\" class=\"dataframe\">\n",
              "  <thead>\n",
              "    <tr style=\"text-align: right;\">\n",
              "      <th></th>\n",
              "      <th>0</th>\n",
              "      <th>1</th>\n",
              "      <th>2</th>\n",
              "      <th>3</th>\n",
              "      <th>4</th>\n",
              "      <th>5</th>\n",
              "      <th>6</th>\n",
              "      <th>7</th>\n",
              "      <th>8</th>\n",
              "      <th>9</th>\n",
              "      <th>...</th>\n",
              "      <th>290</th>\n",
              "      <th>291</th>\n",
              "      <th>292</th>\n",
              "      <th>293</th>\n",
              "      <th>294</th>\n",
              "      <th>295</th>\n",
              "      <th>296</th>\n",
              "      <th>297</th>\n",
              "      <th>298</th>\n",
              "      <th>299</th>\n",
              "    </tr>\n",
              "  </thead>\n",
              "  <tbody>\n",
              "    <tr>\n",
              "      <th>0</th>\n",
              "      <td>0.089894</td>\n",
              "      <td>0.369600</td>\n",
              "      <td>0.332008</td>\n",
              "      <td>0.595841</td>\n",
              "      <td>0.018128</td>\n",
              "      <td>0.017275</td>\n",
              "      <td>0.562735</td>\n",
              "      <td>0.304762</td>\n",
              "      <td>0.335081</td>\n",
              "      <td>0.633882</td>\n",
              "      <td>...</td>\n",
              "      <td>0.894836</td>\n",
              "      <td>0.810402</td>\n",
              "      <td>0.564378</td>\n",
              "      <td>0.151806</td>\n",
              "      <td>0.672540</td>\n",
              "      <td>0.377672</td>\n",
              "      <td>0.037854</td>\n",
              "      <td>0.988988</td>\n",
              "      <td>0.957491</td>\n",
              "      <td>0.041221</td>\n",
              "    </tr>\n",
              "    <tr>\n",
              "      <th>1</th>\n",
              "      <td>0.317504</td>\n",
              "      <td>0.557363</td>\n",
              "      <td>0.583980</td>\n",
              "      <td>0.447771</td>\n",
              "      <td>0.188604</td>\n",
              "      <td>0.347515</td>\n",
              "      <td>0.981862</td>\n",
              "      <td>0.697830</td>\n",
              "      <td>0.558175</td>\n",
              "      <td>0.118489</td>\n",
              "      <td>...</td>\n",
              "      <td>0.969805</td>\n",
              "      <td>0.092407</td>\n",
              "      <td>0.739942</td>\n",
              "      <td>0.948366</td>\n",
              "      <td>0.694402</td>\n",
              "      <td>0.056083</td>\n",
              "      <td>0.956811</td>\n",
              "      <td>0.066565</td>\n",
              "      <td>0.515202</td>\n",
              "      <td>0.338691</td>\n",
              "    </tr>\n",
              "    <tr>\n",
              "      <th>2</th>\n",
              "      <td>0.722002</td>\n",
              "      <td>0.380749</td>\n",
              "      <td>0.899901</td>\n",
              "      <td>0.769520</td>\n",
              "      <td>0.423518</td>\n",
              "      <td>0.909521</td>\n",
              "      <td>0.368628</td>\n",
              "      <td>0.262971</td>\n",
              "      <td>0.150332</td>\n",
              "      <td>0.433441</td>\n",
              "      <td>...</td>\n",
              "      <td>0.745364</td>\n",
              "      <td>0.603967</td>\n",
              "      <td>0.954367</td>\n",
              "      <td>0.289632</td>\n",
              "      <td>0.351230</td>\n",
              "      <td>0.210537</td>\n",
              "      <td>0.698598</td>\n",
              "      <td>0.161505</td>\n",
              "      <td>0.644018</td>\n",
              "      <td>0.827259</td>\n",
              "    </tr>\n",
              "    <tr>\n",
              "      <th>3</th>\n",
              "      <td>0.905034</td>\n",
              "      <td>0.794845</td>\n",
              "      <td>0.070314</td>\n",
              "      <td>0.307644</td>\n",
              "      <td>0.610371</td>\n",
              "      <td>0.976081</td>\n",
              "      <td>0.192522</td>\n",
              "      <td>0.150411</td>\n",
              "      <td>0.715577</td>\n",
              "      <td>0.319864</td>\n",
              "      <td>...</td>\n",
              "      <td>0.729250</td>\n",
              "      <td>0.378450</td>\n",
              "      <td>0.423002</td>\n",
              "      <td>0.027809</td>\n",
              "      <td>0.816988</td>\n",
              "      <td>0.777639</td>\n",
              "      <td>0.326946</td>\n",
              "      <td>0.278316</td>\n",
              "      <td>0.113979</td>\n",
              "      <td>0.502406</td>\n",
              "    </tr>\n",
              "    <tr>\n",
              "      <th>4</th>\n",
              "      <td>0.062661</td>\n",
              "      <td>0.829117</td>\n",
              "      <td>0.525124</td>\n",
              "      <td>0.496244</td>\n",
              "      <td>0.905601</td>\n",
              "      <td>0.295196</td>\n",
              "      <td>0.619793</td>\n",
              "      <td>0.279940</td>\n",
              "      <td>0.096250</td>\n",
              "      <td>0.317380</td>\n",
              "      <td>...</td>\n",
              "      <td>0.702881</td>\n",
              "      <td>0.692837</td>\n",
              "      <td>0.830187</td>\n",
              "      <td>0.699670</td>\n",
              "      <td>0.664138</td>\n",
              "      <td>0.049378</td>\n",
              "      <td>0.612235</td>\n",
              "      <td>0.183757</td>\n",
              "      <td>0.136834</td>\n",
              "      <td>0.219840</td>\n",
              "    </tr>\n",
              "    <tr>\n",
              "      <th>...</th>\n",
              "      <td>...</td>\n",
              "      <td>...</td>\n",
              "      <td>...</td>\n",
              "      <td>...</td>\n",
              "      <td>...</td>\n",
              "      <td>...</td>\n",
              "      <td>...</td>\n",
              "      <td>...</td>\n",
              "      <td>...</td>\n",
              "      <td>...</td>\n",
              "      <td>...</td>\n",
              "      <td>...</td>\n",
              "      <td>...</td>\n",
              "      <td>...</td>\n",
              "      <td>...</td>\n",
              "      <td>...</td>\n",
              "      <td>...</td>\n",
              "      <td>...</td>\n",
              "      <td>...</td>\n",
              "      <td>...</td>\n",
              "      <td>...</td>\n",
              "    </tr>\n",
              "    <tr>\n",
              "      <th>4994</th>\n",
              "      <td>0.657629</td>\n",
              "      <td>0.128741</td>\n",
              "      <td>0.142826</td>\n",
              "      <td>0.347983</td>\n",
              "      <td>0.497668</td>\n",
              "      <td>0.180260</td>\n",
              "      <td>0.863540</td>\n",
              "      <td>0.880724</td>\n",
              "      <td>0.995477</td>\n",
              "      <td>0.652383</td>\n",
              "      <td>...</td>\n",
              "      <td>0.708442</td>\n",
              "      <td>0.152587</td>\n",
              "      <td>0.592475</td>\n",
              "      <td>0.304038</td>\n",
              "      <td>0.055604</td>\n",
              "      <td>0.821637</td>\n",
              "      <td>0.828354</td>\n",
              "      <td>0.670405</td>\n",
              "      <td>0.505290</td>\n",
              "      <td>0.236175</td>\n",
              "    </tr>\n",
              "    <tr>\n",
              "      <th>4995</th>\n",
              "      <td>0.701940</td>\n",
              "      <td>0.247317</td>\n",
              "      <td>0.829493</td>\n",
              "      <td>0.871807</td>\n",
              "      <td>0.874163</td>\n",
              "      <td>0.116562</td>\n",
              "      <td>0.104741</td>\n",
              "      <td>0.231601</td>\n",
              "      <td>0.771521</td>\n",
              "      <td>0.489427</td>\n",
              "      <td>...</td>\n",
              "      <td>0.635340</td>\n",
              "      <td>0.350798</td>\n",
              "      <td>0.869020</td>\n",
              "      <td>0.669885</td>\n",
              "      <td>0.966913</td>\n",
              "      <td>0.849298</td>\n",
              "      <td>0.674542</td>\n",
              "      <td>0.309924</td>\n",
              "      <td>0.821711</td>\n",
              "      <td>0.189764</td>\n",
              "    </tr>\n",
              "    <tr>\n",
              "      <th>4996</th>\n",
              "      <td>0.305791</td>\n",
              "      <td>0.384474</td>\n",
              "      <td>0.828508</td>\n",
              "      <td>0.106546</td>\n",
              "      <td>0.943456</td>\n",
              "      <td>0.094203</td>\n",
              "      <td>0.953582</td>\n",
              "      <td>0.725918</td>\n",
              "      <td>0.398612</td>\n",
              "      <td>0.048188</td>\n",
              "      <td>...</td>\n",
              "      <td>0.428616</td>\n",
              "      <td>0.478468</td>\n",
              "      <td>0.680098</td>\n",
              "      <td>0.205492</td>\n",
              "      <td>0.985762</td>\n",
              "      <td>0.697285</td>\n",
              "      <td>0.005021</td>\n",
              "      <td>0.376356</td>\n",
              "      <td>0.922298</td>\n",
              "      <td>0.686079</td>\n",
              "    </tr>\n",
              "    <tr>\n",
              "      <th>4997</th>\n",
              "      <td>0.716411</td>\n",
              "      <td>0.867171</td>\n",
              "      <td>0.885773</td>\n",
              "      <td>0.142409</td>\n",
              "      <td>0.903439</td>\n",
              "      <td>0.599125</td>\n",
              "      <td>0.815813</td>\n",
              "      <td>0.446064</td>\n",
              "      <td>0.795957</td>\n",
              "      <td>0.489554</td>\n",
              "      <td>...</td>\n",
              "      <td>0.873023</td>\n",
              "      <td>0.367572</td>\n",
              "      <td>0.449885</td>\n",
              "      <td>0.556548</td>\n",
              "      <td>0.453721</td>\n",
              "      <td>0.523950</td>\n",
              "      <td>0.127837</td>\n",
              "      <td>0.053557</td>\n",
              "      <td>0.438268</td>\n",
              "      <td>0.116965</td>\n",
              "    </tr>\n",
              "    <tr>\n",
              "      <th>4998</th>\n",
              "      <td>0.261326</td>\n",
              "      <td>0.427910</td>\n",
              "      <td>0.205406</td>\n",
              "      <td>0.997962</td>\n",
              "      <td>0.082332</td>\n",
              "      <td>0.980185</td>\n",
              "      <td>0.650582</td>\n",
              "      <td>0.583283</td>\n",
              "      <td>0.517779</td>\n",
              "      <td>0.196563</td>\n",
              "      <td>...</td>\n",
              "      <td>0.548379</td>\n",
              "      <td>0.270535</td>\n",
              "      <td>0.839899</td>\n",
              "      <td>0.397036</td>\n",
              "      <td>0.762615</td>\n",
              "      <td>0.824926</td>\n",
              "      <td>0.072952</td>\n",
              "      <td>0.056699</td>\n",
              "      <td>0.127112</td>\n",
              "      <td>0.757214</td>\n",
              "    </tr>\n",
              "  </tbody>\n",
              "</table>\n",
              "<p>4999 rows × 300 columns</p>\n",
              "</div>\n",
              "      <button class=\"colab-df-convert\" onclick=\"convertToInteractive('df-4aed673a-ef23-43db-8c4a-dbb4b031c6df')\"\n",
              "              title=\"Convert this dataframe to an interactive table.\"\n",
              "              style=\"display:none;\">\n",
              "        \n",
              "  <svg xmlns=\"http://www.w3.org/2000/svg\" height=\"24px\"viewBox=\"0 0 24 24\"\n",
              "       width=\"24px\">\n",
              "    <path d=\"M0 0h24v24H0V0z\" fill=\"none\"/>\n",
              "    <path d=\"M18.56 5.44l.94 2.06.94-2.06 2.06-.94-2.06-.94-.94-2.06-.94 2.06-2.06.94zm-11 1L8.5 8.5l.94-2.06 2.06-.94-2.06-.94L8.5 2.5l-.94 2.06-2.06.94zm10 10l.94 2.06.94-2.06 2.06-.94-2.06-.94-.94-2.06-.94 2.06-2.06.94z\"/><path d=\"M17.41 7.96l-1.37-1.37c-.4-.4-.92-.59-1.43-.59-.52 0-1.04.2-1.43.59L10.3 9.45l-7.72 7.72c-.78.78-.78 2.05 0 2.83L4 21.41c.39.39.9.59 1.41.59.51 0 1.02-.2 1.41-.59l7.78-7.78 2.81-2.81c.8-.78.8-2.07 0-2.86zM5.41 20L4 18.59l7.72-7.72 1.47 1.35L5.41 20z\"/>\n",
              "  </svg>\n",
              "      </button>\n",
              "      \n",
              "  <style>\n",
              "    .colab-df-container {\n",
              "      display:flex;\n",
              "      flex-wrap:wrap;\n",
              "      gap: 12px;\n",
              "    }\n",
              "\n",
              "    .colab-df-convert {\n",
              "      background-color: #E8F0FE;\n",
              "      border: none;\n",
              "      border-radius: 50%;\n",
              "      cursor: pointer;\n",
              "      display: none;\n",
              "      fill: #1967D2;\n",
              "      height: 32px;\n",
              "      padding: 0 0 0 0;\n",
              "      width: 32px;\n",
              "    }\n",
              "\n",
              "    .colab-df-convert:hover {\n",
              "      background-color: #E2EBFA;\n",
              "      box-shadow: 0px 1px 2px rgba(60, 64, 67, 0.3), 0px 1px 3px 1px rgba(60, 64, 67, 0.15);\n",
              "      fill: #174EA6;\n",
              "    }\n",
              "\n",
              "    [theme=dark] .colab-df-convert {\n",
              "      background-color: #3B4455;\n",
              "      fill: #D2E3FC;\n",
              "    }\n",
              "\n",
              "    [theme=dark] .colab-df-convert:hover {\n",
              "      background-color: #434B5C;\n",
              "      box-shadow: 0px 1px 3px 1px rgba(0, 0, 0, 0.15);\n",
              "      filter: drop-shadow(0px 1px 2px rgba(0, 0, 0, 0.3));\n",
              "      fill: #FFFFFF;\n",
              "    }\n",
              "  </style>\n",
              "\n",
              "      <script>\n",
              "        const buttonEl =\n",
              "          document.querySelector('#df-4aed673a-ef23-43db-8c4a-dbb4b031c6df button.colab-df-convert');\n",
              "        buttonEl.style.display =\n",
              "          google.colab.kernel.accessAllowed ? 'block' : 'none';\n",
              "\n",
              "        async function convertToInteractive(key) {\n",
              "          const element = document.querySelector('#df-4aed673a-ef23-43db-8c4a-dbb4b031c6df');\n",
              "          const dataTable =\n",
              "            await google.colab.kernel.invokeFunction('convertToInteractive',\n",
              "                                                     [key], {});\n",
              "          if (!dataTable) return;\n",
              "\n",
              "          const docLinkHtml = 'Like what you see? Visit the ' +\n",
              "            '<a target=\"_blank\" href=https://colab.research.google.com/notebooks/data_table.ipynb>data table notebook</a>'\n",
              "            + ' to learn more about interactive tables.';\n",
              "          element.innerHTML = '';\n",
              "          dataTable['output_type'] = 'display_data';\n",
              "          await google.colab.output.renderOutput(dataTable, element);\n",
              "          const docLink = document.createElement('div');\n",
              "          docLink.innerHTML = docLinkHtml;\n",
              "          element.appendChild(docLink);\n",
              "        }\n",
              "      </script>\n",
              "    </div>\n",
              "  </div>\n",
              "  "
            ]
          },
          "metadata": {},
          "execution_count": 196
        }
      ]
    },
    {
      "cell_type": "code",
      "source": [
        "from scipy.spatial.distance import jensenshannon\n",
        "y = mm[dff.ArticleID == 34160290].iloc[0]\n",
        "d = mm.apply(lambda x: jensenshannon(x, y), axis=1)\n",
        "k_nearest = d[d != 0].nsmallest(n=5).index\n",
        "k_distances = d[d != 0].nsmallest(n=5)\n",
        "k_nearest = dff.iloc[k_nearest].copy()\n",
        "k_nearest['similarity'] = 1 - k_distances \n",
        "k_nearest['Abstract'][4970]"
      ],
      "metadata": {
        "colab": {
          "base_uri": "https://localhost:8080/",
          "height": 206
        },
        "id": "tBqYCU0ihj-w",
        "outputId": "d5fd64f2-5b92-409e-aeb0-b70f516a6198"
      },
      "id": "tBqYCU0ihj-w",
      "execution_count": 215,
      "outputs": [
        {
          "output_type": "execute_result",
          "data": {
            "text/plain": [
              "      ArticleID                                              Title  \\\n",
              "1077   34338672  a large animal model for pulmonary hypertensio...   \n",
              "674    34272416  associations between the spatiotemporal distri...   \n",
              "2789   34721567  tuna swarm optimization: a novel swarm-based m...   \n",
              "3055   34811041  diversity and distribution of the superfamily ...   \n",
              "4375   34334593  neurofibromatosis type 1 with concurrent multi...   \n",
              "\n",
              "                                               Abstract  similarity  \n",
              "1077  decompensated right ventricular failure (rvf) ...    0.649135  \n",
              "674   the etiology of kawasaki disease (kd), the mos...    0.651009  \n",
              "2789  in this paper, a novel swarm-based metaheurist...    0.651560  \n",
              "3055  based on the geographic distribution database ...    0.651816  \n",
              "4375  we encountered a 70-year-old japanese woman wi...    0.651976  "
            ],
            "text/html": [
              "\n",
              "  <div id=\"df-e108f941-97e4-4f54-a646-3375159844cc\">\n",
              "    <div class=\"colab-df-container\">\n",
              "      <div>\n",
              "<style scoped>\n",
              "    .dataframe tbody tr th:only-of-type {\n",
              "        vertical-align: middle;\n",
              "    }\n",
              "\n",
              "    .dataframe tbody tr th {\n",
              "        vertical-align: top;\n",
              "    }\n",
              "\n",
              "    .dataframe thead th {\n",
              "        text-align: right;\n",
              "    }\n",
              "</style>\n",
              "<table border=\"1\" class=\"dataframe\">\n",
              "  <thead>\n",
              "    <tr style=\"text-align: right;\">\n",
              "      <th></th>\n",
              "      <th>ArticleID</th>\n",
              "      <th>Title</th>\n",
              "      <th>Abstract</th>\n",
              "      <th>similarity</th>\n",
              "    </tr>\n",
              "  </thead>\n",
              "  <tbody>\n",
              "    <tr>\n",
              "      <th>1077</th>\n",
              "      <td>34338672</td>\n",
              "      <td>a large animal model for pulmonary hypertensio...</td>\n",
              "      <td>decompensated right ventricular failure (rvf) ...</td>\n",
              "      <td>0.649135</td>\n",
              "    </tr>\n",
              "    <tr>\n",
              "      <th>674</th>\n",
              "      <td>34272416</td>\n",
              "      <td>associations between the spatiotemporal distri...</td>\n",
              "      <td>the etiology of kawasaki disease (kd), the mos...</td>\n",
              "      <td>0.651009</td>\n",
              "    </tr>\n",
              "    <tr>\n",
              "      <th>2789</th>\n",
              "      <td>34721567</td>\n",
              "      <td>tuna swarm optimization: a novel swarm-based m...</td>\n",
              "      <td>in this paper, a novel swarm-based metaheurist...</td>\n",
              "      <td>0.651560</td>\n",
              "    </tr>\n",
              "    <tr>\n",
              "      <th>3055</th>\n",
              "      <td>34811041</td>\n",
              "      <td>diversity and distribution of the superfamily ...</td>\n",
              "      <td>based on the geographic distribution database ...</td>\n",
              "      <td>0.651816</td>\n",
              "    </tr>\n",
              "    <tr>\n",
              "      <th>4375</th>\n",
              "      <td>34334593</td>\n",
              "      <td>neurofibromatosis type 1 with concurrent multi...</td>\n",
              "      <td>we encountered a 70-year-old japanese woman wi...</td>\n",
              "      <td>0.651976</td>\n",
              "    </tr>\n",
              "  </tbody>\n",
              "</table>\n",
              "</div>\n",
              "      <button class=\"colab-df-convert\" onclick=\"convertToInteractive('df-e108f941-97e4-4f54-a646-3375159844cc')\"\n",
              "              title=\"Convert this dataframe to an interactive table.\"\n",
              "              style=\"display:none;\">\n",
              "        \n",
              "  <svg xmlns=\"http://www.w3.org/2000/svg\" height=\"24px\"viewBox=\"0 0 24 24\"\n",
              "       width=\"24px\">\n",
              "    <path d=\"M0 0h24v24H0V0z\" fill=\"none\"/>\n",
              "    <path d=\"M18.56 5.44l.94 2.06.94-2.06 2.06-.94-2.06-.94-.94-2.06-.94 2.06-2.06.94zm-11 1L8.5 8.5l.94-2.06 2.06-.94-2.06-.94L8.5 2.5l-.94 2.06-2.06.94zm10 10l.94 2.06.94-2.06 2.06-.94-2.06-.94-.94-2.06-.94 2.06-2.06.94z\"/><path d=\"M17.41 7.96l-1.37-1.37c-.4-.4-.92-.59-1.43-.59-.52 0-1.04.2-1.43.59L10.3 9.45l-7.72 7.72c-.78.78-.78 2.05 0 2.83L4 21.41c.39.39.9.59 1.41.59.51 0 1.02-.2 1.41-.59l7.78-7.78 2.81-2.81c.8-.78.8-2.07 0-2.86zM5.41 20L4 18.59l7.72-7.72 1.47 1.35L5.41 20z\"/>\n",
              "  </svg>\n",
              "      </button>\n",
              "      \n",
              "  <style>\n",
              "    .colab-df-container {\n",
              "      display:flex;\n",
              "      flex-wrap:wrap;\n",
              "      gap: 12px;\n",
              "    }\n",
              "\n",
              "    .colab-df-convert {\n",
              "      background-color: #E8F0FE;\n",
              "      border: none;\n",
              "      border-radius: 50%;\n",
              "      cursor: pointer;\n",
              "      display: none;\n",
              "      fill: #1967D2;\n",
              "      height: 32px;\n",
              "      padding: 0 0 0 0;\n",
              "      width: 32px;\n",
              "    }\n",
              "\n",
              "    .colab-df-convert:hover {\n",
              "      background-color: #E2EBFA;\n",
              "      box-shadow: 0px 1px 2px rgba(60, 64, 67, 0.3), 0px 1px 3px 1px rgba(60, 64, 67, 0.15);\n",
              "      fill: #174EA6;\n",
              "    }\n",
              "\n",
              "    [theme=dark] .colab-df-convert {\n",
              "      background-color: #3B4455;\n",
              "      fill: #D2E3FC;\n",
              "    }\n",
              "\n",
              "    [theme=dark] .colab-df-convert:hover {\n",
              "      background-color: #434B5C;\n",
              "      box-shadow: 0px 1px 3px 1px rgba(0, 0, 0, 0.15);\n",
              "      filter: drop-shadow(0px 1px 2px rgba(0, 0, 0, 0.3));\n",
              "      fill: #FFFFFF;\n",
              "    }\n",
              "  </style>\n",
              "\n",
              "      <script>\n",
              "        const buttonEl =\n",
              "          document.querySelector('#df-e108f941-97e4-4f54-a646-3375159844cc button.colab-df-convert');\n",
              "        buttonEl.style.display =\n",
              "          google.colab.kernel.accessAllowed ? 'block' : 'none';\n",
              "\n",
              "        async function convertToInteractive(key) {\n",
              "          const element = document.querySelector('#df-e108f941-97e4-4f54-a646-3375159844cc');\n",
              "          const dataTable =\n",
              "            await google.colab.kernel.invokeFunction('convertToInteractive',\n",
              "                                                     [key], {});\n",
              "          if (!dataTable) return;\n",
              "\n",
              "          const docLinkHtml = 'Like what you see? Visit the ' +\n",
              "            '<a target=\"_blank\" href=https://colab.research.google.com/notebooks/data_table.ipynb>data table notebook</a>'\n",
              "            + ' to learn more about interactive tables.';\n",
              "          element.innerHTML = '';\n",
              "          dataTable['output_type'] = 'display_data';\n",
              "          await google.colab.output.renderOutput(dataTable, element);\n",
              "          const docLink = document.createElement('div');\n",
              "          docLink.innerHTML = docLinkHtml;\n",
              "          element.appendChild(docLink);\n",
              "        }\n",
              "      </script>\n",
              "    </div>\n",
              "  </div>\n",
              "  "
            ]
          },
          "metadata": {},
          "execution_count": 215
        }
      ]
    },
    {
      "cell_type": "markdown",
      "source": [
        "**Also, not that effecient, the similarities are very low**"
      ],
      "metadata": {
        "id": "s5LA0nX4nE6E"
      },
      "id": "s5LA0nX4nE6E"
    },
    {
      "cell_type": "markdown",
      "source": [
        "## LDA"
      ],
      "metadata": {
        "id": "lNLM4WE1nXmF"
      },
      "id": "lNLM4WE1nXmF"
    },
    {
      "cell_type": "markdown",
      "source": [
        "## Importing all the libraries that will be used in this section"
      ],
      "metadata": {
        "id": "Bssv8JFrDU9r"
      },
      "id": "Bssv8JFrDU9r"
    },
    {
      "cell_type": "code",
      "source": [
        "from sklearn.feature_extraction import text\n",
        "from sklearn.feature_extraction.text import CountVectorizer, TfidfVectorizer\n",
        "from sklearn.decomposition import LatentDirichletAllocation\n",
        "#!pip install spacy\n",
        "#!pip install scispacy\n",
        "#!pip install https://github.com/explosion/spacy-models/releases/download/en_core_web_md-3.2.0/en_core_web_md-3.2.0.tar.gz\n",
        "#!pip install https://s3-us-west-2.amazonaws.com/ai2-s2-scispacy/releases/v0.5.0/en_core_sci_lg-0.5.0.tar.gz\n",
        "\n",
        "import scispacy\n",
        "import spacy\n",
        "import en_core_sci_lg\n",
        "#import en_core_web_md\n",
        "\n",
        "import joblib\n",
        "\n",
        "from IPython.display import HTML, display\n",
        "\n",
        "from ipywidgets import interact, Layout, HBox, VBox, Box\n",
        "import ipywidgets as widgets\n",
        "from IPython.display import clear_output\n",
        "\n",
        "from tqdm import tqdm\n",
        "from os.path import isfile"
      ],
      "metadata": {
        "id": "RQl2Q22kfBme"
      },
      "id": "RQl2Q22kfBme",
      "execution_count": 19,
      "outputs": []
    },
    {
      "cell_type": "markdown",
      "source": [
        "**Loading Spacy** \n",
        "\n",
        "[spaCy](https://spacy.io/usage/spacy-101) *is a free, open-source library for advanced Natural Language Processing (NLP) in Python.*"
      ],
      "metadata": {
        "id": "IgkveBMYF_Zt"
      },
      "id": "IgkveBMYF_Zt"
    },
    {
      "cell_type": "markdown",
      "source": [
        "There are 3 model size:\n",
        "> Model size indicator:\n",
        ">> **sm:** no word vectors <br>\n",
        ">> **md:** reduced word vector table with 20k unique vectors for ~500k words<br>\n",
        ">> **lg:** large word vector table with ~500k entriesUsing the lg"
      ],
      "metadata": {
        "id": "Fw1RvdZXJVBZ"
      },
      "id": "Fw1RvdZXJVBZ"
    },
    {
      "cell_type": "markdown",
      "source": [
        "**Here we will be using \"lg\" model as it gives more dimensionality and complexity** <br>\n",
        "*Also because the other model gave less compitability in comparison to this one*"
      ],
      "metadata": {
        "id": "0VBOERpJKfa1"
      },
      "id": "0VBOERpJKfa1"
    },
    {
      "cell_type": "code",
      "source": [
        "#nlp = en_core_sci_lg.load(disable=[\"tagger\", \"parser\", \"ner\"])\n",
        "nlp = spacy.load(\"en_core_sci_lg\") # phrase to tokenize\n",
        "nlp.max_length = 3000000"
      ],
      "metadata": {
        "id": "u90KAZ8-bQ_9"
      },
      "id": "u90KAZ8-bQ_9",
      "execution_count": 20,
      "outputs": []
    },
    {
      "cell_type": "markdown",
      "source": [
        "**Lemmatizing**"
      ],
      "metadata": {
        "id": "DlBNbI9icO_w"
      },
      "id": "DlBNbI9icO_w"
    },
    {
      "cell_type": "code",
      "source": [
        "def spacy_tokenizer(sentence):\n",
        "    return [word.lemma_ for word in nlp(sentence) if not (word.like_num or word.is_stop or word.is_punct or word.is_space or len(word)==1)]"
      ],
      "metadata": {
        "id": "IcBMnvERhg-A"
      },
      "id": "IcBMnvERhg-A",
      "execution_count": 32,
      "outputs": []
    },
    {
      "cell_type": "markdown",
      "source": [
        ""
      ],
      "metadata": {
        "id": "fK7YHSXSOLTc"
      },
      "id": "fK7YHSXSOLTc"
    },
    {
      "cell_type": "markdown",
      "source": [
        "**Tokenizing and Vectorizing**"
      ],
      "metadata": {
        "id": "_u56_LxXcOWZ"
      },
      "id": "_u56_LxXcOWZ"
    },
    {
      "cell_type": "code",
      "source": [
        "text = dff[\"Abstract\"]\n",
        "vectorizer = CountVectorizer(tokenizer = spacy_tokenizer, min_df=2)\n",
        "data_vectorized = vectorizer.fit_transform(tqdm(text))"
      ],
      "metadata": {
        "colab": {
          "base_uri": "https://localhost:8080/"
        },
        "id": "hddmvRWnbRLE",
        "outputId": "dce1a611-97e4-4835-c0b6-11a0a0b39247"
      },
      "id": "hddmvRWnbRLE",
      "execution_count": 33,
      "outputs": [
        {
          "output_type": "stream",
          "name": "stderr",
          "text": [
            "100%|██████████| 4999/4999 [02:32<00:00, 32.84it/s]\n"
          ]
        }
      ]
    },
    {
      "cell_type": "markdown",
      "source": [
        "**Plotting the most 20 most frequent words in all the dataset**"
      ],
      "metadata": {
        "id": "LF_wCO2tDFR5"
      },
      "id": "LF_wCO2tDFR5"
    },
    {
      "cell_type": "code",
      "source": [
        "word_count = pd.DataFrame({'word': vectorizer.get_feature_names(), 'count': np.asarray(data_vectorized.sum(axis=0))[0]});\n",
        "\n",
        "word_count.sort_values('count', ascending=False).set_index('word')[:20].sort_values('count', ascending=True).plot(kind='barh');"
      ],
      "metadata": {
        "colab": {
          "base_uri": "https://localhost:8080/",
          "height": 320
        },
        "id": "AxFAFc3XbRNh",
        "outputId": "f5e31c58-51cd-48fd-f5b6-0525a76f2487"
      },
      "id": "AxFAFc3XbRNh",
      "execution_count": 95,
      "outputs": [
        {
          "output_type": "stream",
          "name": "stderr",
          "text": [
            "/usr/local/lib/python3.7/dist-packages/sklearn/utils/deprecation.py:87: FutureWarning: Function get_feature_names is deprecated; get_feature_names is deprecated in 1.0 and will be removed in 1.2. Please use get_feature_names_out instead.\n",
            "  warnings.warn(msg, category=FutureWarning)\n"
          ]
        },
        {
          "output_type": "display_data",
          "data": {
            "text/plain": [
              "<Figure size 432x288 with 1 Axes>"
            ],
            "image/png": "[encoded data removed]"
          },
          "metadata": {
            "needs_background": "light"
          }
        }
      ]
    },
    {
      "cell_type": "markdown",
      "source": [
        "**Saving the output to a csv file**"
      ],
      "metadata": {
        "id": "JVnjZD9Xcfa4"
      },
      "id": "JVnjZD9Xcfa4"
    },
    {
      "cell_type": "code",
      "source": [
        "joblib.dump(vectorizer, 'vectorizer.csv')\n",
        "joblib.dump(data_vectorized, 'data_vectorized.csv')"
      ],
      "metadata": {
        "colab": {
          "base_uri": "https://localhost:8080/"
        },
        "id": "YQaXHW2gbRPV",
        "outputId": "f64c94cd-813f-4f95-8e10-8e66a9e9d740"
      },
      "id": "YQaXHW2gbRPV",
      "execution_count": 38,
      "outputs": [
        {
          "output_type": "execute_result",
          "data": {
            "text/plain": [
              "['data_vectorized.csv']"
            ]
          },
          "metadata": {},
          "execution_count": 38
        }
      ]
    },
    {
      "cell_type": "markdown",
      "source": [
        "**Perfoming LDA and save it to a csv aswell** - same idea as using pickle."
      ],
      "metadata": {
        "id": "xy6R5sq_clmo"
      },
      "id": "xy6R5sq_clmo"
    },
    {
      "cell_type": "code",
      "source": [
        "lda = LatentDirichletAllocation(n_components=50, random_state=0)\n",
        "# Learn model for the data with variational Bayes method.\n",
        "lda.fit(data_vectorized)\n",
        "joblib.dump(lda, 'lda.csv')"
      ],
      "metadata": {
        "colab": {
          "base_uri": "https://localhost:8080/"
        },
        "id": "mgADPNxabRSO",
        "outputId": "b73fe432-f53d-4a9e-cb22-c2bc3e3f8259"
      },
      "id": "mgADPNxabRSO",
      "execution_count": 96,
      "outputs": [
        {
          "output_type": "execute_result",
          "data": {
            "text/plain": [
              "['lda.csv']"
            ]
          },
          "metadata": {},
          "execution_count": 96
        }
      ]
    },
    {
      "cell_type": "code",
      "source": [
        "def print_top_words(model, vectorizer, n_top_words):\n",
        "    feature_names = vectorizer.get_feature_names()\n",
        "    for topic_idx, topic in enumerate(model.components_):\n",
        "        message = \"\\nTopic #%d: \" % topic_idx\n",
        "        message += \" \".join([feature_names[i]\n",
        "                             for i in topic.argsort()[:-n_top_words - 1:-1]])\n",
        "        print(message)\n",
        "    print()"
      ],
      "metadata": {
        "id": "vYpt-H9zbRUR"
      },
      "id": "vYpt-H9zbRUR",
      "execution_count": 36,
      "outputs": []
    },
    {
      "cell_type": "code",
      "source": [
        "print_top_words(lda, vectorizer, n_top_words=25)"
      ],
      "metadata": {
        "id": "qVE3rO3pjTC0"
      },
      "id": "qVE3rO3pjTC0",
      "execution_count": null,
      "outputs": []
    },
    {
      "cell_type": "markdown",
      "source": [
        "**Transforming the data according to the fitted model.**"
      ],
      "metadata": {
        "id": "P6LGhaiSkE4V"
      },
      "id": "P6LGhaiSkE4V"
    },
    {
      "cell_type": "code",
      "source": [
        "doc_topic_dist = pd.DataFrame(lda.transform(data_vectorized))\n",
        "doc_topic_dist.to_csv('doc_topic_dist.csv', index=False)"
      ],
      "metadata": {
        "id": "gOVaYysZjTBL"
      },
      "id": "gOVaYysZjTBL",
      "execution_count": 97,
      "outputs": []
    },
    {
      "cell_type": "code",
      "source": [
        "doc_topic_dist.head()"
      ],
      "metadata": {
        "colab": {
          "base_uri": "https://localhost:8080/",
          "height": 299
        },
        "id": "NJXUgtBcjS8J",
        "outputId": "af9f2a34-fae8-4db9-91f1-dad77528272f"
      },
      "id": "NJXUgtBcjS8J",
      "execution_count": 66,
      "outputs": [
        {
          "output_type": "execute_result",
          "data": {
            "text/plain": [
              "         0         1         2         3         4         5         6   \\\n",
              "0  0.000169  0.000169  0.000169  0.000169  0.000169  0.137403  0.000169   \n",
              "1  0.000164  0.000164  0.000164  0.000164  0.000164  0.171438  0.000164   \n",
              "2  0.091695  0.000138  0.000138  0.000138  0.000138  0.000138  0.000138   \n",
              "3  0.419592  0.000100  0.000100  0.000100  0.000100  0.175913  0.000100   \n",
              "4  0.000179  0.000179  0.000179  0.000179  0.000179  0.000179  0.000179   \n",
              "\n",
              "         7         8         9   ...        40        41        42        43  \\\n",
              "0  0.000169  0.462415  0.000169  ...  0.000169  0.000169  0.000169  0.000169   \n",
              "1  0.000164  0.227188  0.000164  ...  0.000164  0.000164  0.000164  0.000164   \n",
              "2  0.000138  0.000138  0.000138  ...  0.000138  0.000138  0.000138  0.000138   \n",
              "3  0.000100  0.399818  0.000100  ...  0.000100  0.000100  0.000100  0.000100   \n",
              "4  0.000179  0.000179  0.026245  ...  0.000179  0.000179  0.069609  0.000179   \n",
              "\n",
              "         44        45        46        47        48        49  \n",
              "0  0.000169  0.000169  0.000169  0.239740  0.000169  0.000169  \n",
              "1  0.000164  0.000164  0.000164  0.381942  0.000164  0.000164  \n",
              "2  0.000138  0.000138  0.000138  0.000138  0.000138  0.000138  \n",
              "3  0.000100  0.000100  0.000100  0.000100  0.000100  0.000100  \n",
              "4  0.000179  0.140739  0.579051  0.000179  0.000179  0.000179  \n",
              "\n",
              "[5 rows x 50 columns]"
            ],
            "text/html": [
              "\n",
              "  <div id=\"df-3c34659c-9880-4d8d-ad63-5f4358bef28e\">\n",
              "    <div class=\"colab-df-container\">\n",
              "      <div>\n",
              "<style scoped>\n",
              "    .dataframe tbody tr th:only-of-type {\n",
              "        vertical-align: middle;\n",
              "    }\n",
              "\n",
              "    .dataframe tbody tr th {\n",
              "        vertical-align: top;\n",
              "    }\n",
              "\n",
              "    .dataframe thead th {\n",
              "        text-align: right;\n",
              "    }\n",
              "</style>\n",
              "<table border=\"1\" class=\"dataframe\">\n",
              "  <thead>\n",
              "    <tr style=\"text-align: right;\">\n",
              "      <th></th>\n",
              "      <th>0</th>\n",
              "      <th>1</th>\n",
              "      <th>2</th>\n",
              "      <th>3</th>\n",
              "      <th>4</th>\n",
              "      <th>5</th>\n",
              "      <th>6</th>\n",
              "      <th>7</th>\n",
              "      <th>8</th>\n",
              "      <th>9</th>\n",
              "      <th>...</th>\n",
              "      <th>40</th>\n",
              "      <th>41</th>\n",
              "      <th>42</th>\n",
              "      <th>43</th>\n",
              "      <th>44</th>\n",
              "      <th>45</th>\n",
              "      <th>46</th>\n",
              "      <th>47</th>\n",
              "      <th>48</th>\n",
              "      <th>49</th>\n",
              "    </tr>\n",
              "  </thead>\n",
              "  <tbody>\n",
              "    <tr>\n",
              "      <th>0</th>\n",
              "      <td>0.000169</td>\n",
              "      <td>0.000169</td>\n",
              "      <td>0.000169</td>\n",
              "      <td>0.000169</td>\n",
              "      <td>0.000169</td>\n",
              "      <td>0.137403</td>\n",
              "      <td>0.000169</td>\n",
              "      <td>0.000169</td>\n",
              "      <td>0.462415</td>\n",
              "      <td>0.000169</td>\n",
              "      <td>...</td>\n",
              "      <td>0.000169</td>\n",
              "      <td>0.000169</td>\n",
              "      <td>0.000169</td>\n",
              "      <td>0.000169</td>\n",
              "      <td>0.000169</td>\n",
              "      <td>0.000169</td>\n",
              "      <td>0.000169</td>\n",
              "      <td>0.239740</td>\n",
              "      <td>0.000169</td>\n",
              "      <td>0.000169</td>\n",
              "    </tr>\n",
              "    <tr>\n",
              "      <th>1</th>\n",
              "      <td>0.000164</td>\n",
              "      <td>0.000164</td>\n",
              "      <td>0.000164</td>\n",
              "      <td>0.000164</td>\n",
              "      <td>0.000164</td>\n",
              "      <td>0.171438</td>\n",
              "      <td>0.000164</td>\n",
              "      <td>0.000164</td>\n",
              "      <td>0.227188</td>\n",
              "      <td>0.000164</td>\n",
              "      <td>...</td>\n",
              "      <td>0.000164</td>\n",
              "      <td>0.000164</td>\n",
              "      <td>0.000164</td>\n",
              "      <td>0.000164</td>\n",
              "      <td>0.000164</td>\n",
              "      <td>0.000164</td>\n",
              "      <td>0.000164</td>\n",
              "      <td>0.381942</td>\n",
              "      <td>0.000164</td>\n",
              "      <td>0.000164</td>\n",
              "    </tr>\n",
              "    <tr>\n",
              "      <th>2</th>\n",
              "      <td>0.091695</td>\n",
              "      <td>0.000138</td>\n",
              "      <td>0.000138</td>\n",
              "      <td>0.000138</td>\n",
              "      <td>0.000138</td>\n",
              "      <td>0.000138</td>\n",
              "      <td>0.000138</td>\n",
              "      <td>0.000138</td>\n",
              "      <td>0.000138</td>\n",
              "      <td>0.000138</td>\n",
              "      <td>...</td>\n",
              "      <td>0.000138</td>\n",
              "      <td>0.000138</td>\n",
              "      <td>0.000138</td>\n",
              "      <td>0.000138</td>\n",
              "      <td>0.000138</td>\n",
              "      <td>0.000138</td>\n",
              "      <td>0.000138</td>\n",
              "      <td>0.000138</td>\n",
              "      <td>0.000138</td>\n",
              "      <td>0.000138</td>\n",
              "    </tr>\n",
              "    <tr>\n",
              "      <th>3</th>\n",
              "      <td>0.419592</td>\n",
              "      <td>0.000100</td>\n",
              "      <td>0.000100</td>\n",
              "      <td>0.000100</td>\n",
              "      <td>0.000100</td>\n",
              "      <td>0.175913</td>\n",
              "      <td>0.000100</td>\n",
              "      <td>0.000100</td>\n",
              "      <td>0.399818</td>\n",
              "      <td>0.000100</td>\n",
              "      <td>...</td>\n",
              "      <td>0.000100</td>\n",
              "      <td>0.000100</td>\n",
              "      <td>0.000100</td>\n",
              "      <td>0.000100</td>\n",
              "      <td>0.000100</td>\n",
              "      <td>0.000100</td>\n",
              "      <td>0.000100</td>\n",
              "      <td>0.000100</td>\n",
              "      <td>0.000100</td>\n",
              "      <td>0.000100</td>\n",
              "    </tr>\n",
              "    <tr>\n",
              "      <th>4</th>\n",
              "      <td>0.000179</td>\n",
              "      <td>0.000179</td>\n",
              "      <td>0.000179</td>\n",
              "      <td>0.000179</td>\n",
              "      <td>0.000179</td>\n",
              "      <td>0.000179</td>\n",
              "      <td>0.000179</td>\n",
              "      <td>0.000179</td>\n",
              "      <td>0.000179</td>\n",
              "      <td>0.026245</td>\n",
              "      <td>...</td>\n",
              "      <td>0.000179</td>\n",
              "      <td>0.000179</td>\n",
              "      <td>0.069609</td>\n",
              "      <td>0.000179</td>\n",
              "      <td>0.000179</td>\n",
              "      <td>0.140739</td>\n",
              "      <td>0.579051</td>\n",
              "      <td>0.000179</td>\n",
              "      <td>0.000179</td>\n",
              "      <td>0.000179</td>\n",
              "    </tr>\n",
              "  </tbody>\n",
              "</table>\n",
              "<p>5 rows × 50 columns</p>\n",
              "</div>\n",
              "      <button class=\"colab-df-convert\" onclick=\"convertToInteractive('df-3c34659c-9880-4d8d-ad63-5f4358bef28e')\"\n",
              "              title=\"Convert this dataframe to an interactive table.\"\n",
              "              style=\"display:none;\">\n",
              "        \n",
              "  <svg xmlns=\"http://www.w3.org/2000/svg\" height=\"24px\"viewBox=\"0 0 24 24\"\n",
              "       width=\"24px\">\n",
              "    <path d=\"M0 0h24v24H0V0z\" fill=\"none\"/>\n",
              "    <path d=\"M18.56 5.44l.94 2.06.94-2.06 2.06-.94-2.06-.94-.94-2.06-.94 2.06-2.06.94zm-11 1L8.5 8.5l.94-2.06 2.06-.94-2.06-.94L8.5 2.5l-.94 2.06-2.06.94zm10 10l.94 2.06.94-2.06 2.06-.94-2.06-.94-.94-2.06-.94 2.06-2.06.94z\"/><path d=\"M17.41 7.96l-1.37-1.37c-.4-.4-.92-.59-1.43-.59-.52 0-1.04.2-1.43.59L10.3 9.45l-7.72 7.72c-.78.78-.78 2.05 0 2.83L4 21.41c.39.39.9.59 1.41.59.51 0 1.02-.2 1.41-.59l7.78-7.78 2.81-2.81c.8-.78.8-2.07 0-2.86zM5.41 20L4 18.59l7.72-7.72 1.47 1.35L5.41 20z\"/>\n",
              "  </svg>\n",
              "      </button>\n",
              "      \n",
              "  <style>\n",
              "    .colab-df-container {\n",
              "      display:flex;\n",
              "      flex-wrap:wrap;\n",
              "      gap: 12px;\n",
              "    }\n",
              "\n",
              "    .colab-df-convert {\n",
              "      background-color: #E8F0FE;\n",
              "      border: none;\n",
              "      border-radius: 50%;\n",
              "      cursor: pointer;\n",
              "      display: none;\n",
              "      fill: #1967D2;\n",
              "      height: 32px;\n",
              "      padding: 0 0 0 0;\n",
              "      width: 32px;\n",
              "    }\n",
              "\n",
              "    .colab-df-convert:hover {\n",
              "      background-color: #E2EBFA;\n",
              "      box-shadow: 0px 1px 2px rgba(60, 64, 67, 0.3), 0px 1px 3px 1px rgba(60, 64, 67, 0.15);\n",
              "      fill: #174EA6;\n",
              "    }\n",
              "\n",
              "    [theme=dark] .colab-df-convert {\n",
              "      background-color: #3B4455;\n",
              "      fill: #D2E3FC;\n",
              "    }\n",
              "\n",
              "    [theme=dark] .colab-df-convert:hover {\n",
              "      background-color: #434B5C;\n",
              "      box-shadow: 0px 1px 3px 1px rgba(0, 0, 0, 0.15);\n",
              "      filter: drop-shadow(0px 1px 2px rgba(0, 0, 0, 0.3));\n",
              "      fill: #FFFFFF;\n",
              "    }\n",
              "  </style>\n",
              "\n",
              "      <script>\n",
              "        const buttonEl =\n",
              "          document.querySelector('#df-3c34659c-9880-4d8d-ad63-5f4358bef28e button.colab-df-convert');\n",
              "        buttonEl.style.display =\n",
              "          google.colab.kernel.accessAllowed ? 'block' : 'none';\n",
              "\n",
              "        async function convertToInteractive(key) {\n",
              "          const element = document.querySelector('#df-3c34659c-9880-4d8d-ad63-5f4358bef28e');\n",
              "          const dataTable =\n",
              "            await google.colab.kernel.invokeFunction('convertToInteractive',\n",
              "                                                     [key], {});\n",
              "          if (!dataTable) return;\n",
              "\n",
              "          const docLinkHtml = 'Like what you see? Visit the ' +\n",
              "            '<a target=\"_blank\" href=https://colab.research.google.com/notebooks/data_table.ipynb>data table notebook</a>'\n",
              "            + ' to learn more about interactive tables.';\n",
              "          element.innerHTML = '';\n",
              "          dataTable['output_type'] = 'display_data';\n",
              "          await google.colab.output.renderOutput(dataTable, element);\n",
              "          const docLink = document.createElement('div');\n",
              "          docLink.innerHTML = docLinkHtml;\n",
              "          element.appendChild(docLink);\n",
              "        }\n",
              "      </script>\n",
              "    </div>\n",
              "  </div>\n",
              "  "
            ]
          },
          "metadata": {},
          "execution_count": 66
        }
      ]
    },
    {
      "cell_type": "markdown",
      "source": [
        "**Choosing the optimal distance calculation:**<br>\n",
        "* Euclidean\n",
        "* Correlation\n",
        "* Jensen-Shannon\n",
        "* Cosine\n",
        "* Cityblock"
      ],
      "metadata": {
        "id": "x568WjX674kS"
      },
      "id": "x568WjX674kS"
    },
    {
      "cell_type": "markdown",
      "source": [
        "##### Euclidean"
      ],
      "metadata": {
        "id": "qJ7333lf8w2O"
      },
      "id": "qJ7333lf8w2O"
    },
    {
      "cell_type": "code",
      "source": [
        "from scipy.spatial.distance import euclidean\n",
        "y = doc_topic_dist[dff.ArticleID == 34160290].iloc[0]\n",
        "e = doc_topic_dist.apply(lambda x: euclidean(x, y), axis=1)\n",
        "k_nearest = e[e != 0].nsmallest(n=5).index\n",
        "k_distances = e[e != 0].nsmallest(n=5)\n",
        "k_nearest = dff.iloc[k_nearest].copy()\n",
        "k_nearest['similarity'] = 1 - k_distances \n",
        "k_nearest"
      ],
      "metadata": {
        "colab": {
          "base_uri": "https://localhost:8080/",
          "height": 206
        },
        "id": "3W8VBIb-p4VJ",
        "outputId": "622a3415-416d-4cc2-92f9-2cceec96f25e"
      },
      "id": "3W8VBIb-p4VJ",
      "execution_count": 119,
      "outputs": [
        {
          "output_type": "execute_result",
          "data": {
            "text/plain": [
              "      ArticleID                                              Title  \\\n",
              "122    34166265  refractory severe laryngospam during rapid seq...   \n",
              "1574   34424840   bioprinting marches forward with new technology.   \n",
              "2748   34706001  stress distribution analysis in anterior teeth...   \n",
              "993    34332561  investigation of transient eye closure evoked ...   \n",
              "0      34153941  stable coordination variability in overground ...   \n",
              "\n",
              "                                               Abstract  similarity  \n",
              "122   laryngospasm is a rare cause of upper-airway o...    0.805898  \n",
              "1574  with the advent of additive manufacturing and ...    0.829601  \n",
              "2748  orthodontic retraction of the anterior teeth i...    0.834120  \n",
              "993   this study aimed to present a simple method fo...    0.833460  \n",
              "0     coordination variability (cv) is commonly anal...    0.731105  "
            ],
            "text/html": [
              "\n",
              "  <div id=\"df-cd057aba-aaa4-42a9-a9d1-7d51eabf5ad6\">\n",
              "    <div class=\"colab-df-container\">\n",
              "      <div>\n",
              "<style scoped>\n",
              "    .dataframe tbody tr th:only-of-type {\n",
              "        vertical-align: middle;\n",
              "    }\n",
              "\n",
              "    .dataframe tbody tr th {\n",
              "        vertical-align: top;\n",
              "    }\n",
              "\n",
              "    .dataframe thead th {\n",
              "        text-align: right;\n",
              "    }\n",
              "</style>\n",
              "<table border=\"1\" class=\"dataframe\">\n",
              "  <thead>\n",
              "    <tr style=\"text-align: right;\">\n",
              "      <th></th>\n",
              "      <th>ArticleID</th>\n",
              "      <th>Title</th>\n",
              "      <th>Abstract</th>\n",
              "      <th>similarity</th>\n",
              "    </tr>\n",
              "  </thead>\n",
              "  <tbody>\n",
              "    <tr>\n",
              "      <th>122</th>\n",
              "      <td>34166265</td>\n",
              "      <td>refractory severe laryngospam during rapid seq...</td>\n",
              "      <td>laryngospasm is a rare cause of upper-airway o...</td>\n",
              "      <td>0.805898</td>\n",
              "    </tr>\n",
              "    <tr>\n",
              "      <th>1574</th>\n",
              "      <td>34424840</td>\n",
              "      <td>bioprinting marches forward with new technology.</td>\n",
              "      <td>with the advent of additive manufacturing and ...</td>\n",
              "      <td>0.829601</td>\n",
              "    </tr>\n",
              "    <tr>\n",
              "      <th>2748</th>\n",
              "      <td>34706001</td>\n",
              "      <td>stress distribution analysis in anterior teeth...</td>\n",
              "      <td>orthodontic retraction of the anterior teeth i...</td>\n",
              "      <td>0.834120</td>\n",
              "    </tr>\n",
              "    <tr>\n",
              "      <th>993</th>\n",
              "      <td>34332561</td>\n",
              "      <td>investigation of transient eye closure evoked ...</td>\n",
              "      <td>this study aimed to present a simple method fo...</td>\n",
              "      <td>0.833460</td>\n",
              "    </tr>\n",
              "    <tr>\n",
              "      <th>0</th>\n",
              "      <td>34153941</td>\n",
              "      <td>stable coordination variability in overground ...</td>\n",
              "      <td>coordination variability (cv) is commonly anal...</td>\n",
              "      <td>0.731105</td>\n",
              "    </tr>\n",
              "  </tbody>\n",
              "</table>\n",
              "</div>\n",
              "      <button class=\"colab-df-convert\" onclick=\"convertToInteractive('df-cd057aba-aaa4-42a9-a9d1-7d51eabf5ad6')\"\n",
              "              title=\"Convert this dataframe to an interactive table.\"\n",
              "              style=\"display:none;\">\n",
              "        \n",
              "  <svg xmlns=\"http://www.w3.org/2000/svg\" height=\"24px\"viewBox=\"0 0 24 24\"\n",
              "       width=\"24px\">\n",
              "    <path d=\"M0 0h24v24H0V0z\" fill=\"none\"/>\n",
              "    <path d=\"M18.56 5.44l.94 2.06.94-2.06 2.06-.94-2.06-.94-.94-2.06-.94 2.06-2.06.94zm-11 1L8.5 8.5l.94-2.06 2.06-.94-2.06-.94L8.5 2.5l-.94 2.06-2.06.94zm10 10l.94 2.06.94-2.06 2.06-.94-2.06-.94-.94-2.06-.94 2.06-2.06.94z\"/><path d=\"M17.41 7.96l-1.37-1.37c-.4-.4-.92-.59-1.43-.59-.52 0-1.04.2-1.43.59L10.3 9.45l-7.72 7.72c-.78.78-.78 2.05 0 2.83L4 21.41c.39.39.9.59 1.41.59.51 0 1.02-.2 1.41-.59l7.78-7.78 2.81-2.81c.8-.78.8-2.07 0-2.86zM5.41 20L4 18.59l7.72-7.72 1.47 1.35L5.41 20z\"/>\n",
              "  </svg>\n",
              "      </button>\n",
              "      \n",
              "  <style>\n",
              "    .colab-df-container {\n",
              "      display:flex;\n",
              "      flex-wrap:wrap;\n",
              "      gap: 12px;\n",
              "    }\n",
              "\n",
              "    .colab-df-convert {\n",
              "      background-color: #E8F0FE;\n",
              "      border: none;\n",
              "      border-radius: 50%;\n",
              "      cursor: pointer;\n",
              "      display: none;\n",
              "      fill: #1967D2;\n",
              "      height: 32px;\n",
              "      padding: 0 0 0 0;\n",
              "      width: 32px;\n",
              "    }\n",
              "\n",
              "    .colab-df-convert:hover {\n",
              "      background-color: #E2EBFA;\n",
              "      box-shadow: 0px 1px 2px rgba(60, 64, 67, 0.3), 0px 1px 3px 1px rgba(60, 64, 67, 0.15);\n",
              "      fill: #174EA6;\n",
              "    }\n",
              "\n",
              "    [theme=dark] .colab-df-convert {\n",
              "      background-color: #3B4455;\n",
              "      fill: #D2E3FC;\n",
              "    }\n",
              "\n",
              "    [theme=dark] .colab-df-convert:hover {\n",
              "      background-color: #434B5C;\n",
              "      box-shadow: 0px 1px 3px 1px rgba(0, 0, 0, 0.15);\n",
              "      filter: drop-shadow(0px 1px 2px rgba(0, 0, 0, 0.3));\n",
              "      fill: #FFFFFF;\n",
              "    }\n",
              "  </style>\n",
              "\n",
              "      <script>\n",
              "        const buttonEl =\n",
              "          document.querySelector('#df-cd057aba-aaa4-42a9-a9d1-7d51eabf5ad6 button.colab-df-convert');\n",
              "        buttonEl.style.display =\n",
              "          google.colab.kernel.accessAllowed ? 'block' : 'none';\n",
              "\n",
              "        async function convertToInteractive(key) {\n",
              "          const element = document.querySelector('#df-cd057aba-aaa4-42a9-a9d1-7d51eabf5ad6');\n",
              "          const dataTable =\n",
              "            await google.colab.kernel.invokeFunction('convertToInteractive',\n",
              "                                                     [key], {});\n",
              "          if (!dataTable) return;\n",
              "\n",
              "          const docLinkHtml = 'Like what you see? Visit the ' +\n",
              "            '<a target=\"_blank\" href=https://colab.research.google.com/notebooks/data_table.ipynb>data table notebook</a>'\n",
              "            + ' to learn more about interactive tables.';\n",
              "          element.innerHTML = '';\n",
              "          dataTable['output_type'] = 'display_data';\n",
              "          await google.colab.output.renderOutput(dataTable, element);\n",
              "          const docLink = document.createElement('div');\n",
              "          docLink.innerHTML = docLinkHtml;\n",
              "          element.appendChild(docLink);\n",
              "        }\n",
              "      </script>\n",
              "    </div>\n",
              "  </div>\n",
              "  "
            ]
          },
          "metadata": {},
          "execution_count": 119
        }
      ]
    },
    {
      "cell_type": "markdown",
      "source": [
        "##### Correlation"
      ],
      "metadata": {
        "id": "g0LJ7Nwv9O9_"
      },
      "id": "g0LJ7Nwv9O9_"
    },
    {
      "cell_type": "code",
      "source": [
        "from scipy.spatial.distance import correlation\n",
        "z = doc_topic_dist.apply(lambda x: correlation(x, y), axis=1)\n",
        "k_nearest = z[z != 0].nsmallest(n=10).index\n",
        "k_distances = z[z != 0].nsmallest(n=10)\n",
        "k_nearest = dff.iloc[k_nearest].copy()\n",
        "k_nearest['similarity'] = 1 - k_distances \n",
        "k_nearest"
      ],
      "metadata": {
        "colab": {
          "base_uri": "https://localhost:8080/",
          "height": 398
        },
        "id": "TIUhRLGCn-ol",
        "outputId": "a3782912-b7dc-4648-ee2d-729ea2005d59"
      },
      "id": "TIUhRLGCn-ol",
      "execution_count": 118,
      "outputs": [
        {
          "output_type": "stream",
          "name": "stderr",
          "text": [
            "/usr/local/lib/python3.7/dist-packages/scipy/spatial/distance.py:720: RuntimeWarning: invalid value encountered in double_scalars\n",
            "  dist = 1.0 - uv / np.sqrt(uu * vv)\n"
          ]
        },
        {
          "output_type": "execute_result",
          "data": {
            "text/plain": [
              "      ArticleID                                              Title  \\\n",
              "993    34332561  investigation of transient eye closure evoked ...   \n",
              "2748   34706001  stress distribution analysis in anterior teeth...   \n",
              "1574   34424840   bioprinting marches forward with new technology.   \n",
              "122    34166265  refractory severe laryngospam during rapid seq...   \n",
              "0      34153941  stable coordination variability in overground ...   \n",
              "4293   34328422  content analysis and quality evaluation of ces...   \n",
              "193    34182470  optimizing conditions for spheroid formation o...   \n",
              "4202   34321490  elevated levels of merkel cell polyoma virus i...   \n",
              "1372   34398958  urine lipoarabinomannan testing in adults with...   \n",
              "1368   34398954  changing epidemiology of hepatitis b virus and...   \n",
              "\n",
              "                                               Abstract  similarity  \n",
              "993   this study aimed to present a simple method fo...    0.833460  \n",
              "2748  orthodontic retraction of the anterior teeth i...    0.834120  \n",
              "1574  with the advent of additive manufacturing and ...    0.829601  \n",
              "122   laryngospasm is a rare cause of upper-airway o...    0.805898  \n",
              "0     coordination variability (cv) is commonly anal...    0.731105  \n",
              "4293  youtube is one of the most popular open-access...    0.675247  \n",
              "193   spheroid formation is a well-known feature of ...    0.685698  \n",
              "4202  the human ocular surface hosts a paucibacteria...    0.690825  \n",
              "1372  the urine lipoarabinomannan (lam) antigen test...         NaN  \n",
              "1368  the transmission of human immunodeficiency vir...    0.691746  "
            ],
            "text/html": [
              "\n",
              "  <div id=\"df-058dfd95-97a3-4606-a8a5-84a03c2dd21e\">\n",
              "    <div class=\"colab-df-container\">\n",
              "      <div>\n",
              "<style scoped>\n",
              "    .dataframe tbody tr th:only-of-type {\n",
              "        vertical-align: middle;\n",
              "    }\n",
              "\n",
              "    .dataframe tbody tr th {\n",
              "        vertical-align: top;\n",
              "    }\n",
              "\n",
              "    .dataframe thead th {\n",
              "        text-align: right;\n",
              "    }\n",
              "</style>\n",
              "<table border=\"1\" class=\"dataframe\">\n",
              "  <thead>\n",
              "    <tr style=\"text-align: right;\">\n",
              "      <th></th>\n",
              "      <th>ArticleID</th>\n",
              "      <th>Title</th>\n",
              "      <th>Abstract</th>\n",
              "      <th>similarity</th>\n",
              "    </tr>\n",
              "  </thead>\n",
              "  <tbody>\n",
              "    <tr>\n",
              "      <th>993</th>\n",
              "      <td>34332561</td>\n",
              "      <td>investigation of transient eye closure evoked ...</td>\n",
              "      <td>this study aimed to present a simple method fo...</td>\n",
              "      <td>0.833460</td>\n",
              "    </tr>\n",
              "    <tr>\n",
              "      <th>2748</th>\n",
              "      <td>34706001</td>\n",
              "      <td>stress distribution analysis in anterior teeth...</td>\n",
              "      <td>orthodontic retraction of the anterior teeth i...</td>\n",
              "      <td>0.834120</td>\n",
              "    </tr>\n",
              "    <tr>\n",
              "      <th>1574</th>\n",
              "      <td>34424840</td>\n",
              "      <td>bioprinting marches forward with new technology.</td>\n",
              "      <td>with the advent of additive manufacturing and ...</td>\n",
              "      <td>0.829601</td>\n",
              "    </tr>\n",
              "    <tr>\n",
              "      <th>122</th>\n",
              "      <td>34166265</td>\n",
              "      <td>refractory severe laryngospam during rapid seq...</td>\n",
              "      <td>laryngospasm is a rare cause of upper-airway o...</td>\n",
              "      <td>0.805898</td>\n",
              "    </tr>\n",
              "    <tr>\n",
              "      <th>0</th>\n",
              "      <td>34153941</td>\n",
              "      <td>stable coordination variability in overground ...</td>\n",
              "      <td>coordination variability (cv) is commonly anal...</td>\n",
              "      <td>0.731105</td>\n",
              "    </tr>\n",
              "    <tr>\n",
              "      <th>4293</th>\n",
              "      <td>34328422</td>\n",
              "      <td>content analysis and quality evaluation of ces...</td>\n",
              "      <td>youtube is one of the most popular open-access...</td>\n",
              "      <td>0.675247</td>\n",
              "    </tr>\n",
              "    <tr>\n",
              "      <th>193</th>\n",
              "      <td>34182470</td>\n",
              "      <td>optimizing conditions for spheroid formation o...</td>\n",
              "      <td>spheroid formation is a well-known feature of ...</td>\n",
              "      <td>0.685698</td>\n",
              "    </tr>\n",
              "    <tr>\n",
              "      <th>4202</th>\n",
              "      <td>34321490</td>\n",
              "      <td>elevated levels of merkel cell polyoma virus i...</td>\n",
              "      <td>the human ocular surface hosts a paucibacteria...</td>\n",
              "      <td>0.690825</td>\n",
              "    </tr>\n",
              "    <tr>\n",
              "      <th>1372</th>\n",
              "      <td>34398958</td>\n",
              "      <td>urine lipoarabinomannan testing in adults with...</td>\n",
              "      <td>the urine lipoarabinomannan (lam) antigen test...</td>\n",
              "      <td>NaN</td>\n",
              "    </tr>\n",
              "    <tr>\n",
              "      <th>1368</th>\n",
              "      <td>34398954</td>\n",
              "      <td>changing epidemiology of hepatitis b virus and...</td>\n",
              "      <td>the transmission of human immunodeficiency vir...</td>\n",
              "      <td>0.691746</td>\n",
              "    </tr>\n",
              "  </tbody>\n",
              "</table>\n",
              "</div>\n",
              "      <button class=\"colab-df-convert\" onclick=\"convertToInteractive('df-058dfd95-97a3-4606-a8a5-84a03c2dd21e')\"\n",
              "              title=\"Convert this dataframe to an interactive table.\"\n",
              "              style=\"display:none;\">\n",
              "        \n",
              "  <svg xmlns=\"http://www.w3.org/2000/svg\" height=\"24px\"viewBox=\"0 0 24 24\"\n",
              "       width=\"24px\">\n",
              "    <path d=\"M0 0h24v24H0V0z\" fill=\"none\"/>\n",
              "    <path d=\"M18.56 5.44l.94 2.06.94-2.06 2.06-.94-2.06-.94-.94-2.06-.94 2.06-2.06.94zm-11 1L8.5 8.5l.94-2.06 2.06-.94-2.06-.94L8.5 2.5l-.94 2.06-2.06.94zm10 10l.94 2.06.94-2.06 2.06-.94-2.06-.94-.94-2.06-.94 2.06-2.06.94z\"/><path d=\"M17.41 7.96l-1.37-1.37c-.4-.4-.92-.59-1.43-.59-.52 0-1.04.2-1.43.59L10.3 9.45l-7.72 7.72c-.78.78-.78 2.05 0 2.83L4 21.41c.39.39.9.59 1.41.59.51 0 1.02-.2 1.41-.59l7.78-7.78 2.81-2.81c.8-.78.8-2.07 0-2.86zM5.41 20L4 18.59l7.72-7.72 1.47 1.35L5.41 20z\"/>\n",
              "  </svg>\n",
              "      </button>\n",
              "      \n",
              "  <style>\n",
              "    .colab-df-container {\n",
              "      display:flex;\n",
              "      flex-wrap:wrap;\n",
              "      gap: 12px;\n",
              "    }\n",
              "\n",
              "    .colab-df-convert {\n",
              "      background-color: #E8F0FE;\n",
              "      border: none;\n",
              "      border-radius: 50%;\n",
              "      cursor: pointer;\n",
              "      display: none;\n",
              "      fill: #1967D2;\n",
              "      height: 32px;\n",
              "      padding: 0 0 0 0;\n",
              "      width: 32px;\n",
              "    }\n",
              "\n",
              "    .colab-df-convert:hover {\n",
              "      background-color: #E2EBFA;\n",
              "      box-shadow: 0px 1px 2px rgba(60, 64, 67, 0.3), 0px 1px 3px 1px rgba(60, 64, 67, 0.15);\n",
              "      fill: #174EA6;\n",
              "    }\n",
              "\n",
              "    [theme=dark] .colab-df-convert {\n",
              "      background-color: #3B4455;\n",
              "      fill: #D2E3FC;\n",
              "    }\n",
              "\n",
              "    [theme=dark] .colab-df-convert:hover {\n",
              "      background-color: #434B5C;\n",
              "      box-shadow: 0px 1px 3px 1px rgba(0, 0, 0, 0.15);\n",
              "      filter: drop-shadow(0px 1px 2px rgba(0, 0, 0, 0.3));\n",
              "      fill: #FFFFFF;\n",
              "    }\n",
              "  </style>\n",
              "\n",
              "      <script>\n",
              "        const buttonEl =\n",
              "          document.querySelector('#df-058dfd95-97a3-4606-a8a5-84a03c2dd21e button.colab-df-convert');\n",
              "        buttonEl.style.display =\n",
              "          google.colab.kernel.accessAllowed ? 'block' : 'none';\n",
              "\n",
              "        async function convertToInteractive(key) {\n",
              "          const element = document.querySelector('#df-058dfd95-97a3-4606-a8a5-84a03c2dd21e');\n",
              "          const dataTable =\n",
              "            await google.colab.kernel.invokeFunction('convertToInteractive',\n",
              "                                                     [key], {});\n",
              "          if (!dataTable) return;\n",
              "\n",
              "          const docLinkHtml = 'Like what you see? Visit the ' +\n",
              "            '<a target=\"_blank\" href=https://colab.research.google.com/notebooks/data_table.ipynb>data table notebook</a>'\n",
              "            + ' to learn more about interactive tables.';\n",
              "          element.innerHTML = '';\n",
              "          dataTable['output_type'] = 'display_data';\n",
              "          await google.colab.output.renderOutput(dataTable, element);\n",
              "          const docLink = document.createElement('div');\n",
              "          docLink.innerHTML = docLinkHtml;\n",
              "          element.appendChild(docLink);\n",
              "        }\n",
              "      </script>\n",
              "    </div>\n",
              "  </div>\n",
              "  "
            ]
          },
          "metadata": {},
          "execution_count": 118
        }
      ]
    },
    {
      "cell_type": "markdown",
      "source": [
        "##### Jensen–Shannon"
      ],
      "metadata": {
        "id": "ek-yTXCx9es_"
      },
      "id": "ek-yTXCx9es_"
    },
    {
      "cell_type": "code",
      "source": [
        "from scipy.spatial.distance import jensenshannon\n",
        "y = doc_topic_dist[dff.ArticleID == 34160290].iloc[0]\n",
        "d = doc_topic_dist.apply(lambda x: jensenshannon(x, y), axis=1)\n",
        "k_nearest = d[d != 0].nsmallest(n=5).index\n",
        "k_distances = d[d != 0].nsmallest(n=5)\n",
        "k_nearest = dff.iloc[k_nearest].copy()\n",
        "k_nearest['similarity'] = 1 - k_distances \n",
        "k_nearest"
      ],
      "metadata": {
        "colab": {
          "base_uri": "https://localhost:8080/",
          "height": 206
        },
        "id": "0x9TH1MYT33s",
        "outputId": "b2963e3f-f72e-478a-dc68-9797198c618f"
      },
      "id": "0x9TH1MYT33s",
      "execution_count": 117,
      "outputs": [
        {
          "output_type": "execute_result",
          "data": {
            "text/plain": [
              "      ArticleID                                              Title  \\\n",
              "2748   34706001  stress distribution analysis in anterior teeth...   \n",
              "993    34332561  investigation of transient eye closure evoked ...   \n",
              "1574   34424840   bioprinting marches forward with new technology.   \n",
              "122    34166265  refractory severe laryngospam during rapid seq...   \n",
              "0      34153941  stable coordination variability in overground ...   \n",
              "\n",
              "                                               Abstract  similarity  \n",
              "2748  orthodontic retraction of the anterior teeth i...    0.834120  \n",
              "993   this study aimed to present a simple method fo...    0.833460  \n",
              "1574  with the advent of additive manufacturing and ...    0.829601  \n",
              "122   laryngospasm is a rare cause of upper-airway o...    0.805898  \n",
              "0     coordination variability (cv) is commonly anal...    0.731105  "
            ],
            "text/html": [
              "\n",
              "  <div id=\"df-12f2183c-6078-494e-8423-af2b66c91546\">\n",
              "    <div class=\"colab-df-container\">\n",
              "      <div>\n",
              "<style scoped>\n",
              "    .dataframe tbody tr th:only-of-type {\n",
              "        vertical-align: middle;\n",
              "    }\n",
              "\n",
              "    .dataframe tbody tr th {\n",
              "        vertical-align: top;\n",
              "    }\n",
              "\n",
              "    .dataframe thead th {\n",
              "        text-align: right;\n",
              "    }\n",
              "</style>\n",
              "<table border=\"1\" class=\"dataframe\">\n",
              "  <thead>\n",
              "    <tr style=\"text-align: right;\">\n",
              "      <th></th>\n",
              "      <th>ArticleID</th>\n",
              "      <th>Title</th>\n",
              "      <th>Abstract</th>\n",
              "      <th>similarity</th>\n",
              "    </tr>\n",
              "  </thead>\n",
              "  <tbody>\n",
              "    <tr>\n",
              "      <th>2748</th>\n",
              "      <td>34706001</td>\n",
              "      <td>stress distribution analysis in anterior teeth...</td>\n",
              "      <td>orthodontic retraction of the anterior teeth i...</td>\n",
              "      <td>0.834120</td>\n",
              "    </tr>\n",
              "    <tr>\n",
              "      <th>993</th>\n",
              "      <td>34332561</td>\n",
              "      <td>investigation of transient eye closure evoked ...</td>\n",
              "      <td>this study aimed to present a simple method fo...</td>\n",
              "      <td>0.833460</td>\n",
              "    </tr>\n",
              "    <tr>\n",
              "      <th>1574</th>\n",
              "      <td>34424840</td>\n",
              "      <td>bioprinting marches forward with new technology.</td>\n",
              "      <td>with the advent of additive manufacturing and ...</td>\n",
              "      <td>0.829601</td>\n",
              "    </tr>\n",
              "    <tr>\n",
              "      <th>122</th>\n",
              "      <td>34166265</td>\n",
              "      <td>refractory severe laryngospam during rapid seq...</td>\n",
              "      <td>laryngospasm is a rare cause of upper-airway o...</td>\n",
              "      <td>0.805898</td>\n",
              "    </tr>\n",
              "    <tr>\n",
              "      <th>0</th>\n",
              "      <td>34153941</td>\n",
              "      <td>stable coordination variability in overground ...</td>\n",
              "      <td>coordination variability (cv) is commonly anal...</td>\n",
              "      <td>0.731105</td>\n",
              "    </tr>\n",
              "  </tbody>\n",
              "</table>\n",
              "</div>\n",
              "      <button class=\"colab-df-convert\" onclick=\"convertToInteractive('df-12f2183c-6078-494e-8423-af2b66c91546')\"\n",
              "              title=\"Convert this dataframe to an interactive table.\"\n",
              "              style=\"display:none;\">\n",
              "        \n",
              "  <svg xmlns=\"http://www.w3.org/2000/svg\" height=\"24px\"viewBox=\"0 0 24 24\"\n",
              "       width=\"24px\">\n",
              "    <path d=\"M0 0h24v24H0V0z\" fill=\"none\"/>\n",
              "    <path d=\"M18.56 5.44l.94 2.06.94-2.06 2.06-.94-2.06-.94-.94-2.06-.94 2.06-2.06.94zm-11 1L8.5 8.5l.94-2.06 2.06-.94-2.06-.94L8.5 2.5l-.94 2.06-2.06.94zm10 10l.94 2.06.94-2.06 2.06-.94-2.06-.94-.94-2.06-.94 2.06-2.06.94z\"/><path d=\"M17.41 7.96l-1.37-1.37c-.4-.4-.92-.59-1.43-.59-.52 0-1.04.2-1.43.59L10.3 9.45l-7.72 7.72c-.78.78-.78 2.05 0 2.83L4 21.41c.39.39.9.59 1.41.59.51 0 1.02-.2 1.41-.59l7.78-7.78 2.81-2.81c.8-.78.8-2.07 0-2.86zM5.41 20L4 18.59l7.72-7.72 1.47 1.35L5.41 20z\"/>\n",
              "  </svg>\n",
              "      </button>\n",
              "      \n",
              "  <style>\n",
              "    .colab-df-container {\n",
              "      display:flex;\n",
              "      flex-wrap:wrap;\n",
              "      gap: 12px;\n",
              "    }\n",
              "\n",
              "    .colab-df-convert {\n",
              "      background-color: #E8F0FE;\n",
              "      border: none;\n",
              "      border-radius: 50%;\n",
              "      cursor: pointer;\n",
              "      display: none;\n",
              "      fill: #1967D2;\n",
              "      height: 32px;\n",
              "      padding: 0 0 0 0;\n",
              "      width: 32px;\n",
              "    }\n",
              "\n",
              "    .colab-df-convert:hover {\n",
              "      background-color: #E2EBFA;\n",
              "      box-shadow: 0px 1px 2px rgba(60, 64, 67, 0.3), 0px 1px 3px 1px rgba(60, 64, 67, 0.15);\n",
              "      fill: #174EA6;\n",
              "    }\n",
              "\n",
              "    [theme=dark] .colab-df-convert {\n",
              "      background-color: #3B4455;\n",
              "      fill: #D2E3FC;\n",
              "    }\n",
              "\n",
              "    [theme=dark] .colab-df-convert:hover {\n",
              "      background-color: #434B5C;\n",
              "      box-shadow: 0px 1px 3px 1px rgba(0, 0, 0, 0.15);\n",
              "      filter: drop-shadow(0px 1px 2px rgba(0, 0, 0, 0.3));\n",
              "      fill: #FFFFFF;\n",
              "    }\n",
              "  </style>\n",
              "\n",
              "      <script>\n",
              "        const buttonEl =\n",
              "          document.querySelector('#df-12f2183c-6078-494e-8423-af2b66c91546 button.colab-df-convert');\n",
              "        buttonEl.style.display =\n",
              "          google.colab.kernel.accessAllowed ? 'block' : 'none';\n",
              "\n",
              "        async function convertToInteractive(key) {\n",
              "          const element = document.querySelector('#df-12f2183c-6078-494e-8423-af2b66c91546');\n",
              "          const dataTable =\n",
              "            await google.colab.kernel.invokeFunction('convertToInteractive',\n",
              "                                                     [key], {});\n",
              "          if (!dataTable) return;\n",
              "\n",
              "          const docLinkHtml = 'Like what you see? Visit the ' +\n",
              "            '<a target=\"_blank\" href=https://colab.research.google.com/notebooks/data_table.ipynb>data table notebook</a>'\n",
              "            + ' to learn more about interactive tables.';\n",
              "          element.innerHTML = '';\n",
              "          dataTable['output_type'] = 'display_data';\n",
              "          await google.colab.output.renderOutput(dataTable, element);\n",
              "          const docLink = document.createElement('div');\n",
              "          docLink.innerHTML = docLinkHtml;\n",
              "          element.appendChild(docLink);\n",
              "        }\n",
              "      </script>\n",
              "    </div>\n",
              "  </div>\n",
              "  "
            ]
          },
          "metadata": {},
          "execution_count": 117
        }
      ]
    },
    {
      "cell_type": "markdown",
      "source": [
        "##### Cosine"
      ],
      "metadata": {
        "id": "zbv0BOE69x70"
      },
      "id": "zbv0BOE69x70"
    },
    {
      "cell_type": "code",
      "source": [
        "from scipy.spatial.distance import cosine\n",
        "e = doc_topic_dist.apply(lambda x: cosine(x, y), axis=1)\n",
        "k_nearest = e[e != 0].nsmallest(n=8).index\n",
        "k_distances = d[d != 0].nsmallest(n=8)\n",
        "k_nearest = dff.iloc[k_nearest].copy()\n",
        "k_nearest['similarity'] = 1 - k_distances \n",
        "k_nearest"
      ],
      "metadata": {
        "colab": {
          "base_uri": "https://localhost:8080/",
          "height": 300
        },
        "id": "3D8JltFzq_gm",
        "outputId": "1ca31cd2-3ae9-43d2-e1ce-9f3027e0cc85"
      },
      "id": "3D8JltFzq_gm",
      "execution_count": 115,
      "outputs": [
        {
          "output_type": "execute_result",
          "data": {
            "text/plain": [
              "      ArticleID                                              Title  \\\n",
              "1574   34424840   bioprinting marches forward with new technology.   \n",
              "2748   34706001  stress distribution analysis in anterior teeth...   \n",
              "993    34332561  investigation of transient eye closure evoked ...   \n",
              "122    34166265  refractory severe laryngospam during rapid seq...   \n",
              "1372   34398958  urine lipoarabinomannan testing in adults with...   \n",
              "82     34160290  highly prevalent russian hiv-1 v3-loop sequenc...   \n",
              "4293   34328422  content analysis and quality evaluation of ces...   \n",
              "193    34182470  optimizing conditions for spheroid formation o...   \n",
              "\n",
              "                                               Abstract  similarity  \n",
              "1574  with the advent of additive manufacturing and ...    0.780248  \n",
              "2748  orthodontic retraction of the anterior teeth i...    0.781813  \n",
              "993   this study aimed to present a simple method fo...    0.781044  \n",
              "122   laryngospasm is a rare cause of upper-airway o...    0.761730  \n",
              "1372  the urine lipoarabinomannan (lam) antigen test...    0.784462  \n",
              "82    maraviroc inhibits ccr5-tropic hiv-1 across di...    0.731105  \n",
              "4293  youtube is one of the most popular open-access...         NaN  \n",
              "193   spheroid formation is a well-known feature of ...         NaN  "
            ],
            "text/html": [
              "\n",
              "  <div id=\"df-f9fb9a09-e75b-40f5-b571-6990bdf585c6\">\n",
              "    <div class=\"colab-df-container\">\n",
              "      <div>\n",
              "<style scoped>\n",
              "    .dataframe tbody tr th:only-of-type {\n",
              "        vertical-align: middle;\n",
              "    }\n",
              "\n",
              "    .dataframe tbody tr th {\n",
              "        vertical-align: top;\n",
              "    }\n",
              "\n",
              "    .dataframe thead th {\n",
              "        text-align: right;\n",
              "    }\n",
              "</style>\n",
              "<table border=\"1\" class=\"dataframe\">\n",
              "  <thead>\n",
              "    <tr style=\"text-align: right;\">\n",
              "      <th></th>\n",
              "      <th>ArticleID</th>\n",
              "      <th>Title</th>\n",
              "      <th>Abstract</th>\n",
              "      <th>similarity</th>\n",
              "    </tr>\n",
              "  </thead>\n",
              "  <tbody>\n",
              "    <tr>\n",
              "      <th>1574</th>\n",
              "      <td>34424840</td>\n",
              "      <td>bioprinting marches forward with new technology.</td>\n",
              "      <td>with the advent of additive manufacturing and ...</td>\n",
              "      <td>0.780248</td>\n",
              "    </tr>\n",
              "    <tr>\n",
              "      <th>2748</th>\n",
              "      <td>34706001</td>\n",
              "      <td>stress distribution analysis in anterior teeth...</td>\n",
              "      <td>orthodontic retraction of the anterior teeth i...</td>\n",
              "      <td>0.781813</td>\n",
              "    </tr>\n",
              "    <tr>\n",
              "      <th>993</th>\n",
              "      <td>34332561</td>\n",
              "      <td>investigation of transient eye closure evoked ...</td>\n",
              "      <td>this study aimed to present a simple method fo...</td>\n",
              "      <td>0.781044</td>\n",
              "    </tr>\n",
              "    <tr>\n",
              "      <th>122</th>\n",
              "      <td>34166265</td>\n",
              "      <td>refractory severe laryngospam during rapid seq...</td>\n",
              "      <td>laryngospasm is a rare cause of upper-airway o...</td>\n",
              "      <td>0.761730</td>\n",
              "    </tr>\n",
              "    <tr>\n",
              "      <th>1372</th>\n",
              "      <td>34398958</td>\n",
              "      <td>urine lipoarabinomannan testing in adults with...</td>\n",
              "      <td>the urine lipoarabinomannan (lam) antigen test...</td>\n",
              "      <td>0.784462</td>\n",
              "    </tr>\n",
              "    <tr>\n",
              "      <th>82</th>\n",
              "      <td>34160290</td>\n",
              "      <td>highly prevalent russian hiv-1 v3-loop sequenc...</td>\n",
              "      <td>maraviroc inhibits ccr5-tropic hiv-1 across di...</td>\n",
              "      <td>0.731105</td>\n",
              "    </tr>\n",
              "    <tr>\n",
              "      <th>4293</th>\n",
              "      <td>34328422</td>\n",
              "      <td>content analysis and quality evaluation of ces...</td>\n",
              "      <td>youtube is one of the most popular open-access...</td>\n",
              "      <td>NaN</td>\n",
              "    </tr>\n",
              "    <tr>\n",
              "      <th>193</th>\n",
              "      <td>34182470</td>\n",
              "      <td>optimizing conditions for spheroid formation o...</td>\n",
              "      <td>spheroid formation is a well-known feature of ...</td>\n",
              "      <td>NaN</td>\n",
              "    </tr>\n",
              "  </tbody>\n",
              "</table>\n",
              "</div>\n",
              "      <button class=\"colab-df-convert\" onclick=\"convertToInteractive('df-f9fb9a09-e75b-40f5-b571-6990bdf585c6')\"\n",
              "              title=\"Convert this dataframe to an interactive table.\"\n",
              "              style=\"display:none;\">\n",
              "        \n",
              "  <svg xmlns=\"http://www.w3.org/2000/svg\" height=\"24px\"viewBox=\"0 0 24 24\"\n",
              "       width=\"24px\">\n",
              "    <path d=\"M0 0h24v24H0V0z\" fill=\"none\"/>\n",
              "    <path d=\"M18.56 5.44l.94 2.06.94-2.06 2.06-.94-2.06-.94-.94-2.06-.94 2.06-2.06.94zm-11 1L8.5 8.5l.94-2.06 2.06-.94-2.06-.94L8.5 2.5l-.94 2.06-2.06.94zm10 10l.94 2.06.94-2.06 2.06-.94-2.06-.94-.94-2.06-.94 2.06-2.06.94z\"/><path d=\"M17.41 7.96l-1.37-1.37c-.4-.4-.92-.59-1.43-.59-.52 0-1.04.2-1.43.59L10.3 9.45l-7.72 7.72c-.78.78-.78 2.05 0 2.83L4 21.41c.39.39.9.59 1.41.59.51 0 1.02-.2 1.41-.59l7.78-7.78 2.81-2.81c.8-.78.8-2.07 0-2.86zM5.41 20L4 18.59l7.72-7.72 1.47 1.35L5.41 20z\"/>\n",
              "  </svg>\n",
              "      </button>\n",
              "      \n",
              "  <style>\n",
              "    .colab-df-container {\n",
              "      display:flex;\n",
              "      flex-wrap:wrap;\n",
              "      gap: 12px;\n",
              "    }\n",
              "\n",
              "    .colab-df-convert {\n",
              "      background-color: #E8F0FE;\n",
              "      border: none;\n",
              "      border-radius: 50%;\n",
              "      cursor: pointer;\n",
              "      display: none;\n",
              "      fill: #1967D2;\n",
              "      height: 32px;\n",
              "      padding: 0 0 0 0;\n",
              "      width: 32px;\n",
              "    }\n",
              "\n",
              "    .colab-df-convert:hover {\n",
              "      background-color: #E2EBFA;\n",
              "      box-shadow: 0px 1px 2px rgba(60, 64, 67, 0.3), 0px 1px 3px 1px rgba(60, 64, 67, 0.15);\n",
              "      fill: #174EA6;\n",
              "    }\n",
              "\n",
              "    [theme=dark] .colab-df-convert {\n",
              "      background-color: #3B4455;\n",
              "      fill: #D2E3FC;\n",
              "    }\n",
              "\n",
              "    [theme=dark] .colab-df-convert:hover {\n",
              "      background-color: #434B5C;\n",
              "      box-shadow: 0px 1px 3px 1px rgba(0, 0, 0, 0.15);\n",
              "      filter: drop-shadow(0px 1px 2px rgba(0, 0, 0, 0.3));\n",
              "      fill: #FFFFFF;\n",
              "    }\n",
              "  </style>\n",
              "\n",
              "      <script>\n",
              "        const buttonEl =\n",
              "          document.querySelector('#df-f9fb9a09-e75b-40f5-b571-6990bdf585c6 button.colab-df-convert');\n",
              "        buttonEl.style.display =\n",
              "          google.colab.kernel.accessAllowed ? 'block' : 'none';\n",
              "\n",
              "        async function convertToInteractive(key) {\n",
              "          const element = document.querySelector('#df-f9fb9a09-e75b-40f5-b571-6990bdf585c6');\n",
              "          const dataTable =\n",
              "            await google.colab.kernel.invokeFunction('convertToInteractive',\n",
              "                                                     [key], {});\n",
              "          if (!dataTable) return;\n",
              "\n",
              "          const docLinkHtml = 'Like what you see? Visit the ' +\n",
              "            '<a target=\"_blank\" href=https://colab.research.google.com/notebooks/data_table.ipynb>data table notebook</a>'\n",
              "            + ' to learn more about interactive tables.';\n",
              "          element.innerHTML = '';\n",
              "          dataTable['output_type'] = 'display_data';\n",
              "          await google.colab.output.renderOutput(dataTable, element);\n",
              "          const docLink = document.createElement('div');\n",
              "          docLink.innerHTML = docLinkHtml;\n",
              "          element.appendChild(docLink);\n",
              "        }\n",
              "      </script>\n",
              "    </div>\n",
              "  </div>\n",
              "  "
            ]
          },
          "metadata": {},
          "execution_count": 115
        }
      ]
    },
    {
      "cell_type": "markdown",
      "source": [
        "##### Cityblock"
      ],
      "metadata": {
        "id": "TcD79PNq9666"
      },
      "id": "TcD79PNq9666"
    },
    {
      "cell_type": "code",
      "source": [
        "from scipy.spatial.distance import cityblock\n",
        "e = doc_topic_dist.apply(lambda x: cityblock(x, y), axis=1)\n",
        "k_nearest = e[e != 0].nsmallest(n=8).index\n",
        "k_distances = e[e != 0].nsmallest(n=8)\n",
        "k_nearest = dff.iloc[k_nearest].copy()\n",
        "k_nearest['similarity'] = 1 - k_distances \n",
        "k_nearest"
      ],
      "metadata": {
        "colab": {
          "base_uri": "https://localhost:8080/",
          "height": 300
        },
        "id": "52weUAMzql2m",
        "outputId": "e7fbfa77-4a50-4f8c-9f97-00e1927bdde8"
      },
      "id": "52weUAMzql2m",
      "execution_count": 116,
      "outputs": [
        {
          "output_type": "execute_result",
          "data": {
            "text/plain": [
              "      ArticleID                                              Title  \\\n",
              "1372   34398958  urine lipoarabinomannan testing in adults with...   \n",
              "1574   34424840   bioprinting marches forward with new technology.   \n",
              "122    34166265  refractory severe laryngospam during rapid seq...   \n",
              "2748   34706001  stress distribution analysis in anterior teeth...   \n",
              "82     34160290  highly prevalent russian hiv-1 v3-loop sequenc...   \n",
              "993    34332561  investigation of transient eye closure evoked ...   \n",
              "4202   34321490  elevated levels of merkel cell polyoma virus i...   \n",
              "193    34182470  optimizing conditions for spheroid formation o...   \n",
              "\n",
              "                                               Abstract  similarity  \n",
              "1372  the urine lipoarabinomannan (lam) antigen test...    0.784462  \n",
              "1574  with the advent of additive manufacturing and ...    0.780248  \n",
              "122   laryngospasm is a rare cause of upper-airway o...    0.761730  \n",
              "2748  orthodontic retraction of the anterior teeth i...    0.781813  \n",
              "82    maraviroc inhibits ccr5-tropic hiv-1 across di...    0.731105  \n",
              "993   this study aimed to present a simple method fo...    0.781044  \n",
              "4202  the human ocular surface hosts a paucibacteria...    0.664631  \n",
              "193   spheroid formation is a well-known feature of ...         NaN  "
            ],
            "text/html": [
              "\n",
              "  <div id=\"df-ef689293-a3d9-4767-bb30-340589832f49\">\n",
              "    <div class=\"colab-df-container\">\n",
              "      <div>\n",
              "<style scoped>\n",
              "    .dataframe tbody tr th:only-of-type {\n",
              "        vertical-align: middle;\n",
              "    }\n",
              "\n",
              "    .dataframe tbody tr th {\n",
              "        vertical-align: top;\n",
              "    }\n",
              "\n",
              "    .dataframe thead th {\n",
              "        text-align: right;\n",
              "    }\n",
              "</style>\n",
              "<table border=\"1\" class=\"dataframe\">\n",
              "  <thead>\n",
              "    <tr style=\"text-align: right;\">\n",
              "      <th></th>\n",
              "      <th>ArticleID</th>\n",
              "      <th>Title</th>\n",
              "      <th>Abstract</th>\n",
              "      <th>similarity</th>\n",
              "    </tr>\n",
              "  </thead>\n",
              "  <tbody>\n",
              "    <tr>\n",
              "      <th>1372</th>\n",
              "      <td>34398958</td>\n",
              "      <td>urine lipoarabinomannan testing in adults with...</td>\n",
              "      <td>the urine lipoarabinomannan (lam) antigen test...</td>\n",
              "      <td>0.784462</td>\n",
              "    </tr>\n",
              "    <tr>\n",
              "      <th>1574</th>\n",
              "      <td>34424840</td>\n",
              "      <td>bioprinting marches forward with new technology.</td>\n",
              "      <td>with the advent of additive manufacturing and ...</td>\n",
              "      <td>0.780248</td>\n",
              "    </tr>\n",
              "    <tr>\n",
              "      <th>122</th>\n",
              "      <td>34166265</td>\n",
              "      <td>refractory severe laryngospam during rapid seq...</td>\n",
              "      <td>laryngospasm is a rare cause of upper-airway o...</td>\n",
              "      <td>0.761730</td>\n",
              "    </tr>\n",
              "    <tr>\n",
              "      <th>2748</th>\n",
              "      <td>34706001</td>\n",
              "      <td>stress distribution analysis in anterior teeth...</td>\n",
              "      <td>orthodontic retraction of the anterior teeth i...</td>\n",
              "      <td>0.781813</td>\n",
              "    </tr>\n",
              "    <tr>\n",
              "      <th>82</th>\n",
              "      <td>34160290</td>\n",
              "      <td>highly prevalent russian hiv-1 v3-loop sequenc...</td>\n",
              "      <td>maraviroc inhibits ccr5-tropic hiv-1 across di...</td>\n",
              "      <td>0.731105</td>\n",
              "    </tr>\n",
              "    <tr>\n",
              "      <th>993</th>\n",
              "      <td>34332561</td>\n",
              "      <td>investigation of transient eye closure evoked ...</td>\n",
              "      <td>this study aimed to present a simple method fo...</td>\n",
              "      <td>0.781044</td>\n",
              "    </tr>\n",
              "    <tr>\n",
              "      <th>4202</th>\n",
              "      <td>34321490</td>\n",
              "      <td>elevated levels of merkel cell polyoma virus i...</td>\n",
              "      <td>the human ocular surface hosts a paucibacteria...</td>\n",
              "      <td>0.664631</td>\n",
              "    </tr>\n",
              "    <tr>\n",
              "      <th>193</th>\n",
              "      <td>34182470</td>\n",
              "      <td>optimizing conditions for spheroid formation o...</td>\n",
              "      <td>spheroid formation is a well-known feature of ...</td>\n",
              "      <td>NaN</td>\n",
              "    </tr>\n",
              "  </tbody>\n",
              "</table>\n",
              "</div>\n",
              "      <button class=\"colab-df-convert\" onclick=\"convertToInteractive('df-ef689293-a3d9-4767-bb30-340589832f49')\"\n",
              "              title=\"Convert this dataframe to an interactive table.\"\n",
              "              style=\"display:none;\">\n",
              "        \n",
              "  <svg xmlns=\"http://www.w3.org/2000/svg\" height=\"24px\"viewBox=\"0 0 24 24\"\n",
              "       width=\"24px\">\n",
              "    <path d=\"M0 0h24v24H0V0z\" fill=\"none\"/>\n",
              "    <path d=\"M18.56 5.44l.94 2.06.94-2.06 2.06-.94-2.06-.94-.94-2.06-.94 2.06-2.06.94zm-11 1L8.5 8.5l.94-2.06 2.06-.94-2.06-.94L8.5 2.5l-.94 2.06-2.06.94zm10 10l.94 2.06.94-2.06 2.06-.94-2.06-.94-.94-2.06-.94 2.06-2.06.94z\"/><path d=\"M17.41 7.96l-1.37-1.37c-.4-.4-.92-.59-1.43-.59-.52 0-1.04.2-1.43.59L10.3 9.45l-7.72 7.72c-.78.78-.78 2.05 0 2.83L4 21.41c.39.39.9.59 1.41.59.51 0 1.02-.2 1.41-.59l7.78-7.78 2.81-2.81c.8-.78.8-2.07 0-2.86zM5.41 20L4 18.59l7.72-7.72 1.47 1.35L5.41 20z\"/>\n",
              "  </svg>\n",
              "      </button>\n",
              "      \n",
              "  <style>\n",
              "    .colab-df-container {\n",
              "      display:flex;\n",
              "      flex-wrap:wrap;\n",
              "      gap: 12px;\n",
              "    }\n",
              "\n",
              "    .colab-df-convert {\n",
              "      background-color: #E8F0FE;\n",
              "      border: none;\n",
              "      border-radius: 50%;\n",
              "      cursor: pointer;\n",
              "      display: none;\n",
              "      fill: #1967D2;\n",
              "      height: 32px;\n",
              "      padding: 0 0 0 0;\n",
              "      width: 32px;\n",
              "    }\n",
              "\n",
              "    .colab-df-convert:hover {\n",
              "      background-color: #E2EBFA;\n",
              "      box-shadow: 0px 1px 2px rgba(60, 64, 67, 0.3), 0px 1px 3px 1px rgba(60, 64, 67, 0.15);\n",
              "      fill: #174EA6;\n",
              "    }\n",
              "\n",
              "    [theme=dark] .colab-df-convert {\n",
              "      background-color: #3B4455;\n",
              "      fill: #D2E3FC;\n",
              "    }\n",
              "\n",
              "    [theme=dark] .colab-df-convert:hover {\n",
              "      background-color: #434B5C;\n",
              "      box-shadow: 0px 1px 3px 1px rgba(0, 0, 0, 0.15);\n",
              "      filter: drop-shadow(0px 1px 2px rgba(0, 0, 0, 0.3));\n",
              "      fill: #FFFFFF;\n",
              "    }\n",
              "  </style>\n",
              "\n",
              "      <script>\n",
              "        const buttonEl =\n",
              "          document.querySelector('#df-ef689293-a3d9-4767-bb30-340589832f49 button.colab-df-convert');\n",
              "        buttonEl.style.display =\n",
              "          google.colab.kernel.accessAllowed ? 'block' : 'none';\n",
              "\n",
              "        async function convertToInteractive(key) {\n",
              "          const element = document.querySelector('#df-ef689293-a3d9-4767-bb30-340589832f49');\n",
              "          const dataTable =\n",
              "            await google.colab.kernel.invokeFunction('convertToInteractive',\n",
              "                                                     [key], {});\n",
              "          if (!dataTable) return;\n",
              "\n",
              "          const docLinkHtml = 'Like what you see? Visit the ' +\n",
              "            '<a target=\"_blank\" href=https://colab.research.google.com/notebooks/data_table.ipynb>data table notebook</a>'\n",
              "            + ' to learn more about interactive tables.';\n",
              "          element.innerHTML = '';\n",
              "          dataTable['output_type'] = 'display_data';\n",
              "          await google.colab.output.renderOutput(dataTable, element);\n",
              "          const docLink = document.createElement('div');\n",
              "          docLink.innerHTML = docLinkHtml;\n",
              "          element.appendChild(docLink);\n",
              "        }\n",
              "      </script>\n",
              "    </div>\n",
              "  </div>\n",
              "  "
            ]
          },
          "metadata": {},
          "execution_count": 116
        }
      ]
    },
    {
      "cell_type": "markdown",
      "source": [
        "#### Implementing a function to get the nearest topics same idea as **KNN**"
      ],
      "metadata": {
        "id": "S6ZfPysY-V5K"
      },
      "id": "S6ZfPysY-V5K"
    },
    {
      "cell_type": "markdown",
      "source": [
        "**Using Jensen–Shannon as it the most optimal one with no NaNs and using it in the KND \"K Nearest Docs\" function below**"
      ],
      "metadata": {
        "id": "0wFhDIA3-BHt"
      },
      "id": "0wFhDIA3-BHt"
    },
    {
      "cell_type": "code",
      "source": [
        "def get_k_nearest_docs(doc_dist, k=5, get_dist=False):\n",
        "    '''\n",
        "    doc_dist: topic distribution (sums to 1) of one article\n",
        "    \n",
        "    Returns the index of the k nearest articles (as by Jensen–Shannon divergence in topic space). \n",
        "    '''\n",
        "    temp = doc_topic_dist     \n",
        "    distances = temp.apply(lambda x: jensenshannon(x, doc_dist), axis=1)\n",
        "    k_nearest = distances[distances != 0].nsmallest(n=k).index\n",
        "    \n",
        "    if get_dist:\n",
        "        k_distances = distances[distances != 0].nsmallest(n=k)\n",
        "        return k_nearest, k_distances\n",
        "    else:\n",
        "        return k_nearest"
      ],
      "metadata": {
        "id": "7A1Jn4GujSqM"
      },
      "id": "7A1Jn4GujSqM",
      "execution_count": 52,
      "outputs": []
    },
    {
      "cell_type": "markdown",
      "source": [
        "**Implementing a function to return the desired number of the articles based on the nearest probability.**"
      ],
      "metadata": {
        "id": "hWroxDZV-nfR"
      },
      "id": "hWroxDZV-nfR"
    },
    {
      "cell_type": "code",
      "source": [
        "def recommendation(paper_id, k=5):\n",
        "    '''\n",
        "    Returns the title of the k papers that are closest (topic-wise) to the paper given by paper_id.\n",
        "    '''\n",
        "    \n",
        "    print(dff.Abstract[dff.ArticleID == paper_id].values[0])\n",
        "\n",
        "    recommended, dist = get_k_nearest_docs(doc_topic_dist[dff.ArticleID == paper_id].iloc[0], k, get_dist=True)\n",
        "    recommended = dff.iloc[recommended].copy()\n",
        "    recommended['similarity'] = 1 - dist \n",
        "    \n",
        "    h = '<br/>'.join(['<a target=\"_blank\">'+ n + '</a>' +' (Similarity: ' + \"{:.2f}\".format(s) + ')' + '<br>' + t for n, s, t in recommended[['Title', 'similarity', 'Abstract']].values])\n",
        "    display(HTML(h))\n",
        "    "
      ],
      "metadata": {
        "id": "IkyqJcrYj7sS"
      },
      "id": "IkyqJcrYj7sS",
      "execution_count": 53,
      "outputs": []
    },
    {
      "cell_type": "markdown",
      "source": [
        "**Testing for any article based on the ArticleID as shown below:**"
      ],
      "metadata": {
        "id": "XpbGwunU_Gq_"
      },
      "id": "XpbGwunU_Gq_"
    },
    {
      "cell_type": "code",
      "source": [
        "recommendation(34153941, k=3)"
      ],
      "metadata": {
        "colab": {
          "base_uri": "https://localhost:8080/",
          "height": 662
        },
        "id": "jeK_76YGj7k9",
        "outputId": "bdb4d63c-de55-480e-87fb-0b5ed7341d1c"
      },
      "id": "jeK_76YGj7k9",
      "execution_count": 99,
      "outputs": [
        {
          "output_type": "stream",
          "name": "stdout",
          "text": [
            "coordination variability (cv) is commonly analyzed to understand dynamical qualities of human locomotion. the purpose of this study was to develop guidelines for the number of trials required to inform the calculation of a stable mean lower limb cv during overground locomotion. three-dimensional lower limb kinematics were captured for 10 recreational runners performing 20 trials each of preferred and fixed speed walking and running. stance phase cv was calculated for 9 segment and joint couplings using a modified vector coding technique. the number of trials required to achieve a cv mean within 10% of 20 strides average was determined for each coupling and individual. the statistical outputs of mode (walking vs running) and speed (preferred vs fixed) were compared when informed by differing numbers of trials. a minimum of 11 trials were required for stable mean stance phase cv. with fewer than 11 trials, cv was underestimated and led to an oversight of significant differences between mode and speed. future overground locomotion cv research in healthy populations using a vector coding approach should use 11 trials as a standard minimum. researchers should be aware of the notable consequences of an insufficient number of trials for overall study findings.\n"
          ]
        },
        {
          "output_type": "display_data",
          "data": {
            "text/plain": [
              "<IPython.core.display.HTML object>"
            ],
            "text/html": [
              "<a target=\"_blank\">urine lipoarabinomannan testing in adults with advanced human immunodeficiency virus in a trial of empiric tuberculosis therapy.</a> (Similarity: 0.78)<br>the urine lipoarabinomannan (lam) antigen test is a tuberculosis (tb) diagnostic test with highest sensitivity in individuals with advanced human immunodeficiency virus (hiv). its role in tb diagnostic algorithms for hiv-positive outpatients remains unclear.,the aids clinical trials group (actg) a5274 trial demonstrated that empiric tb therapy did not improve 24-week survival compared to isoniazid preventive therapy (ipt) in tb screen-negative hiv-positive adults initiating antiretroviral therapy with cd4 counts <50 cells/µl. retrospective lam testing was performed on stored urine obtained at baseline. we determined the proportion of lam-positive participants and conducted modified intent-to-treat analysis excluding lam-positive participants to determine the effect on 24-week survival, tb incidence, and time to tb using kaplan-meier method.,a5274 enrolled 850 participants; 53% were male and the median cd4 count was 18 (interquartile range, 9-32) cells/µl. of the 850, 566 (67%) had lam testing (283 per arm); 28 (5%) were positive (21 [7%] and 7 [2%] in the empiric and ipt arms, respectively). of those lam-positive, 1 participant in each arm died and 5 of 21 and 0 of 7 in empiric and ipt arms, respectively, developed tb. after excluding these 28 cases, there were 19 and 21 deaths in the empiric and ipt arms, respectively (p = .88). tb incidence remained higher (4.6% vs 2%, p = .04) and time to tb remained faster in the empiric arm (p = .04).,among outpatients with advanced hiv who screened negative for tb by clinical symptoms, microscopy, and xpert testing, lam testing identified an additional 5% of individuals with tb. positive lam results did not change mortality or tb incidence.<br/><a target=\"_blank\">stress distribution analysis in anterior teeth caused by several retraction mechanics.</a> (Similarity: 0.78)<br>orthodontic retraction of the anterior teeth is indicated when the patient has a malocclusion with protrusion of the incisors. several mechanics are indicated to perform this retraction.,the objective of this study was to compare the strains generated by four different types of retraction mechanics along the roots of the anterior teeth.,a photoelastic model simulating an arch with first premolars extraction was made. sixty retraction archwires were prepared, including fifteen for each type of mechanics evaluated: sliding, teardrop loop spring, t-loop spring and double key loop archwire. the strains were observed in two perspectives: occlusal and oblique. in the occlusal perspective, strains were compared among the six anterior teeth. from the oblique perspective, strains were compared among the thirds of the left canine root.,in the occlusal perspective, the teardrop loop spring mechanics presented greater strains, followed by t-loop spring, double key loop archwire and sliding mechanics. in all mechanics, strains were more concentrated in the canines than in the incisors. from the oblique perspective, the teardrop loop mechanics generated greater strains in the cervical regions of the canine, and in the apical regions, no differences were found in strains among the four types of mechanics. in the same mechanics, greater strains were present in the cervical zones.,the teardrop loop spring retraction mechanic presented the greatest mean strain, and the sliding retraction mechanic presented the lowest mean strain on the root of anteroinferior teeth in the occlusal and oblique perspectives.<br/><a target=\"_blank\">investigation of transient eye closure evoked with bright light in the patients with intermittent exotropia.</a> (Similarity: 0.78)<br>this study aimed to present a simple method for evaluating transient eye closure (tec) evoked by bright light and find the agreement between tec and photosensitivity. we also assessed the associated factors with tec in the patients with intermittent exotropia (ixt).,in this retrospective study, ixt patients were exposed to different brightness: darkness, low-intensity white light, and high-intensity white light using a near-infrared camera vision monitor system (mon cv3, metrovision, france). tec was considered to be present if the subject closed his or her eyes immediately, and for more than half of the scotopic lid fissure distance in response to the high-intensity or low-intensity photopic stimulus of light, compared with lid fissure distance in the scotopic phase. we assessed the presence of photosensitivity using a questionnaire and evaluated the agreement between tec and photosensitivity. we also investigated the sensory fusion, motor fusion, and pupil dynamic components for the existence of tec in ixt patients.,sixty-one patients with ixt were included. with the new method to evaluate tec under different light intensities, 27 (44.3%) of the 61 ixt patients showed tec, and 34 (55.7%) did not demonstrate tec. tec under high-intensity white light had a strong correlation with self-reporting photosensitivity (r = 0.77). the smaller angle of deviation at near was associated with the presence of tec, with statistical significance (p = 0.04). normal sensory status at a distance was significantly associated with tec (p <  0.01). multivariate analysis using multiple logistic regression analysis showed that normal sensory status was significantly associated with tec (p = 0.02).,the test using a near-infrared camera vision monitor system was a simple and objective tool in identifying tec evoked by bright light. the presence of tec strongly correlated with self-reporting photosensitivity in patients with ixt. however, tec may be an independent phenomenon with motor alignment, stereopsis, and pupil reflex pathway in patients with ixt."
            ]
          },
          "metadata": {}
        }
      ]
    },
    {
      "cell_type": "code",
      "execution_count": 19,
      "metadata": {
        "id": "dd1c8ae0"
      },
      "outputs": [],
      "source": [
        "## Preprocessing def\n",
        "##Stemming\n",
        "ps=PorterStemmer()\n",
        "#Lemmatisation\n",
        "lem = WordNetLemmatizer()\n",
        "\n",
        "def preprocess(data, action):\n",
        "  corpus = []\n",
        "  for i in range(0, len(data)):\n",
        "    #Remove punctuations\n",
        "    text = re.sub('[^a-zA-Z]', ' ', data['Abstract'][i])\n",
        "    \n",
        "    #remove tags\n",
        "    text=re.sub(\"&lt;/?.*?&gt;\",\" &lt;&gt; \",text)\n",
        "    \n",
        "    # remove special characters and digits\n",
        "    text=re.sub(\"(\\\\d|\\\\W)+\",\" \",text)\n",
        "    \n",
        "    ##Convert to list from string\n",
        "    text = text.split()\n",
        "    if action == 0:\n",
        "      text = [ps.stem(word) for word in text if not word in  \n",
        "              stopwords.words('english')]\n",
        "      text = \" \".join(text)\n",
        "      corpus.append(text)\n",
        "    else:\n",
        "      text = [lem.lemmatize(word) for word in text if not word in  \n",
        "              stopwords.words('english')]\n",
        "      text = \" \".join(text)\n",
        "      corpus.append(text)\n",
        "\n",
        "  return corpus"
      ],
      "id": "dd1c8ae0"
    },
    {
      "cell_type": "code",
      "execution_count": null,
      "metadata": {
        "id": "4XjO7SXZQjVy"
      },
      "outputs": [],
      "source": [
        "from sklearn.feature_extraction.text import CountVectorizer\n",
        "cv = CountVectorizer()\n",
        "X = cv.fit_transform(corpus).toarray()"
      ],
      "id": "4XjO7SXZQjVy"
    },
    {
      "cell_type": "code",
      "execution_count": null,
      "metadata": {
        "colab": {
          "base_uri": "https://localhost:8080/"
        },
        "id": "l4XTbkyERkl3",
        "outputId": "d174c973-db7f-4c04-b704-2c7f796b8cea"
      },
      "outputs": [
        {
          "data": {
            "text/plain": [
              "35667"
            ]
          },
          "execution_count": 68,
          "metadata": {},
          "output_type": "execute_result"
        }
      ],
      "source": [
        "## This is the number of words in all of the Abstract column\n",
        "len(X[0])"
      ],
      "id": "l4XTbkyERkl3"
    },
    {
      "cell_type": "code",
      "execution_count": null,
      "metadata": {
        "colab": {
          "base_uri": "https://localhost:8080/"
        },
        "id": "55178874",
        "outputId": "c99ef672-bd79-4ff5-861b-a6623bb97de5"
      },
      "outputs": [
        {
          "data": {
            "text/plain": [
              "array([[0, 0, 0, ..., 0, 0, 0],\n",
              "       [0, 0, 0, ..., 0, 0, 0],\n",
              "       [0, 0, 0, ..., 0, 0, 0],\n",
              "       ...,\n",
              "       [0, 0, 0, ..., 0, 0, 0],\n",
              "       [0, 0, 0, ..., 0, 0, 0],\n",
              "       [0, 0, 0, ..., 0, 0, 0]])"
            ]
          },
          "execution_count": 69,
          "metadata": {},
          "output_type": "execute_result"
        }
      ],
      "source": [
        "# Creating the Bag of Words model\n",
        "from sklearn.feature_extraction.text import CountVectorizer\n",
        "cv = CountVectorizer(max_features = 5000)\n",
        "X = cv.fit_transform(corpus).toarray()\n",
        "X"
      ],
      "id": "55178874"
    },
    {
      "cell_type": "code",
      "execution_count": null,
      "metadata": {
        "id": "06d32a3b",
        "outputId": "26386dc9-6bd4-4e63-8e1e-08279f9893fd"
      },
      "outputs": [
        {
          "data": {
            "text/plain": [
              "<function sklearn.datasets._twenty_newsgroups.fetch_20newsgroups(*, data_home=None, subset='train', categories=None, shuffle=True, random_state=42, remove=(), download_if_missing=True, return_X_y=False)>"
            ]
          },
          "execution_count": 55,
          "metadata": {},
          "output_type": "execute_result"
        }
      ],
      "source": [
        "from sklearn.datasets import fetch_20newsgroups\n",
        "fetch_20newsgroups"
      ],
      "id": "06d32a3b"
    },
    {
      "cell_type": "code",
      "execution_count": null,
      "metadata": {
        "id": "340f51cc",
        "outputId": "10604eac-2110-471a-e3fe-da074c7f35df"
      },
      "outputs": [
        {
          "ename": "AttributeError",
          "evalue": "'function' object has no attribute 'target_names'",
          "output_type": "error",
          "traceback": [
            "\u001b[1;31m---------------------------------------------------------------------------\u001b[0m",
            "\u001b[1;31mAttributeError\u001b[0m                            Traceback (most recent call last)",
            "\u001b[1;32m~\\AppData\\Local\\Temp/ipykernel_17272/3811136344.py\u001b[0m in \u001b[0;36m<module>\u001b[1;34m\u001b[0m\n\u001b[1;32m----> 1\u001b[1;33m \u001b[0mprint\u001b[0m\u001b[1;33m(\u001b[0m\u001b[0mlist\u001b[0m\u001b[1;33m(\u001b[0m\u001b[0mfetch_20newsgroups\u001b[0m\u001b[1;33m.\u001b[0m\u001b[0mtarget_names\u001b[0m\u001b[1;33m)\u001b[0m\u001b[1;33m)\u001b[0m\u001b[1;33m\u001b[0m\u001b[1;33m\u001b[0m\u001b[0m\n\u001b[0m",
            "\u001b[1;31mAttributeError\u001b[0m: 'function' object has no attribute 'target_names'"
          ]
        }
      ],
      "source": [
        "print(list(fetch_20newsgroups.target_names))"
      ],
      "id": "340f51cc"
    },
    {
      "cell_type": "code",
      "execution_count": 22,
      "metadata": {
        "id": "fb8b171f"
      },
      "outputs": [],
      "source": [
        "import gensim\n",
        "from gensim.utils import simple_preprocess\n",
        "from gensim.parsing.preprocessing import STOPWORDS\n",
        "from nltk.stem import WordNetLemmatizer, SnowballStemmer"
      ],
      "id": "fb8b171f"
    },
    {
      "cell_type": "code",
      "execution_count": 23,
      "metadata": {
        "id": "ABVPXzcuF1Kb"
      },
      "outputs": [],
      "source": [
        "stemmer = SnowballStemmer(\"english\")"
      ],
      "id": "ABVPXzcuF1Kb"
    },
    {
      "cell_type": "code",
      "source": [
        "def lemmatize_stemming(text):\n",
        "    return stemmer.stem(WordNetLemmatizer().lemmatize(text, pos='v'))\n",
        "\n",
        "# Tokenize and lemmatize\n",
        "def preprocess(text):\n",
        "    result=[]\n",
        "    for token in gensim.utils.simple_preprocess(text) :\n",
        "        if token not in gensim.parsing.preprocessing.STOPWORDS and len(token) > 3:\n",
        "            result.append(lemmatize_stemming(token))\n",
        "            \n",
        "    return result"
      ],
      "metadata": {
        "id": "mvVheUIkStkU"
      },
      "id": "mvVheUIkStkU",
      "execution_count": 25,
      "outputs": []
    },
    {
      "cell_type": "code",
      "execution_count": 26,
      "metadata": {
        "id": "4jgZVnaYF5EJ"
      },
      "outputs": [],
      "source": [
        "processed_docs = []\n",
        "\n",
        "for doc in corpus:\n",
        "    processed_docs.append(preprocess(doc))"
      ],
      "id": "4jgZVnaYF5EJ"
    },
    {
      "cell_type": "code",
      "source": [
        "print(processed_docs[0])"
      ],
      "metadata": {
        "colab": {
          "base_uri": "https://localhost:8080/"
        },
        "id": "cAx_Ft5XSlO8",
        "outputId": "3baef998-9535-4840-fba4-b47e94c475e5"
      },
      "id": "cAx_Ft5XSlO8",
      "execution_count": 34,
      "outputs": [
        {
          "output_type": "stream",
          "name": "stdout",
          "text": [
            "['coordin', 'variabl', 'common', 'analyz', 'understand', 'dynam', 'qualiti', 'human', 'locomot', 'purpos', 'studi', 'develop', 'guidelin', 'number', 'trial', 'requir', 'inform', 'calcul', 'stabl', 'mean', 'lower', 'limb', 'overground', 'locomot', 'dimension', 'lower', 'limb', 'kinemat', 'captur', 'recreat', 'runner', 'perform', 'trial', 'prefer', 'fix', 'speed', 'walk', 'run', 'stanc', 'phase', 'calcul', 'segment', 'joint', 'coupl', 'modifi', 'vector', 'cod', 'techniqu', 'number', 'trial', 'requir', 'achiev', 'mean', 'stride', 'averag', 'determin', 'coupl', 'individu', 'statist', 'output', 'mode', 'walk', 'run', 'speed', 'prefer', 'fix', 'compar', 'inform', 'differ', 'number', 'trial', 'minimum', 'trial', 'requir', 'stabl', 'mean', 'stanc', 'phase', 'fewer', 'trial', 'underestim', 'oversight', 'signific', 'differ', 'mode', 'speed', 'futur', 'overground', 'locomot', 'research', 'healthi', 'popul', 'vector', 'cod', 'approach', 'trial', 'standard', 'minimum', 'research', 'awar', 'notabl', 'consequ', 'insuffici', 'number', 'trial', 'overal', 'studi', 'find']\n"
          ]
        }
      ]
    },
    {
      "cell_type": "code",
      "source": [
        "dictionary = gensim.corpora.Dictionary(processed_docs)"
      ],
      "metadata": {
        "id": "9M72ClRAS0bp"
      },
      "id": "9M72ClRAS0bp",
      "execution_count": 32,
      "outputs": []
    },
    {
      "cell_type": "code",
      "source": [
        "count = 0\n",
        "for k, v in dictionary.iteritems():\n",
        "    print(k, v)\n",
        "    count += 1\n",
        "    if count > 10:\n",
        "        break"
      ],
      "metadata": {
        "colab": {
          "base_uri": "https://localhost:8080/"
        },
        "id": "vEVQcRUjS-zu",
        "outputId": "1b806978-e4f5-4c56-f9db-43fbe55bba66"
      },
      "id": "vEVQcRUjS-zu",
      "execution_count": 36,
      "outputs": [
        {
          "output_type": "stream",
          "name": "stdout",
          "text": [
            "0 achiev\n",
            "1 averag\n",
            "2 awar\n",
            "3 calcul\n",
            "4 captur\n",
            "5 cod\n",
            "6 consequ\n",
            "7 coordin\n",
            "8 coupl\n",
            "9 dimension\n",
            "10 dynam\n"
          ]
        }
      ]
    },
    {
      "cell_type": "code",
      "source": [
        "dictionary.filter_extremes(no_below=15, no_above=0.1, keep_n= 100000)"
      ],
      "metadata": {
        "id": "E33b8x5-TA8F"
      },
      "id": "E33b8x5-TA8F",
      "execution_count": 37,
      "outputs": []
    },
    {
      "cell_type": "code",
      "source": [
        "bow_corpus = [dictionary.doc2bow(doc) for doc in processed_docs]"
      ],
      "metadata": {
        "id": "fW6p8OC9TPFW"
      },
      "id": "fW6p8OC9TPFW",
      "execution_count": 38,
      "outputs": []
    },
    {
      "cell_type": "code",
      "source": [
        "document_num = 1\n",
        "bow_doc_x = bow_corpus[document_num]\n",
        "\n",
        "for i in range(len(bow_doc_x)):\n",
        "    print(\"Word {} (\\\"{}\\\") appears {} time.\".format(bow_doc_x[i][0], \n",
        "                                                     dictionary[bow_doc_x[i][0]], \n",
        "                                                     bow_doc_x[i][1]))"
      ],
      "metadata": {
        "colab": {
          "base_uri": "https://localhost:8080/"
        },
        "id": "jvHm5EmkTUyG",
        "outputId": "808e1ef1-3e15-4ecb-aef6-25f99284fa92"
      },
      "id": "jvHm5EmkTUyG",
      "execution_count": 40,
      "outputs": [
        {
          "output_type": "stream",
          "name": "stdout",
          "text": [
            "Word 10 (\"dynam\") appears 1 time.\n",
            "Word 26 (\"overal\") appears 1 time.\n",
            "Word 37 (\"trial\") appears 1 time.\n",
            "Word 42 (\"alter\") appears 1 time.\n",
            "Word 43 (\"articl\") appears 1 time.\n",
            "Word 44 (\"cohort\") appears 1 time.\n",
            "Word 45 (\"colleg\") appears 1 time.\n",
            "Word 46 (\"contribut\") appears 4 time.\n",
            "Word 47 (\"decreas\") appears 4 time.\n",
            "Word 48 (\"extens\") appears 1 time.\n",
            "Word 49 (\"extern\") appears 1 time.\n",
            "Word 50 (\"femal\") appears 3 time.\n",
            "Word 51 (\"focus\") appears 1 time.\n",
            "Word 52 (\"give\") appears 1 time.\n",
            "Word 53 (\"grade\") appears 2 time.\n",
            "Word 54 (\"injuri\") appears 4 time.\n",
            "Word 55 (\"knee\") appears 4 time.\n",
            "Word 56 (\"land\") appears 3 time.\n",
            "Word 57 (\"lead\") appears 2 time.\n",
            "Word 58 (\"line\") appears 1 time.\n",
            "Word 59 (\"question\") appears 1 time.\n",
            "Word 60 (\"random\") appears 1 time.\n",
            "Word 61 (\"recommend\") appears 3 time.\n",
            "Word 62 (\"rotat\") appears 1 time.\n",
            "Word 63 (\"scenario\") appears 1 time.\n",
            "Word 64 (\"singl\") appears 3 time.\n",
            "Word 65 (\"strength\") appears 4 time.\n",
            "Word 66 (\"strengthen\") appears 2 time.\n",
            "Word 67 (\"summari\") appears 1 time.\n",
            "Word 68 (\"task\") appears 3 time.\n",
            "Word 69 (\"weak\") appears 3 time.\n"
          ]
        }
      ]
    },
    {
      "cell_type": "code",
      "source": [
        "lda_model =  gensim.models.LdaMulticore(bow_corpus, \n",
        "                                   num_topics = 8, \n",
        "                                   id2word = dictionary,                                    \n",
        "                                   passes = 10,\n",
        "                                   workers = 2)"
      ],
      "metadata": {
        "id": "coexGNWfTYG2"
      },
      "id": "coexGNWfTYG2",
      "execution_count": 41,
      "outputs": []
    },
    {
      "cell_type": "code",
      "source": [
        "for idx, topic in lda_model.print_topics(-1):\n",
        "    print(\"Topic: {} \\nWords: {}\".format(idx, topic ))\n",
        "    print(\"\\n\")"
      ],
      "metadata": {
        "colab": {
          "base_uri": "https://localhost:8080/"
        },
        "id": "9-e2CtADToWk",
        "outputId": "23809394-c654-4f32-ec19-014d7c54e7c2"
      },
      "id": "9-e2CtADToWk",
      "execution_count": 42,
      "outputs": [
        {
          "output_type": "stream",
          "name": "stdout",
          "text": [
            "Topic: 0 \n",
            "Words: 0.012*\"month\" + 0.012*\"score\" + 0.009*\"cognit\" + 0.009*\"mortal\" + 0.009*\"week\" + 0.009*\"sever\" + 0.008*\"cohort\" + 0.007*\"receiv\" + 0.007*\"therapi\" + 0.007*\"baselin\"\n",
            "\n",
            "\n",
            "Topic: 1 \n",
            "Words: 0.019*\"protein\" + 0.014*\"express\" + 0.011*\"cancer\" + 0.009*\"infect\" + 0.009*\"gene\" + 0.008*\"drug\" + 0.008*\"induc\" + 0.008*\"sar\" + 0.007*\"immun\" + 0.007*\"regul\"\n",
            "\n",
            "\n",
            "Topic: 2 \n",
            "Words: 0.009*\"predict\" + 0.009*\"network\" + 0.008*\"imag\" + 0.008*\"propos\" + 0.006*\"applic\" + 0.006*\"brain\" + 0.005*\"task\" + 0.005*\"fatigu\" + 0.005*\"algorithm\" + 0.005*\"featur\"\n",
            "\n",
            "\n",
            "Topic: 3 \n",
            "Words: 0.016*\"speci\" + 0.009*\"water\" + 0.008*\"gene\" + 0.008*\"product\" + 0.007*\"environment\" + 0.006*\"exposur\" + 0.006*\"acid\" + 0.006*\"plant\" + 0.006*\"concentr\" + 0.005*\"area\"\n",
            "\n",
            "\n",
            "Topic: 4 \n",
            "Words: 0.023*\"vaccin\" + 0.016*\"student\" + 0.015*\"nurs\" + 0.010*\"pain\" + 0.009*\"social\" + 0.008*\"adolesc\" + 0.008*\"educ\" + 0.008*\"emot\" + 0.008*\"child\" + 0.008*\"dental\"\n",
            "\n",
            "\n",
            "Topic: 5 \n",
            "Words: 0.009*\"surgeri\" + 0.008*\"tissu\" + 0.008*\"surgic\" + 0.008*\"diagnosi\" + 0.008*\"cancer\" + 0.007*\"implant\" + 0.007*\"imag\" + 0.007*\"complic\" + 0.006*\"tumor\" + 0.006*\"lesion\"\n",
            "\n",
            "\n",
            "Topic: 6 \n",
            "Words: 0.013*\"child\" + 0.010*\"intervent\" + 0.009*\"woman\" + 0.008*\"servic\" + 0.006*\"cost\" + 0.006*\"screen\" + 0.006*\"primari\" + 0.006*\"design\" + 0.006*\"manag\" + 0.006*\"medic\"\n",
            "\n",
            "\n",
            "Topic: 7 \n",
            "Words: 0.013*\"pandem\" + 0.011*\"mental\" + 0.009*\"symptom\" + 0.009*\"depress\" + 0.009*\"preval\" + 0.009*\"stress\" + 0.008*\"peopl\" + 0.008*\"social\" + 0.008*\"infect\" + 0.006*\"physic\"\n",
            "\n",
            "\n"
          ]
        }
      ]
    },
    {
      "cell_type": "code",
      "source": [
        ""
      ],
      "metadata": {
        "id": "IGKvpcyRT9lD"
      },
      "id": "IGKvpcyRT9lD",
      "execution_count": null,
      "outputs": []
    }
  ],
  "metadata": {
    "colab": {
      "collapsed_sections": [
        "w_BwASMCYfYK",
        "9a557cc3",
        "de1a724d",
        "b6af2b5d",
        "315a1f88",
        "K7cK-nnVCog7",
        "qJ7333lf8w2O",
        "g0LJ7Nwv9O9_",
        "ek-yTXCx9es_",
        "zbv0BOE69x70",
        "TcD79PNq9666"
      ],
      "name": "MinaPharm ML.ipynb",
      "provenance": [],
      "include_colab_link": true
    },
    "kernelspec": {
      "display_name": "Python 3 (ipykernel)",
      "language": "python",
      "name": "python3"
    },
    "language_info": {
      "codemirror_mode": {
        "name": "ipython",
        "version": 3
      },
      "file_extension": ".py",
      "mimetype": "text/x-python",
      "name": "python",
      "nbconvert_exporter": "python",
      "pygments_lexer": "ipython3",
      "version": "3.9.7"
    },
    "accelerator": "GPU"
  },
  "nbformat": 4,
  "nbformat_minor": 5
}
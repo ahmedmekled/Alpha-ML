{
  "cells": [
    {
      "cell_type": "markdown",
      "metadata": {
        "id": "view-in-github",
        "colab_type": "text"
      },
      "source": [
        "<a href=\"https://colab.research.google.com/github/ahmedmekled/Alpha-ML/blob/main/Alpha-ML.ipynb\" target=\"_parent\"><img src=\"https://colab.research.google.com/assets/colab-badge.svg\" alt=\"Open In Colab\"/></a>"
      ]
    },
    {
      "cell_type": "markdown",
      "metadata": {
        "id": "37629fc2"
      },
      "source": [
        "<h2> Minapharm ML Engineer Technical Assesment:</h2> \n",
        "\n",
        "<h4>Objective:</h4>\n",
        "You are provided with a medical related dataset, containing 5k articles. You are required to demonstrate your NLP, data-mining & topic extraction skills to extract the topics that are included within the dataset along with mapping each article to the corresponding topic names. Each document should be matched to the top three most relevant topic names including the matching probability score.\n",
        "Kindly, mention how you came up with the optimum number of topics extracted and a final evaluation statement of your work.\n"
      ],
      "id": "37629fc2"
    },
    {
      "cell_type": "markdown",
      "metadata": {
        "id": "b9d56de1"
      },
      "source": [
        "<h4>Requirements:</h4>\n",
        "\n",
        "   - It is recommended to use Python/R + LDA for topic name extraction. If you use other technology, you must mention your reasoning for your choice.   \n",
        "\n",
        "   - Document your code and communicate your overall evaluation of the problem at hand   \n",
        "   - You are expected to include along with your solution a report explaining:   \n",
        "   \n",
        "      - Tools used\n",
        "      - All performed steps, reasoning and outcomes\n",
        "      - How you can further improve the results\n",
        "      - How to further clean & optimize the data-sets to improve the performance of the LDA algorithm\n",
        "      - Metrics used or to use if any to measure/ improve quality of results?\n"
      ],
      "id": "b9d56de1"
    },
    {
      "cell_type": "markdown",
      "metadata": {
        "id": "c213ac00"
      },
      "source": [
        "<h2>Dataset:</h2>\n",
        "\n",
        "[Pubmed5k.rar](https://www.minapharm.com/gShare/Pubmed5k.rar)"
      ],
      "id": "c213ac00"
    },
    {
      "cell_type": "markdown",
      "source": [
        "<h2>Table of content</h2>\n",
        "<div style=\"margin-top: 20px\">\n",
        "<ul>\n",
        "    <li>Data Preprocessing\n",
        "        <ul>\n",
        "            <li>Importing basic Libraries</li>\n",
        "            <li>Reading the data</li>\n",
        "            <li>Data filtering & cleaning</li>\n",
        "        </ul>\n",
        "    </li>\n",
        "    <li>NLP Phase\n",
        "        <ul>\n",
        "            <li>Using TF-IDF</li>\n",
        "            <li>Using Doc2Vec</li>\n",
        "            <li>Using LDA</li>\n",
        "        </ul>\n",
        "    </li>\n",
        "\n",
        "    \n",
        "    \n",
        "  <li>Future Work\n",
        "      <ul>\n",
        "            <li>How to further clean & optimize the data-sets?</li>\n",
        "            <li>How you can further improve the results?</li>\n",
        "      </ul>\n",
        "\n",
        "  </li>\n",
        "\n",
        "\n",
        "</ul>\n",
        "    \n",
        "</div>\n",
        " \n",
        "<hr>"
      ],
      "metadata": {
        "id": "1hIenQdUYgHD"
      },
      "id": "1hIenQdUYgHD"
    },
    {
      "cell_type": "markdown",
      "source": [
        "# Data Preprocessing </h1>"
      ],
      "metadata": {
        "id": "w_BwASMCYfYK"
      },
      "id": "w_BwASMCYfYK"
    },
    {
      "cell_type": "markdown",
      "metadata": {
        "id": "9a557cc3"
      },
      "source": [
        "## Importing basic Libraries"
      ],
      "id": "9a557cc3"
    },
    {
      "cell_type": "code",
      "execution_count": 1,
      "metadata": {
        "id": "9e6cc48e"
      },
      "outputs": [],
      "source": [
        "import pandas as pd\n",
        "import numpy as np\n",
        "import random\n",
        "import copy\n",
        "import matplotlib.pyplot as plt\n",
        "import seaborn as sns\n",
        "from pprint import pprint"
      ],
      "id": "9e6cc48e"
    },
    {
      "cell_type": "markdown",
      "metadata": {
        "id": "de1a724d"
      },
      "source": [
        "## Reading the data"
      ],
      "id": "de1a724d"
    },
    {
      "cell_type": "code",
      "execution_count": 2,
      "metadata": {
        "id": "v8pirAOA6PiN"
      },
      "outputs": [],
      "source": [
        "#from google.colab import drive\n",
        "#drive.mount('/content/drive')"
      ],
      "id": "v8pirAOA6PiN"
    },
    {
      "cell_type": "code",
      "execution_count": 3,
      "metadata": {
        "colab": {
          "base_uri": "https://localhost:8080/",
          "height": 0
        },
        "id": "7f1ebd6a",
        "outputId": "7ee5543d-b013-430e-8dae-f1d2d5f7b5cc"
      },
      "outputs": [
        {
          "output_type": "execute_result",
          "data": {
            "text/plain": [
              "      ArticleID                                              Title  \\\n",
              "0      34153941  Stable Coordination Variability in Overground ...   \n",
              "1      34153942  Weak Hip Strength Increases Dynamic Knee Valgu...   \n",
              "2      34153964  Current and Future Projections of Amyotrophic ...   \n",
              "3      34153968  Disparities between Asian and Non-Asian Thromb...   \n",
              "4      34153978  Maternal Factors Predicting Loss to Follow-Up ...   \n",
              "...         ...                                                ...   \n",
              "4994   34444567  Mind the Differences: How Diagnoses and Hospit...   \n",
              "4995   34444568  The Ethics of Dying: Deciphering Pandemic-Resu...   \n",
              "4996   34444569  Research on Adolescents Regarding the Indirect...   \n",
              "4997   34444571  Pre-Intervention Effects of a Community-Based ...   \n",
              "4998   34444572  Pharmacists' Role in Older Adults' Medication ...   \n",
              "\n",
              "                                               Abstract  \n",
              "0     Coordination variability (CV) is commonly anal...  \n",
              "1     Clinical Scenario: Dynamic knee valgus (DKV) i...  \n",
              "2     Various methodologies have been reported to as...  \n",
              "3     As outcomes for acute ischemic stroke (AIS) va...  \n",
              "4     Because hearing loss in children can result in...  \n",
              "...                                                 ...  \n",
              "4994  Integrated care pathway (ICP) is a prevailing ...  \n",
              "4995  The objective of medicine is to provide humans...  \n",
              "4996  This research involved the participation of 30...  \n",
              "4997  This study explores the impact of the 'pre-int...  \n",
              "4998  Medication regimen complexity (MRC) may influe...  \n",
              "\n",
              "[4999 rows x 3 columns]"
            ],
            "text/html": [
              "\n",
              "  <div id=\"df-fc4b1ddc-0491-4f29-8f1a-89c6ceaf599f\">\n",
              "    <div class=\"colab-df-container\">\n",
              "      <div>\n",
              "<style scoped>\n",
              "    .dataframe tbody tr th:only-of-type {\n",
              "        vertical-align: middle;\n",
              "    }\n",
              "\n",
              "    .dataframe tbody tr th {\n",
              "        vertical-align: top;\n",
              "    }\n",
              "\n",
              "    .dataframe thead th {\n",
              "        text-align: right;\n",
              "    }\n",
              "</style>\n",
              "<table border=\"1\" class=\"dataframe\">\n",
              "  <thead>\n",
              "    <tr style=\"text-align: right;\">\n",
              "      <th></th>\n",
              "      <th>ArticleID</th>\n",
              "      <th>Title</th>\n",
              "      <th>Abstract</th>\n",
              "    </tr>\n",
              "  </thead>\n",
              "  <tbody>\n",
              "    <tr>\n",
              "      <th>0</th>\n",
              "      <td>34153941</td>\n",
              "      <td>Stable Coordination Variability in Overground ...</td>\n",
              "      <td>Coordination variability (CV) is commonly anal...</td>\n",
              "    </tr>\n",
              "    <tr>\n",
              "      <th>1</th>\n",
              "      <td>34153942</td>\n",
              "      <td>Weak Hip Strength Increases Dynamic Knee Valgu...</td>\n",
              "      <td>Clinical Scenario: Dynamic knee valgus (DKV) i...</td>\n",
              "    </tr>\n",
              "    <tr>\n",
              "      <th>2</th>\n",
              "      <td>34153964</td>\n",
              "      <td>Current and Future Projections of Amyotrophic ...</td>\n",
              "      <td>Various methodologies have been reported to as...</td>\n",
              "    </tr>\n",
              "    <tr>\n",
              "      <th>3</th>\n",
              "      <td>34153968</td>\n",
              "      <td>Disparities between Asian and Non-Asian Thromb...</td>\n",
              "      <td>As outcomes for acute ischemic stroke (AIS) va...</td>\n",
              "    </tr>\n",
              "    <tr>\n",
              "      <th>4</th>\n",
              "      <td>34153978</td>\n",
              "      <td>Maternal Factors Predicting Loss to Follow-Up ...</td>\n",
              "      <td>Because hearing loss in children can result in...</td>\n",
              "    </tr>\n",
              "    <tr>\n",
              "      <th>...</th>\n",
              "      <td>...</td>\n",
              "      <td>...</td>\n",
              "      <td>...</td>\n",
              "    </tr>\n",
              "    <tr>\n",
              "      <th>4994</th>\n",
              "      <td>34444567</td>\n",
              "      <td>Mind the Differences: How Diagnoses and Hospit...</td>\n",
              "      <td>Integrated care pathway (ICP) is a prevailing ...</td>\n",
              "    </tr>\n",
              "    <tr>\n",
              "      <th>4995</th>\n",
              "      <td>34444568</td>\n",
              "      <td>The Ethics of Dying: Deciphering Pandemic-Resu...</td>\n",
              "      <td>The objective of medicine is to provide humans...</td>\n",
              "    </tr>\n",
              "    <tr>\n",
              "      <th>4996</th>\n",
              "      <td>34444569</td>\n",
              "      <td>Research on Adolescents Regarding the Indirect...</td>\n",
              "      <td>This research involved the participation of 30...</td>\n",
              "    </tr>\n",
              "    <tr>\n",
              "      <th>4997</th>\n",
              "      <td>34444571</td>\n",
              "      <td>Pre-Intervention Effects of a Community-Based ...</td>\n",
              "      <td>This study explores the impact of the 'pre-int...</td>\n",
              "    </tr>\n",
              "    <tr>\n",
              "      <th>4998</th>\n",
              "      <td>34444572</td>\n",
              "      <td>Pharmacists' Role in Older Adults' Medication ...</td>\n",
              "      <td>Medication regimen complexity (MRC) may influe...</td>\n",
              "    </tr>\n",
              "  </tbody>\n",
              "</table>\n",
              "<p>4999 rows × 3 columns</p>\n",
              "</div>\n",
              "      <button class=\"colab-df-convert\" onclick=\"convertToInteractive('df-fc4b1ddc-0491-4f29-8f1a-89c6ceaf599f')\"\n",
              "              title=\"Convert this dataframe to an interactive table.\"\n",
              "              style=\"display:none;\">\n",
              "        \n",
              "  <svg xmlns=\"http://www.w3.org/2000/svg\" height=\"24px\"viewBox=\"0 0 24 24\"\n",
              "       width=\"24px\">\n",
              "    <path d=\"M0 0h24v24H0V0z\" fill=\"none\"/>\n",
              "    <path d=\"M18.56 5.44l.94 2.06.94-2.06 2.06-.94-2.06-.94-.94-2.06-.94 2.06-2.06.94zm-11 1L8.5 8.5l.94-2.06 2.06-.94-2.06-.94L8.5 2.5l-.94 2.06-2.06.94zm10 10l.94 2.06.94-2.06 2.06-.94-2.06-.94-.94-2.06-.94 2.06-2.06.94z\"/><path d=\"M17.41 7.96l-1.37-1.37c-.4-.4-.92-.59-1.43-.59-.52 0-1.04.2-1.43.59L10.3 9.45l-7.72 7.72c-.78.78-.78 2.05 0 2.83L4 21.41c.39.39.9.59 1.41.59.51 0 1.02-.2 1.41-.59l7.78-7.78 2.81-2.81c.8-.78.8-2.07 0-2.86zM5.41 20L4 18.59l7.72-7.72 1.47 1.35L5.41 20z\"/>\n",
              "  </svg>\n",
              "      </button>\n",
              "      \n",
              "  <style>\n",
              "    .colab-df-container {\n",
              "      display:flex;\n",
              "      flex-wrap:wrap;\n",
              "      gap: 12px;\n",
              "    }\n",
              "\n",
              "    .colab-df-convert {\n",
              "      background-color: #E8F0FE;\n",
              "      border: none;\n",
              "      border-radius: 50%;\n",
              "      cursor: pointer;\n",
              "      display: none;\n",
              "      fill: #1967D2;\n",
              "      height: 32px;\n",
              "      padding: 0 0 0 0;\n",
              "      width: 32px;\n",
              "    }\n",
              "\n",
              "    .colab-df-convert:hover {\n",
              "      background-color: #E2EBFA;\n",
              "      box-shadow: 0px 1px 2px rgba(60, 64, 67, 0.3), 0px 1px 3px 1px rgba(60, 64, 67, 0.15);\n",
              "      fill: #174EA6;\n",
              "    }\n",
              "\n",
              "    [theme=dark] .colab-df-convert {\n",
              "      background-color: #3B4455;\n",
              "      fill: #D2E3FC;\n",
              "    }\n",
              "\n",
              "    [theme=dark] .colab-df-convert:hover {\n",
              "      background-color: #434B5C;\n",
              "      box-shadow: 0px 1px 3px 1px rgba(0, 0, 0, 0.15);\n",
              "      filter: drop-shadow(0px 1px 2px rgba(0, 0, 0, 0.3));\n",
              "      fill: #FFFFFF;\n",
              "    }\n",
              "  </style>\n",
              "\n",
              "      <script>\n",
              "        const buttonEl =\n",
              "          document.querySelector('#df-fc4b1ddc-0491-4f29-8f1a-89c6ceaf599f button.colab-df-convert');\n",
              "        buttonEl.style.display =\n",
              "          google.colab.kernel.accessAllowed ? 'block' : 'none';\n",
              "\n",
              "        async function convertToInteractive(key) {\n",
              "          const element = document.querySelector('#df-fc4b1ddc-0491-4f29-8f1a-89c6ceaf599f');\n",
              "          const dataTable =\n",
              "            await google.colab.kernel.invokeFunction('convertToInteractive',\n",
              "                                                     [key], {});\n",
              "          if (!dataTable) return;\n",
              "\n",
              "          const docLinkHtml = 'Like what you see? Visit the ' +\n",
              "            '<a target=\"_blank\" href=https://colab.research.google.com/notebooks/data_table.ipynb>data table notebook</a>'\n",
              "            + ' to learn more about interactive tables.';\n",
              "          element.innerHTML = '';\n",
              "          dataTable['output_type'] = 'display_data';\n",
              "          await google.colab.output.renderOutput(dataTable, element);\n",
              "          const docLink = document.createElement('div');\n",
              "          docLink.innerHTML = docLinkHtml;\n",
              "          element.appendChild(docLink);\n",
              "        }\n",
              "      </script>\n",
              "    </div>\n",
              "  </div>\n",
              "  "
            ]
          },
          "metadata": {},
          "execution_count": 3
        }
      ],
      "source": [
        "df = pd.read_excel(\"/content/Pubmed5k.xlsx\")\n",
        "df"
      ],
      "id": "7f1ebd6a"
    },
    {
      "cell_type": "markdown",
      "metadata": {
        "id": "b6af2b5d"
      },
      "source": [
        "## Data filtering and cleaning"
      ],
      "id": "b6af2b5d"
    },
    {
      "cell_type": "markdown",
      "metadata": {
        "id": "8a0297a2"
      },
      "source": [
        "**Checking the type of data fro each dataframe**"
      ],
      "id": "8a0297a2"
    },
    {
      "cell_type": "code",
      "execution_count": 4,
      "metadata": {
        "colab": {
          "base_uri": "https://localhost:8080/"
        },
        "id": "d4730d50",
        "outputId": "cc6b5202-a733-4208-b853-8768946d4ba2"
      },
      "outputs": [
        {
          "output_type": "execute_result",
          "data": {
            "text/plain": [
              "ArticleID     int64\n",
              "Title        object\n",
              "Abstract     object\n",
              "dtype: object"
            ]
          },
          "metadata": {},
          "execution_count": 4
        }
      ],
      "source": [
        "df.dtypes"
      ],
      "id": "d4730d50"
    },
    {
      "cell_type": "markdown",
      "metadata": {
        "id": "252b3540"
      },
      "source": [
        "**Checking NaNs**"
      ],
      "id": "252b3540"
    },
    {
      "cell_type": "code",
      "execution_count": 5,
      "metadata": {
        "colab": {
          "base_uri": "https://localhost:8080/"
        },
        "id": "adf4a69e",
        "outputId": "73d2b267-5226-49f7-f262-cd7ed261b0e2"
      },
      "outputs": [
        {
          "output_type": "execute_result",
          "data": {
            "text/plain": [
              "False"
            ]
          },
          "metadata": {},
          "execution_count": 5
        }
      ],
      "source": [
        "df.isnull().values.any()"
      ],
      "id": "adf4a69e"
    },
    {
      "cell_type": "markdown",
      "metadata": {
        "id": "d946d7a1"
      },
      "source": [
        "**Checking duplicates**"
      ],
      "id": "d946d7a1"
    },
    {
      "cell_type": "code",
      "execution_count": 6,
      "metadata": {
        "colab": {
          "base_uri": "https://localhost:8080/"
        },
        "id": "db85f3fc",
        "outputId": "2b8fa9eb-e534-42b1-fa61-3dbc185bf1fd"
      },
      "outputs": [
        {
          "output_type": "execute_result",
          "data": {
            "text/plain": [
              "Series([], dtype: bool)"
            ]
          },
          "metadata": {},
          "execution_count": 6
        }
      ],
      "source": [
        "series = df.duplicated(keep=False).__eq__(True)\n",
        "df.duplicated(keep=False).__getitem__(series)"
      ],
      "id": "db85f3fc"
    },
    {
      "cell_type": "markdown",
      "metadata": {
        "id": "d7a1eac0"
      },
      "source": [
        "**Re-checking for any uniqueness in the Title column** "
      ],
      "id": "d7a1eac0"
    },
    {
      "cell_type": "code",
      "execution_count": 7,
      "metadata": {
        "colab": {
          "base_uri": "https://localhost:8080/"
        },
        "id": "bec509c7",
        "outputId": "59015c7b-834a-4eec-e23e-8ecb8b5f8b72"
      },
      "outputs": [
        {
          "output_type": "execute_result",
          "data": {
            "text/plain": [
              "4999"
            ]
          },
          "metadata": {},
          "execution_count": 7
        }
      ],
      "source": [
        "len(df[\"Title\"].unique())"
      ],
      "id": "bec509c7"
    },
    {
      "cell_type": "markdown",
      "metadata": {
        "id": "6ce1dbb6"
      },
      "source": [
        "**Fetch word count for each Title & Abstract**"
      ],
      "id": "6ce1dbb6"
    },
    {
      "cell_type": "code",
      "execution_count": 8,
      "metadata": {
        "id": "cf81471f"
      },
      "outputs": [],
      "source": [
        "#Fetch wordcount for each Title & Abstract\n",
        "Title_Word_Count = []\n",
        "Abstract_Word_Count = []\n",
        "Title_Word_Count = df['Title'].apply(lambda x: len(str(x).split(\" \")))\n",
        "Abstract_Word_Count = df['Abstract'].apply(lambda x: len(str(x).split(\" \")))"
      ],
      "id": "cf81471f"
    },
    {
      "cell_type": "markdown",
      "metadata": {
        "id": "13dca444"
      },
      "source": [
        "**Descriptive statistics of word counts**"
      ],
      "id": "13dca444"
    },
    {
      "cell_type": "code",
      "execution_count": 9,
      "metadata": {
        "colab": {
          "base_uri": "https://localhost:8080/"
        },
        "id": "c162ad5a",
        "outputId": "9b07b589-3125-43d2-9e07-c68852d80561"
      },
      "outputs": [
        {
          "output_type": "stream",
          "name": "stdout",
          "text": [
            "Title_Word_Count description:\n",
            "count    4999.000000\n",
            "mean       14.911982\n",
            "std         4.981343\n",
            "min         1.000000\n",
            "25%        11.000000\n",
            "50%        15.000000\n",
            "75%        18.000000\n",
            "max        39.000000\n",
            "Name: Title, dtype: float64\n",
            "\n",
            "\n",
            "Abstract_Word_Count description:\n",
            "count    4999.000000\n",
            "mean      211.240448\n",
            "std        80.544815\n",
            "min         1.000000\n",
            "25%       158.000000\n",
            "50%       208.000000\n",
            "75%       253.000000\n",
            "max       976.000000\n",
            "Name: Abstract, dtype: float64\n"
          ]
        }
      ],
      "source": [
        "print(\"Title_Word_Count description:\")\n",
        "print(Title_Word_Count.describe())\n",
        "print(\"\\n\")\n",
        "print(\"Abstract_Word_Count description:\")\n",
        "print(Abstract_Word_Count.describe())"
      ],
      "id": "c162ad5a"
    },
    {
      "cell_type": "markdown",
      "metadata": {
        "id": "c93b7abb"
      },
      "source": [
        "**Identify common & uncommon words for each Title**"
      ],
      "id": "c93b7abb"
    },
    {
      "cell_type": "code",
      "execution_count": 10,
      "metadata": {
        "colab": {
          "base_uri": "https://localhost:8080/",
          "height": 0
        },
        "id": "ecbd17a8",
        "outputId": "a3f1f8a8-54a0-4ee2-8e2b-4249c3b42ce9"
      },
      "outputs": [
        {
          "output_type": "execute_result",
          "data": {
            "text/plain": [
              "  Words_Before  Count\n",
              "0           of   4161\n",
              "1          and   2980\n",
              "2           in   2731\n",
              "3          the   1974\n",
              "4            a   1167"
            ],
            "text/html": [
              "\n",
              "  <div id=\"df-ff841861-e9d0-4b31-b489-f618c24fc03b\">\n",
              "    <div class=\"colab-df-container\">\n",
              "      <div>\n",
              "<style scoped>\n",
              "    .dataframe tbody tr th:only-of-type {\n",
              "        vertical-align: middle;\n",
              "    }\n",
              "\n",
              "    .dataframe tbody tr th {\n",
              "        vertical-align: top;\n",
              "    }\n",
              "\n",
              "    .dataframe thead th {\n",
              "        text-align: right;\n",
              "    }\n",
              "</style>\n",
              "<table border=\"1\" class=\"dataframe\">\n",
              "  <thead>\n",
              "    <tr style=\"text-align: right;\">\n",
              "      <th></th>\n",
              "      <th>Words_Before</th>\n",
              "      <th>Count</th>\n",
              "    </tr>\n",
              "  </thead>\n",
              "  <tbody>\n",
              "    <tr>\n",
              "      <th>0</th>\n",
              "      <td>of</td>\n",
              "      <td>4161</td>\n",
              "    </tr>\n",
              "    <tr>\n",
              "      <th>1</th>\n",
              "      <td>and</td>\n",
              "      <td>2980</td>\n",
              "    </tr>\n",
              "    <tr>\n",
              "      <th>2</th>\n",
              "      <td>in</td>\n",
              "      <td>2731</td>\n",
              "    </tr>\n",
              "    <tr>\n",
              "      <th>3</th>\n",
              "      <td>the</td>\n",
              "      <td>1974</td>\n",
              "    </tr>\n",
              "    <tr>\n",
              "      <th>4</th>\n",
              "      <td>a</td>\n",
              "      <td>1167</td>\n",
              "    </tr>\n",
              "  </tbody>\n",
              "</table>\n",
              "</div>\n",
              "      <button class=\"colab-df-convert\" onclick=\"convertToInteractive('df-ff841861-e9d0-4b31-b489-f618c24fc03b')\"\n",
              "              title=\"Convert this dataframe to an interactive table.\"\n",
              "              style=\"display:none;\">\n",
              "        \n",
              "  <svg xmlns=\"http://www.w3.org/2000/svg\" height=\"24px\"viewBox=\"0 0 24 24\"\n",
              "       width=\"24px\">\n",
              "    <path d=\"M0 0h24v24H0V0z\" fill=\"none\"/>\n",
              "    <path d=\"M18.56 5.44l.94 2.06.94-2.06 2.06-.94-2.06-.94-.94-2.06-.94 2.06-2.06.94zm-11 1L8.5 8.5l.94-2.06 2.06-.94-2.06-.94L8.5 2.5l-.94 2.06-2.06.94zm10 10l.94 2.06.94-2.06 2.06-.94-2.06-.94-.94-2.06-.94 2.06-2.06.94z\"/><path d=\"M17.41 7.96l-1.37-1.37c-.4-.4-.92-.59-1.43-.59-.52 0-1.04.2-1.43.59L10.3 9.45l-7.72 7.72c-.78.78-.78 2.05 0 2.83L4 21.41c.39.39.9.59 1.41.59.51 0 1.02-.2 1.41-.59l7.78-7.78 2.81-2.81c.8-.78.8-2.07 0-2.86zM5.41 20L4 18.59l7.72-7.72 1.47 1.35L5.41 20z\"/>\n",
              "  </svg>\n",
              "      </button>\n",
              "      \n",
              "  <style>\n",
              "    .colab-df-container {\n",
              "      display:flex;\n",
              "      flex-wrap:wrap;\n",
              "      gap: 12px;\n",
              "    }\n",
              "\n",
              "    .colab-df-convert {\n",
              "      background-color: #E8F0FE;\n",
              "      border: none;\n",
              "      border-radius: 50%;\n",
              "      cursor: pointer;\n",
              "      display: none;\n",
              "      fill: #1967D2;\n",
              "      height: 32px;\n",
              "      padding: 0 0 0 0;\n",
              "      width: 32px;\n",
              "    }\n",
              "\n",
              "    .colab-df-convert:hover {\n",
              "      background-color: #E2EBFA;\n",
              "      box-shadow: 0px 1px 2px rgba(60, 64, 67, 0.3), 0px 1px 3px 1px rgba(60, 64, 67, 0.15);\n",
              "      fill: #174EA6;\n",
              "    }\n",
              "\n",
              "    [theme=dark] .colab-df-convert {\n",
              "      background-color: #3B4455;\n",
              "      fill: #D2E3FC;\n",
              "    }\n",
              "\n",
              "    [theme=dark] .colab-df-convert:hover {\n",
              "      background-color: #434B5C;\n",
              "      box-shadow: 0px 1px 3px 1px rgba(0, 0, 0, 0.15);\n",
              "      filter: drop-shadow(0px 1px 2px rgba(0, 0, 0, 0.3));\n",
              "      fill: #FFFFFF;\n",
              "    }\n",
              "  </style>\n",
              "\n",
              "      <script>\n",
              "        const buttonEl =\n",
              "          document.querySelector('#df-ff841861-e9d0-4b31-b489-f618c24fc03b button.colab-df-convert');\n",
              "        buttonEl.style.display =\n",
              "          google.colab.kernel.accessAllowed ? 'block' : 'none';\n",
              "\n",
              "        async function convertToInteractive(key) {\n",
              "          const element = document.querySelector('#df-ff841861-e9d0-4b31-b489-f618c24fc03b');\n",
              "          const dataTable =\n",
              "            await google.colab.kernel.invokeFunction('convertToInteractive',\n",
              "                                                     [key], {});\n",
              "          if (!dataTable) return;\n",
              "\n",
              "          const docLinkHtml = 'Like what you see? Visit the ' +\n",
              "            '<a target=\"_blank\" href=https://colab.research.google.com/notebooks/data_table.ipynb>data table notebook</a>'\n",
              "            + ' to learn more about interactive tables.';\n",
              "          element.innerHTML = '';\n",
              "          dataTable['output_type'] = 'display_data';\n",
              "          await google.colab.output.renderOutput(dataTable, element);\n",
              "          const docLink = document.createElement('div');\n",
              "          docLink.innerHTML = docLinkHtml;\n",
              "          element.appendChild(docLink);\n",
              "        }\n",
              "      </script>\n",
              "    </div>\n",
              "  </div>\n",
              "  "
            ]
          },
          "metadata": {},
          "execution_count": 10
        }
      ],
      "source": [
        "#Identify common words for each Title\n",
        "freq = pd.Series(' '.join(df['Title']).split()).value_counts()[:30]\n",
        "c_count = pd.DataFrame(freq)\n",
        "c_count.reset_index(inplace = True)\n",
        "c_count.rename(columns = {'index':'Words_Before', 0:'Count'}, inplace = True)\n",
        "c_count.head()"
      ],
      "id": "ecbd17a8"
    },
    {
      "cell_type": "code",
      "execution_count": 11,
      "metadata": {
        "colab": {
          "base_uri": "https://localhost:8080/",
          "height": 0
        },
        "id": "9478b969",
        "outputId": "66019de0-9482-4cc8-d965-2d0e22fdfd33"
      },
      "outputs": [
        {
          "output_type": "execute_result",
          "data": {
            "text/plain": [
              "  Words_Before  Count\n",
              "0      measles      1\n",
              "1  progressive      1\n",
              "2        midst      1\n",
              "3        tasks      1\n",
              "4      present      1"
            ],
            "text/html": [
              "\n",
              "  <div id=\"df-bd9b497f-d10a-4835-8a14-3e6157196fa6\">\n",
              "    <div class=\"colab-df-container\">\n",
              "      <div>\n",
              "<style scoped>\n",
              "    .dataframe tbody tr th:only-of-type {\n",
              "        vertical-align: middle;\n",
              "    }\n",
              "\n",
              "    .dataframe tbody tr th {\n",
              "        vertical-align: top;\n",
              "    }\n",
              "\n",
              "    .dataframe thead th {\n",
              "        text-align: right;\n",
              "    }\n",
              "</style>\n",
              "<table border=\"1\" class=\"dataframe\">\n",
              "  <thead>\n",
              "    <tr style=\"text-align: right;\">\n",
              "      <th></th>\n",
              "      <th>Words_Before</th>\n",
              "      <th>Count</th>\n",
              "    </tr>\n",
              "  </thead>\n",
              "  <tbody>\n",
              "    <tr>\n",
              "      <th>0</th>\n",
              "      <td>measles</td>\n",
              "      <td>1</td>\n",
              "    </tr>\n",
              "    <tr>\n",
              "      <th>1</th>\n",
              "      <td>progressive</td>\n",
              "      <td>1</td>\n",
              "    </tr>\n",
              "    <tr>\n",
              "      <th>2</th>\n",
              "      <td>midst</td>\n",
              "      <td>1</td>\n",
              "    </tr>\n",
              "    <tr>\n",
              "      <th>3</th>\n",
              "      <td>tasks</td>\n",
              "      <td>1</td>\n",
              "    </tr>\n",
              "    <tr>\n",
              "      <th>4</th>\n",
              "      <td>present</td>\n",
              "      <td>1</td>\n",
              "    </tr>\n",
              "  </tbody>\n",
              "</table>\n",
              "</div>\n",
              "      <button class=\"colab-df-convert\" onclick=\"convertToInteractive('df-bd9b497f-d10a-4835-8a14-3e6157196fa6')\"\n",
              "              title=\"Convert this dataframe to an interactive table.\"\n",
              "              style=\"display:none;\">\n",
              "        \n",
              "  <svg xmlns=\"http://www.w3.org/2000/svg\" height=\"24px\"viewBox=\"0 0 24 24\"\n",
              "       width=\"24px\">\n",
              "    <path d=\"M0 0h24v24H0V0z\" fill=\"none\"/>\n",
              "    <path d=\"M18.56 5.44l.94 2.06.94-2.06 2.06-.94-2.06-.94-.94-2.06-.94 2.06-2.06.94zm-11 1L8.5 8.5l.94-2.06 2.06-.94-2.06-.94L8.5 2.5l-.94 2.06-2.06.94zm10 10l.94 2.06.94-2.06 2.06-.94-2.06-.94-.94-2.06-.94 2.06-2.06.94z\"/><path d=\"M17.41 7.96l-1.37-1.37c-.4-.4-.92-.59-1.43-.59-.52 0-1.04.2-1.43.59L10.3 9.45l-7.72 7.72c-.78.78-.78 2.05 0 2.83L4 21.41c.39.39.9.59 1.41.59.51 0 1.02-.2 1.41-.59l7.78-7.78 2.81-2.81c.8-.78.8-2.07 0-2.86zM5.41 20L4 18.59l7.72-7.72 1.47 1.35L5.41 20z\"/>\n",
              "  </svg>\n",
              "      </button>\n",
              "      \n",
              "  <style>\n",
              "    .colab-df-container {\n",
              "      display:flex;\n",
              "      flex-wrap:wrap;\n",
              "      gap: 12px;\n",
              "    }\n",
              "\n",
              "    .colab-df-convert {\n",
              "      background-color: #E8F0FE;\n",
              "      border: none;\n",
              "      border-radius: 50%;\n",
              "      cursor: pointer;\n",
              "      display: none;\n",
              "      fill: #1967D2;\n",
              "      height: 32px;\n",
              "      padding: 0 0 0 0;\n",
              "      width: 32px;\n",
              "    }\n",
              "\n",
              "    .colab-df-convert:hover {\n",
              "      background-color: #E2EBFA;\n",
              "      box-shadow: 0px 1px 2px rgba(60, 64, 67, 0.3), 0px 1px 3px 1px rgba(60, 64, 67, 0.15);\n",
              "      fill: #174EA6;\n",
              "    }\n",
              "\n",
              "    [theme=dark] .colab-df-convert {\n",
              "      background-color: #3B4455;\n",
              "      fill: #D2E3FC;\n",
              "    }\n",
              "\n",
              "    [theme=dark] .colab-df-convert:hover {\n",
              "      background-color: #434B5C;\n",
              "      box-shadow: 0px 1px 3px 1px rgba(0, 0, 0, 0.15);\n",
              "      filter: drop-shadow(0px 1px 2px rgba(0, 0, 0, 0.3));\n",
              "      fill: #FFFFFF;\n",
              "    }\n",
              "  </style>\n",
              "\n",
              "      <script>\n",
              "        const buttonEl =\n",
              "          document.querySelector('#df-bd9b497f-d10a-4835-8a14-3e6157196fa6 button.colab-df-convert');\n",
              "        buttonEl.style.display =\n",
              "          google.colab.kernel.accessAllowed ? 'block' : 'none';\n",
              "\n",
              "        async function convertToInteractive(key) {\n",
              "          const element = document.querySelector('#df-bd9b497f-d10a-4835-8a14-3e6157196fa6');\n",
              "          const dataTable =\n",
              "            await google.colab.kernel.invokeFunction('convertToInteractive',\n",
              "                                                     [key], {});\n",
              "          if (!dataTable) return;\n",
              "\n",
              "          const docLinkHtml = 'Like what you see? Visit the ' +\n",
              "            '<a target=\"_blank\" href=https://colab.research.google.com/notebooks/data_table.ipynb>data table notebook</a>'\n",
              "            + ' to learn more about interactive tables.';\n",
              "          element.innerHTML = '';\n",
              "          dataTable['output_type'] = 'display_data';\n",
              "          await google.colab.output.renderOutput(dataTable, element);\n",
              "          const docLink = document.createElement('div');\n",
              "          docLink.innerHTML = docLinkHtml;\n",
              "          element.appendChild(docLink);\n",
              "        }\n",
              "      </script>\n",
              "    </div>\n",
              "  </div>\n",
              "  "
            ]
          },
          "metadata": {},
          "execution_count": 11
        }
      ],
      "source": [
        "#Identify uncommon words for each Title\n",
        "nfreq =  pd.Series(' '.join(df \n",
        "         ['Title']).split()).value_counts()[-30:]\n",
        "n_count = pd.DataFrame(nfreq)\n",
        "n_count.reset_index(inplace = True)\n",
        "n_count.rename(columns = {'index':'Words_Before', 0:'Count'}, inplace = True)\n",
        "n_count.head()"
      ],
      "id": "9478b969"
    },
    {
      "cell_type": "markdown",
      "metadata": {
        "id": "2284764d"
      },
      "source": [
        "**Changing all the charecters to lower-case in both the Abstract & Title**"
      ],
      "id": "2284764d"
    },
    {
      "cell_type": "code",
      "execution_count": 12,
      "metadata": {
        "id": "00e5abd6"
      },
      "outputs": [],
      "source": [
        "df['Title'] = df['Title'].str.lower()\n",
        "df['Abstract'] = df['Abstract'].str.lower()"
      ],
      "id": "00e5abd6"
    },
    {
      "cell_type": "markdown",
      "metadata": {
        "id": "e659e62f"
      },
      "source": [
        "**Identify common & uncommon words for each Title after lower-casing**"
      ],
      "id": "e659e62f"
    },
    {
      "cell_type": "code",
      "execution_count": 13,
      "metadata": {
        "id": "f9475331"
      },
      "outputs": [],
      "source": [
        "#Identify common words for each Title\n",
        "freq = pd.Series(' '.join(df['Title']).split()).value_counts()[:30]\n",
        "c_count2 = pd.DataFrame(freq)\n",
        "c_count2.reset_index(inplace = True)\n",
        "c_count2.rename(columns = {'index':'Words_After', 0:'Count'}, inplace = True)\n",
        "c_count = pd.concat([c_count, c_count2], axis=1)"
      ],
      "id": "f9475331"
    },
    {
      "cell_type": "code",
      "execution_count": 14,
      "metadata": {
        "colab": {
          "base_uri": "https://localhost:8080/",
          "height": 0
        },
        "id": "91e7aca1",
        "outputId": "a4d63e03-5b17-483d-8da8-085a6f240cbd"
      },
      "outputs": [
        {
          "output_type": "execute_result",
          "data": {
            "text/plain": [
              "  Words_Before  Count Words_After  Count\n",
              "0           of   4161          of   4257\n",
              "1          and   2980         and   3026\n",
              "2           in   2731          in   2807\n",
              "3          the   1974         the   2378\n",
              "4            a   1167           a   1945"
            ],
            "text/html": [
              "\n",
              "  <div id=\"df-00faddca-2959-417b-ae39-11494820e1ec\">\n",
              "    <div class=\"colab-df-container\">\n",
              "      <div>\n",
              "<style scoped>\n",
              "    .dataframe tbody tr th:only-of-type {\n",
              "        vertical-align: middle;\n",
              "    }\n",
              "\n",
              "    .dataframe tbody tr th {\n",
              "        vertical-align: top;\n",
              "    }\n",
              "\n",
              "    .dataframe thead th {\n",
              "        text-align: right;\n",
              "    }\n",
              "</style>\n",
              "<table border=\"1\" class=\"dataframe\">\n",
              "  <thead>\n",
              "    <tr style=\"text-align: right;\">\n",
              "      <th></th>\n",
              "      <th>Words_Before</th>\n",
              "      <th>Count</th>\n",
              "      <th>Words_After</th>\n",
              "      <th>Count</th>\n",
              "    </tr>\n",
              "  </thead>\n",
              "  <tbody>\n",
              "    <tr>\n",
              "      <th>0</th>\n",
              "      <td>of</td>\n",
              "      <td>4161</td>\n",
              "      <td>of</td>\n",
              "      <td>4257</td>\n",
              "    </tr>\n",
              "    <tr>\n",
              "      <th>1</th>\n",
              "      <td>and</td>\n",
              "      <td>2980</td>\n",
              "      <td>and</td>\n",
              "      <td>3026</td>\n",
              "    </tr>\n",
              "    <tr>\n",
              "      <th>2</th>\n",
              "      <td>in</td>\n",
              "      <td>2731</td>\n",
              "      <td>in</td>\n",
              "      <td>2807</td>\n",
              "    </tr>\n",
              "    <tr>\n",
              "      <th>3</th>\n",
              "      <td>the</td>\n",
              "      <td>1974</td>\n",
              "      <td>the</td>\n",
              "      <td>2378</td>\n",
              "    </tr>\n",
              "    <tr>\n",
              "      <th>4</th>\n",
              "      <td>a</td>\n",
              "      <td>1167</td>\n",
              "      <td>a</td>\n",
              "      <td>1945</td>\n",
              "    </tr>\n",
              "  </tbody>\n",
              "</table>\n",
              "</div>\n",
              "      <button class=\"colab-df-convert\" onclick=\"convertToInteractive('df-00faddca-2959-417b-ae39-11494820e1ec')\"\n",
              "              title=\"Convert this dataframe to an interactive table.\"\n",
              "              style=\"display:none;\">\n",
              "        \n",
              "  <svg xmlns=\"http://www.w3.org/2000/svg\" height=\"24px\"viewBox=\"0 0 24 24\"\n",
              "       width=\"24px\">\n",
              "    <path d=\"M0 0h24v24H0V0z\" fill=\"none\"/>\n",
              "    <path d=\"M18.56 5.44l.94 2.06.94-2.06 2.06-.94-2.06-.94-.94-2.06-.94 2.06-2.06.94zm-11 1L8.5 8.5l.94-2.06 2.06-.94-2.06-.94L8.5 2.5l-.94 2.06-2.06.94zm10 10l.94 2.06.94-2.06 2.06-.94-2.06-.94-.94-2.06-.94 2.06-2.06.94z\"/><path d=\"M17.41 7.96l-1.37-1.37c-.4-.4-.92-.59-1.43-.59-.52 0-1.04.2-1.43.59L10.3 9.45l-7.72 7.72c-.78.78-.78 2.05 0 2.83L4 21.41c.39.39.9.59 1.41.59.51 0 1.02-.2 1.41-.59l7.78-7.78 2.81-2.81c.8-.78.8-2.07 0-2.86zM5.41 20L4 18.59l7.72-7.72 1.47 1.35L5.41 20z\"/>\n",
              "  </svg>\n",
              "      </button>\n",
              "      \n",
              "  <style>\n",
              "    .colab-df-container {\n",
              "      display:flex;\n",
              "      flex-wrap:wrap;\n",
              "      gap: 12px;\n",
              "    }\n",
              "\n",
              "    .colab-df-convert {\n",
              "      background-color: #E8F0FE;\n",
              "      border: none;\n",
              "      border-radius: 50%;\n",
              "      cursor: pointer;\n",
              "      display: none;\n",
              "      fill: #1967D2;\n",
              "      height: 32px;\n",
              "      padding: 0 0 0 0;\n",
              "      width: 32px;\n",
              "    }\n",
              "\n",
              "    .colab-df-convert:hover {\n",
              "      background-color: #E2EBFA;\n",
              "      box-shadow: 0px 1px 2px rgba(60, 64, 67, 0.3), 0px 1px 3px 1px rgba(60, 64, 67, 0.15);\n",
              "      fill: #174EA6;\n",
              "    }\n",
              "\n",
              "    [theme=dark] .colab-df-convert {\n",
              "      background-color: #3B4455;\n",
              "      fill: #D2E3FC;\n",
              "    }\n",
              "\n",
              "    [theme=dark] .colab-df-convert:hover {\n",
              "      background-color: #434B5C;\n",
              "      box-shadow: 0px 1px 3px 1px rgba(0, 0, 0, 0.15);\n",
              "      filter: drop-shadow(0px 1px 2px rgba(0, 0, 0, 0.3));\n",
              "      fill: #FFFFFF;\n",
              "    }\n",
              "  </style>\n",
              "\n",
              "      <script>\n",
              "        const buttonEl =\n",
              "          document.querySelector('#df-00faddca-2959-417b-ae39-11494820e1ec button.colab-df-convert');\n",
              "        buttonEl.style.display =\n",
              "          google.colab.kernel.accessAllowed ? 'block' : 'none';\n",
              "\n",
              "        async function convertToInteractive(key) {\n",
              "          const element = document.querySelector('#df-00faddca-2959-417b-ae39-11494820e1ec');\n",
              "          const dataTable =\n",
              "            await google.colab.kernel.invokeFunction('convertToInteractive',\n",
              "                                                     [key], {});\n",
              "          if (!dataTable) return;\n",
              "\n",
              "          const docLinkHtml = 'Like what you see? Visit the ' +\n",
              "            '<a target=\"_blank\" href=https://colab.research.google.com/notebooks/data_table.ipynb>data table notebook</a>'\n",
              "            + ' to learn more about interactive tables.';\n",
              "          element.innerHTML = '';\n",
              "          dataTable['output_type'] = 'display_data';\n",
              "          await google.colab.output.renderOutput(dataTable, element);\n",
              "          const docLink = document.createElement('div');\n",
              "          docLink.innerHTML = docLinkHtml;\n",
              "          element.appendChild(docLink);\n",
              "        }\n",
              "      </script>\n",
              "    </div>\n",
              "  </div>\n",
              "  "
            ]
          },
          "metadata": {},
          "execution_count": 14
        }
      ],
      "source": [
        "c_count.head()"
      ],
      "id": "91e7aca1"
    },
    {
      "cell_type": "markdown",
      "metadata": {
        "id": "79cf1a78"
      },
      "source": [
        "**As we can see, there is a segnificant change here after lower-casing the characters**"
      ],
      "id": "79cf1a78"
    },
    {
      "cell_type": "code",
      "execution_count": 15,
      "metadata": {
        "id": "38fb4d72"
      },
      "outputs": [],
      "source": [
        "#Identify uncommon words for each Title\n",
        "nfreq =  pd.Series(' '.join(df \n",
        "         ['Title']).split()).value_counts()[-30:]\n",
        "n_count2 = pd.DataFrame(nfreq)\n",
        "n_count2.reset_index(inplace = True)\n",
        "n_count2.rename(columns = {'index':'Words_After', 0:'Count'}, inplace = True)\n",
        "n_count = pd.concat([n_count, n_count2], axis=1)"
      ],
      "id": "38fb4d72"
    },
    {
      "cell_type": "code",
      "execution_count": 16,
      "metadata": {
        "colab": {
          "base_uri": "https://localhost:8080/",
          "height": 0
        },
        "id": "8887f610",
        "outputId": "559c8c06-6334-4647-93ec-e734bd0b327a"
      },
      "outputs": [
        {
          "output_type": "execute_result",
          "data": {
            "text/plain": [
              "  Words_Before  Count Words_After  Count\n",
              "0      measles      1       peste      1\n",
              "1  progressive      1         des      1\n",
              "2        midst      1      petits      1\n",
              "3        tasks      1   ruminants      1\n",
              "4      present      1   livestock      1"
            ],
            "text/html": [
              "\n",
              "  <div id=\"df-caf549fc-3de4-41a7-b5e8-55fae23420c7\">\n",
              "    <div class=\"colab-df-container\">\n",
              "      <div>\n",
              "<style scoped>\n",
              "    .dataframe tbody tr th:only-of-type {\n",
              "        vertical-align: middle;\n",
              "    }\n",
              "\n",
              "    .dataframe tbody tr th {\n",
              "        vertical-align: top;\n",
              "    }\n",
              "\n",
              "    .dataframe thead th {\n",
              "        text-align: right;\n",
              "    }\n",
              "</style>\n",
              "<table border=\"1\" class=\"dataframe\">\n",
              "  <thead>\n",
              "    <tr style=\"text-align: right;\">\n",
              "      <th></th>\n",
              "      <th>Words_Before</th>\n",
              "      <th>Count</th>\n",
              "      <th>Words_After</th>\n",
              "      <th>Count</th>\n",
              "    </tr>\n",
              "  </thead>\n",
              "  <tbody>\n",
              "    <tr>\n",
              "      <th>0</th>\n",
              "      <td>measles</td>\n",
              "      <td>1</td>\n",
              "      <td>peste</td>\n",
              "      <td>1</td>\n",
              "    </tr>\n",
              "    <tr>\n",
              "      <th>1</th>\n",
              "      <td>progressive</td>\n",
              "      <td>1</td>\n",
              "      <td>des</td>\n",
              "      <td>1</td>\n",
              "    </tr>\n",
              "    <tr>\n",
              "      <th>2</th>\n",
              "      <td>midst</td>\n",
              "      <td>1</td>\n",
              "      <td>petits</td>\n",
              "      <td>1</td>\n",
              "    </tr>\n",
              "    <tr>\n",
              "      <th>3</th>\n",
              "      <td>tasks</td>\n",
              "      <td>1</td>\n",
              "      <td>ruminants</td>\n",
              "      <td>1</td>\n",
              "    </tr>\n",
              "    <tr>\n",
              "      <th>4</th>\n",
              "      <td>present</td>\n",
              "      <td>1</td>\n",
              "      <td>livestock</td>\n",
              "      <td>1</td>\n",
              "    </tr>\n",
              "  </tbody>\n",
              "</table>\n",
              "</div>\n",
              "      <button class=\"colab-df-convert\" onclick=\"convertToInteractive('df-caf549fc-3de4-41a7-b5e8-55fae23420c7')\"\n",
              "              title=\"Convert this dataframe to an interactive table.\"\n",
              "              style=\"display:none;\">\n",
              "        \n",
              "  <svg xmlns=\"http://www.w3.org/2000/svg\" height=\"24px\"viewBox=\"0 0 24 24\"\n",
              "       width=\"24px\">\n",
              "    <path d=\"M0 0h24v24H0V0z\" fill=\"none\"/>\n",
              "    <path d=\"M18.56 5.44l.94 2.06.94-2.06 2.06-.94-2.06-.94-.94-2.06-.94 2.06-2.06.94zm-11 1L8.5 8.5l.94-2.06 2.06-.94-2.06-.94L8.5 2.5l-.94 2.06-2.06.94zm10 10l.94 2.06.94-2.06 2.06-.94-2.06-.94-.94-2.06-.94 2.06-2.06.94z\"/><path d=\"M17.41 7.96l-1.37-1.37c-.4-.4-.92-.59-1.43-.59-.52 0-1.04.2-1.43.59L10.3 9.45l-7.72 7.72c-.78.78-.78 2.05 0 2.83L4 21.41c.39.39.9.59 1.41.59.51 0 1.02-.2 1.41-.59l7.78-7.78 2.81-2.81c.8-.78.8-2.07 0-2.86zM5.41 20L4 18.59l7.72-7.72 1.47 1.35L5.41 20z\"/>\n",
              "  </svg>\n",
              "      </button>\n",
              "      \n",
              "  <style>\n",
              "    .colab-df-container {\n",
              "      display:flex;\n",
              "      flex-wrap:wrap;\n",
              "      gap: 12px;\n",
              "    }\n",
              "\n",
              "    .colab-df-convert {\n",
              "      background-color: #E8F0FE;\n",
              "      border: none;\n",
              "      border-radius: 50%;\n",
              "      cursor: pointer;\n",
              "      display: none;\n",
              "      fill: #1967D2;\n",
              "      height: 32px;\n",
              "      padding: 0 0 0 0;\n",
              "      width: 32px;\n",
              "    }\n",
              "\n",
              "    .colab-df-convert:hover {\n",
              "      background-color: #E2EBFA;\n",
              "      box-shadow: 0px 1px 2px rgba(60, 64, 67, 0.3), 0px 1px 3px 1px rgba(60, 64, 67, 0.15);\n",
              "      fill: #174EA6;\n",
              "    }\n",
              "\n",
              "    [theme=dark] .colab-df-convert {\n",
              "      background-color: #3B4455;\n",
              "      fill: #D2E3FC;\n",
              "    }\n",
              "\n",
              "    [theme=dark] .colab-df-convert:hover {\n",
              "      background-color: #434B5C;\n",
              "      box-shadow: 0px 1px 3px 1px rgba(0, 0, 0, 0.15);\n",
              "      filter: drop-shadow(0px 1px 2px rgba(0, 0, 0, 0.3));\n",
              "      fill: #FFFFFF;\n",
              "    }\n",
              "  </style>\n",
              "\n",
              "      <script>\n",
              "        const buttonEl =\n",
              "          document.querySelector('#df-caf549fc-3de4-41a7-b5e8-55fae23420c7 button.colab-df-convert');\n",
              "        buttonEl.style.display =\n",
              "          google.colab.kernel.accessAllowed ? 'block' : 'none';\n",
              "\n",
              "        async function convertToInteractive(key) {\n",
              "          const element = document.querySelector('#df-caf549fc-3de4-41a7-b5e8-55fae23420c7');\n",
              "          const dataTable =\n",
              "            await google.colab.kernel.invokeFunction('convertToInteractive',\n",
              "                                                     [key], {});\n",
              "          if (!dataTable) return;\n",
              "\n",
              "          const docLinkHtml = 'Like what you see? Visit the ' +\n",
              "            '<a target=\"_blank\" href=https://colab.research.google.com/notebooks/data_table.ipynb>data table notebook</a>'\n",
              "            + ' to learn more about interactive tables.';\n",
              "          element.innerHTML = '';\n",
              "          dataTable['output_type'] = 'display_data';\n",
              "          await google.colab.output.renderOutput(dataTable, element);\n",
              "          const docLink = document.createElement('div');\n",
              "          docLink.innerHTML = docLinkHtml;\n",
              "          element.appendChild(docLink);\n",
              "        }\n",
              "      </script>\n",
              "    </div>\n",
              "  </div>\n",
              "  "
            ]
          },
          "metadata": {},
          "execution_count": 16
        }
      ],
      "source": [
        "n_count.head()"
      ],
      "id": "8887f610"
    },
    {
      "cell_type": "markdown",
      "metadata": {
        "id": "10aa2e02"
      },
      "source": [
        "**Also, it is very segnifican here that the least frequent words changed after altering the case sensitivity**"
      ],
      "id": "10aa2e02"
    },
    {
      "cell_type": "code",
      "execution_count": 17,
      "metadata": {
        "colab": {
          "base_uri": "https://localhost:8080/",
          "height": 0
        },
        "id": "f25e00cb",
        "outputId": "ffad8727-76db-4e2d-847c-c3d9b4af14d5"
      },
      "outputs": [
        {
          "output_type": "execute_result",
          "data": {
            "text/plain": [
              "      ArticleID                                              Title  \\\n",
              "0      34153941  stable coordination variability in overground ...   \n",
              "1      34153942  weak hip strength increases dynamic knee valgu...   \n",
              "2      34153964  current and future projections of amyotrophic ...   \n",
              "3      34153968  disparities between asian and non-asian thromb...   \n",
              "4      34153978  maternal factors predicting loss to follow-up ...   \n",
              "...         ...                                                ...   \n",
              "4994   34444567  mind the differences: how diagnoses and hospit...   \n",
              "4995   34444568  the ethics of dying: deciphering pandemic-resu...   \n",
              "4996   34444569  research on adolescents regarding the indirect...   \n",
              "4997   34444571  pre-intervention effects of a community-based ...   \n",
              "4998   34444572  pharmacists' role in older adults' medication ...   \n",
              "\n",
              "                                               Abstract  \n",
              "0     coordination variability (cv) is commonly anal...  \n",
              "1     clinical scenario: dynamic knee valgus (dkv) i...  \n",
              "2     various methodologies have been reported to as...  \n",
              "3     as outcomes for acute ischemic stroke (ais) va...  \n",
              "4     because hearing loss in children can result in...  \n",
              "...                                                 ...  \n",
              "4994  integrated care pathway (icp) is a prevailing ...  \n",
              "4995  the objective of medicine is to provide humans...  \n",
              "4996  this research involved the participation of 30...  \n",
              "4997  this study explores the impact of the 'pre-int...  \n",
              "4998  medication regimen complexity (mrc) may influe...  \n",
              "\n",
              "[4999 rows x 3 columns]"
            ],
            "text/html": [
              "\n",
              "  <div id=\"df-19b1589d-665e-4208-b782-8676d7006e3f\">\n",
              "    <div class=\"colab-df-container\">\n",
              "      <div>\n",
              "<style scoped>\n",
              "    .dataframe tbody tr th:only-of-type {\n",
              "        vertical-align: middle;\n",
              "    }\n",
              "\n",
              "    .dataframe tbody tr th {\n",
              "        vertical-align: top;\n",
              "    }\n",
              "\n",
              "    .dataframe thead th {\n",
              "        text-align: right;\n",
              "    }\n",
              "</style>\n",
              "<table border=\"1\" class=\"dataframe\">\n",
              "  <thead>\n",
              "    <tr style=\"text-align: right;\">\n",
              "      <th></th>\n",
              "      <th>ArticleID</th>\n",
              "      <th>Title</th>\n",
              "      <th>Abstract</th>\n",
              "    </tr>\n",
              "  </thead>\n",
              "  <tbody>\n",
              "    <tr>\n",
              "      <th>0</th>\n",
              "      <td>34153941</td>\n",
              "      <td>stable coordination variability in overground ...</td>\n",
              "      <td>coordination variability (cv) is commonly anal...</td>\n",
              "    </tr>\n",
              "    <tr>\n",
              "      <th>1</th>\n",
              "      <td>34153942</td>\n",
              "      <td>weak hip strength increases dynamic knee valgu...</td>\n",
              "      <td>clinical scenario: dynamic knee valgus (dkv) i...</td>\n",
              "    </tr>\n",
              "    <tr>\n",
              "      <th>2</th>\n",
              "      <td>34153964</td>\n",
              "      <td>current and future projections of amyotrophic ...</td>\n",
              "      <td>various methodologies have been reported to as...</td>\n",
              "    </tr>\n",
              "    <tr>\n",
              "      <th>3</th>\n",
              "      <td>34153968</td>\n",
              "      <td>disparities between asian and non-asian thromb...</td>\n",
              "      <td>as outcomes for acute ischemic stroke (ais) va...</td>\n",
              "    </tr>\n",
              "    <tr>\n",
              "      <th>4</th>\n",
              "      <td>34153978</td>\n",
              "      <td>maternal factors predicting loss to follow-up ...</td>\n",
              "      <td>because hearing loss in children can result in...</td>\n",
              "    </tr>\n",
              "    <tr>\n",
              "      <th>...</th>\n",
              "      <td>...</td>\n",
              "      <td>...</td>\n",
              "      <td>...</td>\n",
              "    </tr>\n",
              "    <tr>\n",
              "      <th>4994</th>\n",
              "      <td>34444567</td>\n",
              "      <td>mind the differences: how diagnoses and hospit...</td>\n",
              "      <td>integrated care pathway (icp) is a prevailing ...</td>\n",
              "    </tr>\n",
              "    <tr>\n",
              "      <th>4995</th>\n",
              "      <td>34444568</td>\n",
              "      <td>the ethics of dying: deciphering pandemic-resu...</td>\n",
              "      <td>the objective of medicine is to provide humans...</td>\n",
              "    </tr>\n",
              "    <tr>\n",
              "      <th>4996</th>\n",
              "      <td>34444569</td>\n",
              "      <td>research on adolescents regarding the indirect...</td>\n",
              "      <td>this research involved the participation of 30...</td>\n",
              "    </tr>\n",
              "    <tr>\n",
              "      <th>4997</th>\n",
              "      <td>34444571</td>\n",
              "      <td>pre-intervention effects of a community-based ...</td>\n",
              "      <td>this study explores the impact of the 'pre-int...</td>\n",
              "    </tr>\n",
              "    <tr>\n",
              "      <th>4998</th>\n",
              "      <td>34444572</td>\n",
              "      <td>pharmacists' role in older adults' medication ...</td>\n",
              "      <td>medication regimen complexity (mrc) may influe...</td>\n",
              "    </tr>\n",
              "  </tbody>\n",
              "</table>\n",
              "<p>4999 rows × 3 columns</p>\n",
              "</div>\n",
              "      <button class=\"colab-df-convert\" onclick=\"convertToInteractive('df-19b1589d-665e-4208-b782-8676d7006e3f')\"\n",
              "              title=\"Convert this dataframe to an interactive table.\"\n",
              "              style=\"display:none;\">\n",
              "        \n",
              "  <svg xmlns=\"http://www.w3.org/2000/svg\" height=\"24px\"viewBox=\"0 0 24 24\"\n",
              "       width=\"24px\">\n",
              "    <path d=\"M0 0h24v24H0V0z\" fill=\"none\"/>\n",
              "    <path d=\"M18.56 5.44l.94 2.06.94-2.06 2.06-.94-2.06-.94-.94-2.06-.94 2.06-2.06.94zm-11 1L8.5 8.5l.94-2.06 2.06-.94-2.06-.94L8.5 2.5l-.94 2.06-2.06.94zm10 10l.94 2.06.94-2.06 2.06-.94-2.06-.94-.94-2.06-.94 2.06-2.06.94z\"/><path d=\"M17.41 7.96l-1.37-1.37c-.4-.4-.92-.59-1.43-.59-.52 0-1.04.2-1.43.59L10.3 9.45l-7.72 7.72c-.78.78-.78 2.05 0 2.83L4 21.41c.39.39.9.59 1.41.59.51 0 1.02-.2 1.41-.59l7.78-7.78 2.81-2.81c.8-.78.8-2.07 0-2.86zM5.41 20L4 18.59l7.72-7.72 1.47 1.35L5.41 20z\"/>\n",
              "  </svg>\n",
              "      </button>\n",
              "      \n",
              "  <style>\n",
              "    .colab-df-container {\n",
              "      display:flex;\n",
              "      flex-wrap:wrap;\n",
              "      gap: 12px;\n",
              "    }\n",
              "\n",
              "    .colab-df-convert {\n",
              "      background-color: #E8F0FE;\n",
              "      border: none;\n",
              "      border-radius: 50%;\n",
              "      cursor: pointer;\n",
              "      display: none;\n",
              "      fill: #1967D2;\n",
              "      height: 32px;\n",
              "      padding: 0 0 0 0;\n",
              "      width: 32px;\n",
              "    }\n",
              "\n",
              "    .colab-df-convert:hover {\n",
              "      background-color: #E2EBFA;\n",
              "      box-shadow: 0px 1px 2px rgba(60, 64, 67, 0.3), 0px 1px 3px 1px rgba(60, 64, 67, 0.15);\n",
              "      fill: #174EA6;\n",
              "    }\n",
              "\n",
              "    [theme=dark] .colab-df-convert {\n",
              "      background-color: #3B4455;\n",
              "      fill: #D2E3FC;\n",
              "    }\n",
              "\n",
              "    [theme=dark] .colab-df-convert:hover {\n",
              "      background-color: #434B5C;\n",
              "      box-shadow: 0px 1px 3px 1px rgba(0, 0, 0, 0.15);\n",
              "      filter: drop-shadow(0px 1px 2px rgba(0, 0, 0, 0.3));\n",
              "      fill: #FFFFFF;\n",
              "    }\n",
              "  </style>\n",
              "\n",
              "      <script>\n",
              "        const buttonEl =\n",
              "          document.querySelector('#df-19b1589d-665e-4208-b782-8676d7006e3f button.colab-df-convert');\n",
              "        buttonEl.style.display =\n",
              "          google.colab.kernel.accessAllowed ? 'block' : 'none';\n",
              "\n",
              "        async function convertToInteractive(key) {\n",
              "          const element = document.querySelector('#df-19b1589d-665e-4208-b782-8676d7006e3f');\n",
              "          const dataTable =\n",
              "            await google.colab.kernel.invokeFunction('convertToInteractive',\n",
              "                                                     [key], {});\n",
              "          if (!dataTable) return;\n",
              "\n",
              "          const docLinkHtml = 'Like what you see? Visit the ' +\n",
              "            '<a target=\"_blank\" href=https://colab.research.google.com/notebooks/data_table.ipynb>data table notebook</a>'\n",
              "            + ' to learn more about interactive tables.';\n",
              "          element.innerHTML = '';\n",
              "          dataTable['output_type'] = 'display_data';\n",
              "          await google.colab.output.renderOutput(dataTable, element);\n",
              "          const docLink = document.createElement('div');\n",
              "          docLink.innerHTML = docLinkHtml;\n",
              "          element.appendChild(docLink);\n",
              "        }\n",
              "      </script>\n",
              "    </div>\n",
              "  </div>\n",
              "  "
            ]
          },
          "metadata": {},
          "execution_count": 17
        }
      ],
      "source": [
        "dff = copy.deepcopy(df)\n",
        "dff"
      ],
      "id": "f25e00cb"
    },
    {
      "cell_type": "markdown",
      "metadata": {
        "id": "b5d6a2fe"
      },
      "source": [
        "## <hr>"
      ],
      "id": "b5d6a2fe"
    },
    {
      "cell_type": "markdown",
      "source": [
        "# NLP phase"
      ],
      "metadata": {
        "id": "wn0XfA5JLA9R"
      },
      "id": "wn0XfA5JLA9R"
    },
    {
      "cell_type": "markdown",
      "metadata": {
        "id": "fd6abe13"
      },
      "source": [
        "<h2>The main steps of text processing:</h2>\n",
        "\n",
        "    1- Tokenization: Segregation of the text into its individual constitutent words.\n",
        "    \n",
        "    2- Stopwords: Throw away any words that occur too frequently as its frequency of occurrence will not be useful in helping detecting relevant texts. (as an aside also consider throwing away words that occur very infrequently).\n",
        "\n",
        "    3- Stemming: combine variants of words into a single parent word that still conveys the same meaning\n",
        "\n",
        "    4- Vectorization: Map all the tokens in data into vectors for ease of feeding into models\n",
        "    "
      ],
      "id": "fd6abe13"
    },
    {
      "cell_type": "code",
      "source": [
        "import re\n",
        "from tqdm import tqdm\n",
        "import nltk\n",
        "nltk.download('punkt')"
      ],
      "metadata": {
        "id": "giUTa5ojvZEM"
      },
      "id": "giUTa5ojvZEM",
      "execution_count": null,
      "outputs": []
    },
    {
      "cell_type": "markdown",
      "metadata": {
        "id": "315a1f88"
      },
      "source": [
        "## a- TF-IDF:"
      ],
      "id": "315a1f88"
    },
    {
      "cell_type": "markdown",
      "source": [
        "**First trial to pre process and filter using basic techniques**"
      ],
      "metadata": {
        "id": "2l1fo18u2p_M"
      },
      "id": "2l1fo18u2p_M"
    },
    {
      "cell_type": "code",
      "execution_count": 18,
      "metadata": {
        "id": "e3ebd705"
      },
      "outputs": [],
      "source": [
        "# Libraries for text preprocessing\n",
        "#nltk.download('stopwords')\n",
        "from nltk.corpus import stopwords\n",
        "from nltk.stem.porter import PorterStemmer\n",
        "from nltk.tokenize import RegexpTokenizer\n",
        "#nltk.download('wordnet') \n",
        "from nltk.stem.wordnet import WordNetLemmatizer"
      ],
      "id": "e3ebd705"
    },
    {
      "cell_type": "code",
      "source": [
        "##Stemming\n",
        "ps=PorterStemmer()\n",
        "#Lemmatisation\n",
        "lem = WordNetLemmatizer()\n",
        "\n",
        "def preprocess(data):\n",
        "  corpus = []\n",
        "  for i in range(0, len(data)):\n",
        "    #Remove punctuations\n",
        "    text = re.sub('[^a-zA-Z]', ' ', data['Abstract'][i])\n",
        "    \n",
        "    #remove tags\n",
        "    text=re.sub(\"&lt;/?.*?&gt;\",\" &lt;&gt; \",text)\n",
        "    \n",
        "    # remove special characters and digits\n",
        "    text=re.sub(\"(\\\\d|\\\\W)+\",\" \",text)\n",
        "    \n",
        "    ##Convert to list from string\n",
        "    text = text.split()\n",
        "    text = [lem.lemmatize(word) for word in text if not word in  \n",
        "            stopwords.words('english')]\n",
        "    text = \" \".join(text)\n",
        "    corpus.append(text)\n",
        "\n",
        "  return corpus"
      ],
      "metadata": {
        "id": "dTnK3oeDVKOF"
      },
      "id": "dTnK3oeDVKOF",
      "execution_count": 46,
      "outputs": []
    },
    {
      "cell_type": "code",
      "source": [
        "dff_f = preprocess(dff)"
      ],
      "metadata": {
        "id": "qjwZi6gF9_pe"
      },
      "id": "qjwZi6gF9_pe",
      "execution_count": 47,
      "outputs": []
    },
    {
      "cell_type": "code",
      "source": [
        "from sklearn.feature_extraction.text import TfidfVectorizer\n",
        "tfidf_v = TfidfVectorizer(max_features=5000,ngram_range=(2,100))\n",
        "x = tfidf_v.fit_transform(tqdm(dff_f)).toarray()"
      ],
      "metadata": {
        "colab": {
          "base_uri": "https://localhost:8080/",
          "height": 0
        },
        "id": "LDYAu2_QOO8l",
        "outputId": "8dba6c58-a35d-43ab-d806-51e4ea692c73"
      },
      "id": "LDYAu2_QOO8l",
      "execution_count": 22,
      "outputs": [
        {
          "output_type": "stream",
          "name": "stderr",
          "text": [
            " 18%|█▊        | 908/4999 [00:29<02:11, 31.05it/s]\n"
          ]
        },
        {
          "output_type": "error",
          "ename": "KeyboardInterrupt",
          "evalue": "ignored",
          "traceback": [
            "\u001b[0;31m---------------------------------------------------------------------------\u001b[0m",
            "\u001b[0;31mKeyboardInterrupt\u001b[0m                         Traceback (most recent call last)",
            "\u001b[0;32m<ipython-input-22-1eb9ea8b87b0>\u001b[0m in \u001b[0;36m<module>\u001b[0;34m()\u001b[0m\n\u001b[1;32m      2\u001b[0m \u001b[0;32mfrom\u001b[0m \u001b[0msklearn\u001b[0m\u001b[0;34m.\u001b[0m\u001b[0mfeature_extraction\u001b[0m\u001b[0;34m.\u001b[0m\u001b[0mtext\u001b[0m \u001b[0;32mimport\u001b[0m \u001b[0mTfidfVectorizer\u001b[0m\u001b[0;34m\u001b[0m\u001b[0;34m\u001b[0m\u001b[0m\n\u001b[1;32m      3\u001b[0m \u001b[0mtfidf_v\u001b[0m \u001b[0;34m=\u001b[0m \u001b[0mTfidfVectorizer\u001b[0m\u001b[0;34m(\u001b[0m\u001b[0mmax_features\u001b[0m\u001b[0;34m=\u001b[0m\u001b[0;36m5000\u001b[0m\u001b[0;34m,\u001b[0m\u001b[0mngram_range\u001b[0m\u001b[0;34m=\u001b[0m\u001b[0;34m(\u001b[0m\u001b[0;36m2\u001b[0m\u001b[0;34m,\u001b[0m\u001b[0;36m100\u001b[0m\u001b[0;34m)\u001b[0m\u001b[0;34m)\u001b[0m\u001b[0;34m\u001b[0m\u001b[0;34m\u001b[0m\u001b[0m\n\u001b[0;32m----> 4\u001b[0;31m \u001b[0mx\u001b[0m \u001b[0;34m=\u001b[0m \u001b[0mtfidf_v\u001b[0m\u001b[0;34m.\u001b[0m\u001b[0mfit_transform\u001b[0m\u001b[0;34m(\u001b[0m\u001b[0mtqdm\u001b[0m\u001b[0;34m(\u001b[0m\u001b[0mdff_f\u001b[0m\u001b[0;34m)\u001b[0m\u001b[0;34m)\u001b[0m\u001b[0;34m.\u001b[0m\u001b[0mtoarray\u001b[0m\u001b[0;34m(\u001b[0m\u001b[0;34m)\u001b[0m\u001b[0;34m\u001b[0m\u001b[0;34m\u001b[0m\u001b[0m\n\u001b[0m",
            "\u001b[0;32m/usr/local/lib/python3.7/dist-packages/sklearn/feature_extraction/text.py\u001b[0m in \u001b[0;36mfit_transform\u001b[0;34m(self, raw_documents, y)\u001b[0m\n\u001b[1;32m   2075\u001b[0m         \"\"\"\n\u001b[1;32m   2076\u001b[0m         \u001b[0mself\u001b[0m\u001b[0;34m.\u001b[0m\u001b[0m_check_params\u001b[0m\u001b[0;34m(\u001b[0m\u001b[0;34m)\u001b[0m\u001b[0;34m\u001b[0m\u001b[0;34m\u001b[0m\u001b[0m\n\u001b[0;32m-> 2077\u001b[0;31m         \u001b[0mX\u001b[0m \u001b[0;34m=\u001b[0m \u001b[0msuper\u001b[0m\u001b[0;34m(\u001b[0m\u001b[0;34m)\u001b[0m\u001b[0;34m.\u001b[0m\u001b[0mfit_transform\u001b[0m\u001b[0;34m(\u001b[0m\u001b[0mraw_documents\u001b[0m\u001b[0;34m)\u001b[0m\u001b[0;34m\u001b[0m\u001b[0;34m\u001b[0m\u001b[0m\n\u001b[0m\u001b[1;32m   2078\u001b[0m         \u001b[0mself\u001b[0m\u001b[0;34m.\u001b[0m\u001b[0m_tfidf\u001b[0m\u001b[0;34m.\u001b[0m\u001b[0mfit\u001b[0m\u001b[0;34m(\u001b[0m\u001b[0mX\u001b[0m\u001b[0;34m)\u001b[0m\u001b[0;34m\u001b[0m\u001b[0;34m\u001b[0m\u001b[0m\n\u001b[1;32m   2079\u001b[0m         \u001b[0;31m# X is already a transformed view of raw_documents so\u001b[0m\u001b[0;34m\u001b[0m\u001b[0;34m\u001b[0m\u001b[0;34m\u001b[0m\u001b[0m\n",
            "\u001b[0;32m/usr/local/lib/python3.7/dist-packages/sklearn/feature_extraction/text.py\u001b[0m in \u001b[0;36mfit_transform\u001b[0;34m(self, raw_documents, y)\u001b[0m\n\u001b[1;32m   1328\u001b[0m                     \u001b[0;32mbreak\u001b[0m\u001b[0;34m\u001b[0m\u001b[0;34m\u001b[0m\u001b[0m\n\u001b[1;32m   1329\u001b[0m \u001b[0;34m\u001b[0m\u001b[0m\n\u001b[0;32m-> 1330\u001b[0;31m         \u001b[0mvocabulary\u001b[0m\u001b[0;34m,\u001b[0m \u001b[0mX\u001b[0m \u001b[0;34m=\u001b[0m \u001b[0mself\u001b[0m\u001b[0;34m.\u001b[0m\u001b[0m_count_vocab\u001b[0m\u001b[0;34m(\u001b[0m\u001b[0mraw_documents\u001b[0m\u001b[0;34m,\u001b[0m \u001b[0mself\u001b[0m\u001b[0;34m.\u001b[0m\u001b[0mfixed_vocabulary_\u001b[0m\u001b[0;34m)\u001b[0m\u001b[0;34m\u001b[0m\u001b[0;34m\u001b[0m\u001b[0m\n\u001b[0m\u001b[1;32m   1331\u001b[0m \u001b[0;34m\u001b[0m\u001b[0m\n\u001b[1;32m   1332\u001b[0m         \u001b[0;32mif\u001b[0m \u001b[0mself\u001b[0m\u001b[0;34m.\u001b[0m\u001b[0mbinary\u001b[0m\u001b[0;34m:\u001b[0m\u001b[0;34m\u001b[0m\u001b[0;34m\u001b[0m\u001b[0m\n",
            "\u001b[0;32m/usr/local/lib/python3.7/dist-packages/sklearn/feature_extraction/text.py\u001b[0m in \u001b[0;36m_count_vocab\u001b[0;34m(self, raw_documents, fixed_vocab)\u001b[0m\n\u001b[1;32m   1201\u001b[0m             \u001b[0;32mfor\u001b[0m \u001b[0mfeature\u001b[0m \u001b[0;32min\u001b[0m \u001b[0manalyze\u001b[0m\u001b[0;34m(\u001b[0m\u001b[0mdoc\u001b[0m\u001b[0;34m)\u001b[0m\u001b[0;34m:\u001b[0m\u001b[0;34m\u001b[0m\u001b[0;34m\u001b[0m\u001b[0m\n\u001b[1;32m   1202\u001b[0m                 \u001b[0;32mtry\u001b[0m\u001b[0;34m:\u001b[0m\u001b[0;34m\u001b[0m\u001b[0;34m\u001b[0m\u001b[0m\n\u001b[0;32m-> 1203\u001b[0;31m                     \u001b[0mfeature_idx\u001b[0m \u001b[0;34m=\u001b[0m \u001b[0mvocabulary\u001b[0m\u001b[0;34m[\u001b[0m\u001b[0mfeature\u001b[0m\u001b[0;34m]\u001b[0m\u001b[0;34m\u001b[0m\u001b[0;34m\u001b[0m\u001b[0m\n\u001b[0m\u001b[1;32m   1204\u001b[0m                     \u001b[0;32mif\u001b[0m \u001b[0mfeature_idx\u001b[0m \u001b[0;32mnot\u001b[0m \u001b[0;32min\u001b[0m \u001b[0mfeature_counter\u001b[0m\u001b[0;34m:\u001b[0m\u001b[0;34m\u001b[0m\u001b[0;34m\u001b[0m\u001b[0m\n\u001b[1;32m   1205\u001b[0m                         \u001b[0mfeature_counter\u001b[0m\u001b[0;34m[\u001b[0m\u001b[0mfeature_idx\u001b[0m\u001b[0;34m]\u001b[0m \u001b[0;34m=\u001b[0m \u001b[0;36m1\u001b[0m\u001b[0;34m\u001b[0m\u001b[0;34m\u001b[0m\u001b[0m\n",
            "\u001b[0;31mKeyboardInterrupt\u001b[0m: "
          ]
        }
      ]
    },
    {
      "cell_type": "markdown",
      "source": [
        "**Here I tried to use TF-IDF but it ate all the RAM and the notebook failed several times**"
      ],
      "metadata": {
        "id": "-TJsNHC57mkD"
      },
      "id": "-TJsNHC57mkD"
    },
    {
      "cell_type": "markdown",
      "source": [
        "**Trying another technique**"
      ],
      "metadata": {
        "id": "F0QLovXF9dAl"
      },
      "id": "F0QLovXF9dAl"
    },
    {
      "cell_type": "code",
      "source": [
        "from sklearn.feature_extraction.text import CountVectorizer\n",
        "cv = CountVectorizer(max_features=5000)\n",
        "x = cv.fit_transform(dff_f)"
      ],
      "metadata": {
        "id": "8RoCnV979iBG"
      },
      "id": "8RoCnV979iBG",
      "execution_count": 48,
      "outputs": []
    },
    {
      "cell_type": "code",
      "source": [
        "word_count = pd.DataFrame({'word': cv.get_feature_names(), 'count': np.asarray(x.sum(axis=0))[0]});\n",
        "\n",
        "word_count.sort_values('count', ascending=False).set_index('word')[:20].sort_values('count', ascending=True).plot(kind='barh');"
      ],
      "metadata": {
        "colab": {
          "base_uri": "https://localhost:8080/",
          "height": 0
        },
        "id": "rBeC54W09yAn",
        "outputId": "bdeb1faf-a34b-4729-c55c-9faeebe7104d"
      },
      "id": "rBeC54W09yAn",
      "execution_count": 49,
      "outputs": [
        {
          "output_type": "stream",
          "name": "stderr",
          "text": [
            "/usr/local/lib/python3.7/dist-packages/sklearn/utils/deprecation.py:87: FutureWarning: Function get_feature_names is deprecated; get_feature_names is deprecated in 1.0 and will be removed in 1.2. Please use get_feature_names_out instead.\n",
            "  warnings.warn(msg, category=FutureWarning)\n"
          ]
        },
        {
          "output_type": "display_data",
          "data": {
            "text/plain": [
              "<Figure size 432x288 with 1 Axes>"
            ],
            "image/png": "[encoded data removed]"
          },
          "metadata": {
            "needs_background": "light"
          }
        }
      ]
    },
    {
      "cell_type": "markdown",
      "source": [
        "## b- Doc2Vec"
      ],
      "metadata": {
        "id": "K7cK-nnVCog7"
      },
      "id": "K7cK-nnVCog7"
    },
    {
      "cell_type": "code",
      "source": [
        "from nltk.corpus import stopwords\n",
        "from bs4 import BeautifulSoup\n",
        "\n",
        "def cleanText(text):\n",
        "    text = BeautifulSoup(text, \"lxml\").text\n",
        "    text = re.sub(r'\\|\\|\\|', r' ', text) \n",
        "    text = re.sub(r'http\\S+', r'<URL>', text)\n",
        "    text = text.lower()\n",
        "    text = text.replace('x', '')\n",
        "    return text\n",
        "    \n",
        "def tokenize_text(text):\n",
        "    tokens = []\n",
        "    for sent in nltk.sent_tokenize(text):\n",
        "        for word in nltk.word_tokenize(sent):\n",
        "            if len(word) < 2:\n",
        "                continue\n",
        "            tokens.append(word.lower())\n",
        "    return tokens"
      ],
      "metadata": {
        "id": "iYXPfj3TDg-X"
      },
      "id": "iYXPfj3TDg-X",
      "execution_count": 18,
      "outputs": []
    },
    {
      "cell_type": "code",
      "source": [
        "import gensim\n",
        "from gensim.models import Doc2Vec\n",
        "from gensim.models.doc2vec import TaggedDocument\n",
        "import multiprocessing\n",
        "cores = multiprocessing.cpu_count()\n",
        "dff['Abstract'] = dff['Abstract'].apply(cleanText)\n",
        "\n",
        "train_tagged = dff.apply(\n",
        "    lambda r: TaggedDocument(words=tokenize_text(r['Abstract']), tags=[r.Title]), axis=1)"
      ],
      "metadata": {
        "colab": {
          "base_uri": "https://localhost:8080/"
        },
        "id": "tTenWQZYD59y",
        "outputId": "460fc74d-99c1-4d3a-ab5a-5549b508f205"
      },
      "id": "tTenWQZYD59y",
      "execution_count": 19,
      "outputs": [
        {
          "output_type": "stream",
          "name": "stdout",
          "text": [
            "[nltk_data] Downloading package punkt to /root/nltk_data...\n",
            "[nltk_data]   Unzipping tokenizers/punkt.zip.\n"
          ]
        },
        {
          "output_type": "stream",
          "name": "stderr",
          "text": [
            "/usr/local/lib/python3.7/dist-packages/bs4/__init__.py:273: UserWarning: \"b'.'\" looks like a filename, not markup. You should probably open this file and pass the filehandle into Beautiful Soup.\n",
            "  ' Beautiful Soup.' % markup)\n"
          ]
        }
      ]
    },
    {
      "cell_type": "code",
      "source": [
        "model_dbow = Doc2Vec(dm=0, vector_size=300, negative=5, hs=0, min_count=2, sample = 0, workers=cores)\n",
        "model_dbow.build_vocab([x for x in tqdm(train_tagged)])"
      ],
      "metadata": {
        "colab": {
          "base_uri": "https://localhost:8080/"
        },
        "id": "U2-uiIm0Cshw",
        "outputId": "775d253d-0925-447b-f5a7-c9d9dcd9b772"
      },
      "id": "U2-uiIm0Cshw",
      "execution_count": 21,
      "outputs": [
        {
          "output_type": "stream",
          "name": "stderr",
          "text": [
            "100%|██████████| 4999/4999 [00:00<00:00, 1086164.82it/s]\n"
          ]
        }
      ]
    },
    {
      "cell_type": "code",
      "source": [
        "ff =  []\n",
        "for i in range(0,4999):\n",
        "  ff.append(model_dbow[i].sum())\n",
        "print(min(ff), max(ff))"
      ],
      "metadata": {
        "colab": {
          "base_uri": "https://localhost:8080/"
        },
        "id": "BU7iD2n9E96i",
        "outputId": "7a64718a-0ace-48ba-be63-4ec7eb0daaf3"
      },
      "id": "BU7iD2n9E96i",
      "execution_count": 118,
      "outputs": [
        {
          "output_type": "stream",
          "name": "stdout",
          "text": [
            "-0.058116704 0.05513382\n"
          ]
        }
      ]
    },
    {
      "cell_type": "code",
      "source": [
        "for i in range(0,4999):\n",
        "  ff[i] = ff[i] + 2.2554016293474533e-10 + 0.058116704\n",
        "min(ff)"
      ],
      "metadata": {
        "colab": {
          "base_uri": "https://localhost:8080/"
        },
        "id": "iGNb5-gGLpi1",
        "outputId": "71acb49f-910f-411d-df0d-054840b7e4ef"
      },
      "id": "iGNb5-gGLpi1",
      "execution_count": 119,
      "outputs": [
        {
          "output_type": "execute_result",
          "data": {
            "text/plain": [
              "0.0"
            ]
          },
          "metadata": {},
          "execution_count": 119
        }
      ]
    },
    {
      "cell_type": "code",
      "source": [
        "def recall(index, no):\n",
        "  y = []\n",
        "  for i in range(0,4999):\n",
        "    y.append(abs(ff[index] - ff[i]))\n",
        "  z = pd.DataFrame(data = y)\n",
        "  k_nearest = z[z != 0].nsmallest(n=no, columns = 0).index\n",
        "  k_distances = z[z != 0].nsmallest(n=no, columns = 0)\n",
        "\n",
        "  return k_nearest, k_distances\n",
        "k_nearest, k_distances = recall(55, 5)\n",
        "k_nearest = dff.iloc[k_nearest].copy()\n",
        "k_nearest['similarity'] = 1 - k_distances\n",
        "print(dff[\"Title\"][55])\n",
        "k_nearest"
      ],
      "metadata": {
        "colab": {
          "base_uri": "https://localhost:8080/",
          "height": 223
        },
        "id": "mAawJRtEH6Ox",
        "outputId": "6385af37-a4f6-4725-d568-de39f797e682"
      },
      "id": "mAawJRtEH6Ox",
      "execution_count": 158,
      "outputs": [
        {
          "output_type": "stream",
          "name": "stdout",
          "text": [
            "transformation of the learning process in higher education institutions under the influence of the pandemic covid-19.\n"
          ]
        },
        {
          "output_type": "execute_result",
          "data": {
            "text/plain": [
              "      ArticleID                                              Title  \\\n",
              "2682   34705848  comparison of service tactic formation on play...   \n",
              "3079   34811072  morphological description of a new specimen of...   \n",
              "4355   34328475  horizontal bone augmentation in the posterior ...   \n",
              "1248   34361755  humic acid improves zn fertilization in oxisol...   \n",
              "1555   34424515     sensory systems of the african naked mole-rat.   \n",
              "\n",
              "                                               Abstract  similarity  \n",
              "2682  the aim of this study was to analyze the influ...    0.999994  \n",
              "3079  the original description of burbrinks keelback...    0.999990  \n",
              "4355  the aim of this study was to analyze horizonta...    0.999988  \n",
              "1248  zinc (zn) is an essential micronutrient for pl...    0.999985  \n",
              "1555  naked mole-rats share some sensory characteris...    0.999974  "
            ],
            "text/html": [
              "\n",
              "  <div id=\"df-65b748cd-a4f1-47a8-8ab8-c8ec35bf7d9b\">\n",
              "    <div class=\"colab-df-container\">\n",
              "      <div>\n",
              "<style scoped>\n",
              "    .dataframe tbody tr th:only-of-type {\n",
              "        vertical-align: middle;\n",
              "    }\n",
              "\n",
              "    .dataframe tbody tr th {\n",
              "        vertical-align: top;\n",
              "    }\n",
              "\n",
              "    .dataframe thead th {\n",
              "        text-align: right;\n",
              "    }\n",
              "</style>\n",
              "<table border=\"1\" class=\"dataframe\">\n",
              "  <thead>\n",
              "    <tr style=\"text-align: right;\">\n",
              "      <th></th>\n",
              "      <th>ArticleID</th>\n",
              "      <th>Title</th>\n",
              "      <th>Abstract</th>\n",
              "      <th>similarity</th>\n",
              "    </tr>\n",
              "  </thead>\n",
              "  <tbody>\n",
              "    <tr>\n",
              "      <th>2682</th>\n",
              "      <td>34705848</td>\n",
              "      <td>comparison of service tactic formation on play...</td>\n",
              "      <td>the aim of this study was to analyze the influ...</td>\n",
              "      <td>0.999994</td>\n",
              "    </tr>\n",
              "    <tr>\n",
              "      <th>3079</th>\n",
              "      <td>34811072</td>\n",
              "      <td>morphological description of a new specimen of...</td>\n",
              "      <td>the original description of burbrinks keelback...</td>\n",
              "      <td>0.999990</td>\n",
              "    </tr>\n",
              "    <tr>\n",
              "      <th>4355</th>\n",
              "      <td>34328475</td>\n",
              "      <td>horizontal bone augmentation in the posterior ...</td>\n",
              "      <td>the aim of this study was to analyze horizonta...</td>\n",
              "      <td>0.999988</td>\n",
              "    </tr>\n",
              "    <tr>\n",
              "      <th>1248</th>\n",
              "      <td>34361755</td>\n",
              "      <td>humic acid improves zn fertilization in oxisol...</td>\n",
              "      <td>zinc (zn) is an essential micronutrient for pl...</td>\n",
              "      <td>0.999985</td>\n",
              "    </tr>\n",
              "    <tr>\n",
              "      <th>1555</th>\n",
              "      <td>34424515</td>\n",
              "      <td>sensory systems of the african naked mole-rat.</td>\n",
              "      <td>naked mole-rats share some sensory characteris...</td>\n",
              "      <td>0.999974</td>\n",
              "    </tr>\n",
              "  </tbody>\n",
              "</table>\n",
              "</div>\n",
              "      <button class=\"colab-df-convert\" onclick=\"convertToInteractive('df-65b748cd-a4f1-47a8-8ab8-c8ec35bf7d9b')\"\n",
              "              title=\"Convert this dataframe to an interactive table.\"\n",
              "              style=\"display:none;\">\n",
              "        \n",
              "  <svg xmlns=\"http://www.w3.org/2000/svg\" height=\"24px\"viewBox=\"0 0 24 24\"\n",
              "       width=\"24px\">\n",
              "    <path d=\"M0 0h24v24H0V0z\" fill=\"none\"/>\n",
              "    <path d=\"M18.56 5.44l.94 2.06.94-2.06 2.06-.94-2.06-.94-.94-2.06-.94 2.06-2.06.94zm-11 1L8.5 8.5l.94-2.06 2.06-.94-2.06-.94L8.5 2.5l-.94 2.06-2.06.94zm10 10l.94 2.06.94-2.06 2.06-.94-2.06-.94-.94-2.06-.94 2.06-2.06.94z\"/><path d=\"M17.41 7.96l-1.37-1.37c-.4-.4-.92-.59-1.43-.59-.52 0-1.04.2-1.43.59L10.3 9.45l-7.72 7.72c-.78.78-.78 2.05 0 2.83L4 21.41c.39.39.9.59 1.41.59.51 0 1.02-.2 1.41-.59l7.78-7.78 2.81-2.81c.8-.78.8-2.07 0-2.86zM5.41 20L4 18.59l7.72-7.72 1.47 1.35L5.41 20z\"/>\n",
              "  </svg>\n",
              "      </button>\n",
              "      \n",
              "  <style>\n",
              "    .colab-df-container {\n",
              "      display:flex;\n",
              "      flex-wrap:wrap;\n",
              "      gap: 12px;\n",
              "    }\n",
              "\n",
              "    .colab-df-convert {\n",
              "      background-color: #E8F0FE;\n",
              "      border: none;\n",
              "      border-radius: 50%;\n",
              "      cursor: pointer;\n",
              "      display: none;\n",
              "      fill: #1967D2;\n",
              "      height: 32px;\n",
              "      padding: 0 0 0 0;\n",
              "      width: 32px;\n",
              "    }\n",
              "\n",
              "    .colab-df-convert:hover {\n",
              "      background-color: #E2EBFA;\n",
              "      box-shadow: 0px 1px 2px rgba(60, 64, 67, 0.3), 0px 1px 3px 1px rgba(60, 64, 67, 0.15);\n",
              "      fill: #174EA6;\n",
              "    }\n",
              "\n",
              "    [theme=dark] .colab-df-convert {\n",
              "      background-color: #3B4455;\n",
              "      fill: #D2E3FC;\n",
              "    }\n",
              "\n",
              "    [theme=dark] .colab-df-convert:hover {\n",
              "      background-color: #434B5C;\n",
              "      box-shadow: 0px 1px 3px 1px rgba(0, 0, 0, 0.15);\n",
              "      filter: drop-shadow(0px 1px 2px rgba(0, 0, 0, 0.3));\n",
              "      fill: #FFFFFF;\n",
              "    }\n",
              "  </style>\n",
              "\n",
              "      <script>\n",
              "        const buttonEl =\n",
              "          document.querySelector('#df-65b748cd-a4f1-47a8-8ab8-c8ec35bf7d9b button.colab-df-convert');\n",
              "        buttonEl.style.display =\n",
              "          google.colab.kernel.accessAllowed ? 'block' : 'none';\n",
              "\n",
              "        async function convertToInteractive(key) {\n",
              "          const element = document.querySelector('#df-65b748cd-a4f1-47a8-8ab8-c8ec35bf7d9b');\n",
              "          const dataTable =\n",
              "            await google.colab.kernel.invokeFunction('convertToInteractive',\n",
              "                                                     [key], {});\n",
              "          if (!dataTable) return;\n",
              "\n",
              "          const docLinkHtml = 'Like what you see? Visit the ' +\n",
              "            '<a target=\"_blank\" href=https://colab.research.google.com/notebooks/data_table.ipynb>data table notebook</a>'\n",
              "            + ' to learn more about interactive tables.';\n",
              "          element.innerHTML = '';\n",
              "          dataTable['output_type'] = 'display_data';\n",
              "          await google.colab.output.renderOutput(dataTable, element);\n",
              "          const docLink = document.createElement('div');\n",
              "          docLink.innerHTML = docLinkHtml;\n",
              "          element.appendChild(docLink);\n",
              "        }\n",
              "      </script>\n",
              "    </div>\n",
              "  </div>\n",
              "  "
            ]
          },
          "metadata": {},
          "execution_count": 158
        }
      ]
    },
    {
      "cell_type": "markdown",
      "source": [
        "**The output is not accurate at all**"
      ],
      "metadata": {
        "id": "lf9WpDTlaoaC"
      },
      "id": "lf9WpDTlaoaC"
    },
    {
      "cell_type": "markdown",
      "source": [
        "**Trying another way: standarizing then caculate**"
      ],
      "metadata": {
        "id": "NY0rn1WMkMqU"
      },
      "id": "NY0rn1WMkMqU"
    },
    {
      "cell_type": "code",
      "source": [
        "def createList(r1, r2):\n",
        "    return list(range(r1, r2+1))\n",
        "c = createList(0,299)\n",
        "mm = pd.DataFrame(columns=c)\n",
        "for i in range(0,4999):\n",
        "  mm.loc[i] = model_dbow[i].tolist()"
      ],
      "metadata": {
        "id": "aRPd-AdBbPH4"
      },
      "id": "aRPd-AdBbPH4",
      "execution_count": 22,
      "outputs": []
    },
    {
      "cell_type": "code",
      "source": [
        "from sklearn import preprocessing\n",
        "\n",
        "x = mm.values #returns a numpy array\n",
        "min_max_scaler = preprocessing.MinMaxScaler()\n",
        "x_scaled = min_max_scaler.fit_transform(x)\n",
        "mm = pd.DataFrame(x_scaled)\n",
        "mm"
      ],
      "metadata": {
        "colab": {
          "base_uri": "https://localhost:8080/",
          "height": 487
        },
        "id": "Drfb4N0RiQd8",
        "outputId": "1a4c9c2e-2479-413a-b75a-91b1cc4027af"
      },
      "id": "Drfb4N0RiQd8",
      "execution_count": 23,
      "outputs": [
        {
          "output_type": "execute_result",
          "data": {
            "text/plain": [
              "           0         1         2         3         4         5         6    \\\n",
              "0     0.508612  0.964107  0.638645  0.026815  0.624282  0.345615  0.285117   \n",
              "1     0.711421  0.336790  0.283256  0.771449  0.507758  0.202097  0.465165   \n",
              "2     0.513074  0.278179  0.304813  0.212048  0.684653  0.187344  0.563404   \n",
              "3     0.446764  0.102886  0.666461  0.704084  0.765778  0.132636  0.462267   \n",
              "4     0.740896  0.959582  0.472803  0.186988  0.742268  0.775450  0.681131   \n",
              "...        ...       ...       ...       ...       ...       ...       ...   \n",
              "4994  0.870754  0.411618  0.555632  0.476884  0.322599  0.464344  0.968008   \n",
              "4995  0.591134  0.202516  0.769066  0.510855  0.779444  0.462990  0.599454   \n",
              "4996  0.966930  0.292527  0.102456  0.490702  0.978732  0.963869  0.718021   \n",
              "4997  0.839329  0.463682  0.028285  0.333504  0.273696  0.731684  0.536063   \n",
              "4998  0.225425  0.007090  0.953197  0.379591  0.623637  0.292154  0.864981   \n",
              "\n",
              "           7         8         9    ...       290       291       292  \\\n",
              "0     0.999550  0.981765  0.536599  ...  0.649008  0.917993  0.182940   \n",
              "1     0.508604  0.957068  0.523439  ...  0.665072  0.636686  0.083501   \n",
              "2     0.473283  0.387880  0.535732  ...  0.029148  0.513943  0.907560   \n",
              "3     0.507959  0.402113  0.737015  ...  0.928336  0.008907  0.433316   \n",
              "4     0.472042  0.951987  0.164209  ...  0.796762  0.706258  0.817648   \n",
              "...        ...       ...       ...  ...       ...       ...       ...   \n",
              "4994  0.318480  0.893610  0.138792  ...  0.610761  0.336523  0.334387   \n",
              "4995  0.863516  0.304035  0.960347  ...  0.784829  0.442641  0.694629   \n",
              "4996  0.843723  0.561942  0.221322  ...  0.199357  0.607320  0.687854   \n",
              "4997  0.909465  0.486190  0.372635  ...  0.658395  0.306540  0.222058   \n",
              "4998  0.317871  0.625416  0.582098  ...  0.394186  0.294853  0.095657   \n",
              "\n",
              "           293       294       295       296       297       298       299  \n",
              "0     0.551782  0.894133  0.865705  0.277633  0.667251  0.068458  0.336974  \n",
              "1     0.324594  0.830109  0.732856  0.304453  0.243282  0.011630  0.398286  \n",
              "2     0.404783  0.606445  0.550476  0.477372  0.990268  0.853066  0.140480  \n",
              "3     0.226695  0.567335  0.130116  0.660099  0.916217  0.483457  0.201528  \n",
              "4     0.849539  0.735561  0.981049  0.674799  0.270117  0.949750  0.763898  \n",
              "...        ...       ...       ...       ...       ...       ...       ...  \n",
              "4994  0.360918  0.289004  0.627575  0.245436  0.386162  0.052354  0.386085  \n",
              "4995  0.501371  0.937243  0.251499  0.428492  0.296350  0.028935  0.210861  \n",
              "4996  0.002967  0.870648  0.924934  0.725182  0.682590  0.401222  0.026187  \n",
              "4997  0.702609  0.405104  0.079886  0.645122  0.520013  0.423455  0.898515  \n",
              "4998  0.628576  0.097412  0.536789  0.395084  0.421323  0.013021  0.217750  \n",
              "\n",
              "[4999 rows x 300 columns]"
            ],
            "text/html": [
              "\n",
              "  <div id=\"df-4c18b6c2-307d-4e22-b986-da006e00f577\">\n",
              "    <div class=\"colab-df-container\">\n",
              "      <div>\n",
              "<style scoped>\n",
              "    .dataframe tbody tr th:only-of-type {\n",
              "        vertical-align: middle;\n",
              "    }\n",
              "\n",
              "    .dataframe tbody tr th {\n",
              "        vertical-align: top;\n",
              "    }\n",
              "\n",
              "    .dataframe thead th {\n",
              "        text-align: right;\n",
              "    }\n",
              "</style>\n",
              "<table border=\"1\" class=\"dataframe\">\n",
              "  <thead>\n",
              "    <tr style=\"text-align: right;\">\n",
              "      <th></th>\n",
              "      <th>0</th>\n",
              "      <th>1</th>\n",
              "      <th>2</th>\n",
              "      <th>3</th>\n",
              "      <th>4</th>\n",
              "      <th>5</th>\n",
              "      <th>6</th>\n",
              "      <th>7</th>\n",
              "      <th>8</th>\n",
              "      <th>9</th>\n",
              "      <th>...</th>\n",
              "      <th>290</th>\n",
              "      <th>291</th>\n",
              "      <th>292</th>\n",
              "      <th>293</th>\n",
              "      <th>294</th>\n",
              "      <th>295</th>\n",
              "      <th>296</th>\n",
              "      <th>297</th>\n",
              "      <th>298</th>\n",
              "      <th>299</th>\n",
              "    </tr>\n",
              "  </thead>\n",
              "  <tbody>\n",
              "    <tr>\n",
              "      <th>0</th>\n",
              "      <td>0.508612</td>\n",
              "      <td>0.964107</td>\n",
              "      <td>0.638645</td>\n",
              "      <td>0.026815</td>\n",
              "      <td>0.624282</td>\n",
              "      <td>0.345615</td>\n",
              "      <td>0.285117</td>\n",
              "      <td>0.999550</td>\n",
              "      <td>0.981765</td>\n",
              "      <td>0.536599</td>\n",
              "      <td>...</td>\n",
              "      <td>0.649008</td>\n",
              "      <td>0.917993</td>\n",
              "      <td>0.182940</td>\n",
              "      <td>0.551782</td>\n",
              "      <td>0.894133</td>\n",
              "      <td>0.865705</td>\n",
              "      <td>0.277633</td>\n",
              "      <td>0.667251</td>\n",
              "      <td>0.068458</td>\n",
              "      <td>0.336974</td>\n",
              "    </tr>\n",
              "    <tr>\n",
              "      <th>1</th>\n",
              "      <td>0.711421</td>\n",
              "      <td>0.336790</td>\n",
              "      <td>0.283256</td>\n",
              "      <td>0.771449</td>\n",
              "      <td>0.507758</td>\n",
              "      <td>0.202097</td>\n",
              "      <td>0.465165</td>\n",
              "      <td>0.508604</td>\n",
              "      <td>0.957068</td>\n",
              "      <td>0.523439</td>\n",
              "      <td>...</td>\n",
              "      <td>0.665072</td>\n",
              "      <td>0.636686</td>\n",
              "      <td>0.083501</td>\n",
              "      <td>0.324594</td>\n",
              "      <td>0.830109</td>\n",
              "      <td>0.732856</td>\n",
              "      <td>0.304453</td>\n",
              "      <td>0.243282</td>\n",
              "      <td>0.011630</td>\n",
              "      <td>0.398286</td>\n",
              "    </tr>\n",
              "    <tr>\n",
              "      <th>2</th>\n",
              "      <td>0.513074</td>\n",
              "      <td>0.278179</td>\n",
              "      <td>0.304813</td>\n",
              "      <td>0.212048</td>\n",
              "      <td>0.684653</td>\n",
              "      <td>0.187344</td>\n",
              "      <td>0.563404</td>\n",
              "      <td>0.473283</td>\n",
              "      <td>0.387880</td>\n",
              "      <td>0.535732</td>\n",
              "      <td>...</td>\n",
              "      <td>0.029148</td>\n",
              "      <td>0.513943</td>\n",
              "      <td>0.907560</td>\n",
              "      <td>0.404783</td>\n",
              "      <td>0.606445</td>\n",
              "      <td>0.550476</td>\n",
              "      <td>0.477372</td>\n",
              "      <td>0.990268</td>\n",
              "      <td>0.853066</td>\n",
              "      <td>0.140480</td>\n",
              "    </tr>\n",
              "    <tr>\n",
              "      <th>3</th>\n",
              "      <td>0.446764</td>\n",
              "      <td>0.102886</td>\n",
              "      <td>0.666461</td>\n",
              "      <td>0.704084</td>\n",
              "      <td>0.765778</td>\n",
              "      <td>0.132636</td>\n",
              "      <td>0.462267</td>\n",
              "      <td>0.507959</td>\n",
              "      <td>0.402113</td>\n",
              "      <td>0.737015</td>\n",
              "      <td>...</td>\n",
              "      <td>0.928336</td>\n",
              "      <td>0.008907</td>\n",
              "      <td>0.433316</td>\n",
              "      <td>0.226695</td>\n",
              "      <td>0.567335</td>\n",
              "      <td>0.130116</td>\n",
              "      <td>0.660099</td>\n",
              "      <td>0.916217</td>\n",
              "      <td>0.483457</td>\n",
              "      <td>0.201528</td>\n",
              "    </tr>\n",
              "    <tr>\n",
              "      <th>4</th>\n",
              "      <td>0.740896</td>\n",
              "      <td>0.959582</td>\n",
              "      <td>0.472803</td>\n",
              "      <td>0.186988</td>\n",
              "      <td>0.742268</td>\n",
              "      <td>0.775450</td>\n",
              "      <td>0.681131</td>\n",
              "      <td>0.472042</td>\n",
              "      <td>0.951987</td>\n",
              "      <td>0.164209</td>\n",
              "      <td>...</td>\n",
              "      <td>0.796762</td>\n",
              "      <td>0.706258</td>\n",
              "      <td>0.817648</td>\n",
              "      <td>0.849539</td>\n",
              "      <td>0.735561</td>\n",
              "      <td>0.981049</td>\n",
              "      <td>0.674799</td>\n",
              "      <td>0.270117</td>\n",
              "      <td>0.949750</td>\n",
              "      <td>0.763898</td>\n",
              "    </tr>\n",
              "    <tr>\n",
              "      <th>...</th>\n",
              "      <td>...</td>\n",
              "      <td>...</td>\n",
              "      <td>...</td>\n",
              "      <td>...</td>\n",
              "      <td>...</td>\n",
              "      <td>...</td>\n",
              "      <td>...</td>\n",
              "      <td>...</td>\n",
              "      <td>...</td>\n",
              "      <td>...</td>\n",
              "      <td>...</td>\n",
              "      <td>...</td>\n",
              "      <td>...</td>\n",
              "      <td>...</td>\n",
              "      <td>...</td>\n",
              "      <td>...</td>\n",
              "      <td>...</td>\n",
              "      <td>...</td>\n",
              "      <td>...</td>\n",
              "      <td>...</td>\n",
              "      <td>...</td>\n",
              "    </tr>\n",
              "    <tr>\n",
              "      <th>4994</th>\n",
              "      <td>0.870754</td>\n",
              "      <td>0.411618</td>\n",
              "      <td>0.555632</td>\n",
              "      <td>0.476884</td>\n",
              "      <td>0.322599</td>\n",
              "      <td>0.464344</td>\n",
              "      <td>0.968008</td>\n",
              "      <td>0.318480</td>\n",
              "      <td>0.893610</td>\n",
              "      <td>0.138792</td>\n",
              "      <td>...</td>\n",
              "      <td>0.610761</td>\n",
              "      <td>0.336523</td>\n",
              "      <td>0.334387</td>\n",
              "      <td>0.360918</td>\n",
              "      <td>0.289004</td>\n",
              "      <td>0.627575</td>\n",
              "      <td>0.245436</td>\n",
              "      <td>0.386162</td>\n",
              "      <td>0.052354</td>\n",
              "      <td>0.386085</td>\n",
              "    </tr>\n",
              "    <tr>\n",
              "      <th>4995</th>\n",
              "      <td>0.591134</td>\n",
              "      <td>0.202516</td>\n",
              "      <td>0.769066</td>\n",
              "      <td>0.510855</td>\n",
              "      <td>0.779444</td>\n",
              "      <td>0.462990</td>\n",
              "      <td>0.599454</td>\n",
              "      <td>0.863516</td>\n",
              "      <td>0.304035</td>\n",
              "      <td>0.960347</td>\n",
              "      <td>...</td>\n",
              "      <td>0.784829</td>\n",
              "      <td>0.442641</td>\n",
              "      <td>0.694629</td>\n",
              "      <td>0.501371</td>\n",
              "      <td>0.937243</td>\n",
              "      <td>0.251499</td>\n",
              "      <td>0.428492</td>\n",
              "      <td>0.296350</td>\n",
              "      <td>0.028935</td>\n",
              "      <td>0.210861</td>\n",
              "    </tr>\n",
              "    <tr>\n",
              "      <th>4996</th>\n",
              "      <td>0.966930</td>\n",
              "      <td>0.292527</td>\n",
              "      <td>0.102456</td>\n",
              "      <td>0.490702</td>\n",
              "      <td>0.978732</td>\n",
              "      <td>0.963869</td>\n",
              "      <td>0.718021</td>\n",
              "      <td>0.843723</td>\n",
              "      <td>0.561942</td>\n",
              "      <td>0.221322</td>\n",
              "      <td>...</td>\n",
              "      <td>0.199357</td>\n",
              "      <td>0.607320</td>\n",
              "      <td>0.687854</td>\n",
              "      <td>0.002967</td>\n",
              "      <td>0.870648</td>\n",
              "      <td>0.924934</td>\n",
              "      <td>0.725182</td>\n",
              "      <td>0.682590</td>\n",
              "      <td>0.401222</td>\n",
              "      <td>0.026187</td>\n",
              "    </tr>\n",
              "    <tr>\n",
              "      <th>4997</th>\n",
              "      <td>0.839329</td>\n",
              "      <td>0.463682</td>\n",
              "      <td>0.028285</td>\n",
              "      <td>0.333504</td>\n",
              "      <td>0.273696</td>\n",
              "      <td>0.731684</td>\n",
              "      <td>0.536063</td>\n",
              "      <td>0.909465</td>\n",
              "      <td>0.486190</td>\n",
              "      <td>0.372635</td>\n",
              "      <td>...</td>\n",
              "      <td>0.658395</td>\n",
              "      <td>0.306540</td>\n",
              "      <td>0.222058</td>\n",
              "      <td>0.702609</td>\n",
              "      <td>0.405104</td>\n",
              "      <td>0.079886</td>\n",
              "      <td>0.645122</td>\n",
              "      <td>0.520013</td>\n",
              "      <td>0.423455</td>\n",
              "      <td>0.898515</td>\n",
              "    </tr>\n",
              "    <tr>\n",
              "      <th>4998</th>\n",
              "      <td>0.225425</td>\n",
              "      <td>0.007090</td>\n",
              "      <td>0.953197</td>\n",
              "      <td>0.379591</td>\n",
              "      <td>0.623637</td>\n",
              "      <td>0.292154</td>\n",
              "      <td>0.864981</td>\n",
              "      <td>0.317871</td>\n",
              "      <td>0.625416</td>\n",
              "      <td>0.582098</td>\n",
              "      <td>...</td>\n",
              "      <td>0.394186</td>\n",
              "      <td>0.294853</td>\n",
              "      <td>0.095657</td>\n",
              "      <td>0.628576</td>\n",
              "      <td>0.097412</td>\n",
              "      <td>0.536789</td>\n",
              "      <td>0.395084</td>\n",
              "      <td>0.421323</td>\n",
              "      <td>0.013021</td>\n",
              "      <td>0.217750</td>\n",
              "    </tr>\n",
              "  </tbody>\n",
              "</table>\n",
              "<p>4999 rows × 300 columns</p>\n",
              "</div>\n",
              "      <button class=\"colab-df-convert\" onclick=\"convertToInteractive('df-4c18b6c2-307d-4e22-b986-da006e00f577')\"\n",
              "              title=\"Convert this dataframe to an interactive table.\"\n",
              "              style=\"display:none;\">\n",
              "        \n",
              "  <svg xmlns=\"http://www.w3.org/2000/svg\" height=\"24px\"viewBox=\"0 0 24 24\"\n",
              "       width=\"24px\">\n",
              "    <path d=\"M0 0h24v24H0V0z\" fill=\"none\"/>\n",
              "    <path d=\"M18.56 5.44l.94 2.06.94-2.06 2.06-.94-2.06-.94-.94-2.06-.94 2.06-2.06.94zm-11 1L8.5 8.5l.94-2.06 2.06-.94-2.06-.94L8.5 2.5l-.94 2.06-2.06.94zm10 10l.94 2.06.94-2.06 2.06-.94-2.06-.94-.94-2.06-.94 2.06-2.06.94z\"/><path d=\"M17.41 7.96l-1.37-1.37c-.4-.4-.92-.59-1.43-.59-.52 0-1.04.2-1.43.59L10.3 9.45l-7.72 7.72c-.78.78-.78 2.05 0 2.83L4 21.41c.39.39.9.59 1.41.59.51 0 1.02-.2 1.41-.59l7.78-7.78 2.81-2.81c.8-.78.8-2.07 0-2.86zM5.41 20L4 18.59l7.72-7.72 1.47 1.35L5.41 20z\"/>\n",
              "  </svg>\n",
              "      </button>\n",
              "      \n",
              "  <style>\n",
              "    .colab-df-container {\n",
              "      display:flex;\n",
              "      flex-wrap:wrap;\n",
              "      gap: 12px;\n",
              "    }\n",
              "\n",
              "    .colab-df-convert {\n",
              "      background-color: #E8F0FE;\n",
              "      border: none;\n",
              "      border-radius: 50%;\n",
              "      cursor: pointer;\n",
              "      display: none;\n",
              "      fill: #1967D2;\n",
              "      height: 32px;\n",
              "      padding: 0 0 0 0;\n",
              "      width: 32px;\n",
              "    }\n",
              "\n",
              "    .colab-df-convert:hover {\n",
              "      background-color: #E2EBFA;\n",
              "      box-shadow: 0px 1px 2px rgba(60, 64, 67, 0.3), 0px 1px 3px 1px rgba(60, 64, 67, 0.15);\n",
              "      fill: #174EA6;\n",
              "    }\n",
              "\n",
              "    [theme=dark] .colab-df-convert {\n",
              "      background-color: #3B4455;\n",
              "      fill: #D2E3FC;\n",
              "    }\n",
              "\n",
              "    [theme=dark] .colab-df-convert:hover {\n",
              "      background-color: #434B5C;\n",
              "      box-shadow: 0px 1px 3px 1px rgba(0, 0, 0, 0.15);\n",
              "      filter: drop-shadow(0px 1px 2px rgba(0, 0, 0, 0.3));\n",
              "      fill: #FFFFFF;\n",
              "    }\n",
              "  </style>\n",
              "\n",
              "      <script>\n",
              "        const buttonEl =\n",
              "          document.querySelector('#df-4c18b6c2-307d-4e22-b986-da006e00f577 button.colab-df-convert');\n",
              "        buttonEl.style.display =\n",
              "          google.colab.kernel.accessAllowed ? 'block' : 'none';\n",
              "\n",
              "        async function convertToInteractive(key) {\n",
              "          const element = document.querySelector('#df-4c18b6c2-307d-4e22-b986-da006e00f577');\n",
              "          const dataTable =\n",
              "            await google.colab.kernel.invokeFunction('convertToInteractive',\n",
              "                                                     [key], {});\n",
              "          if (!dataTable) return;\n",
              "\n",
              "          const docLinkHtml = 'Like what you see? Visit the ' +\n",
              "            '<a target=\"_blank\" href=https://colab.research.google.com/notebooks/data_table.ipynb>data table notebook</a>'\n",
              "            + ' to learn more about interactive tables.';\n",
              "          element.innerHTML = '';\n",
              "          dataTable['output_type'] = 'display_data';\n",
              "          await google.colab.output.renderOutput(dataTable, element);\n",
              "          const docLink = document.createElement('div');\n",
              "          docLink.innerHTML = docLinkHtml;\n",
              "          element.appendChild(docLink);\n",
              "        }\n",
              "      </script>\n",
              "    </div>\n",
              "  </div>\n",
              "  "
            ]
          },
          "metadata": {},
          "execution_count": 23
        }
      ]
    },
    {
      "cell_type": "code",
      "source": [
        "from scipy.spatial.distance import jensenshannon\n",
        "from scipy.spatial.distance import euclidean\n",
        "from scipy.spatial.distance import correlation\n",
        "from scipy.spatial.distance import cosine\n",
        "\n",
        "y = mm[dff.ArticleID == 34166137].iloc[0]\n",
        "d = mm.apply(lambda x: euclidean(x, y), axis=1)\n",
        "k_nearest = d[d != 0].nlargest(n=5).index\n",
        "k_distances = d[d != 0].nlargest(n=5)\n",
        "k_nearest = dff.iloc[k_nearest].copy()\n",
        "k_nearest['similarity'] = k_distances/10\n",
        "print(dff[\"Title\"][107])\n",
        "\n",
        "for i in range(0,3):\n",
        "  k_nearest.reset_index(drop=True, inplace=True)\n",
        "  print(k_nearest['Title'][i] +\"  \" + \"{:.2f}\".format(k_nearest['similarity'][i]))"
      ],
      "metadata": {
        "colab": {
          "base_uri": "https://localhost:8080/"
        },
        "id": "tBqYCU0ihj-w",
        "outputId": "81ac67fb-6ef3-4943-dc33-a9f30602fbb9"
      },
      "id": "tBqYCU0ihj-w",
      "execution_count": 50,
      "outputs": [
        {
          "output_type": "stream",
          "name": "stdout",
          "text": [
            "mental stress, anxiety and depressive symptoms and interleuken-6 level among healthcare workers during the covid-19 pandemic.\n",
            "real-time fluorescent measurement of synaptic functions in models of amyotrophic lateral sclerosis.  0.80\n",
            "knee osteonecrosis after covid-19.  0.78\n",
            "review of the emerging evidence demonstrating the efficacy of ivermectin in the prophylaxis and treatment of covid-19.  0.77\n"
          ]
        }
      ]
    },
    {
      "cell_type": "markdown",
      "source": [
        "For the previous example, it only shows the topic with COVID-19 but the main aim was depression.<br>\n",
        "**So, not that effecient, the similarities are very low**"
      ],
      "metadata": {
        "id": "s5LA0nX4nE6E"
      },
      "id": "s5LA0nX4nE6E"
    },
    {
      "cell_type": "markdown",
      "source": [
        "## c- LDA"
      ],
      "metadata": {
        "id": "lNLM4WE1nXmF"
      },
      "id": "lNLM4WE1nXmF"
    },
    {
      "cell_type": "markdown",
      "source": [
        "**Importing all the libraries that will be used in this section**"
      ],
      "metadata": {
        "id": "Bssv8JFrDU9r"
      },
      "id": "Bssv8JFrDU9r"
    },
    {
      "cell_type": "code",
      "source": [
        "from sklearn.feature_extraction import text\n",
        "from sklearn.feature_extraction.text import CountVectorizer, TfidfVectorizer\n",
        "from sklearn.decomposition import LatentDirichletAllocation\n",
        "\n",
        "!pip install scispacy\n",
        "import scispacy\n",
        "\n",
        "!pip install spacy\n",
        "import spacy\n",
        "\n",
        "!pip install https://s3-us-west-2.amazonaws.com/ai2-s2-scispacy/releases/v0.5.0/en_core_sci_lg-0.5.0.tar.gz\n",
        "import en_core_sci_lg\n",
        "\n",
        "#!pip install https://github.com/explosion/spacy-models/releases/download/en_core_web_md-3.2.0/en_core_web_md-3.2.0.tar.gz\n",
        "#import en_core_web_md\n",
        "\n",
        "import joblib\n",
        "\n",
        "from IPython.display import HTML, display\n",
        "\n",
        "from ipywidgets import interact, Layout, HBox, VBox, Box\n",
        "import ipywidgets as widgets\n",
        "from IPython.display import clear_output\n",
        "\n",
        "from os.path import isfile"
      ],
      "metadata": {
        "colab": {
          "base_uri": "https://localhost:8080/",
          "height": 1000
        },
        "id": "RQl2Q22kfBme",
        "outputId": "d97ea1bf-e102-4e1d-f9df-fbfc9f797d9e"
      },
      "id": "RQl2Q22kfBme",
      "execution_count": 51,
      "outputs": [
        {
          "output_type": "stream",
          "name": "stdout",
          "text": [
            "Collecting scispacy\n",
            "  Downloading scispacy-0.5.0-py3-none-any.whl (44 kB)\n",
            "\u001b[?25l\r\u001b[K     |███████▎                        | 10 kB 15.0 MB/s eta 0:00:01\r\u001b[K     |██████████████▋                 | 20 kB 13.8 MB/s eta 0:00:01\r\u001b[K     |██████████████████████          | 30 kB 10.4 MB/s eta 0:00:01\r\u001b[K     |█████████████████████████████▎  | 40 kB 8.7 MB/s eta 0:00:01\r\u001b[K     |████████████████████████████████| 44 kB 1.3 MB/s \n",
            "\u001b[?25hRequirement already satisfied: requests<3.0.0,>=2.0.0 in /usr/local/lib/python3.7/dist-packages (from scispacy) (2.23.0)\n",
            "Requirement already satisfied: joblib in /usr/local/lib/python3.7/dist-packages (from scispacy) (1.1.0)\n",
            "Collecting conllu\n",
            "  Downloading conllu-4.4.1-py2.py3-none-any.whl (15 kB)\n",
            "Requirement already satisfied: numpy in /usr/local/lib/python3.7/dist-packages (from scispacy) (1.21.5)\n",
            "Requirement already satisfied: scikit-learn>=0.20.3 in /usr/local/lib/python3.7/dist-packages (from scispacy) (1.0.2)\n",
            "Collecting pysbd\n",
            "  Downloading pysbd-0.3.4-py3-none-any.whl (71 kB)\n",
            "\u001b[K     |████████████████████████████████| 71 kB 6.9 MB/s \n",
            "\u001b[?25hCollecting nmslib>=1.7.3.6\n",
            "  Downloading nmslib-2.1.1-cp37-cp37m-manylinux2010_x86_64.whl (13.5 MB)\n",
            "\u001b[K     |████████████████████████████████| 13.5 MB 40.7 MB/s \n",
            "\u001b[?25hCollecting spacy<3.3.0,>=3.2.0\n",
            "  Downloading spacy-3.2.4-cp37-cp37m-manylinux_2_17_x86_64.manylinux2014_x86_64.whl (6.0 MB)\n",
            "\u001b[K     |████████████████████████████████| 6.0 MB 40.4 MB/s \n",
            "\u001b[?25hRequirement already satisfied: psutil in /usr/local/lib/python3.7/dist-packages (from nmslib>=1.7.3.6->scispacy) (5.4.8)\n",
            "Collecting pybind11<2.6.2\n",
            "  Downloading pybind11-2.6.1-py2.py3-none-any.whl (188 kB)\n",
            "\u001b[K     |████████████████████████████████| 188 kB 53.5 MB/s \n",
            "\u001b[?25hRequirement already satisfied: chardet<4,>=3.0.2 in /usr/local/lib/python3.7/dist-packages (from requests<3.0.0,>=2.0.0->scispacy) (3.0.4)\n",
            "Requirement already satisfied: urllib3!=1.25.0,!=1.25.1,<1.26,>=1.21.1 in /usr/local/lib/python3.7/dist-packages (from requests<3.0.0,>=2.0.0->scispacy) (1.24.3)\n",
            "Requirement already satisfied: certifi>=2017.4.17 in /usr/local/lib/python3.7/dist-packages (from requests<3.0.0,>=2.0.0->scispacy) (2021.10.8)\n",
            "Requirement already satisfied: idna<3,>=2.5 in /usr/local/lib/python3.7/dist-packages (from requests<3.0.0,>=2.0.0->scispacy) (2.10)\n",
            "Requirement already satisfied: scipy>=1.1.0 in /usr/local/lib/python3.7/dist-packages (from scikit-learn>=0.20.3->scispacy) (1.4.1)\n",
            "Requirement already satisfied: threadpoolctl>=2.0.0 in /usr/local/lib/python3.7/dist-packages (from scikit-learn>=0.20.3->scispacy) (3.1.0)\n",
            "Requirement already satisfied: cymem<2.1.0,>=2.0.2 in /usr/local/lib/python3.7/dist-packages (from spacy<3.3.0,>=3.2.0->scispacy) (2.0.6)\n",
            "Collecting catalogue<2.1.0,>=2.0.6\n",
            "  Downloading catalogue-2.0.7-py3-none-any.whl (17 kB)\n",
            "Collecting spacy-loggers<2.0.0,>=1.0.0\n",
            "  Downloading spacy_loggers-1.0.2-py3-none-any.whl (7.2 kB)\n",
            "Collecting spacy-legacy<3.1.0,>=3.0.8\n",
            "  Downloading spacy_legacy-3.0.9-py2.py3-none-any.whl (20 kB)\n",
            "Requirement already satisfied: setuptools in /usr/local/lib/python3.7/dist-packages (from spacy<3.3.0,>=3.2.0->scispacy) (57.4.0)\n",
            "Requirement already satisfied: preshed<3.1.0,>=3.0.2 in /usr/local/lib/python3.7/dist-packages (from spacy<3.3.0,>=3.2.0->scispacy) (3.0.6)\n",
            "Requirement already satisfied: murmurhash<1.1.0,>=0.28.0 in /usr/local/lib/python3.7/dist-packages (from spacy<3.3.0,>=3.2.0->scispacy) (1.0.6)\n",
            "Requirement already satisfied: blis<0.8.0,>=0.4.0 in /usr/local/lib/python3.7/dist-packages (from spacy<3.3.0,>=3.2.0->scispacy) (0.4.1)\n",
            "Collecting pydantic!=1.8,!=1.8.1,<1.9.0,>=1.7.4\n",
            "  Downloading pydantic-1.8.2-cp37-cp37m-manylinux2014_x86_64.whl (10.1 MB)\n",
            "\u001b[K     |████████████████████████████████| 10.1 MB 45.3 MB/s \n",
            "\u001b[?25hCollecting typer<0.5.0,>=0.3.0\n",
            "  Downloading typer-0.4.1-py3-none-any.whl (27 kB)\n",
            "Requirement already satisfied: jinja2 in /usr/local/lib/python3.7/dist-packages (from spacy<3.3.0,>=3.2.0->scispacy) (2.11.3)\n",
            "Requirement already satisfied: packaging>=20.0 in /usr/local/lib/python3.7/dist-packages (from spacy<3.3.0,>=3.2.0->scispacy) (21.3)\n",
            "Requirement already satisfied: click<8.1.0 in /usr/local/lib/python3.7/dist-packages (from spacy<3.3.0,>=3.2.0->scispacy) (7.1.2)\n",
            "Collecting thinc<8.1.0,>=8.0.12\n",
            "  Downloading thinc-8.0.15-cp37-cp37m-manylinux_2_17_x86_64.manylinux2014_x86_64.whl (653 kB)\n",
            "\u001b[K     |████████████████████████████████| 653 kB 43.9 MB/s \n",
            "\u001b[?25hCollecting pathy>=0.3.5\n",
            "  Downloading pathy-0.6.1-py3-none-any.whl (42 kB)\n",
            "\u001b[K     |████████████████████████████████| 42 kB 977 kB/s \n",
            "\u001b[?25hCollecting typing-extensions<4.0.0.0,>=3.7.4\n",
            "  Downloading typing_extensions-3.10.0.2-py3-none-any.whl (26 kB)\n",
            "Requirement already satisfied: tqdm<5.0.0,>=4.38.0 in /usr/local/lib/python3.7/dist-packages (from spacy<3.3.0,>=3.2.0->scispacy) (4.64.0)\n",
            "Collecting srsly<3.0.0,>=2.4.1\n",
            "  Downloading srsly-2.4.3-cp37-cp37m-manylinux_2_17_x86_64.manylinux2014_x86_64.whl (457 kB)\n",
            "\u001b[K     |████████████████████████████████| 457 kB 49.1 MB/s \n",
            "\u001b[?25hCollecting langcodes<4.0.0,>=3.2.0\n",
            "  Downloading langcodes-3.3.0-py3-none-any.whl (181 kB)\n",
            "\u001b[K     |████████████████████████████████| 181 kB 44.0 MB/s \n",
            "\u001b[?25hRequirement already satisfied: wasabi<1.1.0,>=0.8.1 in /usr/local/lib/python3.7/dist-packages (from spacy<3.3.0,>=3.2.0->scispacy) (0.9.1)\n",
            "Requirement already satisfied: zipp>=0.5 in /usr/local/lib/python3.7/dist-packages (from catalogue<2.1.0,>=2.0.6->spacy<3.3.0,>=3.2.0->scispacy) (3.8.0)\n",
            "Requirement already satisfied: pyparsing!=3.0.5,>=2.0.2 in /usr/local/lib/python3.7/dist-packages (from packaging>=20.0->spacy<3.3.0,>=3.2.0->scispacy) (3.0.8)\n",
            "Requirement already satisfied: smart-open<6.0.0,>=5.0.0 in /usr/local/lib/python3.7/dist-packages (from pathy>=0.3.5->spacy<3.3.0,>=3.2.0->scispacy) (5.2.1)\n",
            "Requirement already satisfied: MarkupSafe>=0.23 in /usr/local/lib/python3.7/dist-packages (from jinja2->spacy<3.3.0,>=3.2.0->scispacy) (2.0.1)\n",
            "Installing collected packages: typing-extensions, catalogue, typer, srsly, pydantic, thinc, spacy-loggers, spacy-legacy, pybind11, pathy, langcodes, spacy, pysbd, nmslib, conllu, scispacy\n",
            "  Attempting uninstall: typing-extensions\n",
            "    Found existing installation: typing-extensions 4.1.1\n",
            "    Uninstalling typing-extensions-4.1.1:\n",
            "      Successfully uninstalled typing-extensions-4.1.1\n",
            "  Attempting uninstall: catalogue\n",
            "    Found existing installation: catalogue 1.0.0\n",
            "    Uninstalling catalogue-1.0.0:\n",
            "      Successfully uninstalled catalogue-1.0.0\n",
            "  Attempting uninstall: srsly\n",
            "    Found existing installation: srsly 1.0.5\n",
            "    Uninstalling srsly-1.0.5:\n",
            "      Successfully uninstalled srsly-1.0.5\n",
            "  Attempting uninstall: thinc\n",
            "    Found existing installation: thinc 7.4.0\n",
            "    Uninstalling thinc-7.4.0:\n",
            "      Successfully uninstalled thinc-7.4.0\n",
            "  Attempting uninstall: spacy\n",
            "    Found existing installation: spacy 2.2.4\n",
            "    Uninstalling spacy-2.2.4:\n",
            "      Successfully uninstalled spacy-2.2.4\n",
            "\u001b[31mERROR: pip's dependency resolver does not currently take into account all the packages that are installed. This behaviour is the source of the following dependency conflicts.\n",
            "tensorflow 2.8.0 requires tf-estimator-nightly==2.8.0.dev2021122109, which is not installed.\u001b[0m\n",
            "Successfully installed catalogue-2.0.7 conllu-4.4.1 langcodes-3.3.0 nmslib-2.1.1 pathy-0.6.1 pybind11-2.6.1 pydantic-1.8.2 pysbd-0.3.4 scispacy-0.5.0 spacy-3.2.4 spacy-legacy-3.0.9 spacy-loggers-1.0.2 srsly-2.4.3 thinc-8.0.15 typer-0.4.1 typing-extensions-3.10.0.2\n"
          ]
        },
        {
          "output_type": "display_data",
          "data": {
            "application/vnd.colab-display-data+json": {
              "pip_warning": {
                "packages": [
                  "typing_extensions"
                ]
              }
            }
          },
          "metadata": {}
        },
        {
          "output_type": "stream",
          "name": "stdout",
          "text": [
            "Requirement already satisfied: spacy in /usr/local/lib/python3.7/dist-packages (3.2.4)\n",
            "Requirement already satisfied: preshed<3.1.0,>=3.0.2 in /usr/local/lib/python3.7/dist-packages (from spacy) (3.0.6)\n",
            "Requirement already satisfied: jinja2 in /usr/local/lib/python3.7/dist-packages (from spacy) (2.11.3)\n",
            "Requirement already satisfied: spacy-loggers<2.0.0,>=1.0.0 in /usr/local/lib/python3.7/dist-packages (from spacy) (1.0.2)\n",
            "Requirement already satisfied: tqdm<5.0.0,>=4.38.0 in /usr/local/lib/python3.7/dist-packages (from spacy) (4.64.0)\n",
            "Requirement already satisfied: pathy>=0.3.5 in /usr/local/lib/python3.7/dist-packages (from spacy) (0.6.1)\n",
            "Requirement already satisfied: pydantic!=1.8,!=1.8.1,<1.9.0,>=1.7.4 in /usr/local/lib/python3.7/dist-packages (from spacy) (1.8.2)\n",
            "Requirement already satisfied: packaging>=20.0 in /usr/local/lib/python3.7/dist-packages (from spacy) (21.3)\n",
            "Requirement already satisfied: catalogue<2.1.0,>=2.0.6 in /usr/local/lib/python3.7/dist-packages (from spacy) (2.0.7)\n",
            "Requirement already satisfied: langcodes<4.0.0,>=3.2.0 in /usr/local/lib/python3.7/dist-packages (from spacy) (3.3.0)\n",
            "Requirement already satisfied: spacy-legacy<3.1.0,>=3.0.8 in /usr/local/lib/python3.7/dist-packages (from spacy) (3.0.9)\n",
            "Requirement already satisfied: setuptools in /usr/local/lib/python3.7/dist-packages (from spacy) (57.4.0)\n",
            "Requirement already satisfied: wasabi<1.1.0,>=0.8.1 in /usr/local/lib/python3.7/dist-packages (from spacy) (0.9.1)\n",
            "Requirement already satisfied: typer<0.5.0,>=0.3.0 in /usr/local/lib/python3.7/dist-packages (from spacy) (0.4.1)\n",
            "Requirement already satisfied: typing-extensions<4.0.0.0,>=3.7.4 in /usr/local/lib/python3.7/dist-packages (from spacy) (3.10.0.2)\n",
            "Requirement already satisfied: blis<0.8.0,>=0.4.0 in /usr/local/lib/python3.7/dist-packages (from spacy) (0.4.1)\n",
            "Requirement already satisfied: murmurhash<1.1.0,>=0.28.0 in /usr/local/lib/python3.7/dist-packages (from spacy) (1.0.6)\n",
            "Requirement already satisfied: srsly<3.0.0,>=2.4.1 in /usr/local/lib/python3.7/dist-packages (from spacy) (2.4.3)\n",
            "Requirement already satisfied: requests<3.0.0,>=2.13.0 in /usr/local/lib/python3.7/dist-packages (from spacy) (2.23.0)\n",
            "Requirement already satisfied: click<8.1.0 in /usr/local/lib/python3.7/dist-packages (from spacy) (7.1.2)\n",
            "Requirement already satisfied: thinc<8.1.0,>=8.0.12 in /usr/local/lib/python3.7/dist-packages (from spacy) (8.0.15)\n",
            "Requirement already satisfied: numpy>=1.15.0 in /usr/local/lib/python3.7/dist-packages (from spacy) (1.21.5)\n",
            "Requirement already satisfied: cymem<2.1.0,>=2.0.2 in /usr/local/lib/python3.7/dist-packages (from spacy) (2.0.6)\n",
            "Requirement already satisfied: zipp>=0.5 in /usr/local/lib/python3.7/dist-packages (from catalogue<2.1.0,>=2.0.6->spacy) (3.8.0)\n",
            "Requirement already satisfied: pyparsing!=3.0.5,>=2.0.2 in /usr/local/lib/python3.7/dist-packages (from packaging>=20.0->spacy) (3.0.8)\n",
            "Requirement already satisfied: smart-open<6.0.0,>=5.0.0 in /usr/local/lib/python3.7/dist-packages (from pathy>=0.3.5->spacy) (5.2.1)\n",
            "Requirement already satisfied: certifi>=2017.4.17 in /usr/local/lib/python3.7/dist-packages (from requests<3.0.0,>=2.13.0->spacy) (2021.10.8)\n",
            "Requirement already satisfied: idna<3,>=2.5 in /usr/local/lib/python3.7/dist-packages (from requests<3.0.0,>=2.13.0->spacy) (2.10)\n",
            "Requirement already satisfied: urllib3!=1.25.0,!=1.25.1,<1.26,>=1.21.1 in /usr/local/lib/python3.7/dist-packages (from requests<3.0.0,>=2.13.0->spacy) (1.24.3)\n",
            "Requirement already satisfied: chardet<4,>=3.0.2 in /usr/local/lib/python3.7/dist-packages (from requests<3.0.0,>=2.13.0->spacy) (3.0.4)\n",
            "Requirement already satisfied: MarkupSafe>=0.23 in /usr/local/lib/python3.7/dist-packages (from jinja2->spacy) (2.0.1)\n",
            "Collecting https://s3-us-west-2.amazonaws.com/ai2-s2-scispacy/releases/v0.5.0/en_core_sci_lg-0.5.0.tar.gz\n",
            "  Downloading https://s3-us-west-2.amazonaws.com/ai2-s2-scispacy/releases/v0.5.0/en_core_sci_lg-0.5.0.tar.gz (532.3 MB)\n",
            "\u001b[K     |████████████████████████████████| 532.3 MB 16 kB/s \n",
            "\u001b[?25hRequirement already satisfied: spacy<3.3.0,>=3.2.3 in /usr/local/lib/python3.7/dist-packages (from en-core-sci-lg==0.5.0) (3.2.4)\n",
            "Requirement already satisfied: setuptools in /usr/local/lib/python3.7/dist-packages (from spacy<3.3.0,>=3.2.3->en-core-sci-lg==0.5.0) (57.4.0)\n",
            "Requirement already satisfied: blis<0.8.0,>=0.4.0 in /usr/local/lib/python3.7/dist-packages (from spacy<3.3.0,>=3.2.3->en-core-sci-lg==0.5.0) (0.4.1)\n",
            "Requirement already satisfied: spacy-loggers<2.0.0,>=1.0.0 in /usr/local/lib/python3.7/dist-packages (from spacy<3.3.0,>=3.2.3->en-core-sci-lg==0.5.0) (1.0.2)\n",
            "Requirement already satisfied: pathy>=0.3.5 in /usr/local/lib/python3.7/dist-packages (from spacy<3.3.0,>=3.2.3->en-core-sci-lg==0.5.0) (0.6.1)\n",
            "Requirement already satisfied: thinc<8.1.0,>=8.0.12 in /usr/local/lib/python3.7/dist-packages (from spacy<3.3.0,>=3.2.3->en-core-sci-lg==0.5.0) (8.0.15)\n",
            "Requirement already satisfied: catalogue<2.1.0,>=2.0.6 in /usr/local/lib/python3.7/dist-packages (from spacy<3.3.0,>=3.2.3->en-core-sci-lg==0.5.0) (2.0.7)\n",
            "Requirement already satisfied: spacy-legacy<3.1.0,>=3.0.8 in /usr/local/lib/python3.7/dist-packages (from spacy<3.3.0,>=3.2.3->en-core-sci-lg==0.5.0) (3.0.9)\n",
            "Requirement already satisfied: typer<0.5.0,>=0.3.0 in /usr/local/lib/python3.7/dist-packages (from spacy<3.3.0,>=3.2.3->en-core-sci-lg==0.5.0) (0.4.1)\n",
            "Requirement already satisfied: pydantic!=1.8,!=1.8.1,<1.9.0,>=1.7.4 in /usr/local/lib/python3.7/dist-packages (from spacy<3.3.0,>=3.2.3->en-core-sci-lg==0.5.0) (1.8.2)\n",
            "Requirement already satisfied: requests<3.0.0,>=2.13.0 in /usr/local/lib/python3.7/dist-packages (from spacy<3.3.0,>=3.2.3->en-core-sci-lg==0.5.0) (2.23.0)\n",
            "Requirement already satisfied: packaging>=20.0 in /usr/local/lib/python3.7/dist-packages (from spacy<3.3.0,>=3.2.3->en-core-sci-lg==0.5.0) (21.3)\n",
            "Requirement already satisfied: click<8.1.0 in /usr/local/lib/python3.7/dist-packages (from spacy<3.3.0,>=3.2.3->en-core-sci-lg==0.5.0) (7.1.2)\n",
            "Requirement already satisfied: murmurhash<1.1.0,>=0.28.0 in /usr/local/lib/python3.7/dist-packages (from spacy<3.3.0,>=3.2.3->en-core-sci-lg==0.5.0) (1.0.6)\n",
            "Requirement already satisfied: cymem<2.1.0,>=2.0.2 in /usr/local/lib/python3.7/dist-packages (from spacy<3.3.0,>=3.2.3->en-core-sci-lg==0.5.0) (2.0.6)\n",
            "Requirement already satisfied: preshed<3.1.0,>=3.0.2 in /usr/local/lib/python3.7/dist-packages (from spacy<3.3.0,>=3.2.3->en-core-sci-lg==0.5.0) (3.0.6)\n",
            "Requirement already satisfied: numpy>=1.15.0 in /usr/local/lib/python3.7/dist-packages (from spacy<3.3.0,>=3.2.3->en-core-sci-lg==0.5.0) (1.21.5)\n",
            "Requirement already satisfied: jinja2 in /usr/local/lib/python3.7/dist-packages (from spacy<3.3.0,>=3.2.3->en-core-sci-lg==0.5.0) (2.11.3)\n",
            "Requirement already satisfied: tqdm<5.0.0,>=4.38.0 in /usr/local/lib/python3.7/dist-packages (from spacy<3.3.0,>=3.2.3->en-core-sci-lg==0.5.0) (4.64.0)\n",
            "Requirement already satisfied: srsly<3.0.0,>=2.4.1 in /usr/local/lib/python3.7/dist-packages (from spacy<3.3.0,>=3.2.3->en-core-sci-lg==0.5.0) (2.4.3)\n",
            "Requirement already satisfied: langcodes<4.0.0,>=3.2.0 in /usr/local/lib/python3.7/dist-packages (from spacy<3.3.0,>=3.2.3->en-core-sci-lg==0.5.0) (3.3.0)\n",
            "Requirement already satisfied: typing-extensions<4.0.0.0,>=3.7.4 in /usr/local/lib/python3.7/dist-packages (from spacy<3.3.0,>=3.2.3->en-core-sci-lg==0.5.0) (3.10.0.2)\n",
            "Requirement already satisfied: wasabi<1.1.0,>=0.8.1 in /usr/local/lib/python3.7/dist-packages (from spacy<3.3.0,>=3.2.3->en-core-sci-lg==0.5.0) (0.9.1)\n",
            "Requirement already satisfied: zipp>=0.5 in /usr/local/lib/python3.7/dist-packages (from catalogue<2.1.0,>=2.0.6->spacy<3.3.0,>=3.2.3->en-core-sci-lg==0.5.0) (3.8.0)\n",
            "Requirement already satisfied: pyparsing!=3.0.5,>=2.0.2 in /usr/local/lib/python3.7/dist-packages (from packaging>=20.0->spacy<3.3.0,>=3.2.3->en-core-sci-lg==0.5.0) (3.0.8)\n",
            "Requirement already satisfied: smart-open<6.0.0,>=5.0.0 in /usr/local/lib/python3.7/dist-packages (from pathy>=0.3.5->spacy<3.3.0,>=3.2.3->en-core-sci-lg==0.5.0) (5.2.1)\n",
            "Requirement already satisfied: urllib3!=1.25.0,!=1.25.1,<1.26,>=1.21.1 in /usr/local/lib/python3.7/dist-packages (from requests<3.0.0,>=2.13.0->spacy<3.3.0,>=3.2.3->en-core-sci-lg==0.5.0) (1.24.3)\n",
            "Requirement already satisfied: idna<3,>=2.5 in /usr/local/lib/python3.7/dist-packages (from requests<3.0.0,>=2.13.0->spacy<3.3.0,>=3.2.3->en-core-sci-lg==0.5.0) (2.10)\n",
            "Requirement already satisfied: chardet<4,>=3.0.2 in /usr/local/lib/python3.7/dist-packages (from requests<3.0.0,>=2.13.0->spacy<3.3.0,>=3.2.3->en-core-sci-lg==0.5.0) (3.0.4)\n",
            "Requirement already satisfied: certifi>=2017.4.17 in /usr/local/lib/python3.7/dist-packages (from requests<3.0.0,>=2.13.0->spacy<3.3.0,>=3.2.3->en-core-sci-lg==0.5.0) (2021.10.8)\n",
            "Requirement already satisfied: MarkupSafe>=0.23 in /usr/local/lib/python3.7/dist-packages (from jinja2->spacy<3.3.0,>=3.2.3->en-core-sci-lg==0.5.0) (2.0.1)\n",
            "Building wheels for collected packages: en-core-sci-lg\n",
            "  Building wheel for en-core-sci-lg (setup.py) ... \u001b[?25l\u001b[?25hdone\n",
            "  Created wheel for en-core-sci-lg: filename=en_core_sci_lg-0.5.0-py3-none-any.whl size=532569823 sha256=387e43dac82c113791bef244a2d4b072a7916a4549308ff50643320e29f14eb2\n",
            "  Stored in directory: /root/.cache/pip/wheels/c1/69/da/683231a48569a53313ed6530869e4743fe57c344412a56b25f\n",
            "Successfully built en-core-sci-lg\n",
            "Installing collected packages: en-core-sci-lg\n",
            "Successfully installed en-core-sci-lg-0.5.0\n"
          ]
        }
      ]
    },
    {
      "cell_type": "markdown",
      "source": [
        "**Loading spaCy** \n",
        "\n",
        "[spaCy](https://spacy.io/usage/spacy-101) *is a free, open-source library for advanced Natural Language Processing (NLP) in Python.*\n",
        "\n",
        "The next step is to train the unsupervised machine learning model on the data. I choose to work with the **Sklearn LDA** over **Gensim LDA**."
      ],
      "metadata": {
        "id": "IgkveBMYF_Zt"
      },
      "id": "IgkveBMYF_Zt"
    },
    {
      "cell_type": "markdown",
      "source": [
        "There are 3 model size:\n",
        "> Model size indicator:\n",
        ">> **sm:** no word vectors <br>\n",
        ">> **md:** reduced word vector table with 20k unique vectors for ~500k words<br>\n",
        ">> **lg:** large word vector table with ~500k entriesUsing the lg"
      ],
      "metadata": {
        "id": "Fw1RvdZXJVBZ"
      },
      "id": "Fw1RvdZXJVBZ"
    },
    {
      "cell_type": "markdown",
      "source": [
        "**Here we will be using \"lg\" model as it gives more dimensionality and complexity** <br>\n",
        "*Also because the other model gave less compitability in comparison to this one*"
      ],
      "metadata": {
        "id": "0VBOERpJKfa1"
      },
      "id": "0VBOERpJKfa1"
    },
    {
      "cell_type": "code",
      "source": [
        "#nlp = en_core_sci_lg.load(disable=[\"tagger\", \"parser\", \"ner\"])\n",
        "nlp = spacy.load(\"en_core_sci_lg\") # phrase to tokenize\n",
        "nlp.max_length = 3000000"
      ],
      "metadata": {
        "id": "u90KAZ8-bQ_9"
      },
      "id": "u90KAZ8-bQ_9",
      "execution_count": 52,
      "outputs": []
    },
    {
      "cell_type": "markdown",
      "source": [
        "**Lemmatizing**"
      ],
      "metadata": {
        "id": "DlBNbI9icO_w"
      },
      "id": "DlBNbI9icO_w"
    },
    {
      "cell_type": "code",
      "source": [
        "def spacy_tokenizer(sentence):\n",
        "    return [word.lemma_ for word in nlp(sentence) if not (word.like_num or word.is_stop or word.is_punct or word.is_space or len(word)==1)]"
      ],
      "metadata": {
        "id": "IcBMnvERhg-A"
      },
      "id": "IcBMnvERhg-A",
      "execution_count": 53,
      "outputs": []
    },
    {
      "cell_type": "markdown",
      "source": [
        "**Tokenizing and Vectorizing**"
      ],
      "metadata": {
        "id": "_u56_LxXcOWZ"
      },
      "id": "_u56_LxXcOWZ"
    },
    {
      "cell_type": "code",
      "source": [
        "text = dff[\"Abstract\"]\n",
        "vectorizer = CountVectorizer(tokenizer = spacy_tokenizer, min_df=2)\n",
        "data_vectorized = vectorizer.fit_transform(tqdm(text))"
      ],
      "metadata": {
        "colab": {
          "base_uri": "https://localhost:8080/"
        },
        "id": "hddmvRWnbRLE",
        "outputId": "f995d904-71cd-4e75-ed0c-c5de662b278e"
      },
      "id": "hddmvRWnbRLE",
      "execution_count": 54,
      "outputs": [
        {
          "output_type": "stream",
          "name": "stderr",
          "text": [
            "100%|██████████| 4999/4999 [05:40<00:00, 14.69it/s]\n"
          ]
        }
      ]
    },
    {
      "cell_type": "code",
      "source": [
        "data_vectorized.shape"
      ],
      "metadata": {
        "colab": {
          "base_uri": "https://localhost:8080/"
        },
        "id": "fA9lggBwG3eb",
        "outputId": "3ab00f84-c5cf-4439-fe5c-101a61bb7cb6"
      },
      "id": "fA9lggBwG3eb",
      "execution_count": 55,
      "outputs": [
        {
          "output_type": "execute_result",
          "data": {
            "text/plain": [
              "(4999, 16855)"
            ]
          },
          "metadata": {},
          "execution_count": 55
        }
      ]
    },
    {
      "cell_type": "markdown",
      "source": [
        "**Plotting the most 20 most frequent words in all the dataset**"
      ],
      "metadata": {
        "id": "LF_wCO2tDFR5"
      },
      "id": "LF_wCO2tDFR5"
    },
    {
      "cell_type": "code",
      "source": [
        "word_count = pd.DataFrame({'word': vectorizer.get_feature_names(), 'count': np.asarray(data_vectorized.sum(axis=0))[0]});\n",
        "\n",
        "word_count.sort_values('count', ascending=False).set_index('word')[:20].sort_values('count', ascending=True).plot(kind='barh');"
      ],
      "metadata": {
        "colab": {
          "base_uri": "https://localhost:8080/",
          "height": 320
        },
        "id": "AxFAFc3XbRNh",
        "outputId": "d3698448-4469-4877-de23-6f8789c199ee"
      },
      "id": "AxFAFc3XbRNh",
      "execution_count": 72,
      "outputs": [
        {
          "output_type": "stream",
          "name": "stderr",
          "text": [
            "/usr/local/lib/python3.7/dist-packages/sklearn/utils/deprecation.py:87: FutureWarning: Function get_feature_names is deprecated; get_feature_names is deprecated in 1.0 and will be removed in 1.2. Please use get_feature_names_out instead.\n",
            "  warnings.warn(msg, category=FutureWarning)\n"
          ]
        },
        {
          "output_type": "display_data",
          "data": {
            "text/plain": [
              "<Figure size 432x288 with 1 Axes>"
            ],
            "image/png": "[encoded data removed]"
          },
          "metadata": {
            "needs_background": "light"
          }
        }
      ]
    },
    {
      "cell_type": "markdown",
      "source": [
        "**Saving the output to a csv file**"
      ],
      "metadata": {
        "id": "JVnjZD9Xcfa4"
      },
      "id": "JVnjZD9Xcfa4"
    },
    {
      "cell_type": "code",
      "source": [
        "joblib.dump(vectorizer, 'vectorizer.csv')\n",
        "joblib.dump(data_vectorized, 'data_vectorized.csv')"
      ],
      "metadata": {
        "colab": {
          "base_uri": "https://localhost:8080/"
        },
        "id": "YQaXHW2gbRPV",
        "outputId": "17cb740a-fe4b-4be9-bd6a-08fbf9d32e2c"
      },
      "id": "YQaXHW2gbRPV",
      "execution_count": 31,
      "outputs": [
        {
          "output_type": "execute_result",
          "data": {
            "text/plain": [
              "['data_vectorized.csv']"
            ]
          },
          "metadata": {},
          "execution_count": 31
        }
      ]
    },
    {
      "cell_type": "markdown",
      "source": [
        "**Perfoming LDA and save it to a csv aswell** - same idea as using pickle."
      ],
      "metadata": {
        "id": "xy6R5sq_clmo"
      },
      "id": "xy6R5sq_clmo"
    },
    {
      "cell_type": "code",
      "source": [
        "lda = LatentDirichletAllocation(n_components=50, random_state=0)\n",
        "# Learn model for the data with variational Bayes method.\n",
        "lda.fit(data_vectorized)\n",
        "joblib.dump(lda, 'lda.csv')"
      ],
      "metadata": {
        "colab": {
          "base_uri": "https://localhost:8080/"
        },
        "id": "mgADPNxabRSO",
        "outputId": "2a0c7436-3f24-460d-d9a7-98f0f3b4a696"
      },
      "id": "mgADPNxabRSO",
      "execution_count": 56,
      "outputs": [
        {
          "output_type": "execute_result",
          "data": {
            "text/plain": [
              "['lda.csv']"
            ]
          },
          "metadata": {},
          "execution_count": 56
        }
      ]
    },
    {
      "cell_type": "code",
      "source": [
        "def print_top_words(model, vectorizer, n_top_words):\n",
        "    feature_names = vectorizer.get_feature_names()\n",
        "    for topic_idx, topic in enumerate(model.components_):\n",
        "        message = \"\\nTopic #%d: \" % topic_idx\n",
        "        message += \" \".join([feature_names[i]\n",
        "                             for i in topic.argsort()[:-n_top_words - 1:-1]])\n",
        "        print(message)\n",
        "    print()"
      ],
      "metadata": {
        "id": "vYpt-H9zbRUR"
      },
      "id": "vYpt-H9zbRUR",
      "execution_count": 36,
      "outputs": []
    },
    {
      "cell_type": "code",
      "source": [
        "print_top_words(lda, vectorizer, n_top_words=25)"
      ],
      "metadata": {
        "id": "qVE3rO3pjTC0"
      },
      "id": "qVE3rO3pjTC0",
      "execution_count": null,
      "outputs": []
    },
    {
      "cell_type": "markdown",
      "source": [
        "**Transforming the data according to the fitted model.**"
      ],
      "metadata": {
        "id": "P6LGhaiSkE4V"
      },
      "id": "P6LGhaiSkE4V"
    },
    {
      "cell_type": "code",
      "source": [
        "doc_topic_dist = pd.DataFrame(lda.transform(data_vectorized))\n",
        "doc_topic_dist.to_csv('doc_topic_dist.csv', index=False)"
      ],
      "metadata": {
        "id": "gOVaYysZjTBL"
      },
      "id": "gOVaYysZjTBL",
      "execution_count": 57,
      "outputs": []
    },
    {
      "cell_type": "code",
      "source": [
        "doc_topic_dist.head()"
      ],
      "metadata": {
        "colab": {
          "base_uri": "https://localhost:8080/",
          "height": 299
        },
        "id": "NJXUgtBcjS8J",
        "outputId": "af9f2a34-fae8-4db9-91f1-dad77528272f"
      },
      "id": "NJXUgtBcjS8J",
      "execution_count": 66,
      "outputs": [
        {
          "output_type": "execute_result",
          "data": {
            "text/plain": [
              "         0         1         2         3         4         5         6   \\\n",
              "0  0.000169  0.000169  0.000169  0.000169  0.000169  0.137403  0.000169   \n",
              "1  0.000164  0.000164  0.000164  0.000164  0.000164  0.171438  0.000164   \n",
              "2  0.091695  0.000138  0.000138  0.000138  0.000138  0.000138  0.000138   \n",
              "3  0.419592  0.000100  0.000100  0.000100  0.000100  0.175913  0.000100   \n",
              "4  0.000179  0.000179  0.000179  0.000179  0.000179  0.000179  0.000179   \n",
              "\n",
              "         7         8         9   ...        40        41        42        43  \\\n",
              "0  0.000169  0.462415  0.000169  ...  0.000169  0.000169  0.000169  0.000169   \n",
              "1  0.000164  0.227188  0.000164  ...  0.000164  0.000164  0.000164  0.000164   \n",
              "2  0.000138  0.000138  0.000138  ...  0.000138  0.000138  0.000138  0.000138   \n",
              "3  0.000100  0.399818  0.000100  ...  0.000100  0.000100  0.000100  0.000100   \n",
              "4  0.000179  0.000179  0.026245  ...  0.000179  0.000179  0.069609  0.000179   \n",
              "\n",
              "         44        45        46        47        48        49  \n",
              "0  0.000169  0.000169  0.000169  0.239740  0.000169  0.000169  \n",
              "1  0.000164  0.000164  0.000164  0.381942  0.000164  0.000164  \n",
              "2  0.000138  0.000138  0.000138  0.000138  0.000138  0.000138  \n",
              "3  0.000100  0.000100  0.000100  0.000100  0.000100  0.000100  \n",
              "4  0.000179  0.140739  0.579051  0.000179  0.000179  0.000179  \n",
              "\n",
              "[5 rows x 50 columns]"
            ],
            "text/html": [
              "\n",
              "  <div id=\"df-3c34659c-9880-4d8d-ad63-5f4358bef28e\">\n",
              "    <div class=\"colab-df-container\">\n",
              "      <div>\n",
              "<style scoped>\n",
              "    .dataframe tbody tr th:only-of-type {\n",
              "        vertical-align: middle;\n",
              "    }\n",
              "\n",
              "    .dataframe tbody tr th {\n",
              "        vertical-align: top;\n",
              "    }\n",
              "\n",
              "    .dataframe thead th {\n",
              "        text-align: right;\n",
              "    }\n",
              "</style>\n",
              "<table border=\"1\" class=\"dataframe\">\n",
              "  <thead>\n",
              "    <tr style=\"text-align: right;\">\n",
              "      <th></th>\n",
              "      <th>0</th>\n",
              "      <th>1</th>\n",
              "      <th>2</th>\n",
              "      <th>3</th>\n",
              "      <th>4</th>\n",
              "      <th>5</th>\n",
              "      <th>6</th>\n",
              "      <th>7</th>\n",
              "      <th>8</th>\n",
              "      <th>9</th>\n",
              "      <th>...</th>\n",
              "      <th>40</th>\n",
              "      <th>41</th>\n",
              "      <th>42</th>\n",
              "      <th>43</th>\n",
              "      <th>44</th>\n",
              "      <th>45</th>\n",
              "      <th>46</th>\n",
              "      <th>47</th>\n",
              "      <th>48</th>\n",
              "      <th>49</th>\n",
              "    </tr>\n",
              "  </thead>\n",
              "  <tbody>\n",
              "    <tr>\n",
              "      <th>0</th>\n",
              "      <td>0.000169</td>\n",
              "      <td>0.000169</td>\n",
              "      <td>0.000169</td>\n",
              "      <td>0.000169</td>\n",
              "      <td>0.000169</td>\n",
              "      <td>0.137403</td>\n",
              "      <td>0.000169</td>\n",
              "      <td>0.000169</td>\n",
              "      <td>0.462415</td>\n",
              "      <td>0.000169</td>\n",
              "      <td>...</td>\n",
              "      <td>0.000169</td>\n",
              "      <td>0.000169</td>\n",
              "      <td>0.000169</td>\n",
              "      <td>0.000169</td>\n",
              "      <td>0.000169</td>\n",
              "      <td>0.000169</td>\n",
              "      <td>0.000169</td>\n",
              "      <td>0.239740</td>\n",
              "      <td>0.000169</td>\n",
              "      <td>0.000169</td>\n",
              "    </tr>\n",
              "    <tr>\n",
              "      <th>1</th>\n",
              "      <td>0.000164</td>\n",
              "      <td>0.000164</td>\n",
              "      <td>0.000164</td>\n",
              "      <td>0.000164</td>\n",
              "      <td>0.000164</td>\n",
              "      <td>0.171438</td>\n",
              "      <td>0.000164</td>\n",
              "      <td>0.000164</td>\n",
              "      <td>0.227188</td>\n",
              "      <td>0.000164</td>\n",
              "      <td>...</td>\n",
              "      <td>0.000164</td>\n",
              "      <td>0.000164</td>\n",
              "      <td>0.000164</td>\n",
              "      <td>0.000164</td>\n",
              "      <td>0.000164</td>\n",
              "      <td>0.000164</td>\n",
              "      <td>0.000164</td>\n",
              "      <td>0.381942</td>\n",
              "      <td>0.000164</td>\n",
              "      <td>0.000164</td>\n",
              "    </tr>\n",
              "    <tr>\n",
              "      <th>2</th>\n",
              "      <td>0.091695</td>\n",
              "      <td>0.000138</td>\n",
              "      <td>0.000138</td>\n",
              "      <td>0.000138</td>\n",
              "      <td>0.000138</td>\n",
              "      <td>0.000138</td>\n",
              "      <td>0.000138</td>\n",
              "      <td>0.000138</td>\n",
              "      <td>0.000138</td>\n",
              "      <td>0.000138</td>\n",
              "      <td>...</td>\n",
              "      <td>0.000138</td>\n",
              "      <td>0.000138</td>\n",
              "      <td>0.000138</td>\n",
              "      <td>0.000138</td>\n",
              "      <td>0.000138</td>\n",
              "      <td>0.000138</td>\n",
              "      <td>0.000138</td>\n",
              "      <td>0.000138</td>\n",
              "      <td>0.000138</td>\n",
              "      <td>0.000138</td>\n",
              "    </tr>\n",
              "    <tr>\n",
              "      <th>3</th>\n",
              "      <td>0.419592</td>\n",
              "      <td>0.000100</td>\n",
              "      <td>0.000100</td>\n",
              "      <td>0.000100</td>\n",
              "      <td>0.000100</td>\n",
              "      <td>0.175913</td>\n",
              "      <td>0.000100</td>\n",
              "      <td>0.000100</td>\n",
              "      <td>0.399818</td>\n",
              "      <td>0.000100</td>\n",
              "      <td>...</td>\n",
              "      <td>0.000100</td>\n",
              "      <td>0.000100</td>\n",
              "      <td>0.000100</td>\n",
              "      <td>0.000100</td>\n",
              "      <td>0.000100</td>\n",
              "      <td>0.000100</td>\n",
              "      <td>0.000100</td>\n",
              "      <td>0.000100</td>\n",
              "      <td>0.000100</td>\n",
              "      <td>0.000100</td>\n",
              "    </tr>\n",
              "    <tr>\n",
              "      <th>4</th>\n",
              "      <td>0.000179</td>\n",
              "      <td>0.000179</td>\n",
              "      <td>0.000179</td>\n",
              "      <td>0.000179</td>\n",
              "      <td>0.000179</td>\n",
              "      <td>0.000179</td>\n",
              "      <td>0.000179</td>\n",
              "      <td>0.000179</td>\n",
              "      <td>0.000179</td>\n",
              "      <td>0.026245</td>\n",
              "      <td>...</td>\n",
              "      <td>0.000179</td>\n",
              "      <td>0.000179</td>\n",
              "      <td>0.069609</td>\n",
              "      <td>0.000179</td>\n",
              "      <td>0.000179</td>\n",
              "      <td>0.140739</td>\n",
              "      <td>0.579051</td>\n",
              "      <td>0.000179</td>\n",
              "      <td>0.000179</td>\n",
              "      <td>0.000179</td>\n",
              "    </tr>\n",
              "  </tbody>\n",
              "</table>\n",
              "<p>5 rows × 50 columns</p>\n",
              "</div>\n",
              "      <button class=\"colab-df-convert\" onclick=\"convertToInteractive('df-3c34659c-9880-4d8d-ad63-5f4358bef28e')\"\n",
              "              title=\"Convert this dataframe to an interactive table.\"\n",
              "              style=\"display:none;\">\n",
              "        \n",
              "  <svg xmlns=\"http://www.w3.org/2000/svg\" height=\"24px\"viewBox=\"0 0 24 24\"\n",
              "       width=\"24px\">\n",
              "    <path d=\"M0 0h24v24H0V0z\" fill=\"none\"/>\n",
              "    <path d=\"M18.56 5.44l.94 2.06.94-2.06 2.06-.94-2.06-.94-.94-2.06-.94 2.06-2.06.94zm-11 1L8.5 8.5l.94-2.06 2.06-.94-2.06-.94L8.5 2.5l-.94 2.06-2.06.94zm10 10l.94 2.06.94-2.06 2.06-.94-2.06-.94-.94-2.06-.94 2.06-2.06.94z\"/><path d=\"M17.41 7.96l-1.37-1.37c-.4-.4-.92-.59-1.43-.59-.52 0-1.04.2-1.43.59L10.3 9.45l-7.72 7.72c-.78.78-.78 2.05 0 2.83L4 21.41c.39.39.9.59 1.41.59.51 0 1.02-.2 1.41-.59l7.78-7.78 2.81-2.81c.8-.78.8-2.07 0-2.86zM5.41 20L4 18.59l7.72-7.72 1.47 1.35L5.41 20z\"/>\n",
              "  </svg>\n",
              "      </button>\n",
              "      \n",
              "  <style>\n",
              "    .colab-df-container {\n",
              "      display:flex;\n",
              "      flex-wrap:wrap;\n",
              "      gap: 12px;\n",
              "    }\n",
              "\n",
              "    .colab-df-convert {\n",
              "      background-color: #E8F0FE;\n",
              "      border: none;\n",
              "      border-radius: 50%;\n",
              "      cursor: pointer;\n",
              "      display: none;\n",
              "      fill: #1967D2;\n",
              "      height: 32px;\n",
              "      padding: 0 0 0 0;\n",
              "      width: 32px;\n",
              "    }\n",
              "\n",
              "    .colab-df-convert:hover {\n",
              "      background-color: #E2EBFA;\n",
              "      box-shadow: 0px 1px 2px rgba(60, 64, 67, 0.3), 0px 1px 3px 1px rgba(60, 64, 67, 0.15);\n",
              "      fill: #174EA6;\n",
              "    }\n",
              "\n",
              "    [theme=dark] .colab-df-convert {\n",
              "      background-color: #3B4455;\n",
              "      fill: #D2E3FC;\n",
              "    }\n",
              "\n",
              "    [theme=dark] .colab-df-convert:hover {\n",
              "      background-color: #434B5C;\n",
              "      box-shadow: 0px 1px 3px 1px rgba(0, 0, 0, 0.15);\n",
              "      filter: drop-shadow(0px 1px 2px rgba(0, 0, 0, 0.3));\n",
              "      fill: #FFFFFF;\n",
              "    }\n",
              "  </style>\n",
              "\n",
              "      <script>\n",
              "        const buttonEl =\n",
              "          document.querySelector('#df-3c34659c-9880-4d8d-ad63-5f4358bef28e button.colab-df-convert');\n",
              "        buttonEl.style.display =\n",
              "          google.colab.kernel.accessAllowed ? 'block' : 'none';\n",
              "\n",
              "        async function convertToInteractive(key) {\n",
              "          const element = document.querySelector('#df-3c34659c-9880-4d8d-ad63-5f4358bef28e');\n",
              "          const dataTable =\n",
              "            await google.colab.kernel.invokeFunction('convertToInteractive',\n",
              "                                                     [key], {});\n",
              "          if (!dataTable) return;\n",
              "\n",
              "          const docLinkHtml = 'Like what you see? Visit the ' +\n",
              "            '<a target=\"_blank\" href=https://colab.research.google.com/notebooks/data_table.ipynb>data table notebook</a>'\n",
              "            + ' to learn more about interactive tables.';\n",
              "          element.innerHTML = '';\n",
              "          dataTable['output_type'] = 'display_data';\n",
              "          await google.colab.output.renderOutput(dataTable, element);\n",
              "          const docLink = document.createElement('div');\n",
              "          docLink.innerHTML = docLinkHtml;\n",
              "          element.appendChild(docLink);\n",
              "        }\n",
              "      </script>\n",
              "    </div>\n",
              "  </div>\n",
              "  "
            ]
          },
          "metadata": {},
          "execution_count": 66
        }
      ]
    },
    {
      "cell_type": "markdown",
      "source": [
        "**Choosing the optimal distance calculation:**<br>\n",
        "* Euclidean\n",
        "* Correlation\n",
        "* Jensen-Shannon\n",
        "* Cosine\n",
        "* Cityblock"
      ],
      "metadata": {
        "id": "x568WjX674kS"
      },
      "id": "x568WjX674kS"
    },
    {
      "cell_type": "markdown",
      "source": [
        "##### Euclidean"
      ],
      "metadata": {
        "id": "qJ7333lf8w2O"
      },
      "id": "qJ7333lf8w2O"
    },
    {
      "cell_type": "code",
      "source": [
        "from scipy.spatial.distance import euclidean\n",
        "y = doc_topic_dist[dff.ArticleID == 34160290].iloc[0]\n",
        "e = doc_topic_dist.apply(lambda x: euclidean(x, y), axis=1)\n",
        "k_nearest = e[e != 0].nsmallest(n=5).index\n",
        "k_distances = e[e != 0].nsmallest(n=5)\n",
        "k_nearest = dff.iloc[k_nearest].copy()\n",
        "k_nearest['similarity'] = 1 - k_distances \n",
        "k_nearest"
      ],
      "metadata": {
        "colab": {
          "base_uri": "https://localhost:8080/",
          "height": 0
        },
        "id": "3W8VBIb-p4VJ",
        "outputId": "622a3415-416d-4cc2-92f9-2cceec96f25e"
      },
      "id": "3W8VBIb-p4VJ",
      "execution_count": 119,
      "outputs": [
        {
          "output_type": "execute_result",
          "data": {
            "text/plain": [
              "      ArticleID                                              Title  \\\n",
              "122    34166265  refractory severe laryngospam during rapid seq...   \n",
              "1574   34424840   bioprinting marches forward with new technology.   \n",
              "2748   34706001  stress distribution analysis in anterior teeth...   \n",
              "993    34332561  investigation of transient eye closure evoked ...   \n",
              "0      34153941  stable coordination variability in overground ...   \n",
              "\n",
              "                                               Abstract  similarity  \n",
              "122   laryngospasm is a rare cause of upper-airway o...    0.805898  \n",
              "1574  with the advent of additive manufacturing and ...    0.829601  \n",
              "2748  orthodontic retraction of the anterior teeth i...    0.834120  \n",
              "993   this study aimed to present a simple method fo...    0.833460  \n",
              "0     coordination variability (cv) is commonly anal...    0.731105  "
            ],
            "text/html": [
              "\n",
              "  <div id=\"df-cd057aba-aaa4-42a9-a9d1-7d51eabf5ad6\">\n",
              "    <div class=\"colab-df-container\">\n",
              "      <div>\n",
              "<style scoped>\n",
              "    .dataframe tbody tr th:only-of-type {\n",
              "        vertical-align: middle;\n",
              "    }\n",
              "\n",
              "    .dataframe tbody tr th {\n",
              "        vertical-align: top;\n",
              "    }\n",
              "\n",
              "    .dataframe thead th {\n",
              "        text-align: right;\n",
              "    }\n",
              "</style>\n",
              "<table border=\"1\" class=\"dataframe\">\n",
              "  <thead>\n",
              "    <tr style=\"text-align: right;\">\n",
              "      <th></th>\n",
              "      <th>ArticleID</th>\n",
              "      <th>Title</th>\n",
              "      <th>Abstract</th>\n",
              "      <th>similarity</th>\n",
              "    </tr>\n",
              "  </thead>\n",
              "  <tbody>\n",
              "    <tr>\n",
              "      <th>122</th>\n",
              "      <td>34166265</td>\n",
              "      <td>refractory severe laryngospam during rapid seq...</td>\n",
              "      <td>laryngospasm is a rare cause of upper-airway o...</td>\n",
              "      <td>0.805898</td>\n",
              "    </tr>\n",
              "    <tr>\n",
              "      <th>1574</th>\n",
              "      <td>34424840</td>\n",
              "      <td>bioprinting marches forward with new technology.</td>\n",
              "      <td>with the advent of additive manufacturing and ...</td>\n",
              "      <td>0.829601</td>\n",
              "    </tr>\n",
              "    <tr>\n",
              "      <th>2748</th>\n",
              "      <td>34706001</td>\n",
              "      <td>stress distribution analysis in anterior teeth...</td>\n",
              "      <td>orthodontic retraction of the anterior teeth i...</td>\n",
              "      <td>0.834120</td>\n",
              "    </tr>\n",
              "    <tr>\n",
              "      <th>993</th>\n",
              "      <td>34332561</td>\n",
              "      <td>investigation of transient eye closure evoked ...</td>\n",
              "      <td>this study aimed to present a simple method fo...</td>\n",
              "      <td>0.833460</td>\n",
              "    </tr>\n",
              "    <tr>\n",
              "      <th>0</th>\n",
              "      <td>34153941</td>\n",
              "      <td>stable coordination variability in overground ...</td>\n",
              "      <td>coordination variability (cv) is commonly anal...</td>\n",
              "      <td>0.731105</td>\n",
              "    </tr>\n",
              "  </tbody>\n",
              "</table>\n",
              "</div>\n",
              "      <button class=\"colab-df-convert\" onclick=\"convertToInteractive('df-cd057aba-aaa4-42a9-a9d1-7d51eabf5ad6')\"\n",
              "              title=\"Convert this dataframe to an interactive table.\"\n",
              "              style=\"display:none;\">\n",
              "        \n",
              "  <svg xmlns=\"http://www.w3.org/2000/svg\" height=\"24px\"viewBox=\"0 0 24 24\"\n",
              "       width=\"24px\">\n",
              "    <path d=\"M0 0h24v24H0V0z\" fill=\"none\"/>\n",
              "    <path d=\"M18.56 5.44l.94 2.06.94-2.06 2.06-.94-2.06-.94-.94-2.06-.94 2.06-2.06.94zm-11 1L8.5 8.5l.94-2.06 2.06-.94-2.06-.94L8.5 2.5l-.94 2.06-2.06.94zm10 10l.94 2.06.94-2.06 2.06-.94-2.06-.94-.94-2.06-.94 2.06-2.06.94z\"/><path d=\"M17.41 7.96l-1.37-1.37c-.4-.4-.92-.59-1.43-.59-.52 0-1.04.2-1.43.59L10.3 9.45l-7.72 7.72c-.78.78-.78 2.05 0 2.83L4 21.41c.39.39.9.59 1.41.59.51 0 1.02-.2 1.41-.59l7.78-7.78 2.81-2.81c.8-.78.8-2.07 0-2.86zM5.41 20L4 18.59l7.72-7.72 1.47 1.35L5.41 20z\"/>\n",
              "  </svg>\n",
              "      </button>\n",
              "      \n",
              "  <style>\n",
              "    .colab-df-container {\n",
              "      display:flex;\n",
              "      flex-wrap:wrap;\n",
              "      gap: 12px;\n",
              "    }\n",
              "\n",
              "    .colab-df-convert {\n",
              "      background-color: #E8F0FE;\n",
              "      border: none;\n",
              "      border-radius: 50%;\n",
              "      cursor: pointer;\n",
              "      display: none;\n",
              "      fill: #1967D2;\n",
              "      height: 32px;\n",
              "      padding: 0 0 0 0;\n",
              "      width: 32px;\n",
              "    }\n",
              "\n",
              "    .colab-df-convert:hover {\n",
              "      background-color: #E2EBFA;\n",
              "      box-shadow: 0px 1px 2px rgba(60, 64, 67, 0.3), 0px 1px 3px 1px rgba(60, 64, 67, 0.15);\n",
              "      fill: #174EA6;\n",
              "    }\n",
              "\n",
              "    [theme=dark] .colab-df-convert {\n",
              "      background-color: #3B4455;\n",
              "      fill: #D2E3FC;\n",
              "    }\n",
              "\n",
              "    [theme=dark] .colab-df-convert:hover {\n",
              "      background-color: #434B5C;\n",
              "      box-shadow: 0px 1px 3px 1px rgba(0, 0, 0, 0.15);\n",
              "      filter: drop-shadow(0px 1px 2px rgba(0, 0, 0, 0.3));\n",
              "      fill: #FFFFFF;\n",
              "    }\n",
              "  </style>\n",
              "\n",
              "      <script>\n",
              "        const buttonEl =\n",
              "          document.querySelector('#df-cd057aba-aaa4-42a9-a9d1-7d51eabf5ad6 button.colab-df-convert');\n",
              "        buttonEl.style.display =\n",
              "          google.colab.kernel.accessAllowed ? 'block' : 'none';\n",
              "\n",
              "        async function convertToInteractive(key) {\n",
              "          const element = document.querySelector('#df-cd057aba-aaa4-42a9-a9d1-7d51eabf5ad6');\n",
              "          const dataTable =\n",
              "            await google.colab.kernel.invokeFunction('convertToInteractive',\n",
              "                                                     [key], {});\n",
              "          if (!dataTable) return;\n",
              "\n",
              "          const docLinkHtml = 'Like what you see? Visit the ' +\n",
              "            '<a target=\"_blank\" href=https://colab.research.google.com/notebooks/data_table.ipynb>data table notebook</a>'\n",
              "            + ' to learn more about interactive tables.';\n",
              "          element.innerHTML = '';\n",
              "          dataTable['output_type'] = 'display_data';\n",
              "          await google.colab.output.renderOutput(dataTable, element);\n",
              "          const docLink = document.createElement('div');\n",
              "          docLink.innerHTML = docLinkHtml;\n",
              "          element.appendChild(docLink);\n",
              "        }\n",
              "      </script>\n",
              "    </div>\n",
              "  </div>\n",
              "  "
            ]
          },
          "metadata": {},
          "execution_count": 119
        }
      ]
    },
    {
      "cell_type": "markdown",
      "source": [
        "##### Correlation"
      ],
      "metadata": {
        "id": "g0LJ7Nwv9O9_"
      },
      "id": "g0LJ7Nwv9O9_"
    },
    {
      "cell_type": "code",
      "source": [
        "from scipy.spatial.distance import correlation\n",
        "z = doc_topic_dist.apply(lambda x: correlation(x, y), axis=1)\n",
        "k_nearest = z[z != 0].nsmallest(n=10).index\n",
        "k_distances = z[z != 0].nsmallest(n=10)\n",
        "k_nearest = dff.iloc[k_nearest].copy()\n",
        "k_nearest['similarity'] = 1 - k_distances \n",
        "k_nearest"
      ],
      "metadata": {
        "colab": {
          "base_uri": "https://localhost:8080/",
          "height": 0
        },
        "id": "TIUhRLGCn-ol",
        "outputId": "a3782912-b7dc-4648-ee2d-729ea2005d59"
      },
      "id": "TIUhRLGCn-ol",
      "execution_count": 118,
      "outputs": [
        {
          "output_type": "stream",
          "name": "stderr",
          "text": [
            "/usr/local/lib/python3.7/dist-packages/scipy/spatial/distance.py:720: RuntimeWarning: invalid value encountered in double_scalars\n",
            "  dist = 1.0 - uv / np.sqrt(uu * vv)\n"
          ]
        },
        {
          "output_type": "execute_result",
          "data": {
            "text/plain": [
              "      ArticleID                                              Title  \\\n",
              "993    34332561  investigation of transient eye closure evoked ...   \n",
              "2748   34706001  stress distribution analysis in anterior teeth...   \n",
              "1574   34424840   bioprinting marches forward with new technology.   \n",
              "122    34166265  refractory severe laryngospam during rapid seq...   \n",
              "0      34153941  stable coordination variability in overground ...   \n",
              "4293   34328422  content analysis and quality evaluation of ces...   \n",
              "193    34182470  optimizing conditions for spheroid formation o...   \n",
              "4202   34321490  elevated levels of merkel cell polyoma virus i...   \n",
              "1372   34398958  urine lipoarabinomannan testing in adults with...   \n",
              "1368   34398954  changing epidemiology of hepatitis b virus and...   \n",
              "\n",
              "                                               Abstract  similarity  \n",
              "993   this study aimed to present a simple method fo...    0.833460  \n",
              "2748  orthodontic retraction of the anterior teeth i...    0.834120  \n",
              "1574  with the advent of additive manufacturing and ...    0.829601  \n",
              "122   laryngospasm is a rare cause of upper-airway o...    0.805898  \n",
              "0     coordination variability (cv) is commonly anal...    0.731105  \n",
              "4293  youtube is one of the most popular open-access...    0.675247  \n",
              "193   spheroid formation is a well-known feature of ...    0.685698  \n",
              "4202  the human ocular surface hosts a paucibacteria...    0.690825  \n",
              "1372  the urine lipoarabinomannan (lam) antigen test...         NaN  \n",
              "1368  the transmission of human immunodeficiency vir...    0.691746  "
            ],
            "text/html": [
              "\n",
              "  <div id=\"df-058dfd95-97a3-4606-a8a5-84a03c2dd21e\">\n",
              "    <div class=\"colab-df-container\">\n",
              "      <div>\n",
              "<style scoped>\n",
              "    .dataframe tbody tr th:only-of-type {\n",
              "        vertical-align: middle;\n",
              "    }\n",
              "\n",
              "    .dataframe tbody tr th {\n",
              "        vertical-align: top;\n",
              "    }\n",
              "\n",
              "    .dataframe thead th {\n",
              "        text-align: right;\n",
              "    }\n",
              "</style>\n",
              "<table border=\"1\" class=\"dataframe\">\n",
              "  <thead>\n",
              "    <tr style=\"text-align: right;\">\n",
              "      <th></th>\n",
              "      <th>ArticleID</th>\n",
              "      <th>Title</th>\n",
              "      <th>Abstract</th>\n",
              "      <th>similarity</th>\n",
              "    </tr>\n",
              "  </thead>\n",
              "  <tbody>\n",
              "    <tr>\n",
              "      <th>993</th>\n",
              "      <td>34332561</td>\n",
              "      <td>investigation of transient eye closure evoked ...</td>\n",
              "      <td>this study aimed to present a simple method fo...</td>\n",
              "      <td>0.833460</td>\n",
              "    </tr>\n",
              "    <tr>\n",
              "      <th>2748</th>\n",
              "      <td>34706001</td>\n",
              "      <td>stress distribution analysis in anterior teeth...</td>\n",
              "      <td>orthodontic retraction of the anterior teeth i...</td>\n",
              "      <td>0.834120</td>\n",
              "    </tr>\n",
              "    <tr>\n",
              "      <th>1574</th>\n",
              "      <td>34424840</td>\n",
              "      <td>bioprinting marches forward with new technology.</td>\n",
              "      <td>with the advent of additive manufacturing and ...</td>\n",
              "      <td>0.829601</td>\n",
              "    </tr>\n",
              "    <tr>\n",
              "      <th>122</th>\n",
              "      <td>34166265</td>\n",
              "      <td>refractory severe laryngospam during rapid seq...</td>\n",
              "      <td>laryngospasm is a rare cause of upper-airway o...</td>\n",
              "      <td>0.805898</td>\n",
              "    </tr>\n",
              "    <tr>\n",
              "      <th>0</th>\n",
              "      <td>34153941</td>\n",
              "      <td>stable coordination variability in overground ...</td>\n",
              "      <td>coordination variability (cv) is commonly anal...</td>\n",
              "      <td>0.731105</td>\n",
              "    </tr>\n",
              "    <tr>\n",
              "      <th>4293</th>\n",
              "      <td>34328422</td>\n",
              "      <td>content analysis and quality evaluation of ces...</td>\n",
              "      <td>youtube is one of the most popular open-access...</td>\n",
              "      <td>0.675247</td>\n",
              "    </tr>\n",
              "    <tr>\n",
              "      <th>193</th>\n",
              "      <td>34182470</td>\n",
              "      <td>optimizing conditions for spheroid formation o...</td>\n",
              "      <td>spheroid formation is a well-known feature of ...</td>\n",
              "      <td>0.685698</td>\n",
              "    </tr>\n",
              "    <tr>\n",
              "      <th>4202</th>\n",
              "      <td>34321490</td>\n",
              "      <td>elevated levels of merkel cell polyoma virus i...</td>\n",
              "      <td>the human ocular surface hosts a paucibacteria...</td>\n",
              "      <td>0.690825</td>\n",
              "    </tr>\n",
              "    <tr>\n",
              "      <th>1372</th>\n",
              "      <td>34398958</td>\n",
              "      <td>urine lipoarabinomannan testing in adults with...</td>\n",
              "      <td>the urine lipoarabinomannan (lam) antigen test...</td>\n",
              "      <td>NaN</td>\n",
              "    </tr>\n",
              "    <tr>\n",
              "      <th>1368</th>\n",
              "      <td>34398954</td>\n",
              "      <td>changing epidemiology of hepatitis b virus and...</td>\n",
              "      <td>the transmission of human immunodeficiency vir...</td>\n",
              "      <td>0.691746</td>\n",
              "    </tr>\n",
              "  </tbody>\n",
              "</table>\n",
              "</div>\n",
              "      <button class=\"colab-df-convert\" onclick=\"convertToInteractive('df-058dfd95-97a3-4606-a8a5-84a03c2dd21e')\"\n",
              "              title=\"Convert this dataframe to an interactive table.\"\n",
              "              style=\"display:none;\">\n",
              "        \n",
              "  <svg xmlns=\"http://www.w3.org/2000/svg\" height=\"24px\"viewBox=\"0 0 24 24\"\n",
              "       width=\"24px\">\n",
              "    <path d=\"M0 0h24v24H0V0z\" fill=\"none\"/>\n",
              "    <path d=\"M18.56 5.44l.94 2.06.94-2.06 2.06-.94-2.06-.94-.94-2.06-.94 2.06-2.06.94zm-11 1L8.5 8.5l.94-2.06 2.06-.94-2.06-.94L8.5 2.5l-.94 2.06-2.06.94zm10 10l.94 2.06.94-2.06 2.06-.94-2.06-.94-.94-2.06-.94 2.06-2.06.94z\"/><path d=\"M17.41 7.96l-1.37-1.37c-.4-.4-.92-.59-1.43-.59-.52 0-1.04.2-1.43.59L10.3 9.45l-7.72 7.72c-.78.78-.78 2.05 0 2.83L4 21.41c.39.39.9.59 1.41.59.51 0 1.02-.2 1.41-.59l7.78-7.78 2.81-2.81c.8-.78.8-2.07 0-2.86zM5.41 20L4 18.59l7.72-7.72 1.47 1.35L5.41 20z\"/>\n",
              "  </svg>\n",
              "      </button>\n",
              "      \n",
              "  <style>\n",
              "    .colab-df-container {\n",
              "      display:flex;\n",
              "      flex-wrap:wrap;\n",
              "      gap: 12px;\n",
              "    }\n",
              "\n",
              "    .colab-df-convert {\n",
              "      background-color: #E8F0FE;\n",
              "      border: none;\n",
              "      border-radius: 50%;\n",
              "      cursor: pointer;\n",
              "      display: none;\n",
              "      fill: #1967D2;\n",
              "      height: 32px;\n",
              "      padding: 0 0 0 0;\n",
              "      width: 32px;\n",
              "    }\n",
              "\n",
              "    .colab-df-convert:hover {\n",
              "      background-color: #E2EBFA;\n",
              "      box-shadow: 0px 1px 2px rgba(60, 64, 67, 0.3), 0px 1px 3px 1px rgba(60, 64, 67, 0.15);\n",
              "      fill: #174EA6;\n",
              "    }\n",
              "\n",
              "    [theme=dark] .colab-df-convert {\n",
              "      background-color: #3B4455;\n",
              "      fill: #D2E3FC;\n",
              "    }\n",
              "\n",
              "    [theme=dark] .colab-df-convert:hover {\n",
              "      background-color: #434B5C;\n",
              "      box-shadow: 0px 1px 3px 1px rgba(0, 0, 0, 0.15);\n",
              "      filter: drop-shadow(0px 1px 2px rgba(0, 0, 0, 0.3));\n",
              "      fill: #FFFFFF;\n",
              "    }\n",
              "  </style>\n",
              "\n",
              "      <script>\n",
              "        const buttonEl =\n",
              "          document.querySelector('#df-058dfd95-97a3-4606-a8a5-84a03c2dd21e button.colab-df-convert');\n",
              "        buttonEl.style.display =\n",
              "          google.colab.kernel.accessAllowed ? 'block' : 'none';\n",
              "\n",
              "        async function convertToInteractive(key) {\n",
              "          const element = document.querySelector('#df-058dfd95-97a3-4606-a8a5-84a03c2dd21e');\n",
              "          const dataTable =\n",
              "            await google.colab.kernel.invokeFunction('convertToInteractive',\n",
              "                                                     [key], {});\n",
              "          if (!dataTable) return;\n",
              "\n",
              "          const docLinkHtml = 'Like what you see? Visit the ' +\n",
              "            '<a target=\"_blank\" href=https://colab.research.google.com/notebooks/data_table.ipynb>data table notebook</a>'\n",
              "            + ' to learn more about interactive tables.';\n",
              "          element.innerHTML = '';\n",
              "          dataTable['output_type'] = 'display_data';\n",
              "          await google.colab.output.renderOutput(dataTable, element);\n",
              "          const docLink = document.createElement('div');\n",
              "          docLink.innerHTML = docLinkHtml;\n",
              "          element.appendChild(docLink);\n",
              "        }\n",
              "      </script>\n",
              "    </div>\n",
              "  </div>\n",
              "  "
            ]
          },
          "metadata": {},
          "execution_count": 118
        }
      ]
    },
    {
      "cell_type": "markdown",
      "source": [
        "##### Jensen–Shannon"
      ],
      "metadata": {
        "id": "ek-yTXCx9es_"
      },
      "id": "ek-yTXCx9es_"
    },
    {
      "cell_type": "code",
      "source": [
        "from scipy.spatial.distance import jensenshannon\n",
        "y = doc_topic_dist[dff.ArticleID == 34160290].iloc[0]\n",
        "d = doc_topic_dist.apply(lambda x: jensenshannon(x, y), axis=1)\n",
        "k_nearest = d[d != 0].nsmallest(n=5).index\n",
        "k_distances = d[d != 0].nsmallest(n=5)\n",
        "k_nearest = dff.iloc[k_nearest].copy()\n",
        "k_nearest['similarity'] = 1 - k_distances \n",
        "k_nearest"
      ],
      "metadata": {
        "colab": {
          "base_uri": "https://localhost:8080/",
          "height": 0
        },
        "id": "0x9TH1MYT33s",
        "outputId": "b2963e3f-f72e-478a-dc68-9797198c618f"
      },
      "id": "0x9TH1MYT33s",
      "execution_count": 117,
      "outputs": [
        {
          "output_type": "execute_result",
          "data": {
            "text/plain": [
              "      ArticleID                                              Title  \\\n",
              "2748   34706001  stress distribution analysis in anterior teeth...   \n",
              "993    34332561  investigation of transient eye closure evoked ...   \n",
              "1574   34424840   bioprinting marches forward with new technology.   \n",
              "122    34166265  refractory severe laryngospam during rapid seq...   \n",
              "0      34153941  stable coordination variability in overground ...   \n",
              "\n",
              "                                               Abstract  similarity  \n",
              "2748  orthodontic retraction of the anterior teeth i...    0.834120  \n",
              "993   this study aimed to present a simple method fo...    0.833460  \n",
              "1574  with the advent of additive manufacturing and ...    0.829601  \n",
              "122   laryngospasm is a rare cause of upper-airway o...    0.805898  \n",
              "0     coordination variability (cv) is commonly anal...    0.731105  "
            ],
            "text/html": [
              "\n",
              "  <div id=\"df-12f2183c-6078-494e-8423-af2b66c91546\">\n",
              "    <div class=\"colab-df-container\">\n",
              "      <div>\n",
              "<style scoped>\n",
              "    .dataframe tbody tr th:only-of-type {\n",
              "        vertical-align: middle;\n",
              "    }\n",
              "\n",
              "    .dataframe tbody tr th {\n",
              "        vertical-align: top;\n",
              "    }\n",
              "\n",
              "    .dataframe thead th {\n",
              "        text-align: right;\n",
              "    }\n",
              "</style>\n",
              "<table border=\"1\" class=\"dataframe\">\n",
              "  <thead>\n",
              "    <tr style=\"text-align: right;\">\n",
              "      <th></th>\n",
              "      <th>ArticleID</th>\n",
              "      <th>Title</th>\n",
              "      <th>Abstract</th>\n",
              "      <th>similarity</th>\n",
              "    </tr>\n",
              "  </thead>\n",
              "  <tbody>\n",
              "    <tr>\n",
              "      <th>2748</th>\n",
              "      <td>34706001</td>\n",
              "      <td>stress distribution analysis in anterior teeth...</td>\n",
              "      <td>orthodontic retraction of the anterior teeth i...</td>\n",
              "      <td>0.834120</td>\n",
              "    </tr>\n",
              "    <tr>\n",
              "      <th>993</th>\n",
              "      <td>34332561</td>\n",
              "      <td>investigation of transient eye closure evoked ...</td>\n",
              "      <td>this study aimed to present a simple method fo...</td>\n",
              "      <td>0.833460</td>\n",
              "    </tr>\n",
              "    <tr>\n",
              "      <th>1574</th>\n",
              "      <td>34424840</td>\n",
              "      <td>bioprinting marches forward with new technology.</td>\n",
              "      <td>with the advent of additive manufacturing and ...</td>\n",
              "      <td>0.829601</td>\n",
              "    </tr>\n",
              "    <tr>\n",
              "      <th>122</th>\n",
              "      <td>34166265</td>\n",
              "      <td>refractory severe laryngospam during rapid seq...</td>\n",
              "      <td>laryngospasm is a rare cause of upper-airway o...</td>\n",
              "      <td>0.805898</td>\n",
              "    </tr>\n",
              "    <tr>\n",
              "      <th>0</th>\n",
              "      <td>34153941</td>\n",
              "      <td>stable coordination variability in overground ...</td>\n",
              "      <td>coordination variability (cv) is commonly anal...</td>\n",
              "      <td>0.731105</td>\n",
              "    </tr>\n",
              "  </tbody>\n",
              "</table>\n",
              "</div>\n",
              "      <button class=\"colab-df-convert\" onclick=\"convertToInteractive('df-12f2183c-6078-494e-8423-af2b66c91546')\"\n",
              "              title=\"Convert this dataframe to an interactive table.\"\n",
              "              style=\"display:none;\">\n",
              "        \n",
              "  <svg xmlns=\"http://www.w3.org/2000/svg\" height=\"24px\"viewBox=\"0 0 24 24\"\n",
              "       width=\"24px\">\n",
              "    <path d=\"M0 0h24v24H0V0z\" fill=\"none\"/>\n",
              "    <path d=\"M18.56 5.44l.94 2.06.94-2.06 2.06-.94-2.06-.94-.94-2.06-.94 2.06-2.06.94zm-11 1L8.5 8.5l.94-2.06 2.06-.94-2.06-.94L8.5 2.5l-.94 2.06-2.06.94zm10 10l.94 2.06.94-2.06 2.06-.94-2.06-.94-.94-2.06-.94 2.06-2.06.94z\"/><path d=\"M17.41 7.96l-1.37-1.37c-.4-.4-.92-.59-1.43-.59-.52 0-1.04.2-1.43.59L10.3 9.45l-7.72 7.72c-.78.78-.78 2.05 0 2.83L4 21.41c.39.39.9.59 1.41.59.51 0 1.02-.2 1.41-.59l7.78-7.78 2.81-2.81c.8-.78.8-2.07 0-2.86zM5.41 20L4 18.59l7.72-7.72 1.47 1.35L5.41 20z\"/>\n",
              "  </svg>\n",
              "      </button>\n",
              "      \n",
              "  <style>\n",
              "    .colab-df-container {\n",
              "      display:flex;\n",
              "      flex-wrap:wrap;\n",
              "      gap: 12px;\n",
              "    }\n",
              "\n",
              "    .colab-df-convert {\n",
              "      background-color: #E8F0FE;\n",
              "      border: none;\n",
              "      border-radius: 50%;\n",
              "      cursor: pointer;\n",
              "      display: none;\n",
              "      fill: #1967D2;\n",
              "      height: 32px;\n",
              "      padding: 0 0 0 0;\n",
              "      width: 32px;\n",
              "    }\n",
              "\n",
              "    .colab-df-convert:hover {\n",
              "      background-color: #E2EBFA;\n",
              "      box-shadow: 0px 1px 2px rgba(60, 64, 67, 0.3), 0px 1px 3px 1px rgba(60, 64, 67, 0.15);\n",
              "      fill: #174EA6;\n",
              "    }\n",
              "\n",
              "    [theme=dark] .colab-df-convert {\n",
              "      background-color: #3B4455;\n",
              "      fill: #D2E3FC;\n",
              "    }\n",
              "\n",
              "    [theme=dark] .colab-df-convert:hover {\n",
              "      background-color: #434B5C;\n",
              "      box-shadow: 0px 1px 3px 1px rgba(0, 0, 0, 0.15);\n",
              "      filter: drop-shadow(0px 1px 2px rgba(0, 0, 0, 0.3));\n",
              "      fill: #FFFFFF;\n",
              "    }\n",
              "  </style>\n",
              "\n",
              "      <script>\n",
              "        const buttonEl =\n",
              "          document.querySelector('#df-12f2183c-6078-494e-8423-af2b66c91546 button.colab-df-convert');\n",
              "        buttonEl.style.display =\n",
              "          google.colab.kernel.accessAllowed ? 'block' : 'none';\n",
              "\n",
              "        async function convertToInteractive(key) {\n",
              "          const element = document.querySelector('#df-12f2183c-6078-494e-8423-af2b66c91546');\n",
              "          const dataTable =\n",
              "            await google.colab.kernel.invokeFunction('convertToInteractive',\n",
              "                                                     [key], {});\n",
              "          if (!dataTable) return;\n",
              "\n",
              "          const docLinkHtml = 'Like what you see? Visit the ' +\n",
              "            '<a target=\"_blank\" href=https://colab.research.google.com/notebooks/data_table.ipynb>data table notebook</a>'\n",
              "            + ' to learn more about interactive tables.';\n",
              "          element.innerHTML = '';\n",
              "          dataTable['output_type'] = 'display_data';\n",
              "          await google.colab.output.renderOutput(dataTable, element);\n",
              "          const docLink = document.createElement('div');\n",
              "          docLink.innerHTML = docLinkHtml;\n",
              "          element.appendChild(docLink);\n",
              "        }\n",
              "      </script>\n",
              "    </div>\n",
              "  </div>\n",
              "  "
            ]
          },
          "metadata": {},
          "execution_count": 117
        }
      ]
    },
    {
      "cell_type": "markdown",
      "source": [
        "##### Cosine"
      ],
      "metadata": {
        "id": "zbv0BOE69x70"
      },
      "id": "zbv0BOE69x70"
    },
    {
      "cell_type": "code",
      "source": [
        "from scipy.spatial.distance import cosine\n",
        "e = doc_topic_dist.apply(lambda x: cosine(x, y), axis=1)\n",
        "k_nearest = e[e != 0].nsmallest(n=8).index\n",
        "k_distances = d[d != 0].nsmallest(n=8)\n",
        "k_nearest = dff.iloc[k_nearest].copy()\n",
        "k_nearest['similarity'] = 1 - k_distances \n",
        "k_nearest"
      ],
      "metadata": {
        "colab": {
          "base_uri": "https://localhost:8080/",
          "height": 0
        },
        "id": "3D8JltFzq_gm",
        "outputId": "1ca31cd2-3ae9-43d2-e1ce-9f3027e0cc85"
      },
      "id": "3D8JltFzq_gm",
      "execution_count": 115,
      "outputs": [
        {
          "output_type": "execute_result",
          "data": {
            "text/plain": [
              "      ArticleID                                              Title  \\\n",
              "1574   34424840   bioprinting marches forward with new technology.   \n",
              "2748   34706001  stress distribution analysis in anterior teeth...   \n",
              "993    34332561  investigation of transient eye closure evoked ...   \n",
              "122    34166265  refractory severe laryngospam during rapid seq...   \n",
              "1372   34398958  urine lipoarabinomannan testing in adults with...   \n",
              "82     34160290  highly prevalent russian hiv-1 v3-loop sequenc...   \n",
              "4293   34328422  content analysis and quality evaluation of ces...   \n",
              "193    34182470  optimizing conditions for spheroid formation o...   \n",
              "\n",
              "                                               Abstract  similarity  \n",
              "1574  with the advent of additive manufacturing and ...    0.780248  \n",
              "2748  orthodontic retraction of the anterior teeth i...    0.781813  \n",
              "993   this study aimed to present a simple method fo...    0.781044  \n",
              "122   laryngospasm is a rare cause of upper-airway o...    0.761730  \n",
              "1372  the urine lipoarabinomannan (lam) antigen test...    0.784462  \n",
              "82    maraviroc inhibits ccr5-tropic hiv-1 across di...    0.731105  \n",
              "4293  youtube is one of the most popular open-access...         NaN  \n",
              "193   spheroid formation is a well-known feature of ...         NaN  "
            ],
            "text/html": [
              "\n",
              "  <div id=\"df-f9fb9a09-e75b-40f5-b571-6990bdf585c6\">\n",
              "    <div class=\"colab-df-container\">\n",
              "      <div>\n",
              "<style scoped>\n",
              "    .dataframe tbody tr th:only-of-type {\n",
              "        vertical-align: middle;\n",
              "    }\n",
              "\n",
              "    .dataframe tbody tr th {\n",
              "        vertical-align: top;\n",
              "    }\n",
              "\n",
              "    .dataframe thead th {\n",
              "        text-align: right;\n",
              "    }\n",
              "</style>\n",
              "<table border=\"1\" class=\"dataframe\">\n",
              "  <thead>\n",
              "    <tr style=\"text-align: right;\">\n",
              "      <th></th>\n",
              "      <th>ArticleID</th>\n",
              "      <th>Title</th>\n",
              "      <th>Abstract</th>\n",
              "      <th>similarity</th>\n",
              "    </tr>\n",
              "  </thead>\n",
              "  <tbody>\n",
              "    <tr>\n",
              "      <th>1574</th>\n",
              "      <td>34424840</td>\n",
              "      <td>bioprinting marches forward with new technology.</td>\n",
              "      <td>with the advent of additive manufacturing and ...</td>\n",
              "      <td>0.780248</td>\n",
              "    </tr>\n",
              "    <tr>\n",
              "      <th>2748</th>\n",
              "      <td>34706001</td>\n",
              "      <td>stress distribution analysis in anterior teeth...</td>\n",
              "      <td>orthodontic retraction of the anterior teeth i...</td>\n",
              "      <td>0.781813</td>\n",
              "    </tr>\n",
              "    <tr>\n",
              "      <th>993</th>\n",
              "      <td>34332561</td>\n",
              "      <td>investigation of transient eye closure evoked ...</td>\n",
              "      <td>this study aimed to present a simple method fo...</td>\n",
              "      <td>0.781044</td>\n",
              "    </tr>\n",
              "    <tr>\n",
              "      <th>122</th>\n",
              "      <td>34166265</td>\n",
              "      <td>refractory severe laryngospam during rapid seq...</td>\n",
              "      <td>laryngospasm is a rare cause of upper-airway o...</td>\n",
              "      <td>0.761730</td>\n",
              "    </tr>\n",
              "    <tr>\n",
              "      <th>1372</th>\n",
              "      <td>34398958</td>\n",
              "      <td>urine lipoarabinomannan testing in adults with...</td>\n",
              "      <td>the urine lipoarabinomannan (lam) antigen test...</td>\n",
              "      <td>0.784462</td>\n",
              "    </tr>\n",
              "    <tr>\n",
              "      <th>82</th>\n",
              "      <td>34160290</td>\n",
              "      <td>highly prevalent russian hiv-1 v3-loop sequenc...</td>\n",
              "      <td>maraviroc inhibits ccr5-tropic hiv-1 across di...</td>\n",
              "      <td>0.731105</td>\n",
              "    </tr>\n",
              "    <tr>\n",
              "      <th>4293</th>\n",
              "      <td>34328422</td>\n",
              "      <td>content analysis and quality evaluation of ces...</td>\n",
              "      <td>youtube is one of the most popular open-access...</td>\n",
              "      <td>NaN</td>\n",
              "    </tr>\n",
              "    <tr>\n",
              "      <th>193</th>\n",
              "      <td>34182470</td>\n",
              "      <td>optimizing conditions for spheroid formation o...</td>\n",
              "      <td>spheroid formation is a well-known feature of ...</td>\n",
              "      <td>NaN</td>\n",
              "    </tr>\n",
              "  </tbody>\n",
              "</table>\n",
              "</div>\n",
              "      <button class=\"colab-df-convert\" onclick=\"convertToInteractive('df-f9fb9a09-e75b-40f5-b571-6990bdf585c6')\"\n",
              "              title=\"Convert this dataframe to an interactive table.\"\n",
              "              style=\"display:none;\">\n",
              "        \n",
              "  <svg xmlns=\"http://www.w3.org/2000/svg\" height=\"24px\"viewBox=\"0 0 24 24\"\n",
              "       width=\"24px\">\n",
              "    <path d=\"M0 0h24v24H0V0z\" fill=\"none\"/>\n",
              "    <path d=\"M18.56 5.44l.94 2.06.94-2.06 2.06-.94-2.06-.94-.94-2.06-.94 2.06-2.06.94zm-11 1L8.5 8.5l.94-2.06 2.06-.94-2.06-.94L8.5 2.5l-.94 2.06-2.06.94zm10 10l.94 2.06.94-2.06 2.06-.94-2.06-.94-.94-2.06-.94 2.06-2.06.94z\"/><path d=\"M17.41 7.96l-1.37-1.37c-.4-.4-.92-.59-1.43-.59-.52 0-1.04.2-1.43.59L10.3 9.45l-7.72 7.72c-.78.78-.78 2.05 0 2.83L4 21.41c.39.39.9.59 1.41.59.51 0 1.02-.2 1.41-.59l7.78-7.78 2.81-2.81c.8-.78.8-2.07 0-2.86zM5.41 20L4 18.59l7.72-7.72 1.47 1.35L5.41 20z\"/>\n",
              "  </svg>\n",
              "      </button>\n",
              "      \n",
              "  <style>\n",
              "    .colab-df-container {\n",
              "      display:flex;\n",
              "      flex-wrap:wrap;\n",
              "      gap: 12px;\n",
              "    }\n",
              "\n",
              "    .colab-df-convert {\n",
              "      background-color: #E8F0FE;\n",
              "      border: none;\n",
              "      border-radius: 50%;\n",
              "      cursor: pointer;\n",
              "      display: none;\n",
              "      fill: #1967D2;\n",
              "      height: 32px;\n",
              "      padding: 0 0 0 0;\n",
              "      width: 32px;\n",
              "    }\n",
              "\n",
              "    .colab-df-convert:hover {\n",
              "      background-color: #E2EBFA;\n",
              "      box-shadow: 0px 1px 2px rgba(60, 64, 67, 0.3), 0px 1px 3px 1px rgba(60, 64, 67, 0.15);\n",
              "      fill: #174EA6;\n",
              "    }\n",
              "\n",
              "    [theme=dark] .colab-df-convert {\n",
              "      background-color: #3B4455;\n",
              "      fill: #D2E3FC;\n",
              "    }\n",
              "\n",
              "    [theme=dark] .colab-df-convert:hover {\n",
              "      background-color: #434B5C;\n",
              "      box-shadow: 0px 1px 3px 1px rgba(0, 0, 0, 0.15);\n",
              "      filter: drop-shadow(0px 1px 2px rgba(0, 0, 0, 0.3));\n",
              "      fill: #FFFFFF;\n",
              "    }\n",
              "  </style>\n",
              "\n",
              "      <script>\n",
              "        const buttonEl =\n",
              "          document.querySelector('#df-f9fb9a09-e75b-40f5-b571-6990bdf585c6 button.colab-df-convert');\n",
              "        buttonEl.style.display =\n",
              "          google.colab.kernel.accessAllowed ? 'block' : 'none';\n",
              "\n",
              "        async function convertToInteractive(key) {\n",
              "          const element = document.querySelector('#df-f9fb9a09-e75b-40f5-b571-6990bdf585c6');\n",
              "          const dataTable =\n",
              "            await google.colab.kernel.invokeFunction('convertToInteractive',\n",
              "                                                     [key], {});\n",
              "          if (!dataTable) return;\n",
              "\n",
              "          const docLinkHtml = 'Like what you see? Visit the ' +\n",
              "            '<a target=\"_blank\" href=https://colab.research.google.com/notebooks/data_table.ipynb>data table notebook</a>'\n",
              "            + ' to learn more about interactive tables.';\n",
              "          element.innerHTML = '';\n",
              "          dataTable['output_type'] = 'display_data';\n",
              "          await google.colab.output.renderOutput(dataTable, element);\n",
              "          const docLink = document.createElement('div');\n",
              "          docLink.innerHTML = docLinkHtml;\n",
              "          element.appendChild(docLink);\n",
              "        }\n",
              "      </script>\n",
              "    </div>\n",
              "  </div>\n",
              "  "
            ]
          },
          "metadata": {},
          "execution_count": 115
        }
      ]
    },
    {
      "cell_type": "markdown",
      "source": [
        "##### Cityblock"
      ],
      "metadata": {
        "id": "TcD79PNq9666"
      },
      "id": "TcD79PNq9666"
    },
    {
      "cell_type": "code",
      "source": [
        "from scipy.spatial.distance import cityblock\n",
        "e = doc_topic_dist.apply(lambda x: cityblock(x, y), axis=1)\n",
        "k_nearest = e[e != 0].nsmallest(n=8).index\n",
        "k_distances = e[e != 0].nsmallest(n=8)\n",
        "k_nearest = dff.iloc[k_nearest].copy()\n",
        "k_nearest['similarity'] = 1 - k_distances \n",
        "k_nearest"
      ],
      "metadata": {
        "colab": {
          "base_uri": "https://localhost:8080/",
          "height": 0
        },
        "id": "52weUAMzql2m",
        "outputId": "e7fbfa77-4a50-4f8c-9f97-00e1927bdde8"
      },
      "id": "52weUAMzql2m",
      "execution_count": 116,
      "outputs": [
        {
          "output_type": "execute_result",
          "data": {
            "text/plain": [
              "      ArticleID                                              Title  \\\n",
              "1372   34398958  urine lipoarabinomannan testing in adults with...   \n",
              "1574   34424840   bioprinting marches forward with new technology.   \n",
              "122    34166265  refractory severe laryngospam during rapid seq...   \n",
              "2748   34706001  stress distribution analysis in anterior teeth...   \n",
              "82     34160290  highly prevalent russian hiv-1 v3-loop sequenc...   \n",
              "993    34332561  investigation of transient eye closure evoked ...   \n",
              "4202   34321490  elevated levels of merkel cell polyoma virus i...   \n",
              "193    34182470  optimizing conditions for spheroid formation o...   \n",
              "\n",
              "                                               Abstract  similarity  \n",
              "1372  the urine lipoarabinomannan (lam) antigen test...    0.784462  \n",
              "1574  with the advent of additive manufacturing and ...    0.780248  \n",
              "122   laryngospasm is a rare cause of upper-airway o...    0.761730  \n",
              "2748  orthodontic retraction of the anterior teeth i...    0.781813  \n",
              "82    maraviroc inhibits ccr5-tropic hiv-1 across di...    0.731105  \n",
              "993   this study aimed to present a simple method fo...    0.781044  \n",
              "4202  the human ocular surface hosts a paucibacteria...    0.664631  \n",
              "193   spheroid formation is a well-known feature of ...         NaN  "
            ],
            "text/html": [
              "\n",
              "  <div id=\"df-ef689293-a3d9-4767-bb30-340589832f49\">\n",
              "    <div class=\"colab-df-container\">\n",
              "      <div>\n",
              "<style scoped>\n",
              "    .dataframe tbody tr th:only-of-type {\n",
              "        vertical-align: middle;\n",
              "    }\n",
              "\n",
              "    .dataframe tbody tr th {\n",
              "        vertical-align: top;\n",
              "    }\n",
              "\n",
              "    .dataframe thead th {\n",
              "        text-align: right;\n",
              "    }\n",
              "</style>\n",
              "<table border=\"1\" class=\"dataframe\">\n",
              "  <thead>\n",
              "    <tr style=\"text-align: right;\">\n",
              "      <th></th>\n",
              "      <th>ArticleID</th>\n",
              "      <th>Title</th>\n",
              "      <th>Abstract</th>\n",
              "      <th>similarity</th>\n",
              "    </tr>\n",
              "  </thead>\n",
              "  <tbody>\n",
              "    <tr>\n",
              "      <th>1372</th>\n",
              "      <td>34398958</td>\n",
              "      <td>urine lipoarabinomannan testing in adults with...</td>\n",
              "      <td>the urine lipoarabinomannan (lam) antigen test...</td>\n",
              "      <td>0.784462</td>\n",
              "    </tr>\n",
              "    <tr>\n",
              "      <th>1574</th>\n",
              "      <td>34424840</td>\n",
              "      <td>bioprinting marches forward with new technology.</td>\n",
              "      <td>with the advent of additive manufacturing and ...</td>\n",
              "      <td>0.780248</td>\n",
              "    </tr>\n",
              "    <tr>\n",
              "      <th>122</th>\n",
              "      <td>34166265</td>\n",
              "      <td>refractory severe laryngospam during rapid seq...</td>\n",
              "      <td>laryngospasm is a rare cause of upper-airway o...</td>\n",
              "      <td>0.761730</td>\n",
              "    </tr>\n",
              "    <tr>\n",
              "      <th>2748</th>\n",
              "      <td>34706001</td>\n",
              "      <td>stress distribution analysis in anterior teeth...</td>\n",
              "      <td>orthodontic retraction of the anterior teeth i...</td>\n",
              "      <td>0.781813</td>\n",
              "    </tr>\n",
              "    <tr>\n",
              "      <th>82</th>\n",
              "      <td>34160290</td>\n",
              "      <td>highly prevalent russian hiv-1 v3-loop sequenc...</td>\n",
              "      <td>maraviroc inhibits ccr5-tropic hiv-1 across di...</td>\n",
              "      <td>0.731105</td>\n",
              "    </tr>\n",
              "    <tr>\n",
              "      <th>993</th>\n",
              "      <td>34332561</td>\n",
              "      <td>investigation of transient eye closure evoked ...</td>\n",
              "      <td>this study aimed to present a simple method fo...</td>\n",
              "      <td>0.781044</td>\n",
              "    </tr>\n",
              "    <tr>\n",
              "      <th>4202</th>\n",
              "      <td>34321490</td>\n",
              "      <td>elevated levels of merkel cell polyoma virus i...</td>\n",
              "      <td>the human ocular surface hosts a paucibacteria...</td>\n",
              "      <td>0.664631</td>\n",
              "    </tr>\n",
              "    <tr>\n",
              "      <th>193</th>\n",
              "      <td>34182470</td>\n",
              "      <td>optimizing conditions for spheroid formation o...</td>\n",
              "      <td>spheroid formation is a well-known feature of ...</td>\n",
              "      <td>NaN</td>\n",
              "    </tr>\n",
              "  </tbody>\n",
              "</table>\n",
              "</div>\n",
              "      <button class=\"colab-df-convert\" onclick=\"convertToInteractive('df-ef689293-a3d9-4767-bb30-340589832f49')\"\n",
              "              title=\"Convert this dataframe to an interactive table.\"\n",
              "              style=\"display:none;\">\n",
              "        \n",
              "  <svg xmlns=\"http://www.w3.org/2000/svg\" height=\"24px\"viewBox=\"0 0 24 24\"\n",
              "       width=\"24px\">\n",
              "    <path d=\"M0 0h24v24H0V0z\" fill=\"none\"/>\n",
              "    <path d=\"M18.56 5.44l.94 2.06.94-2.06 2.06-.94-2.06-.94-.94-2.06-.94 2.06-2.06.94zm-11 1L8.5 8.5l.94-2.06 2.06-.94-2.06-.94L8.5 2.5l-.94 2.06-2.06.94zm10 10l.94 2.06.94-2.06 2.06-.94-2.06-.94-.94-2.06-.94 2.06-2.06.94z\"/><path d=\"M17.41 7.96l-1.37-1.37c-.4-.4-.92-.59-1.43-.59-.52 0-1.04.2-1.43.59L10.3 9.45l-7.72 7.72c-.78.78-.78 2.05 0 2.83L4 21.41c.39.39.9.59 1.41.59.51 0 1.02-.2 1.41-.59l7.78-7.78 2.81-2.81c.8-.78.8-2.07 0-2.86zM5.41 20L4 18.59l7.72-7.72 1.47 1.35L5.41 20z\"/>\n",
              "  </svg>\n",
              "      </button>\n",
              "      \n",
              "  <style>\n",
              "    .colab-df-container {\n",
              "      display:flex;\n",
              "      flex-wrap:wrap;\n",
              "      gap: 12px;\n",
              "    }\n",
              "\n",
              "    .colab-df-convert {\n",
              "      background-color: #E8F0FE;\n",
              "      border: none;\n",
              "      border-radius: 50%;\n",
              "      cursor: pointer;\n",
              "      display: none;\n",
              "      fill: #1967D2;\n",
              "      height: 32px;\n",
              "      padding: 0 0 0 0;\n",
              "      width: 32px;\n",
              "    }\n",
              "\n",
              "    .colab-df-convert:hover {\n",
              "      background-color: #E2EBFA;\n",
              "      box-shadow: 0px 1px 2px rgba(60, 64, 67, 0.3), 0px 1px 3px 1px rgba(60, 64, 67, 0.15);\n",
              "      fill: #174EA6;\n",
              "    }\n",
              "\n",
              "    [theme=dark] .colab-df-convert {\n",
              "      background-color: #3B4455;\n",
              "      fill: #D2E3FC;\n",
              "    }\n",
              "\n",
              "    [theme=dark] .colab-df-convert:hover {\n",
              "      background-color: #434B5C;\n",
              "      box-shadow: 0px 1px 3px 1px rgba(0, 0, 0, 0.15);\n",
              "      filter: drop-shadow(0px 1px 2px rgba(0, 0, 0, 0.3));\n",
              "      fill: #FFFFFF;\n",
              "    }\n",
              "  </style>\n",
              "\n",
              "      <script>\n",
              "        const buttonEl =\n",
              "          document.querySelector('#df-ef689293-a3d9-4767-bb30-340589832f49 button.colab-df-convert');\n",
              "        buttonEl.style.display =\n",
              "          google.colab.kernel.accessAllowed ? 'block' : 'none';\n",
              "\n",
              "        async function convertToInteractive(key) {\n",
              "          const element = document.querySelector('#df-ef689293-a3d9-4767-bb30-340589832f49');\n",
              "          const dataTable =\n",
              "            await google.colab.kernel.invokeFunction('convertToInteractive',\n",
              "                                                     [key], {});\n",
              "          if (!dataTable) return;\n",
              "\n",
              "          const docLinkHtml = 'Like what you see? Visit the ' +\n",
              "            '<a target=\"_blank\" href=https://colab.research.google.com/notebooks/data_table.ipynb>data table notebook</a>'\n",
              "            + ' to learn more about interactive tables.';\n",
              "          element.innerHTML = '';\n",
              "          dataTable['output_type'] = 'display_data';\n",
              "          await google.colab.output.renderOutput(dataTable, element);\n",
              "          const docLink = document.createElement('div');\n",
              "          docLink.innerHTML = docLinkHtml;\n",
              "          element.appendChild(docLink);\n",
              "        }\n",
              "      </script>\n",
              "    </div>\n",
              "  </div>\n",
              "  "
            ]
          },
          "metadata": {},
          "execution_count": 116
        }
      ]
    },
    {
      "cell_type": "markdown",
      "source": [
        "#### Implementing a function to get the nearest topics same idea as **KNN**"
      ],
      "metadata": {
        "id": "S6ZfPysY-V5K"
      },
      "id": "S6ZfPysY-V5K"
    },
    {
      "cell_type": "markdown",
      "source": [
        "**Using Jensen–Shannon as it the most optimal one with no NaNs and using it in the KND \"K Nearest Docs\" function below**"
      ],
      "metadata": {
        "id": "0wFhDIA3-BHt"
      },
      "id": "0wFhDIA3-BHt"
    },
    {
      "cell_type": "code",
      "source": [
        "def get_k_nearest_docs(doc_dist, k=5, get_dist=False):\n",
        "    '''\n",
        "    doc_dist: topic distribution (sums to 1) of one article\n",
        "    \n",
        "    Returns the index of the k nearest articles (as by Jensen–Shannon divergence in topic space). \n",
        "    '''\n",
        "    temp = doc_topic_dist     \n",
        "    distances = temp.apply(lambda x: jensenshannon(x, doc_dist), axis=1)\n",
        "    k_nearest = distances[distances != 0].nsmallest(n=k).index\n",
        "    \n",
        "    if get_dist:\n",
        "        k_distances = distances[distances != 0].nsmallest(n=k)\n",
        "        return k_nearest, k_distances\n",
        "    else:\n",
        "        return k_nearest"
      ],
      "metadata": {
        "id": "7A1Jn4GujSqM"
      },
      "id": "7A1Jn4GujSqM",
      "execution_count": 64,
      "outputs": []
    },
    {
      "cell_type": "markdown",
      "source": [
        "**Implementing a function to return the desired number of the articles based on the nearest probability.**"
      ],
      "metadata": {
        "id": "hWroxDZV-nfR"
      },
      "id": "hWroxDZV-nfR"
    },
    {
      "cell_type": "code",
      "source": [
        "def recommendation(paper_id, k=5):\n",
        "    '''\n",
        "    Returns the title of the k papers that are closest (topic-wise) to the paper given by paper_id.\n",
        "    '''\n",
        "    \n",
        "    print(\">> \" + dff.Title[dff.ArticleID == paper_id].values[0])\n",
        "    print(\">> \" + dff.Abstract[dff.ArticleID == paper_id].values[0])\n",
        "\n",
        "    recommended, dist = get_k_nearest_docs(doc_topic_dist[dff.ArticleID == paper_id].iloc[0], k, get_dist=True)\n",
        "    recommended = dff.iloc[recommended].copy()\n",
        "    recommended['similarity'] = 1 - dist \n",
        "    \n",
        "    h = '<br/>'.join(['<a target=\"_blank\">'+ n + '</a>' +' (Similarity: ' + \"{:.2f}\".format(s) + ')' + '<br>' + t for n, s, t in recommended[['Title', 'similarity', 'Abstract']].values])\n",
        "    display(HTML(h))\n",
        "    "
      ],
      "metadata": {
        "id": "IkyqJcrYj7sS"
      },
      "id": "IkyqJcrYj7sS",
      "execution_count": 70,
      "outputs": []
    },
    {
      "cell_type": "markdown",
      "source": [
        "**Testing for any article based on the ArticleID as shown below:**"
      ],
      "metadata": {
        "id": "XpbGwunU_Gq_"
      },
      "id": "XpbGwunU_Gq_"
    },
    {
      "cell_type": "code",
      "source": [
        "recommendation(34166137, k=3)"
      ],
      "metadata": {
        "colab": {
          "base_uri": "https://localhost:8080/",
          "height": 662
        },
        "id": "jeK_76YGj7k9",
        "outputId": "37aeacf5-8e9b-4351-bbf2-bb0c60046dd4"
      },
      "id": "jeK_76YGj7k9",
      "execution_count": 71,
      "outputs": [
        {
          "output_type": "stream",
          "name": "stdout",
          "text": [
            ">> mental stress, anxiety and depressive symptoms and interleuken-6 level among healthcare workers during the covid-19 pandemic.\n",
            ">> this study aimed to evaluate the interleukin-6 (il-6) levels and its relationship to stress, aniety, and depressive symptoms among healthcare workers (hcws) compared to controls during the covid-19 pandemic.,a total of 80 hcws in suez canal university hospital in ismailia, egypt, and 80 controls were analyzed during the covid-19 pandemic. the depression, aniety and stress scale (dass 21) questionnaire was used, and serum il-6 level was determined in both groups.,the il-6 level and dass score were higher in hcws compared to those in controls during the covid-19 pandemic. the type of work as a healthcare staff, stress, and irregular or night shift were predictors of increased il-6 levels.\n"
          ]
        },
        {
          "output_type": "display_data",
          "data": {
            "text/plain": [
              "<IPython.core.display.HTML object>"
            ],
            "text/html": [
              "<a target=\"_blank\">factors associated with violence against women following the covid-19 lockdown in france: results from a prospective online survey.</a> (Similarity: 0.70)<br>the aim of this research was to investigate the impact of the first covid-19 lockdown (march 17th-may 11th 2020) on violence against women in france.,a prospective survey was conducted online between april 2th 2020 and july 5th 2020. female respondents were recruited from social media networks using the snowball sampling method. data were collected three times: during (2-19 april) and at the end (11-25 may) of the first lockdown, and following the first lockdown (20 june- 05 july). sociodemographic variables, lockdown living conditions, financial impact of covid, and history of psychiatric disorder were evaluated, together with changes in psychological distress over the lockdown period, and the risk of being assaulted post lockdown.,psychological distress was elevated and remained stable for most of the 1538 female respondents during lockdown. more than 7% of women were affected by physical or seual violence post lockdown. unwanted seual contact accounted for the majority of abuse, but physical and seual assault were also prevalent. the risk of being abused was higher for participants who had changed aniety/insomnia symptoms over the lockdown period, and a history of abuse.,women who eperienced changes in aniety/insomnia symptoms during the covid-19 lockdown were at higher risk than others of being assaulted post lockdown, especially when they were already socially vulnerable. while social and psychological factors accounting for these changes warrant further investigation, communication and preventive measures during pandemics should include initiatives tailored to women more vulnerable to violence.<br/><a target=\"_blank\">the role of anxiety, stigma, religiosity, and economic condition in covid-19 preventive efforts among lecturers.</a> (Similarity: 0.69)<br>the covid-19 pandemic influences the spirituality and mental health of individuals. it also has caused a global economic recession. covid-19 is easily transmitted and causes death. consequently, severe prevention and control measures of covid 19 are required in this situation. this study aims to analyze the relationship between aniety, stigma, religiosity, economic conditions, and the prevention of covid-19.,a cross-sectional study was designed. the data collection was taken through online surveys. the population in this study is ninety-two lecturers from the college of health sciences and the state islamic institute who were chosen using a non-probability snowball sampling technique. data analysis used logistic regression analysis.,the results showed that there was a relationship between aniety (p = 0.001), stigma (p = 0.008), religiosity (p = 0.005) and the efforts to prevent covid-19, while economic conditions (p = 0.882) were not related to the preventive efforts. the results of multivariate analysis indicated that the most influential variable affecting covid-19 preventions was the level of aniety, with an odds ratio of 4.9.,there was a relationship between aniety, stigma, religiosity, and covid-19 preventions, while there was no relationship between economic conditions and covid-19 preventions. the most influencing variable was aniety. respondents must be able to manage aniety levels related to covid-19 with good coping strategies.<br/><a target=\"_blank\">mediating role of coping styles on anxiety in healthcare workers victim of violence: a cross-sectional survey in china hospitals.</a> (Similarity: 0.67)<br>the purposes of this study were to evaluate the rate of workplace violence in county hospitals in china and its impact on healthcare workers and to eplore the relationship between hospital violence, coping styles and aniety to provide effective procedures for reducing aniety among healthcare workers.,the study used stratified sampling to select 1200 healthcare workers from 30 county hospitals in china to conduct a questionnaire survey. of these, 1030 were valid questionnaires, and the effective response rate was 85.83%. we collected demographic characteristics of our participants and administered the following scales to them: workplace violence, trait coping style, self-rating aniety. data were statistically analysed.,the results showed that 67.28% of healthcare workers in county hospitals in china had eperienced workplace violence in the previous 12 months, with prevalent verbal violence (66.12%) followed by physical violence (15.24%). workplace violence in hospitals was negatively related to positive coping (r=-0.091, p<0.01) but positively related to negative coping (r=0.114, p<0.001) and aniety (r=0.298, p<0.001). positive and negative coping was negatively (r=-0.085, p<0.01) and positively (r=0.254, p<0.001) associated with aniety respectively. positive and negative coping influenced both hospital workplace violence and aniety in healthcare workers who were victims of violence. compared with positive coping, the mediating effect of negative coping was stronger (95% ci -0.177 to -0.006).,the incidence of workplace violence among healthcare workers in county-level hospitals in china is relatively high, and there is a correlation between hospital violence, coping styles and aniety. positive and negative coping play a mediating role in the impact of hospital violence on healthcare workers' aniety. therefore, hospital administrators should actively promote healthcare workers' transition to positive coping strategies and minimise the negative impact of aniety on them."
            ]
          },
          "metadata": {}
        }
      ]
    },
    {
      "cell_type": "markdown",
      "source": [
        "**This approach is the most acceptable using Jensen–Shannon amongest the other approaches used**"
      ],
      "metadata": {
        "id": "8t4-sEgaulj0"
      },
      "id": "8t4-sEgaulj0"
    },
    {
      "cell_type": "markdown",
      "source": [
        "# Future Work"
      ],
      "metadata": {
        "id": "eDqjXHP3wVDs"
      },
      "id": "eDqjXHP3wVDs"
    },
    {
      "cell_type": "markdown",
      "source": [
        "## How to further clean & optimize the data-sets?"
      ],
      "metadata": {
        "id": "ZGWCa0tdwj47"
      },
      "id": "ZGWCa0tdwj47"
    },
    {
      "cell_type": "markdown",
      "source": [
        "- For example a column of the category of each paper to make it easier to standardize them and train the model accordingly as well, which in this case will be a supervised classification problem.\n",
        "-Also, a column contains **Keywords** for each paper may also be a great addition."
      ],
      "metadata": {
        "id": "feVPe1Bqwj2O"
      },
      "id": "feVPe1Bqwj2O"
    },
    {
      "cell_type": "markdown",
      "source": [
        "## How you can further improve the results?"
      ],
      "metadata": {
        "id": "wEKdpNUkwjzV"
      },
      "id": "wEKdpNUkwjzV"
    },
    {
      "cell_type": "markdown",
      "source": [
        "Other approaches can be used like:\n",
        ">> Text segmentation, the task of dividing a document into contiguous sections that are semantically and contextually meaningful, is a field of research that will benefit from advancements in sentence representation. In turn, text segmentation has great potential to aid the NLP tasks of information\n",
        "extraction and summarization. While previous work in this domain has primarily investigated unsupervised methods, there appears to be potential for improvement through supervised methods. **(Nicholls, A.S. (2021). A Neural Model for Text Segmentation.)**\n",
        "\n",
        ">> Another interesting alternative is to take a weighted average of word vectors, then modifies them using Principal Component Analysis/Singular Value Decomposition. **(Arora, S., Li, Y., Liang, Y., Ma, T., & Risteski, A. (2016). A Latent Variable Model Approach to PMI-based Word Embeddings.)**\n",
        "\n",
        ">> NLP technology using the ensemble learning method may effectively assist in text extraction and topic modeling. **(Qin, X., Liu, J., Wang, Y., Liu, Y., Deng, K., Ma, Y., … Sun, X. (2021). Natural language processing was effective in assisting rapid title and abstract screening when updating systematic reviews. Journal of Clinical Epidemiology.)**\n",
        "\n",
        ">> Also, it was proposed a more comprehensive investigation\n",
        "of additional NLP preprocessing techniques, such as stemming\n",
        "and lemmatization, as well as of the use of other pre-trained\n",
        "word vectors, such as fastText and GloVe. Also, how to leverage metric learning approaches (e.g., siamese networks, triplets networks) to improve the BERT embeddings. **(Paulucio, L. S., Paixao, T. M., Berriel, R. F., De Souza, A. F., Badue, C., & Oliveira-Santos, T. (2020). Product Categorization by Title Using Deep Neural Networks as Feature Extractor. 2020 International Joint Conference on Neural Networks.)**"
      ],
      "metadata": {
        "id": "NeOv_p78wjwa"
      },
      "id": "NeOv_p78wjwa"
    },
    {
      "cell_type": "code",
      "source": [
        ""
      ],
      "metadata": {
        "id": "DS4rgN433pD7"
      },
      "id": "DS4rgN433pD7",
      "execution_count": null,
      "outputs": []
    }
  ],
  "metadata": {
    "colab": {
      "collapsed_sections": [
        "w_BwASMCYfYK",
        "wn0XfA5JLA9R",
        "315a1f88",
        "K7cK-nnVCog7",
        "qJ7333lf8w2O",
        "g0LJ7Nwv9O9_",
        "ek-yTXCx9es_",
        "zbv0BOE69x70",
        "TcD79PNq9666",
        "ZGWCa0tdwj47",
        "wEKdpNUkwjzV"
      ],
      "name": "MinaPharm ML.ipynb",
      "provenance": [],
      "include_colab_link": true
    },
    "kernelspec": {
      "display_name": "Python 3 (ipykernel)",
      "language": "python",
      "name": "python3"
    },
    "language_info": {
      "codemirror_mode": {
        "name": "ipython",
        "version": 3
      },
      "file_extension": ".py",
      "mimetype": "text/x-python",
      "name": "python",
      "nbconvert_exporter": "python",
      "pygments_lexer": "ipython3",
      "version": "3.9.7"
    },
    "accelerator": "GPU"
  },
  "nbformat": 4,
  "nbformat_minor": 5
}